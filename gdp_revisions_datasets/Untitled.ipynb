{
 "cells": [
  {
   "cell_type": "markdown",
   "id": "6ca130aa",
   "metadata": {},
   "source": [
    "# Back-up Tabla 1 and Tabla 2 (extraction and data clean-up"
   ]
  },
  {
   "cell_type": "code",
   "execution_count": null,
   "id": "a8d84d81",
   "metadata": {},
   "outputs": [],
   "source": []
  }
 ],
 "metadata": {
  "kernelspec": {
   "display_name": "kernel_training",
   "language": "python",
   "name": "kernel_training"
  },
  "language_info": {
   "codemirror_mode": {
    "name": "ipython",
    "version": 3
   },
   "file_extension": ".py",
   "mimetype": "text/x-python",
   "name": "python",
   "nbconvert_exporter": "python",
   "pygments_lexer": "ipython3",
   "version": "3.12.1"
  }
 },
 "nbformat": 4,
 "nbformat_minor": 5
}
