{
 "cells": [
  {
   "cell_type": "markdown",
   "id": "7d574e06",
   "metadata": {},
   "source": [
    "<div style=\"text-align: center; font-family: 'charter bt pro roman'; color: rgb(0, 65, 75);\">\n",
    "    <h1>\n",
    "    GDP Vintages, Releases and Revisions datasets\n",
    "    </h1>\n",
    "</div>"
   ]
  },
  {
   "cell_type": "markdown",
   "id": "0187eb69",
   "metadata": {},
   "source": [
    "<div style=\"text-align: center; font-family: 'charter bt pro roman'; color: rgb(0, 65, 75);\">\n",
    "<h3>\n",
    "Documentation\n",
    "<br>\n",
    "____________________\n",
    "<br>\n",
    "</h3>\n",
    "</div>"
   ]
  },
  {
   "cell_type": "markdown",
   "id": "24821fba",
   "metadata": {},
   "source": [
    "<div style=\"font-family: PT Serif Pro Book; text-align: left; color: dark; font-size: 16px;\">\n",
    "    This \n",
    "    <span style=\"color: rgb(0, 65, 75);\">jupyter notebook</span>\n",
    "    provides a step-by-step guide to <b>data building</b> regarding the project <b>'Revisiones y sesgos en las estimaciones preliminares del PBI en el Perú'</b>. This guide covers the creation of GDP mid-term revision dataset for each sector. A key step is the construction at par of what we will call “The ‘t+h’ structure”. This dataset is similar to that of the GDP growth vintages by sector, but instead of growth rate values, it contains values of type “t+h”, where h indicates how many months have passed since the preliminary growth rate was first published; that is, this jupyter notebook also covers the creation of vintages datasets of growth rates associated with a horizon (<b>h</b>).\n",
    "</div>"
   ]
  },
  {
   "cell_type": "markdown",
   "id": "274b675d",
   "metadata": {},
   "source": [
    "<div style=\"text-align: center; font-family: 'PT Serif Pro Book'; color: rgb(0, 65, 75); font-size: 16px;\">\n",
    "    Jason Cruz\n",
    "    <br>\n",
    "    <a href=\"mailto:jj.cruza@up.edu.pe\" style=\"color: rgb(0, 153, 123); font-size: 16px;\">\n",
    "        jj.cruza@up.edu.pe\n",
    "    </a>\n",
    "</div>"
   ]
  },
  {
   "cell_type": "markdown",
   "id": "2cb050f9",
   "metadata": {},
   "source": [
    "<div style=\"font-family: PT Serif Pro Book; text-align: left; color: dark; font-size: 16px;line-height: 1.5;\">\n",
    "<span style=\"font-size: 34px;\">&#128452;</span> The 't+h' structure should be available for all sectors and frequencies.\n",
    "    <br>\n",
    "    <span style=\"font-size: 24px;\">&#8987;</span> Available since <b>1994-2024</b> (Table 1) and since <b>1997-2024</b> (Table 2). \n",
    "    <br>\n",
    "</div>"
   ]
  },
  {
   "cell_type": "markdown",
   "id": "11cf93d2",
   "metadata": {},
   "source": [
    "<div style=\"font-family: Amaya; text-align: left; color: rgb(0, 65, 75); font-size:16px\">The following <b>outline is functional</b>. By utilising the provided buttons, users are able to enhance their experience by browsing this script.<div/>"
   ]
  },
  {
   "cell_type": "markdown",
   "id": "0dbb713b",
   "metadata": {},
   "source": [
    "<div id=\"outilne\">\n",
    "   <!-- Contenido de la celda de destino -->\n",
    "</div>"
   ]
  },
  {
   "cell_type": "markdown",
   "id": "0310e424",
   "metadata": {},
   "source": [
    "<div style=\"background-color: #292929; padding: 10px; line-height: 1.5; font-family: 'PT Serif Pro Book';\">\n",
    "    <h2 style=\"text-align: left; color: #E0E0E0;\">\n",
    "        Outline\n",
    "    </h2>\n",
    "    <br>\n",
    "    <a href=\"#libraries\" style=\"color: #E0E0E0; font-size: 18px; margin-left: 0px;\">\n",
    "        Libraries</a>\n",
    "    <br>\n",
    "    <a href=\"#setup\" style=\"color: #E0E0E0; font-size: 18px; margin-left: 0px;\">\n",
    "        Initial set-up</a>\n",
    "    <br>\n",
    "    <a href=\"#1\" style=\"color: #E0E0E0; font-size: 18px; margin-left: 0px;\">\n",
    "        1. Economic sector selector</a>\n",
    "    <br>\n",
    "    <a href=\"#2\" style=\"color: #E0E0E0; font-size: 18px; margin-left: 0px;\">\n",
    "        2. Create horizon datasets</a>\n",
    "    <br>\n",
    "    <a href=\"#2.1.\" style=\"color: #94FFD8; font-size: 16px; margin-left: 20px;\">\n",
    "        2.1. Loading growth rate datasets from postgresql.</a>\n",
    "    <br>\n",
    "    <a href=\"#2.2.\" style=\"color: #94FFD8; font-size: 16px; margin-left: 20px;\">\n",
    "        2.2. Creating horizon dataset step by step.</a> \n",
    "    <br>\n",
    "    <a href=\"#3\" style=\"color: #E0E0E0; font-size: 18px; margin-left: 0px;\">\n",
    "        3. Create base year datasets</a>\n",
    "    <br>\n",
    "    <a href=\"#3.1.\" style=\"color: #94FFD8; font-size: 16px; margin-left: 20px;\">\n",
    "        3.1. Loading growth rate datasets from postgresql.</a>\n",
    "    <br>\n",
    "    <a href=\"#3.2.\" style=\"color: #94FFD8; font-size: 16px; margin-left: 20px;\">\n",
    "        3.2. Creating base year dataset.</a> \n",
    "    <br>\n",
    "    <a href=\"#4\" style=\"color: #E0E0E0; font-size: 18px; margin-left: 0px;\">\n",
    "        4. Remove observations affected by base year</a>\n",
    "    <br>\n",
    "    <a href=\"#5\" style=\"color: #E0E0E0; font-size: 18px; margin-left: 0px;\">\n",
    "        5. Create growth rates by horizon dataset</a>\n",
    "    <br>\n",
    "    <a href=\"#6\" style=\"color: #E0E0E0; font-size: 18px; margin-left: 0px;\">\n",
    "        6. Create vintages and releases datasets</a>\n",
    "    <br>\n",
    "    <a href=\"#7\" style=\"color: #E0E0E0; font-size: 18px; margin-left: 0px;\">\n",
    "        7. Loading to SQL</a>\n",
    "    <br>\n",
    "</div>"
   ]
  },
  {
   "cell_type": "markdown",
   "id": "cd9c2298",
   "metadata": {},
   "source": [
    "<div style=\"text-align: left; font-family: 'PT Serif Pro Book'; color: dark; font-size:16px\">\n",
    "    Any questions or issues regarding the coding, please email Jason Cruz <a href=\"mailto:jj.cruza@alum.up.edu.pe\" style=\"color: rgb(0, 153, 123); text-decoration: none;\"><span style=\"font-size: 24px;\">&#x2709;</span>\n",
    "    </a>.\n",
    "    <div/>"
   ]
  },
  {
   "cell_type": "markdown",
   "id": "9017e225",
   "metadata": {},
   "source": [
    "<div style=\"text-align: left; font-family: 'PT Serif Pro Book'; color: dark; font-size:16px\">\n",
    "    If you don't have the libraries below, please use the following code (as example) to install the required libraries.\n",
    "    <div/>"
   ]
  },
  {
   "cell_type": "code",
   "execution_count": null,
   "id": "a3b7db8a",
   "metadata": {},
   "outputs": [],
   "source": [
    "#!pip install os # Comment this code with \"#\" if you have already installed this library."
   ]
  },
  {
   "cell_type": "markdown",
   "id": "30685778",
   "metadata": {},
   "source": [
    "<div id=\"libraries\">\n",
    "   <!-- Contenido de la celda de destino -->\n",
    "</div>"
   ]
  },
  {
   "cell_type": "markdown",
   "id": "8a9e2734",
   "metadata": {},
   "source": [
    "<div style=\"text-align: left; font-family: 'PT Serif Pro Book'; color: dark;\">\n",
    "    <h2>\n",
    "    Libraries\n",
    "    </h2>\n",
    "    <div/>"
   ]
  },
  {
   "cell_type": "code",
   "execution_count": null,
   "id": "0bbc53ac",
   "metadata": {},
   "outputs": [],
   "source": [
    "# POSTGRESSQL\n",
    "import os\n",
    "from sqlalchemy import create_engine\n",
    "\n",
    "# HORIZON DATASETS\n",
    "import pandas as pd\n",
    "import numpy as np\n",
    "import re\n"
   ]
  },
  {
   "cell_type": "markdown",
   "id": "3ce2ac20",
   "metadata": {},
   "source": [
    "<div style=\"font-family: PT Serif Pro Book; text-align: left; color: dark; font-size: 16px;\">\n",
    "    <span style=\"font-size: 30px; color: rgb(255, 32, 78); font-weight: bold;\">\n",
    "        <a href=\"#outilne\" style=\"color: rgb(0, 153, 123); text-decoration: none;\">&#11180;</a>\n",
    "    </span> \n",
    "    <a href=\"#outilne\" style=\"color: rgb(0, 153, 123); text-decoration: none;\">Back to the outline.</a>\n",
    "</div>"
   ]
  },
  {
   "cell_type": "markdown",
   "id": "c138cb1c",
   "metadata": {},
   "source": [
    "<div id=\"setup\">\n",
    "   <!-- Contenido de la celda de destino -->\n",
    "</div>"
   ]
  },
  {
   "cell_type": "markdown",
   "id": "5ea200fd",
   "metadata": {},
   "source": [
    "<div style=\"text-align: left; font-family: 'PT Serif Pro Book'; color: dark;\">\n",
    "    <h2>\n",
    "    Initial set-up\n",
    "    </h2>\n",
    "    <div/>"
   ]
  },
  {
   "cell_type": "markdown",
   "id": "e0f9e8c1",
   "metadata": {},
   "source": [
    "<p style=\"font-family: PT Serif Pro Book; text-align: left; color:dark; font-size:16px\"> The following function will establish a connection to the <code>gdp_revisions_datasets</code> database in <code>PostgreSQL</code>. The <b>input data</b> used in this jupyter notebook will be loaded from this <code>PostgreSQL</code> database, and similarly, all <b>output data</b> generated by this jupyter notebook will be stored in that database. Ensure that you set the necessary parameters to access the server once you have obtained the required permissions.<p/>\n",
    "    \n",
    "<p style=\"text-align: left; font-family: 'PT Serif Pro Book'; color: dark; font-size:16px\">\n",
    "To request permissions, please email Jason Cruz <a href=\"mailto:jj.cruza@alum.up.edu.pe\" style=\"color: rgb(0, 153, 123); text-decoration: none;\"> <span style=\"font-size: 24px;\">&#x2709;</span>\n",
    "    </a>.\n",
    "<p/>"
   ]
  },
  {
   "cell_type": "markdown",
   "id": "cdd26ca2",
   "metadata": {},
   "source": [
    "<div style=\"text-align: left; font-family: 'PT Serif Pro Book'; color: dark; font-size:16px\">\n",
    "    <span style=\"font-size: 24px; color: #FFA823; font-weight: bold;\">&#9888;</span>\n",
    "    Enter your user credentials to acces to SQL.\n",
    "    <div/>"
   ]
  },
  {
   "cell_type": "code",
   "execution_count": null,
   "id": "30618268",
   "metadata": {},
   "outputs": [],
   "source": [
    "def create_sqlalchemy_engine():\n",
    "    \"\"\"\n",
    "    Function to create an SQLAlchemy engine using environment variables.\n",
    "    \n",
    "    Returns:\n",
    "        engine: SQLAlchemy engine object.\n",
    "    \"\"\"\n",
    "    # Get environment variables\n",
    "    user = os.environ.get('CIUP_SQL_USER')  # Get the SQL user from environment variables\n",
    "    password = os.environ.get('CIUP_SQL_PASS')  # Get the SQL password from environment variables\n",
    "    host = os.environ.get('CIUP_SQL_HOST')  # Get the SQL host from environment variables\n",
    "    port = 5432  # Set the SQL port to 5432\n",
    "    database = 'gdp_revisions_datasets'  # Set the database name 'gdp_revisions_datasets' from SQL\n",
    "\n",
    "    # Check if all environment variables are defined\n",
    "    if not all([host, user, password]):\n",
    "        raise ValueError(\"Some environment variables are missing (CIUP_SQL_HOST, CIUP_SQL_USER, CIUP_SQL_PASS)\")\n",
    "\n",
    "    # Create connection string\n",
    "    connection_string = f\"postgresql://{user}:{password}@{host}:{port}/{database}\"\n",
    "\n",
    "    # Create SQLAlchemy engine\n",
    "    engine = create_engine(connection_string)\n",
    "    \n",
    "    return engine"
   ]
  },
  {
   "cell_type": "markdown",
   "id": "0a780e6d",
   "metadata": {},
   "source": [
    "<div style=\"text-align: left;\">\n",
    "    <span style=\"font-size: 24px; color: rgb(255, 32, 78); font-weight: bold;\">&#9888;</span>\n",
    "    <span style=\"font-family: PT Serif Pro Book; color: black; font-size: 16px;\">\n",
    "        Import all other functions required by this jupyter notebook.\n",
    "    </span>\n",
    "</div>"
   ]
  },
  {
   "cell_type": "markdown",
   "id": "e3335e56",
   "metadata": {},
   "source": [
    "<div style=\"font-family: PT Serif Pro Book; text-align: left; color:dark; font-size:16px\"> Please, check the script <code>gdp_revisions_datasets_functions.py</code> which contains all the functions required by this jupyter notebook. The functions there are ordered according to the <a href=\"#outilne\" style=\"color: #3d30a2;\">sections</a> of this jupyter notebok.<div/>"
   ]
  },
  {
   "cell_type": "code",
   "execution_count": null,
   "id": "0d4b1195",
   "metadata": {},
   "outputs": [],
   "source": [
    "from gdp_revisions_datasets_functions import *"
   ]
  },
  {
   "cell_type": "markdown",
   "id": "f1bbb18b",
   "metadata": {},
   "source": [
    "<div style=\"font-family: PT Serif Pro Book; text-align: left; color: dark; font-size: 16px;\">\n",
    "    <span style=\"font-size: 30px; color: rgb(255, 32, 78); font-weight: bold;\">\n",
    "        <a href=\"#outilne\" style=\"color: rgb(0, 153, 123); text-decoration: none;\">&#11180;</a>\n",
    "    </span> \n",
    "    <a href=\"#outilne\" style=\"color: rgb(0, 153, 123); text-decoration: none;\">Back to the outline.</a>\n",
    "</div>"
   ]
  },
  {
   "cell_type": "markdown",
   "id": "5dae510f",
   "metadata": {},
   "source": [
    "<div id=\"1\">\n",
    "   <!-- Contenido de la celda de destino -->\n",
    "</div>"
   ]
  },
  {
   "cell_type": "markdown",
   "id": "cfdb0db3",
   "metadata": {},
   "source": [
    "<h1><span style = \"color: rgb(0, 65, 75); font-family: PT Serif Pro Book; color: dark;\">1.</span> <span style = \"color: dark; font-family: PT Serif Pro Book;\">Economic sector and data frequency selector</span></h1>"
   ]
  },
  {
   "cell_type": "markdown",
   "id": "fbf70743",
   "metadata": {},
   "source": [
    "<div id=\"steps-1\">\n",
    "   <!-- Contenido de la celda de destino -->\n",
    "</div>"
   ]
  },
  {
   "cell_type": "markdown",
   "id": "c7a35993",
   "metadata": {},
   "source": [
    "<div style=\"font-family: PT Serif Pro Book; text-align: left; color: dark; font-size: 16px;\">\n",
    "    <a href=\"#step-1-1\" style=\"text-decoration: none; color: #006769\"> <span style=\"font-size: 24px; color: rgb(0, 65, 75);\">&#10122;</span> Select economic sector</a>\n",
    "    <br>\n",
    "    <a href=\"#step-1-2\" style=\"text-decoration: none; color: #006769\"><span style=\"font-size: 24px; color: rgb(0, 65, 75)\">&#10123;</span> Select frequency</a>\n",
    "</div>"
   ]
  },
  {
   "cell_type": "markdown",
   "id": "ade7e9bf",
   "metadata": {},
   "source": [
    "<div id=\"step-1-1\">\n",
    "   <!-- Contenido de la celda de destino -->\n",
    "</div>"
   ]
  },
  {
   "cell_type": "markdown",
   "id": "ea31bc78",
   "metadata": {},
   "source": [
    "<div style=\"text-align: left; font-family: 'PT Serif Pro Book'; font-size:22px\">\n",
    "    <span style=\"font-size: 24px; color: rgb(0, 65, 75)\">&#10122;</span> <span>Select economic sector</span>\n",
    "  </div>"
   ]
  },
  {
   "cell_type": "code",
   "execution_count": null,
   "id": "0e776b38",
   "metadata": {
    "scrolled": true
   },
   "outputs": [],
   "source": [
    "# Call the function to show the popup window\n",
    "sector = show_option_window()\n",
    "print(\"Selected economic sector:\", sector)"
   ]
  },
  {
   "cell_type": "markdown",
   "id": "cc491e07",
   "metadata": {},
   "source": [
    "<div id=\"step-1-2\">\n",
    "   <!-- Contenido de la celda de destino -->\n",
    "</div>"
   ]
  },
  {
   "cell_type": "markdown",
   "id": "36f15612",
   "metadata": {},
   "source": [
    "<div style=\"text-align: left; font-family: 'PT Serif Pro Book'; font-size:22px\">\n",
    "    <span style=\"font-size: 24px; color: rgb(0, 65, 75)\">&#10123;</span> <span>Select frequency</span>\n",
    "  </div>"
   ]
  },
  {
   "cell_type": "code",
   "execution_count": null,
   "id": "c7255c44",
   "metadata": {},
   "outputs": [],
   "source": [
    "# Call the function to show the popup window\n",
    "frequency = show_frequency_window()\n",
    "print(\"Selected frequency:\", frequency)"
   ]
  },
  {
   "cell_type": "markdown",
   "id": "1a8eea79",
   "metadata": {},
   "source": [
    "<div style=\"font-family: PT Serif Pro Book; text-align: left; color: dark; font-size: 16px;\">\n",
    "    <span style=\"font-size: 20px; color: rgb(255, 32, 78); font-weight: bold;\">\n",
    "        <a href=\"#steps-1\" style=\"color: #006769; text-decoration: none;\">⮝</a>\n",
    "    </span> \n",
    "    <a href=\"#steps-1\" style=\"color: #006769; text-decoration: none;\">Back to steps.</a>\n",
    "</div>"
   ]
  },
  {
   "cell_type": "markdown",
   "id": "3a177d4c",
   "metadata": {},
   "source": [
    "<div style=\"font-family: PT Serif Pro Book; text-align: left; color: dark; font-size: 16px;\">\n",
    "    <span style=\"font-size: 30px; color: rgb(255, 32, 78); font-weight: bold;\">\n",
    "        <a href=\"#outilne\" style=\"color: rgb(0, 153, 123); text-decoration: none;\">&#11180;</a>\n",
    "    </span> \n",
    "    <a href=\"#outilne\" style=\"color: rgb(0, 153, 123); text-decoration: none;\">Back to the outline.</a>\n",
    "</div>"
   ]
  },
  {
   "cell_type": "markdown",
   "id": "53c07c2f",
   "metadata": {},
   "source": [
    "<div id=\"2\">\n",
    "   <!-- Contenido de la celda de destino -->\n",
    "</div>"
   ]
  },
  {
   "cell_type": "markdown",
   "id": "42d6dc00",
   "metadata": {},
   "source": [
    "<h1><span style = \"color: rgb(0, 65, 75); font-family: PT Serif Pro Book; color: dark;\">2.</span> <span style = \"color: dark; font-family: PT Serif Pro Book;\">Create horizon datasets</span></h1>"
   ]
  },
  {
   "cell_type": "markdown",
   "id": "ca85491d",
   "metadata": {},
   "source": [
    "<div id=\"2.1.\">\n",
    "   <!-- Contenido de la celda de destino -->\n",
    "</div>"
   ]
  },
  {
   "cell_type": "markdown",
   "id": "6c6b0832",
   "metadata": {},
   "source": [
    "<h2><span style = \"color: rgb(0, 65, 75); font-family: PT Serif Pro Book;\">2.1. </span> <span style = \"color: dark; font-family: PT Serif Pro Book;\">Loading growth rate datasets from <code>PostgresSQL</code></span></h2>"
   ]
  },
  {
   "cell_type": "markdown",
   "id": "b36816f2",
   "metadata": {},
   "source": [
    "<div style=\"text-align: left; font-family: 'PT Serif Pro Book'; color: dark; font-size:16px\">\n",
    "    Connect to SQL.\n",
    "    <div/>"
   ]
  },
  {
   "cell_type": "code",
   "execution_count": null,
   "id": "731c8592",
   "metadata": {},
   "outputs": [],
   "source": [
    "# Connect to SQL\n",
    "engine = create_sqlalchemy_engine()\n",
    "\n",
    "# SQL Query\n",
    "query = f\"SELECT * FROM {sector}_{frequency}_growth_rates;\" # Please change your query to PosgtresSQL as you see fit"
   ]
  },
  {
   "cell_type": "markdown",
   "id": "e4495e22",
   "metadata": {},
   "source": [
    "<div style=\"text-align: left; font-family: 'PT Serif Pro Book'; color: dark; font-size:16px\">\n",
    "    Comment the code below if you want the default option (display rows and columns of the dataframe in a limited way)\n",
    "    <div/>"
   ]
  },
  {
   "cell_type": "code",
   "execution_count": null,
   "id": "f7fbcd5a",
   "metadata": {},
   "outputs": [],
   "source": [
    "#pd.set_option('display.max_rows', None)\n",
    "#pd.set_option('display.max_columns', None)"
   ]
  },
  {
   "cell_type": "markdown",
   "id": "f1b57016",
   "metadata": {},
   "source": [
    "<div style=\"text-align: left; font-family: 'PT Serif Pro Book'; color: dark; font-size:16px\">\n",
    "    Check the loaded dataframe.\n",
    "    <div/>"
   ]
  },
  {
   "cell_type": "code",
   "execution_count": null,
   "id": "18eab33b",
   "metadata": {
    "scrolled": true
   },
   "outputs": [],
   "source": [
    "# Read growth rates dataset as DataFrame\n",
    "globals()[f'{sector}_{frequency}_growth_rates'] = pd.read_sql(query, engine)\n",
    "growth_rates = globals()[f'{sector}_{frequency}_growth_rates']\n",
    "growth_rates_df = growth_rates.copy()\n",
    "growth_rates_df.head(10)"
   ]
  },
  {
   "cell_type": "code",
   "execution_count": null,
   "id": "0569c1bb",
   "metadata": {
    "scrolled": true
   },
   "outputs": [],
   "source": [
    "# Find duplicates of id_ns within the same year\n",
    "duplicated_rows = growth_rates_df[growth_rates_df.duplicated(subset=['year', 'id_ns'], keep=False)]\n",
    "duplicated_rows"
   ]
  },
  {
   "cell_type": "code",
   "execution_count": null,
   "id": "126c5245",
   "metadata": {},
   "outputs": [],
   "source": [
    "growth_rates_df.iloc[:10,:5]"
   ]
  },
  {
   "cell_type": "markdown",
   "id": "db888be4",
   "metadata": {},
   "source": [
    "<div style=\"font-family: PT Serif Pro Book; text-align: left; color: dark; font-size: 16px;\">\n",
    "    <span style=\"font-size: 30px; color: rgb(255, 32, 78); font-weight: bold;\">\n",
    "        <a href=\"#outilne\" style=\"color: rgb(0, 153, 123); text-decoration: none;\">&#11180;</a>\n",
    "    </span> \n",
    "    <a href=\"#outilne\" style=\"color: rgb(0, 153, 123); text-decoration: none;\">Back to the outline.</a>\n",
    "</div>"
   ]
  },
  {
   "cell_type": "markdown",
   "id": "cf2c60c0",
   "metadata": {},
   "source": [
    "<div id=\"2.2.\">\n",
    "   <!-- Contenido de la celda de destino -->\n",
    "</div>"
   ]
  },
  {
   "cell_type": "markdown",
   "id": "f0a27eeb",
   "metadata": {},
   "source": [
    "<div id=\"2.3.\">\n",
    "   <!-- Contenido de la celda de destino -->\n",
    "</div>"
   ]
  },
  {
   "cell_type": "markdown",
   "id": "11dcf69e",
   "metadata": {},
   "source": [
    "<h2><span style = \"color: rgb(0, 65, 75); font-family: PT Serif Pro Book;\">2.2.</span>\n",
    "    <span style = \"color: dark; font-family: PT Serif Pro Book;\">\n",
    "    Creating horizon dataset step by step\n",
    "    </span>\n",
    "    </h2>"
   ]
  },
  {
   "cell_type": "markdown",
   "id": "0d936fa4",
   "metadata": {},
   "source": [
    "<div id=\"steps-2\">\n",
    "   <!-- Contenido de la celda de destino -->\n",
    "</div>"
   ]
  },
  {
   "cell_type": "markdown",
   "id": "cf813a45",
   "metadata": {},
   "source": [
    "<div style=\"font-family: PT Serif Pro Book; text-align: left; color: dark; font-size: 16px;\">\n",
    "    <a href=\"#step-2-1\" style=\"text-decoration: none; color: #006769\"> <span style=\"font-size: 24px; color: rgb(0, 65, 75);\">&#10122;</span> Replace decimal values by “t+h” values only in the rows representing a new rung</a>\n",
    "    <br>\n",
    "    <a href=\"#step-2-2\" style=\"text-decoration: none; color: #006769\"><span style=\"font-size: 24px; color: rgb(0, 65, 75)\">&#10123;</span> Concatenate first 3 columns: year, date, id_ns </a>\n",
    "    <br>\n",
    "    <a href=\"#step-2-3\" style=\"text-decoration: none; color: #006769\"><span style=\"font-size: 24px; color: rgb(0, 65, 75)\">&#10124;</span> Convert columns to string type</a>\n",
    "    <br>\n",
    "    <a href=\"#step-2-4\" style=\"text-decoration: none; color: #006769\"><span style=\"font-size: 24px; color: rgb(0, 65, 75)\">&#10125;</span> Spreads the \"t+h\" values over the remaining decimal values </a>\n",
    "    <br>\n",
    "    <a href=\"#step-2-5\" style=\"text-decoration: none; color: #006769\"><span style=\"font-size: 24px; color: rgb(0, 65, 75)\">&#10126;</span> Exporting to excel file </a>\n",
    "</div>"
   ]
  },
  {
   "cell_type": "markdown",
   "id": "f87be87e",
   "metadata": {},
   "source": [
    "<div style=\"text-align: left; font-family: 'PT Serif Pro Book'; font-size:22px\">\n",
    "   <span>Set key variables to fill the growth_rates with 't+h' values</span>\n",
    "  </div>"
   ]
  },
  {
   "cell_type": "code",
   "execution_count": null,
   "id": "42caf032",
   "metadata": {},
   "outputs": [],
   "source": [
    "# Call the function to show the h_initial window\n",
    "h_initial = show_h_initial_window()\n",
    "print(\"Selected h_initial:\", h_initial)"
   ]
  },
  {
   "cell_type": "code",
   "execution_count": null,
   "id": "b565df26",
   "metadata": {},
   "outputs": [],
   "source": [
    "# Call the function to show the start_row window\n",
    "start_row = show_start_row_window()\n",
    "print(\"Selected start_row:\", start_row)"
   ]
  },
  {
   "cell_type": "code",
   "execution_count": null,
   "id": "10c9ccd2",
   "metadata": {},
   "outputs": [],
   "source": [
    "# Define the mapping of frequencies to h_counter values\n",
    "frequency_mapping = {\n",
    "    'monthly': 1,\n",
    "    'quarterly': 3,\n",
    "    'annual': 12\n",
    "}\n",
    "\n",
    "# Get the appropriate h_counter value based on the selected frequency\n",
    "h_counter = frequency_mapping.get(frequency)\n",
    "print(\"Selected h_counter:\", h_counter)"
   ]
  },
  {
   "cell_type": "markdown",
   "id": "8393e94e",
   "metadata": {},
   "source": [
    "<div id=\"step-2-1\">\n",
    "   <!-- Contenido de la celda de destino -->\n",
    "</div>"
   ]
  },
  {
   "cell_type": "markdown",
   "id": "7b10ddf8",
   "metadata": {},
   "source": [
    "<div style=\"text-align: left; font-family: 'PT Serif Pro Book'; font-size:22px\">\n",
    "    <span style=\"font-size: 24px; color: rgb(0, 65, 75)\">&#10122;</span> <span>Replace decimal values by “t+h” values only in the rows representing a new rung</span>\n",
    "  </div>"
   ]
  },
  {
   "cell_type": "code",
   "execution_count": null,
   "id": "037dacf8",
   "metadata": {},
   "outputs": [],
   "source": [
    "horizon = replace_horizon(growth_rates_df.iloc[:, 3:], start_row, h_initial, h_counter)\n",
    "horizon_df = horizon.copy()\n",
    "horizon_df.head(10)"
   ]
  },
  {
   "cell_type": "markdown",
   "id": "f7db9f3c",
   "metadata": {},
   "source": [
    "<div id=\"step-2-2\">\n",
    "   <!-- Contenido de la celda de destino -->\n",
    "</div>"
   ]
  },
  {
   "cell_type": "markdown",
   "id": "655210c9",
   "metadata": {},
   "source": [
    "<div style=\"text-align: left; font-family: 'PT Serif Pro Book'; font-size:22px\">\n",
    "    <span style=\"font-size: 24px; color: rgb(0, 65, 75)\">&#10123;</span> <span>Concatenate first 3 columns: year, date, id_ns</span>\n",
    "  </div>"
   ]
  },
  {
   "cell_type": "code",
   "execution_count": null,
   "id": "9214927f",
   "metadata": {
    "scrolled": true
   },
   "outputs": [],
   "source": [
    "# Get the first three columns of the original DataFrame\n",
    "first_3_columns = growth_rates_df.iloc[:, :3]\n",
    "\n",
    "# Concatenate the first three columns with h_{sector}_{frequency}_growth_rates\n",
    "horizon_df = pd.concat([first_3_columns, horizon_df], axis=1)\n",
    "horizon_df.head(20)"
   ]
  },
  {
   "cell_type": "markdown",
   "id": "c44a35fc",
   "metadata": {},
   "source": [
    "<div id=\"step-2-3\">\n",
    "   <!-- Contenido de la celda de destino -->\n",
    "</div>"
   ]
  },
  {
   "cell_type": "markdown",
   "id": "a2cab016",
   "metadata": {},
   "source": [
    "<div style=\"text-align: left; font-family: 'PT Serif Pro Book'; font-size:22px\">\n",
    "    <span style=\"font-size: 24px; color: rgb(0, 65, 75)\">&#10124;</span> <span>Convert columns to string type</span>\n",
    "  </div>"
   ]
  },
  {
   "cell_type": "code",
   "execution_count": null,
   "id": "4a4538cd",
   "metadata": {
    "scrolled": true
   },
   "outputs": [],
   "source": [
    "horizon_df = columns_str(horizon_df)\n",
    "horizon_df.head(20)"
   ]
  },
  {
   "cell_type": "markdown",
   "id": "33eb8276",
   "metadata": {},
   "source": [
    "<div id=\"step-2-4\">\n",
    "   <!-- Contenido de la celda de destino -->\n",
    "</div>"
   ]
  },
  {
   "cell_type": "markdown",
   "id": "a0e64f41",
   "metadata": {},
   "source": [
    "<div style=\"text-align: left; font-family: 'PT Serif Pro Book'; font-size:22px\">\n",
    "    <span style=\"font-size: 24px; color: rgb(0, 65, 75)\">&#10125;</span> Spreads the \"t+h\" values over the remaining decimal values\n",
    "  </div>"
   ]
  },
  {
   "cell_type": "code",
   "execution_count": null,
   "id": "5128157c",
   "metadata": {
    "scrolled": false
   },
   "outputs": [],
   "source": [
    "horizon_df = replace_horizon_1(horizon_df)\n",
    "horizon_df.head(20)"
   ]
  },
  {
   "cell_type": "markdown",
   "id": "067e5b1d",
   "metadata": {},
   "source": [
    "<div id=\"step-2-5\">\n",
    "   <!-- Contenido de la celda de destino -->\n",
    "</div>"
   ]
  },
  {
   "cell_type": "markdown",
   "id": "06ef713c",
   "metadata": {},
   "source": [
    "<div style=\"text-align: left; font-family: 'PT Serif Pro Book'; font-size:22px\">\n",
    "    <span style=\"font-size: 24px; color: rgb(0, 65, 75)\">&#10126;</span> Exporting to excel file\n",
    "  </div>"
   ]
  },
  {
   "cell_type": "code",
   "execution_count": null,
   "id": "b8046afa",
   "metadata": {},
   "outputs": [],
   "source": [
    "#def export_to_excel(df, filename):\n",
    "#    # Exportar el DataFrame como un archivo Excel\n",
    "#    df.to_excel(filename, index=False)"
   ]
  },
  {
   "cell_type": "markdown",
   "id": "96dcdbad",
   "metadata": {},
   "source": [
    "<div style=\"font-family: PT Serif Pro Book; text-align: left; color: dark; font-size: 16px;\">\n",
    "    <span style=\"font-size: 20px; color: rgb(255, 32, 78); font-weight: bold;\">\n",
    "        <a href=\"#steps-2\" style=\"color: #006769; text-decoration: none;\">⮝</a>\n",
    "    </span> \n",
    "    <a href=\"#steps-2\" style=\"color: #006769; text-decoration: none;\">Back to steps.</a>\n",
    "</div>"
   ]
  },
  {
   "cell_type": "markdown",
   "id": "fae600ea",
   "metadata": {},
   "source": [
    "<div style=\"font-family: PT Serif Pro Book; text-align: left; color: dark; font-size: 16px;\">\n",
    "    <span style=\"font-size: 30px; color: rgb(255, 32, 78); font-weight: bold;\">\n",
    "        <a href=\"#outilne\" style=\"color: rgb(0, 153, 123); text-decoration: none;\">&#11180;</a>\n",
    "    </span> \n",
    "    <a href=\"#outilne\" style=\"color: rgb(0, 153, 123); text-decoration: none;\">Back to the outline.</a>\n",
    "</div>"
   ]
  },
  {
   "cell_type": "markdown",
   "id": "cff48083",
   "metadata": {},
   "source": [
    "<div id=\"3\">\n",
    "   <!-- Contenido de la celda de destino -->\n",
    "</div>"
   ]
  },
  {
   "cell_type": "markdown",
   "id": "4f306665",
   "metadata": {},
   "source": [
    "<h1><span style = \"color: rgb(0, 65, 75); font-family: PT Serif Pro Book;\">3.</span> <span style = \"color: dark; font-family: PT Serif Pro Book;\">Create base year datasets</span></h1>"
   ]
  },
  {
   "cell_type": "markdown",
   "id": "99f596b7",
   "metadata": {},
   "source": [
    "<div id=\"3.1.\">\n",
    "   <!-- Contenido de la celda de destino -->\n",
    "</div>"
   ]
  },
  {
   "cell_type": "markdown",
   "id": "b9d03db2",
   "metadata": {},
   "source": [
    "<h2><span style = \"color: rgb(0, 65, 75); font-family: PT Serif Pro Book;\">3.1. </span> <span style = \"color: dark; font-family: PT Serif Pro Book;\">Loading growth rate datasets from <code>PostgresSQL</code></span></h2>"
   ]
  },
  {
   "cell_type": "markdown",
   "id": "a1af08f4",
   "metadata": {},
   "source": [
    "<div style=\"text-align: left; font-family: 'PT Serif Pro Book'; color: dark; font-size:16px\">\n",
    "    Connect to SQL.\n",
    "    <div/>"
   ]
  },
  {
   "cell_type": "code",
   "execution_count": null,
   "id": "5ae0e6b0",
   "metadata": {},
   "outputs": [],
   "source": [
    "# SQL Query\n",
    "query = f\"SELECT * FROM ns_base_year;\" # Please change your query to PosgtresSQL as you see fit"
   ]
  },
  {
   "cell_type": "markdown",
   "id": "ebd7f381",
   "metadata": {},
   "source": [
    "<div style=\"text-align: left; font-family: 'PT Serif Pro Book'; color: dark; font-size:16px\">\n",
    "    Check the loaded dataframe.\n",
    "    <div/>"
   ]
  },
  {
   "cell_type": "code",
   "execution_count": null,
   "id": "31bbc5f9",
   "metadata": {
    "scrolled": true
   },
   "outputs": [],
   "source": [
    "# Read growth rates dataset as DataFrame\n",
    "ns_base_year = pd.read_sql(query, engine)\n",
    "ns_base_year_df = ns_base_year.copy()\n",
    "ns_base_year_df.head(10)"
   ]
  },
  {
   "cell_type": "markdown",
   "id": "93baf105",
   "metadata": {},
   "source": [
    "<div id=\"3.2.\">\n",
    "   <!-- Contenido de la celda de destino -->\n",
    "</div>"
   ]
  },
  {
   "cell_type": "markdown",
   "id": "5db20d76",
   "metadata": {},
   "source": [
    "<h2><span style = \"color: rgb(0, 65, 75); font-family: PT Serif Pro Book;\">3.2.</span>\n",
    "    <span style = \"color: dark; font-family: PT Serif Pro Book;\">\n",
    "    Creating base year dataset\n",
    "    </span>\n",
    "    </h2>"
   ]
  },
  {
   "cell_type": "code",
   "execution_count": null,
   "id": "7f7503aa",
   "metadata": {},
   "outputs": [],
   "source": [
    "base_year_df = replace_floats_with_base_year(ns_base_year_df, growth_rates_df)"
   ]
  },
  {
   "cell_type": "code",
   "execution_count": null,
   "id": "a327cb7a",
   "metadata": {},
   "outputs": [],
   "source": [
    "base_year_df.head(10)"
   ]
  },
  {
   "cell_type": "markdown",
   "id": "8c9c2b20",
   "metadata": {},
   "source": [
    "<div style=\"text-align: left; font-family: 'PT Serif Pro Book'; color: dark; font-size:16px\">\n",
    "    Consider the code below as provisional. Actually, no data should be exported to the current directory folder, all data should be uploaded to SQL.\n",
    "    <div/>"
   ]
  },
  {
   "cell_type": "code",
   "execution_count": null,
   "id": "a3c75617",
   "metadata": {},
   "outputs": [],
   "source": [
    "# Export to excel file\n",
    "#with pd.ExcelWriter('base_year_df.xlsx') as writer:\n",
    "#    base_year_df.to_excel(writer, sheet_name='base_year_df', index=False) # this is an optional, to view data generated"
   ]
  },
  {
   "cell_type": "markdown",
   "id": "e810c9c3",
   "metadata": {},
   "source": [
    "<div style=\"font-family: PT Serif Pro Book; text-align: left; color: dark; font-size: 16px;\">\n",
    "    <span style=\"font-size: 30px; color: rgb(255, 32, 78); font-weight: bold;\">\n",
    "        <a href=\"#outilne\" style=\"color: rgb(0, 153, 123); text-decoration: none;\">&#11180;</a>\n",
    "    </span> \n",
    "    <a href=\"#outilne\" style=\"color: rgb(0, 153, 123); text-decoration: none;\">Back to the outline.</a>\n",
    "</div>"
   ]
  },
  {
   "cell_type": "markdown",
   "id": "bb680bd3",
   "metadata": {},
   "source": [
    "<div id=\"4\">\n",
    "   <!-- Contenido de la celda de destino -->\n",
    "</div>"
   ]
  },
  {
   "cell_type": "markdown",
   "id": "c6fa0f17",
   "metadata": {},
   "source": [
    "<h1><span style = \"color: rgb(0, 65, 75); font-family: PT Serif Pro Book;\">4.</span> <span style = \"color: dark; font-family: PT Serif Pro Book;\">Remove observations affected by base year</span></h1>"
   ]
  },
  {
   "cell_type": "markdown",
   "id": "aa59ec89",
   "metadata": {},
   "source": [
    "<div id=\"steps-4\">\n",
    "   <!-- Contenido de la celda de destino -->\n",
    "</div>"
   ]
  },
  {
   "cell_type": "markdown",
   "id": "afa17885",
   "metadata": {},
   "source": [
    "<div style=\"font-family: PT Serif Pro Book; text-align: left; color: dark; font-size: 16px;\">\n",
    "    <a href=\"#st-4-1\" style=\"text-decoration: none; color: #006769\"> <span style=\"font-size: 24px; color: rgb(0, 65, 75);\">&#10122;</span> Generating a dictionary to match observations affected by base year</a>\n",
    "    <br>\n",
    "    <a href=\"#st-4-2\" style=\"text-decoration: none; color: #006769\"><span style=\"font-size: 24px; color: rgb(0, 65, 75)\">&#10123;</span> Remove observations affected by base year</a>\n",
    "    <br>\n",
    "</div>"
   ]
  },
  {
   "cell_type": "markdown",
   "id": "33d37fe8",
   "metadata": {},
   "source": [
    "<div id=\"st-4-1\">\n",
    "   <!-- Contenido de la celda de destino -->\n",
    "</div>"
   ]
  },
  {
   "cell_type": "markdown",
   "id": "6a8d3577",
   "metadata": {},
   "source": [
    "<div style=\"text-align: left; font-family: 'PT Serif Pro Book'; font-size:22px\">\n",
    "    <span style=\"font-size: 24px; color: rgb(0, 65, 75)\">&#10122;</span> <span>Generating a dictionary to match observations affected by base year</span>\n",
    "  </div>"
   ]
  },
  {
   "cell_type": "code",
   "execution_count": null,
   "id": "185a6b80",
   "metadata": {},
   "outputs": [],
   "source": [
    "base_year_dictionary = create_dic_base_year(base_year_df)"
   ]
  },
  {
   "cell_type": "code",
   "execution_count": null,
   "id": "3ee6b4d1",
   "metadata": {},
   "outputs": [],
   "source": [
    "base_year_dictionary"
   ]
  },
  {
   "cell_type": "markdown",
   "id": "99a7b12c",
   "metadata": {},
   "source": [
    "<div id=\"st-4-2\">\n",
    "   <!-- Contenido de la celda de destino -->\n",
    "</div>"
   ]
  },
  {
   "cell_type": "markdown",
   "id": "3861c0a1",
   "metadata": {},
   "source": [
    "<div style=\"text-align: left; font-family: 'PT Serif Pro Book'; font-size:22px\">\n",
    "    <span style=\"font-size: 24px; color: rgb(0, 65, 75)\">&#10123;</span> <span>Remove observations affected by base year</span>\n",
    "  </div>"
   ]
  },
  {
   "cell_type": "code",
   "execution_count": null,
   "id": "5fedd1ec",
   "metadata": {},
   "outputs": [],
   "source": [
    "input_growth_rates_df = remove_base_year_affected_obs(base_year_dictionary, growth_rates_df)"
   ]
  },
  {
   "cell_type": "code",
   "execution_count": null,
   "id": "5e501258",
   "metadata": {},
   "outputs": [],
   "source": [
    "input_growth_rates_df.head(30)"
   ]
  },
  {
   "cell_type": "markdown",
   "id": "2e6b2a6b",
   "metadata": {},
   "source": [
    "<div style=\"text-align: left; font-family: 'PT Serif Pro Book'; color: dark; font-size:16px\">\n",
    "    Consider the code below as provisional. Actually, no data should be exported to the current directory folder, all data should be uploaded to SQL.\n",
    "    <div/>"
   ]
  },
  {
   "cell_type": "code",
   "execution_count": null,
   "id": "f69c2027",
   "metadata": {},
   "outputs": [],
   "source": [
    "# Export to excel file\n",
    "#with pd.ExcelWriter('input_growth_rates_df.xlsx') as writer:\n",
    "#    input_growth_rates_df.to_excel(writer, sheet_name='input_growth_rates_df', index=False) # this is an optional, to view data generated"
   ]
  },
  {
   "cell_type": "markdown",
   "id": "b0ce3ef4",
   "metadata": {},
   "source": [
    "<div style=\"font-family: PT Serif Pro Book; text-align: left; color: dark; font-size: 16px;\">\n",
    "    <span style=\"font-size: 30px; color: rgb(255, 32, 78); font-weight: bold;\">\n",
    "        <a href=\"#outilne\" style=\"color: rgb(0, 153, 123); text-decoration: none;\">&#11180;</a>\n",
    "    </span> \n",
    "    <a href=\"#outilne\" style=\"color: rgb(0, 153, 123); text-decoration: none;\">Back to the outline.</a>\n",
    "</div>"
   ]
  },
  {
   "cell_type": "markdown",
   "id": "fb7e90fe",
   "metadata": {},
   "source": [
    "<div id=\"5\">\n",
    "   <!-- Contenido de la celda de destino -->\n",
    "</div>"
   ]
  },
  {
   "cell_type": "markdown",
   "id": "e2af71c6",
   "metadata": {},
   "source": [
    "<h1><span style = \"color: rgb(0, 65, 75); font-family: PT Serif Pro Book;\">5.</span> <span style = \"color: dark; font-family: PT Serif Pro Book;\">Create growth rates by horizon dataset</span></h1>"
   ]
  },
  {
   "cell_type": "markdown",
   "id": "36d7cd48",
   "metadata": {},
   "source": [
    "<div id=\"steps-5\">\n",
    "   <!-- Contenido de la celda de destino -->\n",
    "</div>"
   ]
  },
  {
   "cell_type": "markdown",
   "id": "44f49ffd",
   "metadata": {},
   "source": [
    "<div style=\"font-family: PT Serif Pro Book; text-align: left; color: dark; font-size: 16px;\">\n",
    "    <a href=\"#st-3-1\" style=\"text-decoration: none; color: #006769\"> <span style=\"font-size: 24px; color: rgb(0, 65, 75);\">&#10122;</span> Generating a dictionary with the row indices and their t+h values</a>\n",
    "    <br>\n",
    "    <a href=\"#st-3-2\" style=\"text-decoration: none; color: #006769\"><span style=\"font-size: 24px; color: rgb(0, 65, 75)\">&#10123;</span> Colapse growth rates by horizon ('t+h') </a>\n",
    "    <br>\n",
    "</div>"
   ]
  },
  {
   "cell_type": "markdown",
   "id": "b523d878",
   "metadata": {},
   "source": [
    "<div id=\"st-5-1\">\n",
    "   <!-- Contenido de la celda de destino -->\n",
    "</div>"
   ]
  },
  {
   "cell_type": "markdown",
   "id": "71eb05a8",
   "metadata": {},
   "source": [
    "<div style=\"text-align: left; font-family: 'PT Serif Pro Book'; font-size:22px\">\n",
    "    <span style=\"font-size: 24px; color: rgb(0, 65, 75)\">&#10122;</span> <span>Generating a dictionary with the row indices and their t+h values</span>\n",
    "  </div>"
   ]
  },
  {
   "cell_type": "code",
   "execution_count": null,
   "id": "c1f4d8d2",
   "metadata": {},
   "outputs": [],
   "source": [
    "horizon_dictionary = get_last_index_h(horizon_df)"
   ]
  },
  {
   "cell_type": "markdown",
   "id": "e6a7c192",
   "metadata": {},
   "source": [
    "<div id=\"st-5-2\">\n",
    "   <!-- Contenido de la celda de destino -->\n",
    "</div>"
   ]
  },
  {
   "cell_type": "markdown",
   "id": "ab929aa3",
   "metadata": {},
   "source": [
    "<div style=\"text-align: left; font-family: 'PT Serif Pro Book'; font-size:22px\">\n",
    "    <span style=\"font-size: 24px; color: rgb(0, 65, 75)\">&#10123;</span> <span>Colapse growth rates by horizon ('t+h')  </span>\n",
    "  </div>"
   ]
  },
  {
   "cell_type": "markdown",
   "id": "aceda2e7",
   "metadata": {},
   "source": [
    "<div style=\"text-align: left; font-family: 'PT Serif Pro Book'; color: dark; font-size:16px\">\n",
    "    Note that <code>'t'</code> is the date of the first announcement, while <code>'t+h'</code> is 'h' months after the first announcement.\n",
    "    <div/>"
   ]
  },
  {
   "cell_type": "code",
   "execution_count": null,
   "id": "751769f3",
   "metadata": {
    "scrolled": false
   },
   "outputs": [],
   "source": [
    "filtered_h_df = filter_df_by_indices(input_growth_rates_df, horizon_dictionary)\n",
    "filtered_h_df"
   ]
  },
  {
   "cell_type": "markdown",
   "id": "c200b31f",
   "metadata": {},
   "source": [
    "<div style=\"font-family: PT Serif Pro Book; text-align: left; color: dark; font-size: 16px;\">\n",
    "    <span style=\"font-size: 20px; color: rgb(255, 32, 78); font-weight: bold;\">\n",
    "        <a href=\"#steps-5\" style=\"color: #006769; text-decoration: none;\">⮝</a>\n",
    "    </span> \n",
    "    <a href=\"#steps-5\" style=\"color: #006769; text-decoration: none;\">Back to steps.</a>\n",
    "</div>"
   ]
  },
  {
   "cell_type": "markdown",
   "id": "4374ae3b",
   "metadata": {},
   "source": [
    "<div style=\"font-family: PT Serif Pro Book; text-align: left; color: dark; font-size: 16px;\">\n",
    "    <span style=\"font-size: 30px; color: rgb(255, 32, 78); font-weight: bold;\">\n",
    "        <a href=\"#outilne\" style=\"color: rgb(0, 153, 123); text-decoration: none;\">&#11180;</a>\n",
    "    </span> \n",
    "    <a href=\"#outilne\" style=\"color: rgb(0, 153, 123); text-decoration: none;\">Back to the outline.</a>\n",
    "</div>"
   ]
  },
  {
   "cell_type": "markdown",
   "id": "5e3192e9",
   "metadata": {},
   "source": [
    "<div id=\"6\">\n",
    "   <!-- Contenido de la celda de destino -->\n",
    "</div>"
   ]
  },
  {
   "cell_type": "markdown",
   "id": "e22df151",
   "metadata": {},
   "source": [
    "<h1><span style = \"color: rgb(0, 65, 75); font-family: PT Serif Pro Book;\">6.</span> <span style = \"color: dark; font-family: PT Serif Pro Book;\">Create vintages and releases datasets</span></h1>"
   ]
  },
  {
   "cell_type": "markdown",
   "id": "bc98ce3f",
   "metadata": {},
   "source": [
    "<div id=\"steps-6\">\n",
    "   <!-- Contenido de la celda de destino -->\n",
    "</div>"
   ]
  },
  {
   "cell_type": "markdown",
   "id": "887229b9",
   "metadata": {},
   "source": [
    "<div style=\"font-family: PT Serif Pro Book; text-align: left; color: dark; font-size: 16px;\">\n",
    "    <a href=\"#st-4-1\" style=\"text-decoration: none; color: #006769\"> <span style=\"font-size: 24px; color: rgb(0, 65, 75);\">&#10122;</span> Create vintages</a>\n",
    "    <br>\n",
    "    <a href=\"#st-4-2\" style=\"text-decoration: none; color: #006769\"><span style=\"font-size: 24px; color: rgb(0, 65, 75)\">&#10123;</span> Clean-up vintages dataframe </a>\n",
    "    <br>\n",
    "    <a href=\"#st-4-3\" style=\"text-decoration: none; color: #006769\"><span style=\"font-size: 24px; color: rgb(0, 65, 75)\">&#10124;</span> Create releases </a>\n",
    "    <br>\n",
    "</div>"
   ]
  },
  {
   "cell_type": "markdown",
   "id": "20355827",
   "metadata": {},
   "source": [
    "<div id=\"st-6-1\">\n",
    "   <!-- Contenido de la celda de destino -->\n",
    "</div>"
   ]
  },
  {
   "cell_type": "markdown",
   "id": "47bf2c19",
   "metadata": {},
   "source": [
    "<div style=\"text-align: left; font-family: 'PT Serif Pro Book'; font-size:22px\">\n",
    "    <span style=\"font-size: 24px; color: rgb(0, 65, 75)\">&#10122;</span> <span>Create vintages</span>\n",
    "  </div>"
   ]
  },
  {
   "cell_type": "code",
   "execution_count": null,
   "id": "c808c3e6",
   "metadata": {
    "scrolled": true
   },
   "outputs": [],
   "source": [
    "vintages = create_vintages(input_growth_rates_df)\n",
    "vintages.head(30)"
   ]
  },
  {
   "cell_type": "markdown",
   "id": "37c265b9",
   "metadata": {},
   "source": [
    "<div id=\"st-6-2\">\n",
    "   <!-- Contenido de la celda de destino -->\n",
    "</div>"
   ]
  },
  {
   "cell_type": "markdown",
   "id": "a0ba4c7e",
   "metadata": {},
   "source": [
    "<div style=\"text-align: left; font-family: 'PT Serif Pro Book'; font-size:22px\">\n",
    "    <span style=\"font-size: 24px; color: rgb(0, 65, 75)\">&#10123;</span> <span>Clean-up vintages dataframe</span>\n",
    "  </div>"
   ]
  },
  {
   "cell_type": "code",
   "execution_count": null,
   "id": "d0c7bfe0",
   "metadata": {
    "scrolled": true
   },
   "outputs": [],
   "source": [
    "# Call the appropriate function based on frequency and sector\n",
    "if frequency == 'monthly':\n",
    "    vintages_df = process_monthly(vintages)\n",
    "elif frequency == 'quarterly':\n",
    "    vintages_df = process_quarterly(vintages)\n",
    "elif frequency == 'annual':\n",
    "    vintages_df = process_annual(vintages)"
   ]
  },
  {
   "cell_type": "code",
   "execution_count": null,
   "id": "f5a8711b",
   "metadata": {},
   "outputs": [],
   "source": [
    "vintages_df.head(30)"
   ]
  },
  {
   "cell_type": "markdown",
   "id": "a86d125b",
   "metadata": {},
   "source": [
    "<div id=\"st-6-3\">\n",
    "   <!-- Contenido de la celda de destino -->\n",
    "</div>"
   ]
  },
  {
   "cell_type": "markdown",
   "id": "2989b1f5",
   "metadata": {},
   "source": [
    "<div style=\"text-align: left; font-family: 'PT Serif Pro Book'; font-size:22px\">\n",
    "    <span style=\"font-size: 24px; color: rgb(0, 65, 75)\">&#10124;</span> <span>Create releases</span>\n",
    "  </div>"
   ]
  },
  {
   "cell_type": "code",
   "execution_count": null,
   "id": "d1b6aa25",
   "metadata": {
    "scrolled": true
   },
   "outputs": [],
   "source": [
    "releases_df = create_releases(vintages_df, sector)\n",
    "releases_df.head(30)"
   ]
  },
  {
   "cell_type": "markdown",
   "id": "1fa0f47c",
   "metadata": {},
   "source": [
    "<div style=\"font-family: PT Serif Pro Book; text-align: left; color: dark; font-size: 16px;\">\n",
    "    <span style=\"font-size: 20px; color: rgb(255, 32, 78); font-weight: bold;\">\n",
    "        <a href=\"#steps-6\" style=\"color: #006769; text-decoration: none;\">⮝</a>\n",
    "    </span> \n",
    "    <a href=\"#steps-6\" style=\"color: #006769; text-decoration: none;\">Back to steps.</a>\n",
    "</div>"
   ]
  },
  {
   "cell_type": "markdown",
   "id": "776a4233",
   "metadata": {},
   "source": [
    "#### Check column type"
   ]
  },
  {
   "cell_type": "code",
   "execution_count": null,
   "id": "ad9e716e",
   "metadata": {
    "scrolled": true
   },
   "outputs": [],
   "source": [
    "print(releases_df[f'{sector}_release_1'].dtype)"
   ]
  },
  {
   "cell_type": "code",
   "execution_count": null,
   "id": "e788226e",
   "metadata": {},
   "outputs": [],
   "source": [
    "print(releases_df['vintages_date'].dtype)"
   ]
  },
  {
   "cell_type": "code",
   "execution_count": null,
   "id": "ea0ac8cf",
   "metadata": {},
   "outputs": [],
   "source": []
  },
  {
   "cell_type": "code",
   "execution_count": null,
   "id": "c072a8a9",
   "metadata": {},
   "outputs": [],
   "source": []
  },
  {
   "cell_type": "markdown",
   "id": "a3b119fd",
   "metadata": {},
   "source": [
    "<div style=\"font-family: PT Serif Pro Book; text-align: left; color: dark; font-size: 16px;\">\n",
    "    <span style=\"font-size: 30px; color: rgb(255, 32, 78); font-weight: bold;\">\n",
    "        <a href=\"#outilne\" style=\"color: rgb(0, 153, 123); text-decoration: none;\">&#11180;</a>\n",
    "    </span> \n",
    "    <a href=\"#outilne\" style=\"color: rgb(0, 153, 123); text-decoration: none;\">Back to the outline.</a>\n",
    "</div>"
   ]
  },
  {
   "cell_type": "markdown",
   "id": "6740d1a9",
   "metadata": {},
   "source": [
    "<div id=\"7\">\n",
    "   <!-- Contenido de la celda de destino -->\n",
    "</div>"
   ]
  },
  {
   "cell_type": "markdown",
   "id": "90199d87",
   "metadata": {},
   "source": [
    "<h2><span style = \"color: rgb(0, 65, 75); font-family: charter;\">7.</span>\n",
    "    <span style = \"color: dark; font-family: charter;\">\n",
    "    Loading to SQL\n",
    "    </span>\n",
    "    </h2>"
   ]
  },
  {
   "cell_type": "code",
   "execution_count": null,
   "id": "408d5fb8",
   "metadata": {},
   "outputs": [],
   "source": [
    "#horizon_df.to_sql(f'{sector}_{frequency}_growth_rates_horizon', engine, index=False, if_exists='replace')\n",
    "#base_year_df.to_sql(f'{sector}_{frequency}_growth_rates_base_year', engine, index=False, if_exists='replace')\n",
    "filtered_h_df.to_sql(f'{sector}_{frequency}_h', engine, index=False, if_exists='replace')\n",
    "vintages_df.to_sql(f'{sector}_{frequency}_vintages', engine, index=False, if_exists='replace')\n",
    "releases_df.to_sql(f'{sector}_{frequency}_releases', engine, index=False, if_exists='replace')"
   ]
  },
  {
   "cell_type": "markdown",
   "id": "5c07ee19",
   "metadata": {},
   "source": [
    "<div style=\"font-family: PT Serif Pro Book; text-align: left; color: dark; font-size: 16px;\">\n",
    "    <span style=\"font-size: 20px; color: rgb(255, 32, 78); font-weight: bold;\">\n",
    "        <a href=\"#step-1-1\" style=\"color: rgb(255, 32, 78); text-decoration: none;\">⮝</a>\n",
    "    </span> \n",
    "    <a href=\"#step-1-1\" style=\"color: rgb(255, 32, 78); text-decoration: none;\">Back to <b>select economic sector</b>.</a>\n",
    "</div>"
   ]
  },
  {
   "cell_type": "markdown",
   "id": "5053e455",
   "metadata": {},
   "source": [
    "<div style=\"font-family: PT Serif Pro Book; text-align: left; color: dark; font-size: 16px;\">\n",
    "    <span style=\"font-size: 30px; color: rgb(255, 32, 78); font-weight: bold;\">\n",
    "        <a href=\"#outilne\" style=\"color: rgb(0, 153, 123); text-decoration: none;\">&#11180;</a>\n",
    "    </span> \n",
    "    <a href=\"#outilne\" style=\"color: rgb(0, 153, 123); text-decoration: none;\">Back to the outline.</a>\n",
    "</div>"
   ]
  },
  {
   "cell_type": "code",
   "execution_count": null,
   "id": "539b00e4",
   "metadata": {},
   "outputs": [],
   "source": []
  },
  {
   "cell_type": "code",
   "execution_count": null,
   "id": "0be8f33a",
   "metadata": {},
   "outputs": [],
   "source": []
  },
  {
   "cell_type": "code",
   "execution_count": null,
   "id": "47301a69",
   "metadata": {},
   "outputs": [],
   "source": []
  }
 ],
 "metadata": {
  "kernelspec": {
   "display_name": "gdp_revisions",
   "language": "python",
   "name": "gdp_revisions"
  },
  "language_info": {
   "codemirror_mode": {
    "name": "ipython",
    "version": 3
   },
   "file_extension": ".py",
   "mimetype": "text/x-python",
   "name": "python",
   "nbconvert_exporter": "python",
   "pygments_lexer": "ipython3",
   "version": "3.12.1"
  }
 },
 "nbformat": 4,
 "nbformat_minor": 5
}
