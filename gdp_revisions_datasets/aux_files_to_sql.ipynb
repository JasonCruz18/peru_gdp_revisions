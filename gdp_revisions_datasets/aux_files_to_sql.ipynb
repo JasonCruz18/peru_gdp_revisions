{
 "cells": [
  {
   "cell_type": "code",
   "execution_count": null,
   "id": "6b39b490",
   "metadata": {},
   "outputs": [],
   "source": []
  },
  {
   "cell_type": "markdown",
   "id": "3e7a0645",
   "metadata": {},
   "source": [
    "<div style=\"text-align: center; font-family: 'charter bt pro roman'; color: rgb(0, 65, 75);\">\n",
    "    <h1>\n",
    "    Auxiliar script for releases, revisions and more\n",
    "    </h1>\n",
    "</div>"
   ]
  },
  {
   "cell_type": "markdown",
   "id": "ce205c88",
   "metadata": {},
   "source": [
    "<div style=\"text-align: center; font-family: 'charter bt pro roman'; color: rgb(0, 65, 75);\">\n",
    "    <h3>\n",
    "        Documentation\n",
    "        <br>\n",
    "        ____________________\n",
    "            </br>\n",
    "    </h3>\n",
    "</div>"
   ]
  },
  {
   "cell_type": "markdown",
   "id": "3adf7d9d",
   "metadata": {},
   "source": [
    "<div style=\"text-align: center; font-family: 'PT Serif Pro Book'; color: rgb(0, 65, 75); font-size: 16px;\">\n",
    "    Jason Cruz\n",
    "    <br>\n",
    "    <a href=\"mailto:jj.cruza@up.edu.pe\" style=\"color: rgb(0, 153, 123); font-size: 16px;\">\n",
    "        jj.cruza@up.edu.pe\n",
    "    </a>\n",
    "</div>"
   ]
  },
  {
   "cell_type": "markdown",
   "id": "a7bfb958",
   "metadata": {},
   "source": [
    "<div style=\"font-family: PT Serif Pro Book; text-align: left; color:dark; font-size:16px\"> This auxiliary script serves to load the main project’s input data into SQL, and to merge (concatenate) both the old and new GDP datasets, along with the release datasets. However, the most significant advancement lies in the creation of cumulative and ongoing revisions data, which is derived from the outputs of the main project scripts. Additionally, this script should be viewed as a non-trivial extension to the remaining project scripts.<div/>"
   ]
  },
  {
   "cell_type": "markdown",
   "id": "3ec9c893",
   "metadata": {},
   "source": [
    "<div style=\"font-family: Amaya; text-align: left; color: rgb(0, 65, 75); font-size:16px\">The following <b>outline is functional</b>. By utilising the provided buttons, users are able to enhance their experience by browsing this script.<div/>"
   ]
  },
  {
   "cell_type": "markdown",
   "id": "5f2fd8a6",
   "metadata": {},
   "source": [
    "<div id=\"outilne\">\n",
    "   <!-- Contenido de la celda de destino -->\n",
    "</div>"
   ]
  },
  {
   "cell_type": "markdown",
   "id": "11528b55",
   "metadata": {},
   "source": [
    "<div style=\"background-color: #292929; padding: 10px; font-family: 'PT Serif Pro Book';\">\n",
    "    <h2 style=\"text-align: left; color: #E0E0E0;\">\n",
    "        Outline\n",
    "    </h2>\n",
    "    <br>\n",
    "    <a href=\"#libraries\" style=\"color: #94FFD8; font-size: 18px;\">\n",
    "        Libraries</a>\n",
    "    <br>\n",
    "    <a href=\"#setup\" style=\"color: #94FFD8; font-size: 18px;\">\n",
    "        Initial set-up</a>\n",
    "    <br>\n",
    "    <a href=\"#selector\" style=\"color: #94FFD8; font-size: 18px;\">\n",
    "        Select <code>sector</code> and <code>frequency</code></a>\n",
    "    <br>\n",
    "    <a href=\"#1\" style=\"color: #94FFD8; font-size: 18px;\">\n",
    "        1. Loading gdp_percentage_structure</a>\n",
    "    <br>\n",
    "    <a href=\"#2\" style=\"color: #94FFD8; font-size: 18px;\">\n",
    "        2. Generate PDF input with key tables</a>\n",
    "    <br>\n",
    "    <a href=\"#3\" style=\"color: #94FFD8; font-size: 18px;\">    \n",
    "        3. Load date, year, id and base year data</a>\n",
    "    <br>\n",
    "    <a href=\"#4\" style=\"color: #94FFD8; font-size: 18px;\">    \n",
    "        4. Load dummies for raw data delivered by Central Bank</a>\n",
    "    <br>\n",
    "    <a href=\"#5\" style=\"color: #94FFD8; font-size: 18px;\">    \n",
    "        5. Concatenate old_gdp_dataset with new_gdp_dataset</a>\n",
    "    <br>\n",
    "    <a href=\"#6\" style=\"color: #94FFD8; font-size: 18px;\">    \n",
    "        6. Merge all the releases datasets</a>\n",
    "    <br>\n",
    "    <a href=\"#7\" style=\"color: #94FFD8; font-size: 18px;\">    \n",
    "        7. Create cumulative revisions</a>\n",
    "    <br>\n",
    "    <a href=\"#8\" style=\"color: #94FFD8; font-size: 18px;\">    \n",
    "        8. Create intermediate revisions</a>\n",
    "</div>\n"
   ]
  },
  {
   "cell_type": "markdown",
   "id": "1e253675",
   "metadata": {},
   "source": [
    "<div style=\"text-align: left; font-family: 'PT Serif Pro Book'; color: dark; font-size:16px\">\n",
    "    Any questions or issues regarding the coding, please <a href=\"mailto:jj.cruza@alum.up.edu.pe\" style=\"color: rgb(0, 153, 123)\">email Jason Cruz\n",
    "    </a>.\n",
    "    <div/>"
   ]
  },
  {
   "cell_type": "markdown",
   "id": "33ac4954",
   "metadata": {},
   "source": [
    "<div style=\"text-align: left; font-family: 'PT Serif Pro Book'; color: dark; font-size:16px\"\">\n",
    "    If you don't have the libraries below, please use the following code (as example) to install the required libraries.\n",
    "    <div/>"
   ]
  },
  {
   "cell_type": "code",
   "execution_count": null,
   "id": "cdd39234",
   "metadata": {},
   "outputs": [],
   "source": [
    "#!pip install os # Comment this code with \"#\" if you have already installed this library."
   ]
  },
  {
   "cell_type": "markdown",
   "id": "8605c30e",
   "metadata": {},
   "source": [
    "<div id=\"libraries\">\n",
    "   <!-- Contenido de la celda de destino -->\n",
    "</div>"
   ]
  },
  {
   "cell_type": "markdown",
   "id": "d067139c",
   "metadata": {},
   "source": [
    "<div style=\"text-align: left; font-family: 'PT Serif Pro Book'; color: dark;\">\n",
    "    <h2>\n",
    "    Libraries\n",
    "    </h2>\n",
    "    <div/>"
   ]
  },
  {
   "cell_type": "code",
   "execution_count": 1,
   "id": "7be7e507",
   "metadata": {},
   "outputs": [],
   "source": [
    "import pandas as pd\n",
    "import os\n",
    "from sqlalchemy import create_engine\n",
    "import re"
   ]
  },
  {
   "cell_type": "markdown",
   "id": "84c03d93",
   "metadata": {},
   "source": [
    "<div style=\"font-family: PT Serif Pro Book; text-align: left; color: dark; font-size: 16px;\">\n",
    "    <span style=\"font-size: 30px; color: rgb(255, 32, 78); font-weight: bold;\">\n",
    "        <a href=\"#outilne\" style=\"color: rgb(0, 153, 123); text-decoration: none;\">&#11180;</a>\n",
    "    </span> \n",
    "    <a href=\"#outilne\" style=\"color: rgb(0, 153, 123); text-decoration: none;\">Back to the outline.</a>\n",
    "</div>"
   ]
  },
  {
   "cell_type": "markdown",
   "id": "ce8edb17",
   "metadata": {},
   "source": [
    "<div id=\"setup\">\n",
    "   <!-- Contenido de la celda de destino -->\n",
    "</div>"
   ]
  },
  {
   "cell_type": "markdown",
   "id": "a3667250",
   "metadata": {},
   "source": [
    "<div style=\"text-align: left; font-family: 'PT Serif Pro Book'; color: dark;\">\n",
    "    <h2>\n",
    "    Initial set-up\n",
    "    </h2>\n",
    "    <div/>"
   ]
  },
  {
   "cell_type": "markdown",
   "id": "fda38284",
   "metadata": {},
   "source": [
    "<div style=\"font-family: PT Serif Pro Book; text-align: left; color:dark; font-size:16px\"> The following code lines will create folders in your current path, call them to import and export your outputs. <div/>"
   ]
  },
  {
   "cell_type": "code",
   "execution_count": 2,
   "id": "99497a7d",
   "metadata": {},
   "outputs": [],
   "source": [
    "# Folder path to save the csv file of GDP percentage structure\n",
    "\n",
    "gdp_perc_structure_folder = 'gdp_perc_structure'\n",
    "if not os.path.exists(gdp_perc_structure_folder):\n",
    "    os.makedirs(gdp_perc_structure_folder) # to create the folder (if it doesn't exist)"
   ]
  },
  {
   "cell_type": "code",
   "execution_count": 3,
   "id": "20994e9e",
   "metadata": {},
   "outputs": [],
   "source": [
    "# Folder path to save the csv file of NS dates\n",
    "\n",
    "ns_dates_folder = 'ns_dates'\n",
    "if not os.path.exists(ns_dates_folder):\n",
    "    os.makedirs(ns_dates_folder) # to create the folder (if it doesn't exist)"
   ]
  },
  {
   "cell_type": "code",
   "execution_count": 4,
   "id": "3058b116",
   "metadata": {},
   "outputs": [],
   "source": [
    "# Folder path to save the csv file of NS base year\n",
    "\n",
    "ns_base_year_folder = 'ns_base_year'\n",
    "if not os.path.exists(ns_base_year_folder):\n",
    "    os.makedirs(ns_base_year_folder) # to create the folder (if it doesn't exist)"
   ]
  },
  {
   "cell_type": "code",
   "execution_count": 5,
   "id": "beb4987e",
   "metadata": {},
   "outputs": [],
   "source": [
    "# Folder path to save the xlsx files delivered by Central Bank\n",
    "\n",
    "data_delivered_folder = 'old_raw_data_delivered'\n",
    "if not os.path.exists(data_delivered_folder):\n",
    "    os.makedirs(data_delivered_folder) # to create the folder (if it doesn't exist)"
   ]
  },
  {
   "cell_type": "markdown",
   "id": "97f4bd9b",
   "metadata": {},
   "source": [
    "<p style=\"font-family: PT Serif Pro Book; text-align: left; color:dark; font-size:16px\"> The following function will establish a connection to the <code>gdp_revisions_datasets</code> database in <code>PostgreSQL</code>. The <b>input data</b> used in this jupyter notebook will be loaded from this <code>PostgreSQL</code> database, and similarly, all <b>output data</b> generated by this jupyter notebook will be stored in that database. Ensure that you set the necessary parameters to access the server once you have obtained the required permissions.<p/>\n",
    "    \n",
    "<p style=\"text-align: left; font-family: 'PT Serif Pro Book'; color: dark; font-size:16px\">\n",
    "To request permissions, please email Jason Cruz <a href=\"mailto:jj.cruza@alum.up.edu.pe\" style=\"color: rgb(0, 153, 123); text-decoration: none;\"> <span style=\"font-size: 24px;\">&#x2709;</span>\n",
    "    </a>.\n",
    "<p/>"
   ]
  },
  {
   "cell_type": "markdown",
   "id": "14149b86",
   "metadata": {},
   "source": [
    "<div style=\"text-align: left; font-family: 'PT Serif Pro Book'; color: dark; font-size:16px\">\n",
    "    <span style=\"font-size: 24px; color: #FFA823; font-weight: bold;\">&#9888;</span>\n",
    "    Enter your user credentials to acces to SQL.\n",
    "    <div/>"
   ]
  },
  {
   "cell_type": "code",
   "execution_count": 6,
   "id": "fde300b7",
   "metadata": {},
   "outputs": [],
   "source": [
    "# Get environment variables\n",
    "user = os.environ.get('CIUP_SQL_USER')\n",
    "password = os.environ.get('CIUP_SQL_PASS')\n",
    "host = os.environ.get('CIUP_SQL_HOST')\n",
    "port = 5432\n",
    "database = 'gdp_revisions_datasets'\n",
    "\n",
    "# Check if all environment variables are defined\n",
    "if not all([host, user, password]):\n",
    "    raise ValueError(\"Some environment variables are missing (CIUP_SQL_HOST, CIUP_SQL_USER, CIUP_SQL_PASS)\")\n",
    "\n",
    "# Create connection string\n",
    "connection_string = f\"postgresql://{user}:{password}@{host}:{port}/{database}\"\n",
    "\n",
    "# Create SQLAlchemy engine\n",
    "engine = create_engine(connection_string)"
   ]
  },
  {
   "cell_type": "markdown",
   "id": "8d4d4dfb",
   "metadata": {},
   "source": [
    "<div style=\"text-align: left;\">\n",
    "    <span style=\"font-size: 24px; color: rgb(255, 32, 78); font-weight: bold;\">&#9888;</span>\n",
    "    <span style=\"font-family: PT Serif Pro Book; color: black; font-size: 16px;\">\n",
    "        Import all other functions required by this jupyter notebook.\n",
    "    </span>\n",
    "</div>"
   ]
  },
  {
   "cell_type": "markdown",
   "id": "5483f363",
   "metadata": {},
   "source": [
    "<div style=\"font-family: PT Serif Pro Book; text-align: left; color:dark; font-size:16px\"> Please, check the script <code>aux_files_to_sql_functions.py</code> which contains all the functions required by this jupyter notebook. The functions there are ordered according to the <a href=\"#outilne\" style=\"color: #3d30a2;\">sections</a> of this jupyter notebok. Altough some functions are included in <code>gdp_revisions_datasets_functions.py</code>.<div/>"
   ]
  },
  {
   "cell_type": "code",
   "execution_count": 7,
   "id": "766a4304",
   "metadata": {},
   "outputs": [],
   "source": [
    "from aux_files_to_sql_functions import *\n",
    "from gdp_revisions_datasets_functions import *"
   ]
  },
  {
   "cell_type": "markdown",
   "id": "53531869",
   "metadata": {},
   "source": [
    "<div style=\"font-family: PT Serif Pro Book; text-align: left; color: dark; font-size: 16px;\">\n",
    "    <span style=\"font-size: 30px; color: rgb(255, 32, 78); font-weight: bold;\">\n",
    "        <a href=\"#outilne\" style=\"color: rgb(0, 153, 123); text-decoration: none;\">&#11180;</a>\n",
    "    </span> \n",
    "    <a href=\"#outilne\" style=\"color: rgb(0, 153, 123); text-decoration: none;\">Back to the outline.</a>\n",
    "</div>"
   ]
  },
  {
   "cell_type": "markdown",
   "id": "30d4571d",
   "metadata": {},
   "source": [
    "<div id=\"selector\">\n",
    "   <!-- Contenido de la celda de destino -->\n",
    "</div>"
   ]
  },
  {
   "cell_type": "markdown",
   "id": "1f15f084",
   "metadata": {},
   "source": [
    "<div style=\"text-align: left; font-family: 'PT Serif Pro Book'; color: dark;\">\n",
    "    <h2>\n",
    "    Select <code>sector</code> and <code>frequency</code>\n",
    "    </h2>\n",
    "    <div/>"
   ]
  },
  {
   "cell_type": "markdown",
   "id": "5ec93184",
   "metadata": {},
   "source": [
    "<div id=\"step-5-1\">\n",
    "   <!-- Contenido de la celda de destino -->\n",
    "</div>"
   ]
  },
  {
   "cell_type": "markdown",
   "id": "36ec0c8b",
   "metadata": {},
   "source": [
    "<div style=\"text-align: left; font-family: 'PT Serif Pro Book'; font-size:22px\">\n",
    "    <span style=\"font-size: 24px; color: rgb(0, 65, 75)\">&#10122;</span> <span>Select economic sector</span>\n",
    "  </div>"
   ]
  },
  {
   "cell_type": "code",
   "execution_count": 8,
   "id": "d7e12f99",
   "metadata": {},
   "outputs": [
    {
     "name": "stdout",
     "output_type": "stream",
     "text": [
      "Selected economic sector: gdp\n"
     ]
    }
   ],
   "source": [
    "# Call the function to show the popup window\n",
    "sector = show_option_window()\n",
    "print(\"Selected economic sector:\", sector)"
   ]
  },
  {
   "cell_type": "markdown",
   "id": "92f23b0d",
   "metadata": {},
   "source": [
    "<div id=\"step-5-2\">\n",
    "   <!-- Contenido de la celda de destino -->\n",
    "</div>"
   ]
  },
  {
   "cell_type": "markdown",
   "id": "32c55929",
   "metadata": {},
   "source": [
    "<div style=\"text-align: left; font-family: 'PT Serif Pro Book'; font-size:22px\">\n",
    "    <span style=\"font-size: 24px; color: rgb(0, 65, 75)\">&#10123;</span> <span>Select frequency</span>\n",
    "  </div>"
   ]
  },
  {
   "cell_type": "code",
   "execution_count": 9,
   "id": "ccaa1967",
   "metadata": {
    "scrolled": false
   },
   "outputs": [
    {
     "name": "stdout",
     "output_type": "stream",
     "text": [
      "Selected frequency: monthly\n"
     ]
    }
   ],
   "source": [
    "# Call the function to show the popup window\n",
    "frequency = show_frequency_window()\n",
    "print(\"Selected frequency:\", frequency)"
   ]
  },
  {
   "cell_type": "markdown",
   "id": "c834708f",
   "metadata": {},
   "source": [
    "<div style=\"font-family: PT Serif Pro Book; text-align: left; color: dark; font-size: 16px;\">\n",
    "    <span style=\"font-size: 20px; color: #2C4E80; font-weight: bold;\">\n",
    "        <a href=\"#step-5-3\" style=\"color: #2C4E80; text-decoration: none;\">⮟</a>\n",
    "    </span> \n",
    "    <a href=\"#step-5-3\" style=\"color: #2C4E80; text-decoration: none;\">Continue with Step <span style=\"font-size: 24px; color: rgb(0, 65, 75)\">&#10124;</span> in <b>Section 5</b>.</a>\n",
    "</div>"
   ]
  },
  {
   "cell_type": "markdown",
   "id": "94e279df",
   "metadata": {},
   "source": [
    "<div style=\"font-family: PT Serif Pro Book; text-align: left; color: dark; font-size: 16px;\">\n",
    "    <span style=\"font-size: 20px; color: rgb(255, 32, 78); font-weight: bold;\">\n",
    "        <a href=\"#5\" style=\"color: #3772ff; text-decoration: none;\">⮟</a>\n",
    "    </span> \n",
    "    <a href=\"#5\" style=\"color: #3772ff; text-decoration: none;\">Go to <b>Section 5</b>.</a>\n",
    "</div>"
   ]
  },
  {
   "cell_type": "markdown",
   "id": "e420b0d2",
   "metadata": {},
   "source": [
    "<div style=\"font-family: PT Serif Pro Book; text-align: left; color: dark; font-size: 16px;\">\n",
    "    <span style=\"font-size: 20px; color: #2C4E80; font-weight: bold;\">\n",
    "        <a href=\"#step-6-3\" style=\"color: #2C4E80; text-decoration: none;\">⮟</a>\n",
    "    </span> \n",
    "    <a href=\"#step-6-3\" style=\"color: #2C4E80; text-decoration: none;\">Continue with Step <span style=\"font-size: 24px; color: rgb(0, 65, 75)\">&#10124;</span> in <b>Section 6</b>.</a>\n",
    "</div>"
   ]
  },
  {
   "cell_type": "markdown",
   "id": "ff389069",
   "metadata": {},
   "source": [
    "<div style=\"font-family: PT Serif Pro Book; text-align: left; color: dark; font-size: 16px;\">\n",
    "    <span style=\"font-size: 20px; color: rgb(255, 32, 78); font-weight: bold;\">\n",
    "        <a href=\"#6\" style=\"color: #3772ff; text-decoration: none;\">⮟</a>\n",
    "    </span> \n",
    "    <a href=\"#6\" style=\"color: #3772ff; text-decoration: none;\">Go to <b>Section 6</b>.</a>\n",
    "</div>"
   ]
  },
  {
   "cell_type": "markdown",
   "id": "86912fd9",
   "metadata": {},
   "source": [
    "<div style=\"font-family: PT Serif Pro Book; text-align: left; color: dark; font-size: 16px;\">\n",
    "    <span style=\"font-size: 20px; color: #2C4E80; font-weight: bold;\">\n",
    "        <a href=\"#step-7-3\" style=\"color: #2C4E80; text-decoration: none;\">⮟</a>\n",
    "    </span> \n",
    "    <a href=\"#step-7-3\" style=\"color: #2C4E80; text-decoration: none;\">Continue with Step <span style=\"font-size: 24px; color: rgb(0, 65, 75)\">&#10124;</span> in <b>Section 7</b>.</a>\n",
    "</div>"
   ]
  },
  {
   "cell_type": "markdown",
   "id": "bcae1168",
   "metadata": {},
   "source": [
    "<div style=\"font-family: PT Serif Pro Book; text-align: left; color: dark; font-size: 16px;\">\n",
    "    <span style=\"font-size: 20px; color: rgb(255, 32, 78); font-weight: bold;\">\n",
    "        <a href=\"#7\" style=\"color: #3772ff; text-decoration: none;\">⮟</a>\n",
    "    </span> \n",
    "    <a href=\"#7\" style=\"color: #3772ff; text-decoration: none;\">Go to <b>Section 7</b>.</a>\n",
    "</div>"
   ]
  },
  {
   "cell_type": "markdown",
   "id": "11c609d5",
   "metadata": {},
   "source": [
    "<div style=\"font-family: PT Serif Pro Book; text-align: left; color: dark; font-size: 16px;\">\n",
    "    <span style=\"font-size: 20px; color: #2C4E80; font-weight: bold;\">\n",
    "        <a href=\"#step-8-3\" style=\"color: #2C4E80; text-decoration: none;\">⮟</a>\n",
    "    </span> \n",
    "    <a href=\"#step-8-3\" style=\"color: #2C4E80; text-decoration: none;\">Continue with Step <span style=\"font-size: 24px; color: rgb(0, 65, 75)\">&#10124;</span> in <b>Section 8</b>.</a>\n",
    "</div>"
   ]
  },
  {
   "cell_type": "markdown",
   "id": "b310150e",
   "metadata": {},
   "source": [
    "<div style=\"font-family: PT Serif Pro Book; text-align: left; color: dark; font-size: 16px;\">\n",
    "    <span style=\"font-size: 20px; color: rgb(255, 32, 78); font-weight: bold;\">\n",
    "        <a href=\"#8\" style=\"color: #3772ff; text-decoration: none;\">⮟</a>\n",
    "    </span> \n",
    "    <a href=\"#8\" style=\"color: #3772ff; text-decoration: none;\">Go to <b>Section 8</b>.</a>\n",
    "</div>"
   ]
  },
  {
   "cell_type": "markdown",
   "id": "e0a0baeb",
   "metadata": {},
   "source": [
    "<div id=\"1\">\n",
    "   <!-- Contenido de la celda de destino -->\n",
    "</div>"
   ]
  },
  {
   "cell_type": "markdown",
   "id": "e86b549d",
   "metadata": {},
   "source": [
    "<div style=\"background-color: #00414C; color: white; padding: 10px;\">\n",
    "<h1><span style = \"color: #15F5BA; font-family: 'PT Serif Pro Book'; color: dark;\">1.</span> <span style = \"color: dark; font-family: PT Serif Pro Book;\">Loading gdp_percentage_structure</span></h1>\n",
    "    </div>"
   ]
  },
  {
   "cell_type": "code",
   "execution_count": null,
   "id": "7e2ed8e9",
   "metadata": {},
   "outputs": [],
   "source": [
    "# Loading csv data\n",
    "gdp_percentage_structure = f'{gdp_perc_structure_folder}/gdp_percentage_structure.csv'\n",
    "\n",
    "# Reads the CSV file in a DataFrame, specifying that the delimiter is the comma\n",
    "gdp_percentage_structure = pd.read_csv(gdp_percentage_structure, delimiter=';')\n",
    "gdp_percentage_structure.head(5)"
   ]
  },
  {
   "cell_type": "markdown",
   "id": "57c5e1d9",
   "metadata": {},
   "source": [
    "<div style=\"font-family: PT Serif Pro Book; text-align: left; color:dark; font-size:16px\"> Loading to SQL.<div/>"
   ]
  },
  {
   "cell_type": "code",
   "execution_count": null,
   "id": "c8af066c",
   "metadata": {},
   "outputs": [],
   "source": [
    "gdp_percentage_structure.to_sql('gdp_percentage_structure', engine, index=False, if_exists='replace')"
   ]
  },
  {
   "cell_type": "markdown",
   "id": "97d116d0",
   "metadata": {},
   "source": [
    "<div style=\"font-family: PT Serif Pro Book; text-align: left; color: dark; font-size: 16px;\">\n",
    "    <span style=\"font-size: 30px; color: rgb(255, 32, 78); font-weight: bold;\">\n",
    "        <a href=\"#outilne\" style=\"color: rgb(0, 153, 123); text-decoration: none;\">&#11180;</a>\n",
    "    </span> \n",
    "    <a href=\"#outilne\" style=\"color: rgb(0, 153, 123); text-decoration: none;\">Back to the outline.</a>\n",
    "</div>"
   ]
  },
  {
   "cell_type": "markdown",
   "id": "fe87c79f",
   "metadata": {},
   "source": [
    "<div id=\"2\">\n",
    "   <!-- Contenido de la celda de destino -->\n",
    "</div>"
   ]
  },
  {
   "cell_type": "markdown",
   "id": "243b2dd1",
   "metadata": {},
   "source": [
    "<div style=\"background-color: #00414C; color: white; padding: 10px;\">\n",
    "<h1><span style = \"color: #15F5BA; font-family: 'PT Serif Pro Book'; color: dark;\">2.</span> <span style = \"color: dark; font-family: PT Serif Pro Book;\">Load date, year and id data</span></h1>\n",
    "    </div>"
   ]
  },
  {
   "cell_type": "code",
   "execution_count": null,
   "id": "2a571a7d",
   "metadata": {},
   "outputs": [],
   "source": [
    "# Loading csv data\n",
    "csv_file = f'{ns_dates_folder}/dates.csv'\n",
    "\n",
    "# Reads the CSV file in a DataFrame, specifying that the delimiter is the comma\n",
    "dates = pd.read_csv(csv_file, delimiter=';')\n",
    "dates.head(5)"
   ]
  },
  {
   "cell_type": "markdown",
   "id": "8e4d9201",
   "metadata": {},
   "source": [
    "<div style=\"font-family: PT Serif Pro Book; text-align: left; color:dark; font-size:16px\"> Clean-up the dataframe columns.<div/>"
   ]
  },
  {
   "cell_type": "code",
   "execution_count": null,
   "id": "279b5da7",
   "metadata": {},
   "outputs": [],
   "source": [
    "# Convert the 'date' column to datetime type without time\n",
    "dates['date'] = pd.to_datetime(dates['date'], format='%d/%m/%Y', errors='coerce')\n",
    "\n",
    "# Check the data type of the 'date' column after conversion\n",
    "print(dates['date'].dtype)\n",
    "\n",
    "# Check if there are NaT values in the 'date' column\n",
    "print(dates['date'].isnull().sum())"
   ]
  },
  {
   "cell_type": "markdown",
   "id": "f169ba2e",
   "metadata": {},
   "source": [
    "<div style=\"font-family: PT Serif Pro Book; text-align: left; color:dark; font-size:16px\"> Loading to SQL.<div/>"
   ]
  },
  {
   "cell_type": "code",
   "execution_count": null,
   "id": "1ef26297",
   "metadata": {},
   "outputs": [],
   "source": [
    "dates.to_sql('dates_growth_rates', engine, index=False, if_exists='replace')"
   ]
  },
  {
   "cell_type": "markdown",
   "id": "213f1343",
   "metadata": {},
   "source": [
    "<div style=\"font-family: PT Serif Pro Book; text-align: left; color: dark; font-size: 16px;\">\n",
    "    <span style=\"font-size: 30px; color: rgb(255, 32, 78); font-weight: bold;\">\n",
    "        <a href=\"#outilne\" style=\"color: rgb(0, 153, 123); text-decoration: none;\">&#11180;</a>\n",
    "    </span> \n",
    "    <a href=\"#outilne\" style=\"color: rgb(0, 153, 123); text-decoration: none;\">Back to the outline.</a>\n",
    "</div>"
   ]
  },
  {
   "cell_type": "markdown",
   "id": "51ef0cfa",
   "metadata": {},
   "source": [
    "<div id=\"3\">\n",
    "   <!-- Contenido de la celda de destino -->\n",
    "</div>"
   ]
  },
  {
   "cell_type": "markdown",
   "id": "1e7fda80",
   "metadata": {},
   "source": [
    "<div style=\"background-color: #00414C; color: white; padding: 10px;\">\n",
    "<h1><span style = \"color: #15F5BA; font-family: 'PT Serif Pro Book'; color: dark;\">3.</span> <span style = \"color: dark; font-family: PT Serif Pro Book;\">Load date, year, id and base year data</span></h1>\n",
    "    </div>"
   ]
  },
  {
   "cell_type": "code",
   "execution_count": null,
   "id": "0d6c828f",
   "metadata": {},
   "outputs": [],
   "source": [
    "# Loading csv data\n",
    "csv_file = f'{ns_base_year_folder}/base_year.csv'\n",
    "\n",
    "# Reads the CSV file in a DataFrame, specifying that the delimiter is the comma\n",
    "base_year = pd.read_csv(csv_file, delimiter=';')\n",
    "base_year.head(5)"
   ]
  },
  {
   "cell_type": "markdown",
   "id": "d6c58a77",
   "metadata": {},
   "source": [
    "<div style=\"font-family: PT Serif Pro Book; text-align: left; color:dark; font-size:16px\"> Clean-up the dataframe columns.<div/>"
   ]
  },
  {
   "cell_type": "code",
   "execution_count": null,
   "id": "8024e9c8",
   "metadata": {},
   "outputs": [],
   "source": [
    "# Convert the 'date' column to datetime type without time\n",
    "base_year['date'] = pd.to_datetime(base_year['date'], format='%d/%m/%Y', errors='coerce')\n",
    "\n",
    "# Check the data type of the 'date' column after conversion\n",
    "print(base_year['date'].dtype)\n",
    "\n",
    "# Check if there are NaT values in the 'date' column\n",
    "print(base_year['date'].isnull().sum())"
   ]
  },
  {
   "cell_type": "code",
   "execution_count": null,
   "id": "eb6a202d",
   "metadata": {},
   "outputs": [],
   "source": [
    "# Change to str\n",
    "base_year['year'] = base_year['year'].astype(str)\n",
    "base_year['id_ns'] = base_year['id_ns'].apply(lambda x: f'{x:02}')\n",
    "base_year['base_year'] = base_year['base_year'].astype(str)\n",
    "base_year.head(10)"
   ]
  },
  {
   "cell_type": "markdown",
   "id": "ed2998ab",
   "metadata": {},
   "source": [
    "<div style=\"font-family: PT Serif Pro Book; text-align: left; color:dark; font-size:16px\"> Loading to SQL.<div/>"
   ]
  },
  {
   "cell_type": "code",
   "execution_count": null,
   "id": "7411ec7d",
   "metadata": {},
   "outputs": [],
   "source": [
    "base_year.to_sql('ns_base_year', engine, index=False, if_exists='replace')"
   ]
  },
  {
   "cell_type": "markdown",
   "id": "b49fce8b",
   "metadata": {},
   "source": [
    "<div style=\"font-family: PT Serif Pro Book; text-align: left; color: dark; font-size: 16px;\">\n",
    "    <span style=\"font-size: 30px; color: rgb(255, 32, 78); font-weight: bold;\">\n",
    "        <a href=\"#outilne\" style=\"color: rgb(0, 153, 123); text-decoration: none;\">&#11180;</a>\n",
    "    </span> \n",
    "    <a href=\"#outilne\" style=\"color: rgb(0, 153, 123); text-decoration: none;\">Back to the outline.</a>\n",
    "</div>"
   ]
  },
  {
   "cell_type": "markdown",
   "id": "65f9b15a",
   "metadata": {},
   "source": [
    "<div id=\"4\">\n",
    "   <!-- Contenido de la celda de destino -->\n",
    "</div>"
   ]
  },
  {
   "cell_type": "markdown",
   "id": "2ddc2397",
   "metadata": {},
   "source": [
    "<div style=\"background-color: #00414C; color: white; padding: 10px;\">\n",
    "<h1><span style = \"color: #15F5BA; font-family: 'PT Serif Pro Book'; color: dark;\">4.</span> <span style = \"color: dark; font-family: PT Serif Pro Book;\">Load dummies for raw data delivered by Central Bank</span></h1>\n",
    "    </div>"
   ]
  },
  {
   "cell_type": "code",
   "execution_count": null,
   "id": "a1b7e7d7",
   "metadata": {},
   "outputs": [],
   "source": [
    "# Loading csv data\n",
    "delivered_data_dummies = f'{data_delivered_folder}/old_raw_data_delivered.csv'\n",
    "\n",
    "# Reads the CSV file in a DataFrame, specifying that the delimiter is the comma\n",
    "delivered_data_dummies = pd.read_csv(delivered_data_dummies, delimiter=';')\n",
    "delivered_data_dummies.head(5)"
   ]
  },
  {
   "cell_type": "code",
   "execution_count": null,
   "id": "2b9a42ec",
   "metadata": {},
   "outputs": [],
   "source": [
    "delivered_data_dummies.to_sql('old_raw_data_delivered', engine, index=False, if_exists='replace')"
   ]
  },
  {
   "cell_type": "markdown",
   "id": "08077029",
   "metadata": {},
   "source": [
    "<div style=\"font-family: PT Serif Pro Book; text-align: left; color: dark; font-size: 16px;\">\n",
    "    <span style=\"font-size: 30px; color: rgb(255, 32, 78); font-weight: bold;\">\n",
    "        <a href=\"#outilne\" style=\"color: rgb(0, 153, 123); text-decoration: none;\">&#11180;</a>\n",
    "    </span> \n",
    "    <a href=\"#outilne\" style=\"color: rgb(0, 153, 123); text-decoration: none;\">Back to the outline.</a>\n",
    "</div>"
   ]
  },
  {
   "cell_type": "markdown",
   "id": "c9cb2397",
   "metadata": {},
   "source": [
    "<div id=\"5\">\n",
    "   <!-- Contenido de la celda de destino -->\n",
    "</div>"
   ]
  },
  {
   "cell_type": "markdown",
   "id": "6b344b99",
   "metadata": {},
   "source": [
    "<div style=\"background-color: #00414C; color: white; padding: 10px;\">\n",
    "<h1><span style = \"color: #15F5BA; font-family: 'PT Serif Pro Book'; color: dark;\">5.</span> <span style = \"color: dark; font-family: PT Serif Pro Book;\">Concatenate old_gdp_dataset with new_gdp_dataset</span></h1>\n",
    "    </div>"
   ]
  },
  {
   "cell_type": "markdown",
   "id": "4f1eb284",
   "metadata": {},
   "source": [
    "<div id=\"steps-5\">\n",
    "   <!-- Contenido de la celda de destino -->\n",
    "</div>"
   ]
  },
  {
   "cell_type": "markdown",
   "id": "0bf6f8a2",
   "metadata": {},
   "source": [
    "<div style=\"font-family: PT Serif Pro Book; text-align: left; color: dark; font-size: 16px;\">\n",
    "    <a href=\"#step-5-3\" style=\"text-decoration: none; color: #006769\"><span style=\"font-size: 24px; color: rgb(0, 65, 75)\">&#10124;</span> Import dataframes from PostgresSQL</a>\n",
    "    <br>\n",
    "    <a href=\"#step-5-4\" style=\"text-decoration: none; color: #006769\"><span style=\"font-size: 24px; color: rgb(0, 65, 75)\">&#10125;</span> Concatenate dataframes</a>\n",
    "    <br>\n",
    "    <a href=\"#step-5-5\" style=\"text-decoration: none; color: #006769\"><span style=\"font-size: 24px; color: rgb(0, 65, 75)\">&#10126;</span> Load to PostgresSQL</a>\n",
    "</div>"
   ]
  },
  {
   "cell_type": "markdown",
   "id": "7c6eb771",
   "metadata": {},
   "source": [
    "<div id=\"step-5-3\">\n",
    "   <!-- Contenido de la celda de destino -->\n",
    "</div>"
   ]
  },
  {
   "cell_type": "markdown",
   "id": "28f41c1c",
   "metadata": {},
   "source": [
    "<div style=\"text-align: left; font-family: 'PT Serif Pro Book'; font-size:22px\">\n",
    "    <span style=\"font-size: 24px; color: rgb(0, 65, 75)\">&#10124;</span> <span>Import dataframes from PostgresSQL</span>\n",
    "  </div>"
   ]
  },
  {
   "cell_type": "code",
   "execution_count": null,
   "id": "9b282d94",
   "metadata": {},
   "outputs": [],
   "source": [
    "# Crear un DataFrame de pandas desde la tabla\n",
    "query_1 = f\"SELECT * FROM old_{sector}_{frequency}_growth_rates;\"\n",
    "df_1 = pd.read_sql(query_1, engine)"
   ]
  },
  {
   "cell_type": "code",
   "execution_count": null,
   "id": "1e86376e",
   "metadata": {},
   "outputs": [],
   "source": [
    "# Crear un DataFrame de pandas desde la tabla\n",
    "query_2 = f\"SELECT * FROM new_{sector}_{frequency}_growth_rates;\"\n",
    "df_2 = pd.read_sql(query_2, engine)"
   ]
  },
  {
   "cell_type": "markdown",
   "id": "3d852b0d",
   "metadata": {},
   "source": [
    "<div style=\"font-family: PT Serif Pro Book; text-align: left; color: dark; font-size: 16px;\">\n",
    "    <span style=\"font-size: 20px; color: rgb(255, 32, 78); font-weight: bold;\">\n",
    "        <a href=\"#steps-5\" style=\"color: #006769; text-decoration: none;\">⮝</a>\n",
    "    </span> \n",
    "    <a href=\"#steps-5\" style=\"color: #006769; text-decoration: none;\">Back to steps.</a>\n",
    "</div>"
   ]
  },
  {
   "cell_type": "markdown",
   "id": "69beb186",
   "metadata": {},
   "source": [
    "<div id=\"step-5-4\">\n",
    "   <!-- Contenido de la celda de destino -->\n",
    "</div>"
   ]
  },
  {
   "cell_type": "markdown",
   "id": "85fbac5e",
   "metadata": {},
   "source": [
    "<div style=\"text-align: left; font-family: 'PT Serif Pro Book'; font-size:22px\">\n",
    "    <span style=\"font-size: 24px; color: rgb(0, 65, 75)\">&#10125;</span> <span>Concatenate dataframes</span>\n",
    "  </div>"
   ]
  },
  {
   "cell_type": "markdown",
   "id": "a3b5594b",
   "metadata": {},
   "source": [
    "<div style=\"text-align: left; font-family: 'PT Serif Pro Book'; color: dark; font-size:16px\">\n",
    "    Comment the code below if you want the default option (display rows and columns of the dataframe in a limited way)\n",
    "    <div/>"
   ]
  },
  {
   "cell_type": "code",
   "execution_count": null,
   "id": "8a99d74b",
   "metadata": {},
   "outputs": [],
   "source": [
    "#pd.set_option('display.max_rows', None)\n",
    "#pd.set_option('display.max_columns', None)"
   ]
  },
  {
   "cell_type": "markdown",
   "id": "19151202",
   "metadata": {},
   "source": [
    "<div style=\"text-align: left; font-family: 'PT Serif Pro Book'; color: dark; font-size:16px\">\n",
    "    Run the function to create concatenated dataframe\n",
    "    <div/>"
   ]
  },
  {
   "cell_type": "code",
   "execution_count": null,
   "id": "5989ee58",
   "metadata": {
    "scrolled": true
   },
   "outputs": [],
   "source": [
    "def concatenate_dataframes(df1, df2):\n",
    "    # Concatenate the dataframes\n",
    "    concatenated_df = pd.concat([df1, df2], ignore_index=True)\n",
    "    \n",
    "    return concatenated_df\n",
    "\n",
    "# Call the function\n",
    "globals()[f'{sector}_{frequency}_growth_rates'] = concatenate_dataframes(df_1, df_2)\n",
    "df = globals()[f'{sector}_{frequency}_growth_rates']\n",
    "\n",
    "# Display the resulting dataframe\n",
    "df.head(10)"
   ]
  },
  {
   "cell_type": "markdown",
   "id": "c4639257",
   "metadata": {},
   "source": [
    "<div style=\"font-family: PT Serif Pro Book; text-align: left; color: dark; font-size: 16px;\">\n",
    "    <span style=\"font-size: 20px; color: rgb(255, 32, 78); font-weight: bold;\">\n",
    "        <a href=\"#steps-5\" style=\"color: #006769; text-decoration: none;\">⮝</a>\n",
    "    </span> \n",
    "    <a href=\"#steps-5\" style=\"color: #006769; text-decoration: none;\">Back to steps.</a>\n",
    "</div>"
   ]
  },
  {
   "cell_type": "markdown",
   "id": "b2bc7671",
   "metadata": {},
   "source": [
    "<div id=\"step-5-5\">\n",
    "   <!-- Contenido de la celda de destino -->\n",
    "</div>"
   ]
  },
  {
   "cell_type": "markdown",
   "id": "9e2a708d",
   "metadata": {},
   "source": [
    "<div style=\"text-align: left; font-family: 'PT Serif Pro Book'; font-size:22px\">\n",
    "    <span style=\"font-size: 24px; color: rgb(0, 65, 75)\">&#10126;</span> <span>Load to PostgresSQL</span>\n",
    "  </div>"
   ]
  },
  {
   "cell_type": "code",
   "execution_count": null,
   "id": "d3bcc846",
   "metadata": {},
   "outputs": [],
   "source": [
    "df.to_sql(f'{sector}_{frequency}_growth_rates', engine, index=False, if_exists='replace')"
   ]
  },
  {
   "cell_type": "markdown",
   "id": "1f031ed6",
   "metadata": {},
   "source": [
    "<div style=\"font-family: PT Serif Pro Book; text-align: left; color: dark; font-size: 16px;\">\n",
    "    <span style=\"font-size: 20px; color: rgb(255, 32, 78); font-weight: bold;\">\n",
    "        <a href=\"#steps-5\" style=\"color: #006769; text-decoration: none;\">⮝</a>\n",
    "    </span> \n",
    "    <a href=\"#steps-5\" style=\"color: #006769; text-decoration: none;\">Back to steps.</a>\n",
    "</div>"
   ]
  },
  {
   "cell_type": "markdown",
   "id": "9b757dfc",
   "metadata": {},
   "source": [
    "<div style=\"font-family: PT Serif Pro Book; text-align: left; color: dark; font-size: 16px;\">\n",
    "    <span style=\"font-size: 20px; color: rgb(255, 32, 78); font-weight: bold;\">\n",
    "        <a href=\"#step-5-1\" style=\"color: rgb(255, 32, 78); text-decoration: none;\">⮝</a>\n",
    "    </span> \n",
    "    <a href=\"#step-5-1\" style=\"color: rgb(255, 32, 78); text-decoration: none;\">Back to <b>select economic sector</b>.</a>\n",
    "</div>"
   ]
  },
  {
   "cell_type": "code",
   "execution_count": null,
   "id": "a67cc072",
   "metadata": {},
   "outputs": [],
   "source": [
    "df.columns"
   ]
  },
  {
   "cell_type": "code",
   "execution_count": null,
   "id": "98b31d9a",
   "metadata": {},
   "outputs": [],
   "source": [
    "print(df['date'].dtype)"
   ]
  },
  {
   "cell_type": "markdown",
   "id": "dd216ac0",
   "metadata": {},
   "source": [
    "<div style=\"font-family: PT Serif Pro Book; text-align: left; color: dark; font-size: 16px;\">\n",
    "    <span style=\"font-size: 20px; color: rgb(255, 32, 78); font-weight: bold;\">\n",
    "        <a href=\"#steps-5\" style=\"color: #006769; text-decoration: none;\">⮝</a>\n",
    "    </span> \n",
    "    <a href=\"#steps-5\" style=\"color: #006769; text-decoration: none;\">Back to steps.</a>\n",
    "</div>"
   ]
  },
  {
   "cell_type": "markdown",
   "id": "03b2d4ad",
   "metadata": {},
   "source": [
    "<div style=\"font-family: PT Serif Pro Book; text-align: left; color: dark; font-size: 16px;\">\n",
    "    <span style=\"font-size: 30px; color: rgb(255, 32, 78); font-weight: bold;\">\n",
    "        <a href=\"#outilne\" style=\"color: rgb(0, 153, 123); text-decoration: none;\">&#11180;</a>\n",
    "    </span> \n",
    "    <a href=\"#outilne\" style=\"color: rgb(0, 153, 123); text-decoration: none;\">Back to the outline.</a>\n",
    "</div>"
   ]
  },
  {
   "cell_type": "markdown",
   "id": "6cf09a65",
   "metadata": {},
   "source": [
    "<div id=\"6\">\n",
    "   <!-- Contenido de la celda de destino -->\n",
    "</div>"
   ]
  },
  {
   "cell_type": "markdown",
   "id": "27f2f75d",
   "metadata": {},
   "source": [
    "<div style=\"background-color: #00414C; color: white; padding: 10px;\">\n",
    "<h1><span style = \"color: #15F5BA; font-family: 'PT Serif Pro Book'; color: dark;\">6.</span> <span style = \"color: dark; font-family: PT Serif Pro Book;\">Merge all the releases datasets</span></h1>\n",
    "    </div>"
   ]
  },
  {
   "cell_type": "markdown",
   "id": "2c403696",
   "metadata": {},
   "source": [
    "<div id=\"steps-6\">\n",
    "   <!-- Contenido de la celda de destino -->\n",
    "</div>"
   ]
  },
  {
   "cell_type": "markdown",
   "id": "ff118642",
   "metadata": {},
   "source": [
    "<div style=\"font-family: PT Serif Pro Book; text-align: left; color: dark; font-size: 16px;\">\n",
    "    <a href=\"#step-6-3\" style=\"text-decoration: none; color: #006769\"><span style=\"font-size: 24px; color: rgb(0, 65, 75)\">&#10124;</span> Import dataframes from PostgresSQL</a>\n",
    "    <br>\n",
    "    <a href=\"#step-6-4\" style=\"text-decoration: none; color: #006769\"><span style=\"font-size: 24px; color: rgb(0, 65, 75)\">&#10125;</span> Merge dataframes</a>\n",
    "    <br>\n",
    "    <a href=\"#step-6-5\" style=\"text-decoration: none; color: #006769\"><span style=\"font-size: 24px; color: rgb(0, 65, 75)\">&#10126;</span> Order by vintages_date</a>\n",
    "    <br>\n",
    "    <a href=\"#step-6-6\" style=\"text-decoration: none; color: #006769\"><span style=\"font-size: 24px; color: rgb(0, 65, 75)\">&#10127;</span> Load to PostgresSQL</a>\n",
    "</div>"
   ]
  },
  {
   "cell_type": "markdown",
   "id": "839b01ba",
   "metadata": {},
   "source": [
    "<div id=\"step-6-3\">\n",
    "   <!-- Contenido de la celda de destino -->\n",
    "</div>"
   ]
  },
  {
   "cell_type": "markdown",
   "id": "f0e96f0f",
   "metadata": {},
   "source": [
    "<div style=\"text-align: left; font-family: 'PT Serif Pro Book'; font-size:22px\">\n",
    "    <span style=\"font-size: 24px; color: rgb(0, 65, 75)\">&#10124;</span> <span>Import dataframes from PostgresSQL</span>\n",
    "  </div>"
   ]
  },
  {
   "cell_type": "markdown",
   "id": "d19cb9d0",
   "metadata": {},
   "source": [
    "<div style=\"font-family: PT Serif Pro Book; text-align: left; color: dark; font-size: 16px;\">\n",
    "    <span style=\"font-size: 20px; color: rgb(255, 32, 78); font-weight: bold;\">\n",
    "        <a href=\"#step-5-1\" style=\"color: rgb(255, 32, 78); text-decoration: none;\">⮝</a>\n",
    "    </span> \n",
    "    <a href=\"#step-5-1\" style=\"color: rgb(255, 32, 78); text-decoration: none;\">Back to <b>select economic sector</b>.</a>\n",
    "</div>"
   ]
  },
  {
   "cell_type": "code",
   "execution_count": null,
   "id": "cff714c6",
   "metadata": {},
   "outputs": [],
   "source": [
    "# Create a pandas DataFrame from the SQL table\n",
    "query_1 = f\"SELECT * FROM {sector}_{frequency}_releases;\"\n",
    "df_1 = pd.read_sql(query_1, engine)\n",
    "df_1.columns"
   ]
  },
  {
   "cell_type": "markdown",
   "id": "22dc2755",
   "metadata": {},
   "source": [
    "<div style=\"font-family: PT Serif Pro Book; text-align: left; color: dark; font-size: 16px;\">\n",
    "    <span style=\"font-size: 20px; color: rgb(255, 32, 78); font-weight: bold;\">\n",
    "        <a href=\"#step-5-1\" style=\"color: rgb(255, 32, 78); text-decoration: none;\">⮝</a>\n",
    "    </span> \n",
    "    <a href=\"#step-5-1\" style=\"color: rgb(255, 32, 78); text-decoration: none;\">Back to <b>select economic sector</b>.</a>\n",
    "</div>"
   ]
  },
  {
   "cell_type": "code",
   "execution_count": null,
   "id": "144938e2",
   "metadata": {},
   "outputs": [],
   "source": [
    "# Create a pandas DataFrame from the SQL table\n",
    "query_2 = f\"SELECT * FROM {sector}_{frequency}_releases;\"\n",
    "df_2 = pd.read_sql(query_2, engine)\n",
    "df_2.columns"
   ]
  },
  {
   "cell_type": "markdown",
   "id": "f348bd30",
   "metadata": {},
   "source": [
    "<div style=\"font-family: PT Serif Pro Book; text-align: left; color: dark; font-size: 16px;\">\n",
    "    <span style=\"font-size: 20px; color: rgb(255, 32, 78); font-weight: bold;\">\n",
    "        <a href=\"#step-5-1\" style=\"color: rgb(255, 32, 78); text-decoration: none;\">⮝</a>\n",
    "    </span> \n",
    "    <a href=\"#step-5-1\" style=\"color: rgb(255, 32, 78); text-decoration: none;\">Back to <b>select economic sector</b>.</a>\n",
    "</div>"
   ]
  },
  {
   "cell_type": "code",
   "execution_count": null,
   "id": "697e6f44",
   "metadata": {},
   "outputs": [],
   "source": [
    "# Create a pandas DataFrame from the SQL table\n",
    "query_3 = f\"SELECT * FROM {sector}_{frequency}_releases;\"\n",
    "df_3 = pd.read_sql(query_3, engine)\n",
    "df_3.columns"
   ]
  },
  {
   "cell_type": "markdown",
   "id": "a48322f2",
   "metadata": {},
   "source": [
    "<div style=\"font-family: PT Serif Pro Book; text-align: left; color: dark; font-size: 16px;\">\n",
    "    <span style=\"font-size: 20px; color: rgb(255, 32, 78); font-weight: bold;\">\n",
    "        <a href=\"#step-5-1\" style=\"color: rgb(255, 32, 78); text-decoration: none;\">⮝</a>\n",
    "    </span> \n",
    "    <a href=\"#step-5-1\" style=\"color: rgb(255, 32, 78); text-decoration: none;\">Back to <b>select economic sector</b>.</a>\n",
    "</div>"
   ]
  },
  {
   "cell_type": "code",
   "execution_count": null,
   "id": "4888feaa",
   "metadata": {},
   "outputs": [],
   "source": [
    "# Create a pandas DataFrame from the SQL table\n",
    "query_4 = f\"SELECT * FROM {sector}_{frequency}_releases;\"\n",
    "df_4 = pd.read_sql(query_4, engine)\n",
    "df_4.columns"
   ]
  },
  {
   "cell_type": "markdown",
   "id": "2b80328c",
   "metadata": {},
   "source": [
    "<div style=\"font-family: PT Serif Pro Book; text-align: left; color: dark; font-size: 16px;\">\n",
    "    <span style=\"font-size: 20px; color: rgb(255, 32, 78); font-weight: bold;\">\n",
    "        <a href=\"#step-5-1\" style=\"color: rgb(255, 32, 78); text-decoration: none;\">⮝</a>\n",
    "    </span> \n",
    "    <a href=\"#step-5-1\" style=\"color: rgb(255, 32, 78); text-decoration: none;\">Back to <b>select economic sector</b>.</a>\n",
    "</div>"
   ]
  },
  {
   "cell_type": "code",
   "execution_count": null,
   "id": "0f356b3b",
   "metadata": {},
   "outputs": [],
   "source": [
    "# Create a pandas DataFrame from the SQL table\n",
    "query_5 = f\"SELECT * FROM {sector}_{frequency}_releases;\"\n",
    "df_5 = pd.read_sql(query_5, engine)\n",
    "df_5.columns"
   ]
  },
  {
   "cell_type": "markdown",
   "id": "3d5badc7",
   "metadata": {},
   "source": [
    "<div style=\"font-family: PT Serif Pro Book; text-align: left; color: dark; font-size: 16px;\">\n",
    "    <span style=\"font-size: 20px; color: rgb(255, 32, 78); font-weight: bold;\">\n",
    "        <a href=\"#step-5-1\" style=\"color: rgb(255, 32, 78); text-decoration: none;\">⮝</a>\n",
    "    </span> \n",
    "    <a href=\"#step-5-1\" style=\"color: rgb(255, 32, 78); text-decoration: none;\">Back to <b>select economic sector</b>.</a>\n",
    "</div>"
   ]
  },
  {
   "cell_type": "code",
   "execution_count": null,
   "id": "d84c93fc",
   "metadata": {},
   "outputs": [],
   "source": [
    "# Create a pandas DataFrame from the SQL table\n",
    "query_6 = f\"SELECT * FROM {sector}_{frequency}_releases;\"\n",
    "df_6 = pd.read_sql(query_6, engine)\n",
    "df_6.columns"
   ]
  },
  {
   "cell_type": "markdown",
   "id": "14c6c467",
   "metadata": {},
   "source": [
    "<div style=\"font-family: PT Serif Pro Book; text-align: left; color: dark; font-size: 16px;\">\n",
    "    <span style=\"font-size: 20px; color: rgb(255, 32, 78); font-weight: bold;\">\n",
    "        <a href=\"#step-5-1\" style=\"color: rgb(255, 32, 78); text-decoration: none;\">⮝</a>\n",
    "    </span> \n",
    "    <a href=\"#step-5-1\" style=\"color: rgb(255, 32, 78); text-decoration: none;\">Back to <b>select economic sector</b>.</a>\n",
    "</div>"
   ]
  },
  {
   "cell_type": "code",
   "execution_count": null,
   "id": "d864823b",
   "metadata": {},
   "outputs": [],
   "source": [
    "# Create a pandas DataFrame from the SQL table\n",
    "query_7 = f\"SELECT * FROM {sector}_{frequency}_releases;\"\n",
    "df_7 = pd.read_sql(query_7, engine)\n",
    "df_7.columns"
   ]
  },
  {
   "cell_type": "markdown",
   "id": "3129d4f1",
   "metadata": {},
   "source": [
    "<div style=\"font-family: PT Serif Pro Book; text-align: left; color: dark; font-size: 16px;\">\n",
    "    <span style=\"font-size: 20px; color: rgb(255, 32, 78); font-weight: bold;\">\n",
    "        <a href=\"#step-5-1\" style=\"color: rgb(255, 32, 78); text-decoration: none;\">⮝</a>\n",
    "    </span> \n",
    "    <a href=\"#step-5-1\" style=\"color: rgb(255, 32, 78); text-decoration: none;\">Back to <b>select economic sector</b>.</a>\n",
    "</div>"
   ]
  },
  {
   "cell_type": "code",
   "execution_count": null,
   "id": "2351e752",
   "metadata": {},
   "outputs": [],
   "source": [
    "# Create a pandas DataFrame from the SQL table\n",
    "query_8 = f\"SELECT * FROM {sector}_{frequency}_releases;\"\n",
    "df_8 = pd.read_sql(query_8, engine)\n",
    "df_8.columns"
   ]
  },
  {
   "cell_type": "markdown",
   "id": "c371c09f",
   "metadata": {},
   "source": [
    "<div style=\"font-family: PT Serif Pro Book; text-align: left; color: dark; font-size: 16px;\">\n",
    "    <span style=\"font-size: 20px; color: rgb(255, 32, 78); font-weight: bold;\">\n",
    "        <a href=\"#step-5-1\" style=\"color: rgb(255, 32, 78); text-decoration: none;\">⮝</a>\n",
    "    </span> \n",
    "    <a href=\"#step-5-1\" style=\"color: rgb(255, 32, 78); text-decoration: none;\">Back to <b>select economic sector</b>.</a>\n",
    "</div>"
   ]
  },
  {
   "cell_type": "code",
   "execution_count": null,
   "id": "40800d79",
   "metadata": {},
   "outputs": [],
   "source": [
    "# Create a pandas DataFrame from the SQL table\n",
    "query_9 = f\"SELECT * FROM {sector}_{frequency}_releases;\"\n",
    "df_9 = pd.read_sql(query_9, engine)\n",
    "df_9.columns"
   ]
  },
  {
   "cell_type": "markdown",
   "id": "57936185",
   "metadata": {},
   "source": [
    "<div style=\"font-family: PT Serif Pro Book; text-align: left; color: dark; font-size: 16px;\">\n",
    "    <span style=\"font-size: 20px; color: rgb(255, 32, 78); font-weight: bold;\">\n",
    "        <a href=\"#steps-6\" style=\"color: #006769; text-decoration: none;\">⮝</a>\n",
    "    </span> \n",
    "    <a href=\"#steps-6\" style=\"color: #006769; text-decoration: none;\">Back to steps.</a>\n",
    "</div>"
   ]
  },
  {
   "cell_type": "markdown",
   "id": "ef50ffb6",
   "metadata": {},
   "source": [
    "<div id=\"step-6-4\">\n",
    "   <!-- Contenido de la celda de destino -->\n",
    "</div>"
   ]
  },
  {
   "cell_type": "markdown",
   "id": "20451a82",
   "metadata": {},
   "source": [
    "<div style=\"text-align: left; font-family: 'PT Serif Pro Book'; font-size:22px\">\n",
    "    <span style=\"font-size: 24px; color: rgb(0, 65, 75)\">&#10125;</span> <span>Merge dataframes</span>\n",
    "  </div>"
   ]
  },
  {
   "cell_type": "markdown",
   "id": "335d0768",
   "metadata": {},
   "source": [
    "<div style=\"text-align: left; font-family: 'PT Serif Pro Book'; color: dark; font-size:16px\">\n",
    "    Run the function to create merged dataframe for releases\n",
    "    <div/>"
   ]
  },
  {
   "cell_type": "code",
   "execution_count": null,
   "id": "6806fd0e",
   "metadata": {},
   "outputs": [],
   "source": [
    "def merge_dataframes_by_vintage(frequency, *dataframes):\n",
    "    \"\"\"\n",
    "    Merges multiple dataframes on the 'vintages_date' column.\n",
    "\n",
    "    Parameters:\n",
    "    frequency (str): The frequency to be used in the resulting dataframe name.\n",
    "    *dataframes (pd.DataFrame): DataFrames to be merged.\n",
    "\n",
    "    Returns:\n",
    "    pd.DataFrame: The merged dataframe with the name 'sectorial_gdp_{frequency}_releases'.\n",
    "    \"\"\"\n",
    "    # Initialize the merged dataframe with the first dataframe\n",
    "    merged_df = dataframes[0]\n",
    "\n",
    "    # Merge each dataframe on 'vintages_date'\n",
    "    for df in dataframes[1:]:\n",
    "        merged_df = pd.merge(merged_df, df, on='vintages_date', how='outer')\n",
    "\n",
    "    # Define the name of the resulting dataframe\n",
    "    result_name = f'sectorial_gdp_{frequency}_releases'\n",
    "    \n",
    "    # Assign the name to the dataframe (this is for reference, actual DataFrame doesn't have a 'name' attribute)\n",
    "    merged_df.name = result_name\n",
    "\n",
    "    return merged_df"
   ]
  },
  {
   "cell_type": "code",
   "execution_count": null,
   "id": "218c042a",
   "metadata": {},
   "outputs": [],
   "source": [
    "merged_df = merge_dataframes_by_vintage('monthly', df_1, df_2, df_3, df_4, df_5, df_6, df_7, df_8, df_9)\n",
    "merged_df.head(20)"
   ]
  },
  {
   "cell_type": "code",
   "execution_count": null,
   "id": "0027e34f",
   "metadata": {
    "scrolled": true
   },
   "outputs": [],
   "source": [
    "merged_df.columns"
   ]
  },
  {
   "cell_type": "markdown",
   "id": "9ed87ae5",
   "metadata": {},
   "source": [
    "<div style=\"font-family: PT Serif Pro Book; text-align: left; color: dark; font-size: 16px;\">\n",
    "    <span style=\"font-size: 20px; color: rgb(255, 32, 78); font-weight: bold;\">\n",
    "        <a href=\"#steps-6\" style=\"color: #006769; text-decoration: none;\">⮝</a>\n",
    "    </span> \n",
    "    <a href=\"#steps-6\" style=\"color: #006769; text-decoration: none;\">Back to steps.</a>\n",
    "</div>"
   ]
  },
  {
   "cell_type": "markdown",
   "id": "89b9c955",
   "metadata": {},
   "source": [
    "<div id=\"step-6-5\">\n",
    "   <!-- Contenido de la celda de destino -->\n",
    "</div>"
   ]
  },
  {
   "cell_type": "markdown",
   "id": "9dc548a1",
   "metadata": {},
   "source": [
    "<div style=\"text-align: left; font-family: 'PT Serif Pro Book'; font-size:22px\">\n",
    "    <span style=\"font-size: 24px; color: rgb(0, 65, 75)\">&#10126;</span> <span>Order by vintages_date</span>\n",
    "  </div>"
   ]
  },
  {
   "cell_type": "code",
   "execution_count": null,
   "id": "38f221da",
   "metadata": {},
   "outputs": [],
   "source": [
    "def sort_by_vintages_date(df):\n",
    "    \"\"\"\n",
    "    Sorts the DataFrame by the 'vintages_date' column in ascending order.\n",
    "\n",
    "    Parameters:\n",
    "    df (pd.DataFrame): Input DataFrame with a datetime64[ns] column named 'vintages_date'.\n",
    "\n",
    "    Returns:\n",
    "    pd.DataFrame: Sorted DataFrame.\n",
    "    \"\"\"\n",
    "    if 'vintages_date' not in df.columns:\n",
    "        raise ValueError(\"The DataFrame does not contain a 'vintages_date' column.\")\n",
    "    \n",
    "    if not pd.api.types.is_datetime64_ns_dtype(df['vintages_date']):\n",
    "        raise TypeError(\"'vintages_date' column is not of type datetime64[ns].\")\n",
    "\n",
    "    return df.sort_values(by='vintages_date').reset_index(drop=True)"
   ]
  },
  {
   "cell_type": "code",
   "execution_count": null,
   "id": "68ab3d71",
   "metadata": {},
   "outputs": [],
   "source": [
    "merged_df = sort_by_vintages_date(merged_df)\n",
    "merged_df.head(10)"
   ]
  },
  {
   "cell_type": "markdown",
   "id": "60c97be4",
   "metadata": {},
   "source": [
    "<div style=\"font-family: PT Serif Pro Book; text-align: left; color: dark; font-size: 16px;\">\n",
    "    <span style=\"font-size: 20px; color: rgb(255, 32, 78); font-weight: bold;\">\n",
    "        <a href=\"#steps-6\" style=\"color: #006769; text-decoration: none;\">⮝</a>\n",
    "    </span> \n",
    "    <a href=\"#steps-6\" style=\"color: #006769; text-decoration: none;\">Back to steps.</a>\n",
    "</div>"
   ]
  },
  {
   "cell_type": "markdown",
   "id": "906e9cbd",
   "metadata": {},
   "source": [
    "<div id=\"step-6-6\">\n",
    "   <!-- Contenido de la celda de destino -->\n",
    "</div>"
   ]
  },
  {
   "cell_type": "markdown",
   "id": "b719eac4",
   "metadata": {},
   "source": [
    "<div style=\"text-align: left; font-family: 'PT Serif Pro Book'; font-size:22px\">\n",
    "    <span style=\"font-size: 24px; color: rgb(0, 65, 75)\">&#10127;</span> <span>Load to PostgresSQL</span>\n",
    "  </div>"
   ]
  },
  {
   "cell_type": "code",
   "execution_count": null,
   "id": "0bc064bd",
   "metadata": {},
   "outputs": [],
   "source": [
    "merged_df.to_sql(f'sectorial_gdp_{frequency}_releases', engine, index=False, if_exists='replace')"
   ]
  },
  {
   "cell_type": "markdown",
   "id": "07c71bcd",
   "metadata": {},
   "source": [
    "<div style=\"font-family: PT Serif Pro Book; text-align: left; color: dark; font-size: 16px;\">\n",
    "    <span style=\"font-size: 20px; color: rgb(255, 32, 78); font-weight: bold;\">\n",
    "        <a href=\"#steps-6\" style=\"color: #006769; text-decoration: none;\">⮝</a>\n",
    "    </span> \n",
    "    <a href=\"#steps-6\" style=\"color: #006769; text-decoration: none;\">Back to steps.</a>\n",
    "</div>"
   ]
  },
  {
   "cell_type": "markdown",
   "id": "7a27ea3c",
   "metadata": {},
   "source": [
    "<div style=\"font-family: PT Serif Pro Book; text-align: left; color: dark; font-size: 16px;\">\n",
    "    <span style=\"font-size: 20px; color: rgb(255, 32, 78); font-weight: bold;\">\n",
    "        <a href=\"#step-5-1\" style=\"color: rgb(255, 32, 78); text-decoration: none;\">⮝</a>\n",
    "    </span> \n",
    "    <a href=\"#step-5-1\" style=\"color: rgb(255, 32, 78); text-decoration: none;\">Back to <b>select economic sector</b>.</a>\n",
    "</div>"
   ]
  },
  {
   "cell_type": "markdown",
   "id": "692d9302",
   "metadata": {},
   "source": [
    "<div style=\"font-family: PT Serif Pro Book; text-align: left; color: dark; font-size: 16px;\">\n",
    "    <span style=\"font-size: 30px; color: rgb(255, 32, 78); font-weight: bold;\">\n",
    "        <a href=\"#outilne\" style=\"color: rgb(0, 153, 123); text-decoration: none;\">&#11180;</a>\n",
    "    </span> \n",
    "    <a href=\"#outilne\" style=\"color: rgb(0, 153, 123); text-decoration: none;\">Back to the outline.</a>\n",
    "</div>"
   ]
  },
  {
   "cell_type": "markdown",
   "id": "ecff202f",
   "metadata": {},
   "source": [
    "<div id=\"7\">\n",
    "   <!-- Contenido de la celda de destino -->\n",
    "</div>"
   ]
  },
  {
   "cell_type": "markdown",
   "id": "ca79e3ab",
   "metadata": {},
   "source": [
    "<div style=\"background-color: #00414C; color: white; padding: 10px;\">\n",
    "<h1><span style = \"color: #15F5BA; font-family: 'PT Serif Pro Book'; color: dark;\">7.</span> <span style = \"color: dark; font-family: PT Serif Pro Book;\">Create cumulative revisions</span></h1>\n",
    "    </div>"
   ]
  },
  {
   "cell_type": "markdown",
   "id": "b54a4b44",
   "metadata": {},
   "source": [
    "<div id=\"steps-7\">\n",
    "   <!-- Contenido de la celda de destino -->\n",
    "</div>"
   ]
  },
  {
   "cell_type": "markdown",
   "id": "0aafd12d",
   "metadata": {},
   "source": [
    "<div style=\"font-family: PT Serif Pro Book; text-align: left; color: dark; font-size: 16px;\">\n",
    "    <a href=\"#step-7-3\" style=\"text-decoration: none; color: #006769\"><span style=\"font-size: 24px; color: rgb(0, 65, 75)\">&#10124;</span> Import dataframes from PostgresSQL</a>\n",
    "    <br>\n",
    "    <a href=\"#step-7-4\" style=\"text-decoration: none; color: #006769\"><span style=\"font-size: 24px; color: rgb(0, 65, 75)\">&#10125;</span> Compute cumulative revisions</a>\n",
    "    <br>\n",
    "    <a href=\"#step-7-5\" style=\"text-decoration: none; color: #006769\"><span style=\"font-size: 24px; color: rgb(0, 65, 75)\">&#10126;</span> Keep cumulative revisions</a>\n",
    "    <br>\n",
    "    <a href=\"#step-7-6\" style=\"text-decoration: none; color: #006769\"><span style=\"font-size: 24px; color: rgb(0, 65, 75)\">&#10127;</span> Transpose dataframe in order to have nowcast error (cumulative revisions) of fixed events as columns</a>\n",
    "</div>"
   ]
  },
  {
   "cell_type": "markdown",
   "id": "3abc2628",
   "metadata": {},
   "source": [
    "<div id=\"step-7-3\">\n",
    "   <!-- Contenido de la celda de destino -->\n",
    "</div>"
   ]
  },
  {
   "cell_type": "markdown",
   "id": "3a0360de",
   "metadata": {},
   "source": [
    "<div style=\"text-align: left; font-family: 'PT Serif Pro Book'; font-size:22px\">\n",
    "    <span style=\"font-size: 24px; color: rgb(0, 65, 75)\">&#10124;</span> <span>Import dataframes from PostgresSQL</span>\n",
    "  </div>"
   ]
  },
  {
   "cell_type": "code",
   "execution_count": null,
   "id": "5b10d44d",
   "metadata": {},
   "outputs": [],
   "source": [
    "# Create a pandas DataFrame from the SQL table\n",
    "query_releases_1 = f\"SELECT * FROM sectorial_{sector}_{frequency}_releases;\"\n",
    "df_releases_1 = pd.read_sql(query_releases_1, engine)\n",
    "df_releases_1.head(10) # showing the first 10 obs"
   ]
  },
  {
   "cell_type": "markdown",
   "id": "da2b2e77",
   "metadata": {},
   "source": [
    "<div style=\"text-align: left; font-family: 'PT Serif Pro Book'; color: dark; font-size:16px\">\n",
    "    Filter releases dataset\n",
    "    <div/>"
   ]
  },
  {
   "cell_type": "code",
   "execution_count": null,
   "id": "9701ecd7",
   "metadata": {},
   "outputs": [],
   "source": [
    "# Set dataframe inn date range\n",
    "df_releases_filtered_1 = df_releases_1[(df_releases_1['vintages_date'] >= '1993-01-01') & (df_releases_1['vintages_date'] <= '2023-12-31')]\n",
    "\n",
    "# Order the dataframe by the column 'vintages_date'\n",
    "df_releases_filtered_1 = df_releases_filtered_1.sort_values(by='vintages_date')"
   ]
  },
  {
   "cell_type": "markdown",
   "id": "e2232612",
   "metadata": {},
   "source": [
    "<div style=\"font-family: PT Serif Pro Book; text-align: left; color: dark; font-size: 16px;\">\n",
    "    <span style=\"font-size: 20px; color: rgb(255, 32, 78); font-weight: bold;\">\n",
    "        <a href=\"#steps-6\" style=\"color: #006769; text-decoration: none;\">⮝</a>\n",
    "    </span> \n",
    "    <a href=\"#steps-7\" style=\"color: #006769; text-decoration: none;\">Back to steps.</a>\n",
    "</div>"
   ]
  },
  {
   "cell_type": "markdown",
   "id": "d4368326",
   "metadata": {},
   "source": [
    "<div id=\"step-7-4\">\n",
    "   <!-- Contenido de la celda de destino -->\n",
    "</div>"
   ]
  },
  {
   "cell_type": "markdown",
   "id": "6c0948ca",
   "metadata": {},
   "source": [
    "<div style=\"text-align: left; font-family: 'PT Serif Pro Book'; font-size:22px\">\n",
    "    <span style=\"font-size: 24px; color: rgb(0, 65, 75)\">&#10125;</span> <span>Compute cumulative revisions</span>\n",
    "  </div>"
   ]
  },
  {
   "cell_type": "code",
   "execution_count": null,
   "id": "55577d1a",
   "metadata": {},
   "outputs": [],
   "source": [
    "# Apply the function to your dataframe and get max_release\n",
    "df_rev_cum, max_release = calculate_cumulative_revisions(df_releases_filtered_1)\n",
    "\n",
    "# Output the max_release for verification\n",
    "print(f\"The maximum release number found: {max_release}\")"
   ]
  },
  {
   "cell_type": "markdown",
   "id": "0ff703be",
   "metadata": {},
   "source": [
    "<div style=\"text-align: left; font-family: 'PT Serif Pro Book'; color: dark; font-size:16px\">\n",
    "    <span style=\"font-size: 24px; color: rgb(255, 32, 78); font-weight: bold;\">&#9888;</span>\n",
    "    Computing specific cumulative revisions\n",
    "    <div/>"
   ]
  },
  {
   "cell_type": "code",
   "execution_count": null,
   "id": "4ffaf44e",
   "metadata": {},
   "outputs": [],
   "source": [
    "#df_rev_cum = calculate_specific_cumulative_revisions(df_rev_cum, frequency)\n",
    "#df_rev_cum"
   ]
  },
  {
   "cell_type": "markdown",
   "id": "7f7ff477",
   "metadata": {},
   "source": [
    "<div style=\"text-align: left; font-family: 'PT Serif Pro Book'; color: dark; font-size:16px\">\n",
    "    Inspect specific columns\n",
    "    <div/>"
   ]
  },
  {
   "cell_type": "code",
   "execution_count": null,
   "id": "d9c9b32b",
   "metadata": {},
   "outputs": [],
   "source": [
    "df_rev_cum.columns"
   ]
  },
  {
   "cell_type": "markdown",
   "id": "e2189e75",
   "metadata": {},
   "source": [
    "<div style=\"font-family: PT Serif Pro Book; text-align: left; color: dark; font-size: 16px;\">\n",
    "    <span style=\"font-size: 20px; color: rgb(255, 32, 78); font-weight: bold;\">\n",
    "        <a href=\"#steps-6\" style=\"color: #006769; text-decoration: none;\">⮝</a>\n",
    "    </span> \n",
    "    <a href=\"#steps-7\" style=\"color: #006769; text-decoration: none;\">Back to steps.</a>\n",
    "</div>"
   ]
  },
  {
   "cell_type": "markdown",
   "id": "a18bf412",
   "metadata": {},
   "source": [
    "<div id=\"step-7-5\">\n",
    "   <!-- Contenido de la celda de destino -->\n",
    "</div>"
   ]
  },
  {
   "cell_type": "markdown",
   "id": "bd727242",
   "metadata": {},
   "source": [
    "<div style=\"text-align: left; font-family: 'PT Serif Pro Book'; font-size:22px\">\n",
    "    <span style=\"font-size: 24px; color: rgb(0, 65, 75)\">&#10126;</span> <span>Keep cumulative revisions</span>\n",
    "  </div>"
   ]
  },
  {
   "cell_type": "code",
   "execution_count": null,
   "id": "005f4f50",
   "metadata": {},
   "outputs": [],
   "source": [
    "df_rev_cum = destring_date_column(df_rev_cum, frequency)  # You can change 'quarterly' to 'annual' or 'monthly'"
   ]
  },
  {
   "cell_type": "code",
   "execution_count": null,
   "id": "c0619107",
   "metadata": {},
   "outputs": [],
   "source": [
    "df_rev_cum.head(10)"
   ]
  },
  {
   "cell_type": "markdown",
   "id": "11a80dae",
   "metadata": {},
   "source": [
    "<div id=\"7\">\n",
    "   <!-- Contenido de la celda de destino -->\n",
    "</div>"
   ]
  },
  {
   "cell_type": "markdown",
   "id": "2734e1f0",
   "metadata": {},
   "source": [
    "<div style=\"text-align: left; font-family: 'PT Serif Pro Book'; color: dark; font-size:16px\">\n",
    "    Keeping cumulative revisions and date column only \n",
    "    <div/>"
   ]
  },
  {
   "cell_type": "code",
   "execution_count": null,
   "id": "bed6376d",
   "metadata": {},
   "outputs": [],
   "source": [
    "df_rev_cum = keep_revisions(df_rev_cum, frequency) # this is optional in order to compress dataframe columns"
   ]
  },
  {
   "cell_type": "code",
   "execution_count": null,
   "id": "6943aeb5",
   "metadata": {},
   "outputs": [],
   "source": [
    "df_rev_cum.columns"
   ]
  },
  {
   "cell_type": "markdown",
   "id": "bce1d445",
   "metadata": {},
   "source": [
    "<div style=\"text-align: left; font-family: 'PT Serif Pro Book'; color: dark; font-size:16px\">\n",
    "    To SQL\n",
    "    <div/>"
   ]
  },
  {
   "cell_type": "code",
   "execution_count": null,
   "id": "4fb03977",
   "metadata": {},
   "outputs": [],
   "source": [
    "df_rev_cum.to_sql(f'sectorial_gdp_{frequency}_cum_revisions', engine, index=False, if_exists='replace')"
   ]
  },
  {
   "cell_type": "markdown",
   "id": "db06607d",
   "metadata": {},
   "source": [
    "<div style=\"text-align: left; font-family: 'PT Serif Pro Book'; color: dark; font-size:16px\">\n",
    "    To data panel\n",
    "    <div/>"
   ]
  },
  {
   "cell_type": "code",
   "execution_count": null,
   "id": "a87b062a",
   "metadata": {},
   "outputs": [],
   "source": [
    "df_rev_cum_panel = convert_to_panel(df_rev_cum)"
   ]
  },
  {
   "cell_type": "code",
   "execution_count": null,
   "id": "a299c30a",
   "metadata": {},
   "outputs": [],
   "source": [
    "df_rev_cum_panel[['vintages_date', 'revision', 'gdp']].head(10)"
   ]
  },
  {
   "cell_type": "markdown",
   "id": "ec65ec5c",
   "metadata": {},
   "source": [
    "<div style=\"text-align: left; font-family: 'PT Serif Pro Book'; color: dark; font-size:16px\">\n",
    "    To SQL\n",
    "    <div/>"
   ]
  },
  {
   "cell_type": "code",
   "execution_count": null,
   "id": "cc8f673a",
   "metadata": {},
   "outputs": [],
   "source": [
    "df_rev_cum_panel.to_sql(f'sectorial_gdp_{frequency}_cum_revisions_panel', engine, index=False, if_exists='replace')"
   ]
  },
  {
   "cell_type": "markdown",
   "id": "8009dcfd",
   "metadata": {},
   "source": [
    "<div style=\"font-family: PT Serif Pro Book; text-align: left; color: dark; font-size: 16px;\">\n",
    "    <span style=\"font-size: 20px; color: rgb(255, 32, 78); font-weight: bold;\">\n",
    "        <a href=\"#steps-6\" style=\"color: #006769; text-decoration: none;\">⮝</a>\n",
    "    </span> \n",
    "    <a href=\"#steps-7\" style=\"color: #006769; text-decoration: none;\">Back to steps.</a>\n",
    "</div>"
   ]
  },
  {
   "cell_type": "markdown",
   "id": "5102cc09",
   "metadata": {},
   "source": [
    "<div id=\"step-7-6\">\n",
    "   <!-- Contenido de la celda de destino -->\n",
    "</div>"
   ]
  },
  {
   "cell_type": "markdown",
   "id": "d5c4bc8f",
   "metadata": {},
   "source": [
    "<div style=\"text-align: left; font-family: 'PT Serif Pro Book'; font-size:22px\">\n",
    "    <span style=\"font-size: 24px; color: rgb(0, 65, 75)\">&#10127;</span> <span>Transpose dataframe in order to have nowcast error (cumulative revisions) of fixed events as columns</span>\n",
    "  </div>"
   ]
  },
  {
   "cell_type": "code",
   "execution_count": null,
   "id": "363dca1c",
   "metadata": {},
   "outputs": [],
   "source": [
    "df_fixed_events_cum = transpose_df(df_rev_cum, frequency)\n",
    "df_fixed_events_cum.head(5)"
   ]
  },
  {
   "cell_type": "markdown",
   "id": "be752c89",
   "metadata": {},
   "source": [
    "<div style=\"text-align: left; font-family: 'PT Serif Pro Book'; color: dark; font-size:16px\">\n",
    "    Compute time trend column\n",
    "    <div/>"
   ]
  },
  {
   "cell_type": "code",
   "execution_count": null,
   "id": "2cf2fc4f",
   "metadata": {},
   "outputs": [],
   "source": [
    "# Appling above function\n",
    "df_fixed_events_cum = add_time_trend(df_fixed_events_cum)\n",
    "df_fixed_events_cum.head(5)"
   ]
  },
  {
   "cell_type": "markdown",
   "id": "1e49b12e",
   "metadata": {},
   "source": [
    "<div style=\"text-align: left; font-family: 'PT Serif Pro Book'; color: dark; font-size:16px\">\n",
    "    Replace \"-\" by \"_\" in columns\n",
    "    <div/>"
   ]
  },
  {
   "cell_type": "code",
   "execution_count": null,
   "id": "80a95a4d",
   "metadata": {},
   "outputs": [],
   "source": [
    "df_fixed_events_cum = replace_hyphen_in_columns(df_fixed_events_cum)\n",
    "df_fixed_events_cum.head(10)"
   ]
  },
  {
   "cell_type": "markdown",
   "id": "66e192f3",
   "metadata": {},
   "source": [
    "<div style=\"text-align: left; font-family: 'PT Serif Pro Book'; color: dark; font-size:16px\">\n",
    "    Checking columns\n",
    "    <div/>"
   ]
  },
  {
   "cell_type": "code",
   "execution_count": null,
   "id": "2d1e1023",
   "metadata": {},
   "outputs": [],
   "source": [
    "df_fixed_events_cum.columns"
   ]
  },
  {
   "cell_type": "markdown",
   "id": "8677a210",
   "metadata": {},
   "source": [
    "<div style=\"text-align: left; font-family: 'PT Serif Pro Book'; color: dark; font-size:16px\">\n",
    "    Remove NaN or zero columns\n",
    "    <div/>"
   ]
  },
  {
   "cell_type": "code",
   "execution_count": null,
   "id": "30f0f82e",
   "metadata": {},
   "outputs": [],
   "source": [
    "df_fixed_events_cum_filtered = remove_nan_or_zero_float_columns(df_fixed_events_cum)\n",
    "df_fixed_events_cum_filtered"
   ]
  },
  {
   "cell_type": "markdown",
   "id": "e5bfab37",
   "metadata": {},
   "source": [
    "<div style=\"text-align: left; font-family: 'PT Serif Pro Book'; color: dark; font-size:16px\">\n",
    "    To SQL\n",
    "    <div/>"
   ]
  },
  {
   "cell_type": "code",
   "execution_count": null,
   "id": "f4614ca8",
   "metadata": {},
   "outputs": [],
   "source": [
    "# Verificar si la frecuencia es mensual\n",
    "if frequency == 'monthly':\n",
    "    n = 1000  # Ajustar el tamaño del chunk\n",
    "    \n",
    "    # Asegurar que 'time_trend' esté en cada chunk\n",
    "    time_trend = df_fixed_events_cum_filtered[['time_trend']]  # Extraer la columna 'time_trend'\n",
    "    \n",
    "    for i, chunk in enumerate(range(0, df_fixed_events_cum_filtered.shape[1], n)):\n",
    "        # Seleccionar el chunk de columnas\n",
    "        chunk_df = df_fixed_events_cum_filtered.iloc[:, chunk:chunk+n]\n",
    "        \n",
    "        # Verificar si 'time_trend' ya está en el chunk, si no, agregarla\n",
    "        if 'time_trend' not in chunk_df.columns:\n",
    "            chunk_df = pd.concat([time_trend, chunk_df], axis=1)\n",
    "        \n",
    "        # Guardar en SQL\n",
    "        chunk_df.to_sql(f'cum_{frequency}_fixed_event_part_{i}', engine, index=False, if_exists='replace')\n",
    "\n",
    "# Verificar si la frecuencia es anual o trimestral\n",
    "elif frequency in ['annual', 'quarterly']:\n",
    "    # Guardar el DataFrame completo en SQL\n",
    "    df_fixed_events_cum_filtered.to_sql(f'cum_{frequency}_fixed_event', engine, index=False, if_exists='replace')"
   ]
  },
  {
   "cell_type": "markdown",
   "id": "fcf4b64f",
   "metadata": {},
   "source": [
    "<div style=\"font-family: PT Serif Pro Book; text-align: left; color: dark; font-size: 16px;\">\n",
    "    <span style=\"font-size: 20px; color: rgb(255, 32, 78); font-weight: bold;\">\n",
    "        <a href=\"#steps-6\" style=\"color: #006769; text-decoration: none;\">⮝</a>\n",
    "    </span> \n",
    "    <a href=\"#steps-7\" style=\"color: #006769; text-decoration: none;\">Back to steps.</a>\n",
    "</div>"
   ]
  },
  {
   "cell_type": "markdown",
   "id": "3444f010",
   "metadata": {},
   "source": [
    "<div style=\"font-family: PT Serif Pro Book; text-align: left; color: dark; font-size: 16px;\">\n",
    "    <span style=\"font-size: 30px; color: rgb(255, 32, 78); font-weight: bold;\">\n",
    "        <a href=\"#outilne\" style=\"color: rgb(0, 153, 123); text-decoration: none;\">&#11180;</a>\n",
    "    </span> \n",
    "    <a href=\"#outilne\" style=\"color: rgb(0, 153, 123); text-decoration: none;\">Back to the outline.</a>\n",
    "</div>"
   ]
  },
  {
   "cell_type": "markdown",
   "id": "752d2fd1",
   "metadata": {},
   "source": [
    "<div id=\"8\">\n",
    "   <!-- Contenido de la celda de destino -->\n",
    "</div>"
   ]
  },
  {
   "cell_type": "markdown",
   "id": "51f73807",
   "metadata": {},
   "source": [
    "<div style=\"background-color: #00414C; color: white; padding: 10px;\">\n",
    "<h1><span style = \"color: #15F5BA; font-family: 'PT Serif Pro Book'; color: dark;\">8.</span> <span style = \"color: dark; font-family: PT Serif Pro Book;\">Create intermediate (ongoing) revisions</span></h1>\n",
    "    </div>"
   ]
  },
  {
   "cell_type": "markdown",
   "id": "408ab1e2",
   "metadata": {},
   "source": [
    "<div id=\"steps-8\">\n",
    "   <!-- Contenido de la celda de destino -->\n",
    "</div>"
   ]
  },
  {
   "cell_type": "markdown",
   "id": "1f54be71",
   "metadata": {},
   "source": [
    "<div style=\"font-family: PT Serif Pro Book; text-align: left; color: dark; font-size: 16px;\">\n",
    "    <a href=\"#step-8-3\" style=\"text-decoration: none; color: #006769\"><span style=\"font-size: 24px; color: rgb(0, 65, 75)\">&#10124;</span> Import dataframes from PostgresSQL</a>\n",
    "    <br>\n",
    "    <a href=\"#step-8-4\" style=\"text-decoration: none; color: #006769\"><span style=\"font-size: 24px; color: rgb(0, 65, 75)\">&#10125;</span> Compute intermediate revisions</a>\n",
    "    <br>\n",
    "    <a href=\"#step-8-5\" style=\"text-decoration: none; color: #006769\"><span style=\"font-size: 24px; color: rgb(0, 65, 75)\">&#10126;</span> Keep intermediate revisions</a>\n",
    "    <br>\n",
    "    <a href=\"#step-8-6\" style=\"text-decoration: none; color: #006769\"><span style=\"font-size: 24px; color: rgb(0, 65, 75)\">&#10127;</span> Transpose dataframe in order to have nowcast error (intermediate revisions) of fixed events as columns</a>\n",
    "</div>"
   ]
  },
  {
   "cell_type": "markdown",
   "id": "505a42d5",
   "metadata": {},
   "source": [
    "<div id=\"step-8-3\">\n",
    "   <!-- Contenido de la celda de destino -->\n",
    "</div>"
   ]
  },
  {
   "cell_type": "markdown",
   "id": "681e6487",
   "metadata": {},
   "source": [
    "<div style=\"text-align: left; font-family: 'PT Serif Pro Book'; font-size:22px\">\n",
    "    <span style=\"font-size: 24px; color: rgb(0, 65, 75)\">&#10124;</span> <span>Import dataframes from PostgresSQL</span>\n",
    "  </div>"
   ]
  },
  {
   "cell_type": "code",
   "execution_count": 10,
   "id": "0ef80973",
   "metadata": {},
   "outputs": [
    {
     "data": {
      "text/html": [
       "<div>\n",
       "<style scoped>\n",
       "    .dataframe tbody tr th:only-of-type {\n",
       "        vertical-align: middle;\n",
       "    }\n",
       "\n",
       "    .dataframe tbody tr th {\n",
       "        vertical-align: top;\n",
       "    }\n",
       "\n",
       "    .dataframe thead th {\n",
       "        text-align: right;\n",
       "    }\n",
       "</style>\n",
       "<table border=\"1\" class=\"dataframe\">\n",
       "  <thead>\n",
       "    <tr style=\"text-align: right;\">\n",
       "      <th></th>\n",
       "      <th>vintages_date</th>\n",
       "      <th>gdp_release_1</th>\n",
       "      <th>gdp_release_2</th>\n",
       "      <th>gdp_release_3</th>\n",
       "      <th>gdp_release_4</th>\n",
       "      <th>gdp_release_5</th>\n",
       "      <th>gdp_release_6</th>\n",
       "      <th>gdp_release_7</th>\n",
       "      <th>gdp_release_8</th>\n",
       "      <th>gdp_release_9</th>\n",
       "      <th>...</th>\n",
       "      <th>services_release_10</th>\n",
       "      <th>services_release_11</th>\n",
       "      <th>services_release_12</th>\n",
       "      <th>services_release_13</th>\n",
       "      <th>services_release_14</th>\n",
       "      <th>services_release_15</th>\n",
       "      <th>services_release_16</th>\n",
       "      <th>services_release_17</th>\n",
       "      <th>services_release_18</th>\n",
       "      <th>services_most_recent</th>\n",
       "    </tr>\n",
       "  </thead>\n",
       "  <tbody>\n",
       "    <tr>\n",
       "      <th>0</th>\n",
       "      <td>1992-01-01</td>\n",
       "      <td>1.3</td>\n",
       "      <td>NaN</td>\n",
       "      <td>NaN</td>\n",
       "      <td>NaN</td>\n",
       "      <td>NaN</td>\n",
       "      <td>NaN</td>\n",
       "      <td>NaN</td>\n",
       "      <td>NaN</td>\n",
       "      <td>NaN</td>\n",
       "      <td>...</td>\n",
       "      <td>NaN</td>\n",
       "      <td>NaN</td>\n",
       "      <td>NaN</td>\n",
       "      <td>NaN</td>\n",
       "      <td>NaN</td>\n",
       "      <td>NaN</td>\n",
       "      <td>NaN</td>\n",
       "      <td>NaN</td>\n",
       "      <td>NaN</td>\n",
       "      <td>NaN</td>\n",
       "    </tr>\n",
       "    <tr>\n",
       "      <th>1</th>\n",
       "      <td>1992-02-01</td>\n",
       "      <td>1.8</td>\n",
       "      <td>NaN</td>\n",
       "      <td>NaN</td>\n",
       "      <td>NaN</td>\n",
       "      <td>NaN</td>\n",
       "      <td>NaN</td>\n",
       "      <td>NaN</td>\n",
       "      <td>NaN</td>\n",
       "      <td>NaN</td>\n",
       "      <td>...</td>\n",
       "      <td>NaN</td>\n",
       "      <td>NaN</td>\n",
       "      <td>NaN</td>\n",
       "      <td>NaN</td>\n",
       "      <td>NaN</td>\n",
       "      <td>NaN</td>\n",
       "      <td>NaN</td>\n",
       "      <td>NaN</td>\n",
       "      <td>NaN</td>\n",
       "      <td>NaN</td>\n",
       "    </tr>\n",
       "    <tr>\n",
       "      <th>2</th>\n",
       "      <td>1992-03-01</td>\n",
       "      <td>2.8</td>\n",
       "      <td>NaN</td>\n",
       "      <td>NaN</td>\n",
       "      <td>NaN</td>\n",
       "      <td>NaN</td>\n",
       "      <td>NaN</td>\n",
       "      <td>NaN</td>\n",
       "      <td>NaN</td>\n",
       "      <td>NaN</td>\n",
       "      <td>...</td>\n",
       "      <td>NaN</td>\n",
       "      <td>NaN</td>\n",
       "      <td>NaN</td>\n",
       "      <td>NaN</td>\n",
       "      <td>NaN</td>\n",
       "      <td>NaN</td>\n",
       "      <td>NaN</td>\n",
       "      <td>NaN</td>\n",
       "      <td>NaN</td>\n",
       "      <td>NaN</td>\n",
       "    </tr>\n",
       "    <tr>\n",
       "      <th>3</th>\n",
       "      <td>1992-04-01</td>\n",
       "      <td>-7.5</td>\n",
       "      <td>NaN</td>\n",
       "      <td>NaN</td>\n",
       "      <td>NaN</td>\n",
       "      <td>NaN</td>\n",
       "      <td>NaN</td>\n",
       "      <td>NaN</td>\n",
       "      <td>NaN</td>\n",
       "      <td>NaN</td>\n",
       "      <td>...</td>\n",
       "      <td>NaN</td>\n",
       "      <td>NaN</td>\n",
       "      <td>NaN</td>\n",
       "      <td>NaN</td>\n",
       "      <td>NaN</td>\n",
       "      <td>NaN</td>\n",
       "      <td>NaN</td>\n",
       "      <td>NaN</td>\n",
       "      <td>NaN</td>\n",
       "      <td>NaN</td>\n",
       "    </tr>\n",
       "    <tr>\n",
       "      <th>4</th>\n",
       "      <td>1992-05-01</td>\n",
       "      <td>-5.7</td>\n",
       "      <td>NaN</td>\n",
       "      <td>NaN</td>\n",
       "      <td>NaN</td>\n",
       "      <td>NaN</td>\n",
       "      <td>NaN</td>\n",
       "      <td>NaN</td>\n",
       "      <td>NaN</td>\n",
       "      <td>NaN</td>\n",
       "      <td>...</td>\n",
       "      <td>NaN</td>\n",
       "      <td>NaN</td>\n",
       "      <td>NaN</td>\n",
       "      <td>NaN</td>\n",
       "      <td>NaN</td>\n",
       "      <td>NaN</td>\n",
       "      <td>NaN</td>\n",
       "      <td>NaN</td>\n",
       "      <td>NaN</td>\n",
       "      <td>NaN</td>\n",
       "    </tr>\n",
       "    <tr>\n",
       "      <th>5</th>\n",
       "      <td>1992-06-01</td>\n",
       "      <td>-3.1</td>\n",
       "      <td>NaN</td>\n",
       "      <td>NaN</td>\n",
       "      <td>NaN</td>\n",
       "      <td>NaN</td>\n",
       "      <td>NaN</td>\n",
       "      <td>NaN</td>\n",
       "      <td>NaN</td>\n",
       "      <td>NaN</td>\n",
       "      <td>...</td>\n",
       "      <td>NaN</td>\n",
       "      <td>NaN</td>\n",
       "      <td>NaN</td>\n",
       "      <td>NaN</td>\n",
       "      <td>NaN</td>\n",
       "      <td>NaN</td>\n",
       "      <td>NaN</td>\n",
       "      <td>NaN</td>\n",
       "      <td>NaN</td>\n",
       "      <td>NaN</td>\n",
       "    </tr>\n",
       "    <tr>\n",
       "      <th>6</th>\n",
       "      <td>1992-07-01</td>\n",
       "      <td>-7.2</td>\n",
       "      <td>NaN</td>\n",
       "      <td>NaN</td>\n",
       "      <td>NaN</td>\n",
       "      <td>NaN</td>\n",
       "      <td>NaN</td>\n",
       "      <td>NaN</td>\n",
       "      <td>NaN</td>\n",
       "      <td>NaN</td>\n",
       "      <td>...</td>\n",
       "      <td>NaN</td>\n",
       "      <td>NaN</td>\n",
       "      <td>NaN</td>\n",
       "      <td>NaN</td>\n",
       "      <td>NaN</td>\n",
       "      <td>NaN</td>\n",
       "      <td>NaN</td>\n",
       "      <td>NaN</td>\n",
       "      <td>NaN</td>\n",
       "      <td>NaN</td>\n",
       "    </tr>\n",
       "    <tr>\n",
       "      <th>7</th>\n",
       "      <td>1992-08-01</td>\n",
       "      <td>-5.7</td>\n",
       "      <td>NaN</td>\n",
       "      <td>NaN</td>\n",
       "      <td>NaN</td>\n",
       "      <td>NaN</td>\n",
       "      <td>NaN</td>\n",
       "      <td>NaN</td>\n",
       "      <td>NaN</td>\n",
       "      <td>NaN</td>\n",
       "      <td>...</td>\n",
       "      <td>NaN</td>\n",
       "      <td>NaN</td>\n",
       "      <td>NaN</td>\n",
       "      <td>NaN</td>\n",
       "      <td>NaN</td>\n",
       "      <td>NaN</td>\n",
       "      <td>NaN</td>\n",
       "      <td>NaN</td>\n",
       "      <td>NaN</td>\n",
       "      <td>NaN</td>\n",
       "    </tr>\n",
       "    <tr>\n",
       "      <th>8</th>\n",
       "      <td>1992-09-01</td>\n",
       "      <td>-4.6</td>\n",
       "      <td>NaN</td>\n",
       "      <td>NaN</td>\n",
       "      <td>NaN</td>\n",
       "      <td>NaN</td>\n",
       "      <td>NaN</td>\n",
       "      <td>NaN</td>\n",
       "      <td>NaN</td>\n",
       "      <td>NaN</td>\n",
       "      <td>...</td>\n",
       "      <td>NaN</td>\n",
       "      <td>NaN</td>\n",
       "      <td>NaN</td>\n",
       "      <td>NaN</td>\n",
       "      <td>NaN</td>\n",
       "      <td>NaN</td>\n",
       "      <td>NaN</td>\n",
       "      <td>NaN</td>\n",
       "      <td>NaN</td>\n",
       "      <td>NaN</td>\n",
       "    </tr>\n",
       "    <tr>\n",
       "      <th>9</th>\n",
       "      <td>1992-10-01</td>\n",
       "      <td>-3.6</td>\n",
       "      <td>-3.6</td>\n",
       "      <td>NaN</td>\n",
       "      <td>NaN</td>\n",
       "      <td>NaN</td>\n",
       "      <td>NaN</td>\n",
       "      <td>NaN</td>\n",
       "      <td>NaN</td>\n",
       "      <td>NaN</td>\n",
       "      <td>...</td>\n",
       "      <td>NaN</td>\n",
       "      <td>NaN</td>\n",
       "      <td>NaN</td>\n",
       "      <td>NaN</td>\n",
       "      <td>NaN</td>\n",
       "      <td>NaN</td>\n",
       "      <td>NaN</td>\n",
       "      <td>NaN</td>\n",
       "      <td>NaN</td>\n",
       "      <td>NaN</td>\n",
       "    </tr>\n",
       "  </tbody>\n",
       "</table>\n",
       "<p>10 rows × 175 columns</p>\n",
       "</div>"
      ],
      "text/plain": [
       "  vintages_date  gdp_release_1  gdp_release_2  gdp_release_3  gdp_release_4  \\\n",
       "0    1992-01-01            1.3            NaN            NaN            NaN   \n",
       "1    1992-02-01            1.8            NaN            NaN            NaN   \n",
       "2    1992-03-01            2.8            NaN            NaN            NaN   \n",
       "3    1992-04-01           -7.5            NaN            NaN            NaN   \n",
       "4    1992-05-01           -5.7            NaN            NaN            NaN   \n",
       "5    1992-06-01           -3.1            NaN            NaN            NaN   \n",
       "6    1992-07-01           -7.2            NaN            NaN            NaN   \n",
       "7    1992-08-01           -5.7            NaN            NaN            NaN   \n",
       "8    1992-09-01           -4.6            NaN            NaN            NaN   \n",
       "9    1992-10-01           -3.6           -3.6            NaN            NaN   \n",
       "\n",
       "   gdp_release_5  gdp_release_6  gdp_release_7  gdp_release_8  gdp_release_9  \\\n",
       "0            NaN            NaN            NaN            NaN            NaN   \n",
       "1            NaN            NaN            NaN            NaN            NaN   \n",
       "2            NaN            NaN            NaN            NaN            NaN   \n",
       "3            NaN            NaN            NaN            NaN            NaN   \n",
       "4            NaN            NaN            NaN            NaN            NaN   \n",
       "5            NaN            NaN            NaN            NaN            NaN   \n",
       "6            NaN            NaN            NaN            NaN            NaN   \n",
       "7            NaN            NaN            NaN            NaN            NaN   \n",
       "8            NaN            NaN            NaN            NaN            NaN   \n",
       "9            NaN            NaN            NaN            NaN            NaN   \n",
       "\n",
       "   ...  services_release_10  services_release_11  services_release_12  \\\n",
       "0  ...                  NaN                  NaN                  NaN   \n",
       "1  ...                  NaN                  NaN                  NaN   \n",
       "2  ...                  NaN                  NaN                  NaN   \n",
       "3  ...                  NaN                  NaN                  NaN   \n",
       "4  ...                  NaN                  NaN                  NaN   \n",
       "5  ...                  NaN                  NaN                  NaN   \n",
       "6  ...                  NaN                  NaN                  NaN   \n",
       "7  ...                  NaN                  NaN                  NaN   \n",
       "8  ...                  NaN                  NaN                  NaN   \n",
       "9  ...                  NaN                  NaN                  NaN   \n",
       "\n",
       "   services_release_13  services_release_14  services_release_15  \\\n",
       "0                  NaN                  NaN                  NaN   \n",
       "1                  NaN                  NaN                  NaN   \n",
       "2                  NaN                  NaN                  NaN   \n",
       "3                  NaN                  NaN                  NaN   \n",
       "4                  NaN                  NaN                  NaN   \n",
       "5                  NaN                  NaN                  NaN   \n",
       "6                  NaN                  NaN                  NaN   \n",
       "7                  NaN                  NaN                  NaN   \n",
       "8                  NaN                  NaN                  NaN   \n",
       "9                  NaN                  NaN                  NaN   \n",
       "\n",
       "   services_release_16  services_release_17  services_release_18  \\\n",
       "0                  NaN                  NaN                  NaN   \n",
       "1                  NaN                  NaN                  NaN   \n",
       "2                  NaN                  NaN                  NaN   \n",
       "3                  NaN                  NaN                  NaN   \n",
       "4                  NaN                  NaN                  NaN   \n",
       "5                  NaN                  NaN                  NaN   \n",
       "6                  NaN                  NaN                  NaN   \n",
       "7                  NaN                  NaN                  NaN   \n",
       "8                  NaN                  NaN                  NaN   \n",
       "9                  NaN                  NaN                  NaN   \n",
       "\n",
       "   services_most_recent  \n",
       "0                   NaN  \n",
       "1                   NaN  \n",
       "2                   NaN  \n",
       "3                   NaN  \n",
       "4                   NaN  \n",
       "5                   NaN  \n",
       "6                   NaN  \n",
       "7                   NaN  \n",
       "8                   NaN  \n",
       "9                   NaN  \n",
       "\n",
       "[10 rows x 175 columns]"
      ]
     },
     "execution_count": 10,
     "metadata": {},
     "output_type": "execute_result"
    }
   ],
   "source": [
    "# Create a pandas DataFrame from the SQL table\n",
    "query_releases_2 = f\"SELECT * FROM sectorial_{sector}_{frequency}_releases;\"\n",
    "df_releases_2 = pd.read_sql(query_releases_2, engine)\n",
    "df_releases_2.head(10) # showing the first 10 obs"
   ]
  },
  {
   "cell_type": "markdown",
   "id": "7e3ad425",
   "metadata": {},
   "source": [
    "<div style=\"text-align: left; font-family: 'PT Serif Pro Book'; color: dark; font-size:16px\">\n",
    "    Filter releases dataset\n",
    "    <div/>"
   ]
  },
  {
   "cell_type": "code",
   "execution_count": 11,
   "id": "796554d1",
   "metadata": {},
   "outputs": [],
   "source": [
    "# Set dataframe inn date range\n",
    "df_releases_filtered_2 = df_releases_2[(df_releases_2['vintages_date'] >= '1993-01-01') & (df_releases_2['vintages_date'] <= '2023-12-31')]\n",
    "\n",
    "# Order the dataframe by the column 'vintages_date'\n",
    "df_releases_filtered_2 = df_releases_filtered_2.sort_values(by='vintages_date')"
   ]
  },
  {
   "cell_type": "markdown",
   "id": "5fceb76e",
   "metadata": {},
   "source": [
    "<div style=\"font-family: PT Serif Pro Book; text-align: left; color: dark; font-size: 16px;\">\n",
    "    <span style=\"font-size: 20px; color: rgb(255, 32, 78); font-weight: bold;\">\n",
    "        <a href=\"#steps-6\" style=\"color: #006769; text-decoration: none;\">⮝</a>\n",
    "    </span> \n",
    "    <a href=\"#steps-7\" style=\"color: #006769; text-decoration: none;\">Back to steps.</a>\n",
    "</div>"
   ]
  },
  {
   "cell_type": "markdown",
   "id": "99b19034",
   "metadata": {},
   "source": [
    "<div id=\"step-8-4\">\n",
    "   <!-- Contenido de la celda de destino -->\n",
    "</div>"
   ]
  },
  {
   "cell_type": "markdown",
   "id": "362c52e3",
   "metadata": {},
   "source": [
    "<div style=\"text-align: left; font-family: 'PT Serif Pro Book'; font-size:22px\">\n",
    "    <span style=\"font-size: 24px; color: rgb(0, 65, 75)\">&#10125;</span> <span>Compute intermediate revisions</span>\n",
    "  </div>"
   ]
  },
  {
   "cell_type": "code",
   "execution_count": 12,
   "id": "78801e45",
   "metadata": {},
   "outputs": [
    {
     "name": "stdout",
     "output_type": "stream",
     "text": [
      "The maximum release number found: 19\n"
     ]
    }
   ],
   "source": [
    "df_aux, max_release = calculate_intermediate_revisions(df_releases_filtered_2)\n",
    "# Output the max_release for verification\n",
    "print(f\"The maximum release number found: {max_release}\")"
   ]
  },
  {
   "cell_type": "code",
   "execution_count": 13,
   "id": "c8247b81",
   "metadata": {},
   "outputs": [
    {
     "name": "stdout",
     "output_type": "stream",
     "text": [
      "The maximum release number found: 19\n"
     ]
    }
   ],
   "source": [
    "# Apply the function to your dataframe and get max_release\n",
    "df_rev_int, max_release = calculate_intermediate_revisions(df_releases_filtered_2)\n",
    "\n",
    "# Output the max_release for verification\n",
    "print(f\"The maximum release number found: {max_release}\")"
   ]
  },
  {
   "cell_type": "markdown",
   "id": "561bd63e",
   "metadata": {},
   "source": [
    "<div style=\"text-align: left; font-family: 'PT Serif Pro Book'; color: dark; font-size:16px\">\n",
    "    Computing specific intermediate revisions\n",
    "    <div/>"
   ]
  },
  {
   "cell_type": "code",
   "execution_count": 14,
   "id": "ec6d81ae",
   "metadata": {},
   "outputs": [],
   "source": [
    "#df_rev_int = calculate_specific_intermediate_revisions(df_rev_int, frequency)\n",
    "#df_rev_int"
   ]
  },
  {
   "cell_type": "markdown",
   "id": "3508d498",
   "metadata": {},
   "source": [
    "<div style=\"text-align: left; font-family: 'PT Serif Pro Book'; color: dark; font-size:16px\">\n",
    "    Inspect specific columns\n",
    "    <div/>"
   ]
  },
  {
   "cell_type": "code",
   "execution_count": 15,
   "id": "76866142",
   "metadata": {},
   "outputs": [
    {
     "data": {
      "text/html": [
       "<div>\n",
       "<style scoped>\n",
       "    .dataframe tbody tr th:only-of-type {\n",
       "        vertical-align: middle;\n",
       "    }\n",
       "\n",
       "    .dataframe tbody tr th {\n",
       "        vertical-align: top;\n",
       "    }\n",
       "\n",
       "    .dataframe thead th {\n",
       "        text-align: right;\n",
       "    }\n",
       "</style>\n",
       "<table border=\"1\" class=\"dataframe\">\n",
       "  <thead>\n",
       "    <tr style=\"text-align: right;\">\n",
       "      <th></th>\n",
       "      <th>vintages_date</th>\n",
       "      <th>agriculture_release_1</th>\n",
       "      <th>agriculture_release_2</th>\n",
       "      <th>r_2_agriculture</th>\n",
       "    </tr>\n",
       "  </thead>\n",
       "  <tbody>\n",
       "    <tr>\n",
       "      <th>12</th>\n",
       "      <td>1993-01-01</td>\n",
       "      <td>-1.7</td>\n",
       "      <td>-1.7</td>\n",
       "      <td>0.0</td>\n",
       "    </tr>\n",
       "    <tr>\n",
       "      <th>13</th>\n",
       "      <td>1993-02-01</td>\n",
       "      <td>0.8</td>\n",
       "      <td>0.8</td>\n",
       "      <td>0.0</td>\n",
       "    </tr>\n",
       "    <tr>\n",
       "      <th>14</th>\n",
       "      <td>1993-03-01</td>\n",
       "      <td>-4.1</td>\n",
       "      <td>-4.1</td>\n",
       "      <td>0.0</td>\n",
       "    </tr>\n",
       "    <tr>\n",
       "      <th>15</th>\n",
       "      <td>1993-04-01</td>\n",
       "      <td>-2.4</td>\n",
       "      <td>-2.4</td>\n",
       "      <td>0.0</td>\n",
       "    </tr>\n",
       "    <tr>\n",
       "      <th>16</th>\n",
       "      <td>1993-05-01</td>\n",
       "      <td>0.9</td>\n",
       "      <td>0.9</td>\n",
       "      <td>0.0</td>\n",
       "    </tr>\n",
       "    <tr>\n",
       "      <th>...</th>\n",
       "      <td>...</td>\n",
       "      <td>...</td>\n",
       "      <td>...</td>\n",
       "      <td>...</td>\n",
       "    </tr>\n",
       "    <tr>\n",
       "      <th>379</th>\n",
       "      <td>2023-08-01</td>\n",
       "      <td>-4.0</td>\n",
       "      <td>-6.4</td>\n",
       "      <td>-2.4</td>\n",
       "    </tr>\n",
       "    <tr>\n",
       "      <th>380</th>\n",
       "      <td>2023-09-01</td>\n",
       "      <td>-8.8</td>\n",
       "      <td>-8.8</td>\n",
       "      <td>0.0</td>\n",
       "    </tr>\n",
       "    <tr>\n",
       "      <th>381</th>\n",
       "      <td>2023-10-01</td>\n",
       "      <td>-7.6</td>\n",
       "      <td>-7.6</td>\n",
       "      <td>0.0</td>\n",
       "    </tr>\n",
       "    <tr>\n",
       "      <th>382</th>\n",
       "      <td>2023-11-01</td>\n",
       "      <td>1.2</td>\n",
       "      <td>2.7</td>\n",
       "      <td>1.5</td>\n",
       "    </tr>\n",
       "    <tr>\n",
       "      <th>383</th>\n",
       "      <td>2023-12-01</td>\n",
       "      <td>0.2</td>\n",
       "      <td>0.2</td>\n",
       "      <td>0.0</td>\n",
       "    </tr>\n",
       "  </tbody>\n",
       "</table>\n",
       "<p>372 rows × 4 columns</p>\n",
       "</div>"
      ],
      "text/plain": [
       "    vintages_date  agriculture_release_1  agriculture_release_2  \\\n",
       "12     1993-01-01                   -1.7                   -1.7   \n",
       "13     1993-02-01                    0.8                    0.8   \n",
       "14     1993-03-01                   -4.1                   -4.1   \n",
       "15     1993-04-01                   -2.4                   -2.4   \n",
       "16     1993-05-01                    0.9                    0.9   \n",
       "..            ...                    ...                    ...   \n",
       "379    2023-08-01                   -4.0                   -6.4   \n",
       "380    2023-09-01                   -8.8                   -8.8   \n",
       "381    2023-10-01                   -7.6                   -7.6   \n",
       "382    2023-11-01                    1.2                    2.7   \n",
       "383    2023-12-01                    0.2                    0.2   \n",
       "\n",
       "     r_2_agriculture  \n",
       "12               0.0  \n",
       "13               0.0  \n",
       "14               0.0  \n",
       "15               0.0  \n",
       "16               0.0  \n",
       "..               ...  \n",
       "379             -2.4  \n",
       "380              0.0  \n",
       "381              0.0  \n",
       "382              1.5  \n",
       "383              0.0  \n",
       "\n",
       "[372 rows x 4 columns]"
      ]
     },
     "execution_count": 15,
     "metadata": {},
     "output_type": "execute_result"
    }
   ],
   "source": [
    "df_rev_int[['vintages_date', 'agriculture_release_1', 'agriculture_release_2', 'r_2_agriculture']]"
   ]
  },
  {
   "cell_type": "markdown",
   "id": "ac30e488",
   "metadata": {},
   "source": [
    "<div style=\"font-family: PT Serif Pro Book; text-align: left; color: dark; font-size: 16px;\">\n",
    "    <span style=\"font-size: 20px; color: rgb(255, 32, 78); font-weight: bold;\">\n",
    "        <a href=\"#steps-6\" style=\"color: #006769; text-decoration: none;\">⮝</a>\n",
    "    </span> \n",
    "    <a href=\"#steps-7\" style=\"color: #006769; text-decoration: none;\">Back to steps.</a>\n",
    "</div>"
   ]
  },
  {
   "cell_type": "markdown",
   "id": "0a9bbe54",
   "metadata": {},
   "source": [
    "<div id=\"step-8-5\">\n",
    "   <!-- Contenido de la celda de destino -->\n",
    "</div>"
   ]
  },
  {
   "cell_type": "markdown",
   "id": "db5f1740",
   "metadata": {},
   "source": [
    "<div style=\"text-align: left; font-family: 'PT Serif Pro Book'; font-size:22px\">\n",
    "    <span style=\"font-size: 24px; color: rgb(0, 65, 75)\">&#10126;</span> <span>Keep intermediate revisions</span>\n",
    "  </div>"
   ]
  },
  {
   "cell_type": "markdown",
   "id": "a84fcb13",
   "metadata": {},
   "source": [
    "<div style=\"text-align: left; font-family: 'PT Serif Pro Book'; color: dark; font-size:16px\">\n",
    "    Use <code>destring_date_column</code> only if you are going to transpose the dataframe later\n",
    "    <div/>"
   ]
  },
  {
   "cell_type": "code",
   "execution_count": 16,
   "id": "36279019",
   "metadata": {},
   "outputs": [],
   "source": [
    "df_rev_int = destring_date_column(df_rev_int, frequency)  # You can change 'quarterly' to 'annual' or 'monthly'"
   ]
  },
  {
   "cell_type": "code",
   "execution_count": 17,
   "id": "ccd6a1c6",
   "metadata": {},
   "outputs": [
    {
     "data": {
      "text/html": [
       "<div>\n",
       "<style scoped>\n",
       "    .dataframe tbody tr th:only-of-type {\n",
       "        vertical-align: middle;\n",
       "    }\n",
       "\n",
       "    .dataframe tbody tr th {\n",
       "        vertical-align: top;\n",
       "    }\n",
       "\n",
       "    .dataframe thead th {\n",
       "        text-align: right;\n",
       "    }\n",
       "</style>\n",
       "<table border=\"1\" class=\"dataframe\">\n",
       "  <thead>\n",
       "    <tr style=\"text-align: right;\">\n",
       "      <th></th>\n",
       "      <th>vintages_date</th>\n",
       "      <th>gdp_release_1</th>\n",
       "      <th>gdp_release_2</th>\n",
       "      <th>gdp_release_3</th>\n",
       "      <th>gdp_release_4</th>\n",
       "      <th>gdp_release_5</th>\n",
       "      <th>gdp_release_6</th>\n",
       "      <th>gdp_release_7</th>\n",
       "      <th>gdp_release_8</th>\n",
       "      <th>gdp_release_9</th>\n",
       "      <th>...</th>\n",
       "      <th>r_12_agriculture</th>\n",
       "      <th>r_13_agriculture</th>\n",
       "      <th>r_14_agriculture</th>\n",
       "      <th>r_15_agriculture</th>\n",
       "      <th>r_16_agriculture</th>\n",
       "      <th>r_17_agriculture</th>\n",
       "      <th>r_18_agriculture</th>\n",
       "      <th>r_19_agriculture</th>\n",
       "      <th>r_20_agriculture</th>\n",
       "      <th>year_month</th>\n",
       "    </tr>\n",
       "  </thead>\n",
       "  <tbody>\n",
       "    <tr>\n",
       "      <th>12</th>\n",
       "      <td>1993-01-01</td>\n",
       "      <td>1.2</td>\n",
       "      <td>1.3</td>\n",
       "      <td>1.3</td>\n",
       "      <td>1.3</td>\n",
       "      <td>-2.2</td>\n",
       "      <td>-2.2</td>\n",
       "      <td>-2.2</td>\n",
       "      <td>-2.2</td>\n",
       "      <td>-2.2</td>\n",
       "      <td>...</td>\n",
       "      <td>0.0</td>\n",
       "      <td>0.0</td>\n",
       "      <td>0.0</td>\n",
       "      <td>NaN</td>\n",
       "      <td>NaN</td>\n",
       "      <td>NaN</td>\n",
       "      <td>NaN</td>\n",
       "      <td>NaN</td>\n",
       "      <td>NaN</td>\n",
       "      <td>1993-01</td>\n",
       "    </tr>\n",
       "    <tr>\n",
       "      <th>13</th>\n",
       "      <td>1993-02-01</td>\n",
       "      <td>0.1</td>\n",
       "      <td>0.2</td>\n",
       "      <td>0.1</td>\n",
       "      <td>0.2</td>\n",
       "      <td>-1.6</td>\n",
       "      <td>-1.6</td>\n",
       "      <td>-1.6</td>\n",
       "      <td>-1.6</td>\n",
       "      <td>-1.6</td>\n",
       "      <td>...</td>\n",
       "      <td>0.0</td>\n",
       "      <td>0.0</td>\n",
       "      <td>0.0</td>\n",
       "      <td>NaN</td>\n",
       "      <td>NaN</td>\n",
       "      <td>NaN</td>\n",
       "      <td>NaN</td>\n",
       "      <td>NaN</td>\n",
       "      <td>NaN</td>\n",
       "      <td>1993-02</td>\n",
       "    </tr>\n",
       "    <tr>\n",
       "      <th>14</th>\n",
       "      <td>1993-03-01</td>\n",
       "      <td>5.7</td>\n",
       "      <td>5.8</td>\n",
       "      <td>5.9</td>\n",
       "      <td>5.9</td>\n",
       "      <td>5.0</td>\n",
       "      <td>5.0</td>\n",
       "      <td>5.0</td>\n",
       "      <td>5.0</td>\n",
       "      <td>4.9</td>\n",
       "      <td>...</td>\n",
       "      <td>0.0</td>\n",
       "      <td>0.0</td>\n",
       "      <td>0.0</td>\n",
       "      <td>NaN</td>\n",
       "      <td>NaN</td>\n",
       "      <td>NaN</td>\n",
       "      <td>NaN</td>\n",
       "      <td>NaN</td>\n",
       "      <td>NaN</td>\n",
       "      <td>1993-03</td>\n",
       "    </tr>\n",
       "    <tr>\n",
       "      <th>15</th>\n",
       "      <td>1993-04-01</td>\n",
       "      <td>7.2</td>\n",
       "      <td>7.2</td>\n",
       "      <td>7.3</td>\n",
       "      <td>7.3</td>\n",
       "      <td>6.0</td>\n",
       "      <td>6.0</td>\n",
       "      <td>6.0</td>\n",
       "      <td>6.0</td>\n",
       "      <td>6.0</td>\n",
       "      <td>...</td>\n",
       "      <td>0.0</td>\n",
       "      <td>0.0</td>\n",
       "      <td>0.0</td>\n",
       "      <td>NaN</td>\n",
       "      <td>NaN</td>\n",
       "      <td>NaN</td>\n",
       "      <td>NaN</td>\n",
       "      <td>NaN</td>\n",
       "      <td>NaN</td>\n",
       "      <td>1993-04</td>\n",
       "    </tr>\n",
       "    <tr>\n",
       "      <th>16</th>\n",
       "      <td>1993-05-01</td>\n",
       "      <td>4.5</td>\n",
       "      <td>4.8</td>\n",
       "      <td>4.7</td>\n",
       "      <td>4.7</td>\n",
       "      <td>3.9</td>\n",
       "      <td>3.9</td>\n",
       "      <td>3.9</td>\n",
       "      <td>3.9</td>\n",
       "      <td>4.0</td>\n",
       "      <td>...</td>\n",
       "      <td>0.0</td>\n",
       "      <td>0.0</td>\n",
       "      <td>0.0</td>\n",
       "      <td>NaN</td>\n",
       "      <td>NaN</td>\n",
       "      <td>NaN</td>\n",
       "      <td>NaN</td>\n",
       "      <td>NaN</td>\n",
       "      <td>NaN</td>\n",
       "      <td>1993-05</td>\n",
       "    </tr>\n",
       "    <tr>\n",
       "      <th>17</th>\n",
       "      <td>1993-06-01</td>\n",
       "      <td>7.6</td>\n",
       "      <td>8.2</td>\n",
       "      <td>8.0</td>\n",
       "      <td>8.0</td>\n",
       "      <td>8.0</td>\n",
       "      <td>8.0</td>\n",
       "      <td>8.0</td>\n",
       "      <td>8.0</td>\n",
       "      <td>8.0</td>\n",
       "      <td>...</td>\n",
       "      <td>0.0</td>\n",
       "      <td>0.0</td>\n",
       "      <td>0.0</td>\n",
       "      <td>NaN</td>\n",
       "      <td>NaN</td>\n",
       "      <td>NaN</td>\n",
       "      <td>NaN</td>\n",
       "      <td>NaN</td>\n",
       "      <td>NaN</td>\n",
       "      <td>1993-06</td>\n",
       "    </tr>\n",
       "    <tr>\n",
       "      <th>19</th>\n",
       "      <td>1993-07-01</td>\n",
       "      <td>11.6</td>\n",
       "      <td>12.0</td>\n",
       "      <td>11.9</td>\n",
       "      <td>11.9</td>\n",
       "      <td>11.5</td>\n",
       "      <td>11.6</td>\n",
       "      <td>11.6</td>\n",
       "      <td>11.5</td>\n",
       "      <td>11.3</td>\n",
       "      <td>...</td>\n",
       "      <td>0.0</td>\n",
       "      <td>0.0</td>\n",
       "      <td>0.0</td>\n",
       "      <td>NaN</td>\n",
       "      <td>NaN</td>\n",
       "      <td>NaN</td>\n",
       "      <td>NaN</td>\n",
       "      <td>NaN</td>\n",
       "      <td>NaN</td>\n",
       "      <td>1993-07</td>\n",
       "    </tr>\n",
       "    <tr>\n",
       "      <th>20</th>\n",
       "      <td>1993-08-01</td>\n",
       "      <td>11.2</td>\n",
       "      <td>11.8</td>\n",
       "      <td>11.8</td>\n",
       "      <td>11.8</td>\n",
       "      <td>12.5</td>\n",
       "      <td>12.5</td>\n",
       "      <td>12.5</td>\n",
       "      <td>12.5</td>\n",
       "      <td>12.6</td>\n",
       "      <td>...</td>\n",
       "      <td>0.0</td>\n",
       "      <td>0.0</td>\n",
       "      <td>0.0</td>\n",
       "      <td>NaN</td>\n",
       "      <td>NaN</td>\n",
       "      <td>NaN</td>\n",
       "      <td>NaN</td>\n",
       "      <td>NaN</td>\n",
       "      <td>NaN</td>\n",
       "      <td>1993-08</td>\n",
       "    </tr>\n",
       "    <tr>\n",
       "      <th>21</th>\n",
       "      <td>1993-09-01</td>\n",
       "      <td>10.5</td>\n",
       "      <td>10.4</td>\n",
       "      <td>10.6</td>\n",
       "      <td>10.6</td>\n",
       "      <td>10.2</td>\n",
       "      <td>10.2</td>\n",
       "      <td>10.2</td>\n",
       "      <td>10.2</td>\n",
       "      <td>9.9</td>\n",
       "      <td>...</td>\n",
       "      <td>0.0</td>\n",
       "      <td>0.0</td>\n",
       "      <td>0.0</td>\n",
       "      <td>NaN</td>\n",
       "      <td>NaN</td>\n",
       "      <td>NaN</td>\n",
       "      <td>NaN</td>\n",
       "      <td>NaN</td>\n",
       "      <td>NaN</td>\n",
       "      <td>1993-09</td>\n",
       "    </tr>\n",
       "    <tr>\n",
       "      <th>22</th>\n",
       "      <td>1993-10-01</td>\n",
       "      <td>6.3</td>\n",
       "      <td>5.4</td>\n",
       "      <td>5.4</td>\n",
       "      <td>5.4</td>\n",
       "      <td>4.9</td>\n",
       "      <td>4.8</td>\n",
       "      <td>4.8</td>\n",
       "      <td>4.9</td>\n",
       "      <td>4.8</td>\n",
       "      <td>...</td>\n",
       "      <td>0.0</td>\n",
       "      <td>0.0</td>\n",
       "      <td>0.0</td>\n",
       "      <td>NaN</td>\n",
       "      <td>NaN</td>\n",
       "      <td>NaN</td>\n",
       "      <td>NaN</td>\n",
       "      <td>NaN</td>\n",
       "      <td>NaN</td>\n",
       "      <td>1993-10</td>\n",
       "    </tr>\n",
       "  </tbody>\n",
       "</table>\n",
       "<p>10 rows × 339 columns</p>\n",
       "</div>"
      ],
      "text/plain": [
       "   vintages_date  gdp_release_1  gdp_release_2  gdp_release_3  gdp_release_4  \\\n",
       "12    1993-01-01            1.2            1.3            1.3            1.3   \n",
       "13    1993-02-01            0.1            0.2            0.1            0.2   \n",
       "14    1993-03-01            5.7            5.8            5.9            5.9   \n",
       "15    1993-04-01            7.2            7.2            7.3            7.3   \n",
       "16    1993-05-01            4.5            4.8            4.7            4.7   \n",
       "17    1993-06-01            7.6            8.2            8.0            8.0   \n",
       "19    1993-07-01           11.6           12.0           11.9           11.9   \n",
       "20    1993-08-01           11.2           11.8           11.8           11.8   \n",
       "21    1993-09-01           10.5           10.4           10.6           10.6   \n",
       "22    1993-10-01            6.3            5.4            5.4            5.4   \n",
       "\n",
       "    gdp_release_5  gdp_release_6  gdp_release_7  gdp_release_8  gdp_release_9  \\\n",
       "12           -2.2           -2.2           -2.2           -2.2           -2.2   \n",
       "13           -1.6           -1.6           -1.6           -1.6           -1.6   \n",
       "14            5.0            5.0            5.0            5.0            4.9   \n",
       "15            6.0            6.0            6.0            6.0            6.0   \n",
       "16            3.9            3.9            3.9            3.9            4.0   \n",
       "17            8.0            8.0            8.0            8.0            8.0   \n",
       "19           11.5           11.6           11.6           11.5           11.3   \n",
       "20           12.5           12.5           12.5           12.5           12.6   \n",
       "21           10.2           10.2           10.2           10.2            9.9   \n",
       "22            4.9            4.8            4.8            4.9            4.8   \n",
       "\n",
       "    ...  r_12_agriculture  r_13_agriculture  r_14_agriculture  \\\n",
       "12  ...               0.0               0.0               0.0   \n",
       "13  ...               0.0               0.0               0.0   \n",
       "14  ...               0.0               0.0               0.0   \n",
       "15  ...               0.0               0.0               0.0   \n",
       "16  ...               0.0               0.0               0.0   \n",
       "17  ...               0.0               0.0               0.0   \n",
       "19  ...               0.0               0.0               0.0   \n",
       "20  ...               0.0               0.0               0.0   \n",
       "21  ...               0.0               0.0               0.0   \n",
       "22  ...               0.0               0.0               0.0   \n",
       "\n",
       "    r_15_agriculture  r_16_agriculture  r_17_agriculture  r_18_agriculture  \\\n",
       "12               NaN               NaN               NaN               NaN   \n",
       "13               NaN               NaN               NaN               NaN   \n",
       "14               NaN               NaN               NaN               NaN   \n",
       "15               NaN               NaN               NaN               NaN   \n",
       "16               NaN               NaN               NaN               NaN   \n",
       "17               NaN               NaN               NaN               NaN   \n",
       "19               NaN               NaN               NaN               NaN   \n",
       "20               NaN               NaN               NaN               NaN   \n",
       "21               NaN               NaN               NaN               NaN   \n",
       "22               NaN               NaN               NaN               NaN   \n",
       "\n",
       "    r_19_agriculture  r_20_agriculture  year_month  \n",
       "12               NaN               NaN     1993-01  \n",
       "13               NaN               NaN     1993-02  \n",
       "14               NaN               NaN     1993-03  \n",
       "15               NaN               NaN     1993-04  \n",
       "16               NaN               NaN     1993-05  \n",
       "17               NaN               NaN     1993-06  \n",
       "19               NaN               NaN     1993-07  \n",
       "20               NaN               NaN     1993-08  \n",
       "21               NaN               NaN     1993-09  \n",
       "22               NaN               NaN     1993-10  \n",
       "\n",
       "[10 rows x 339 columns]"
      ]
     },
     "execution_count": 17,
     "metadata": {},
     "output_type": "execute_result"
    }
   ],
   "source": [
    "df_rev_int.head(10)"
   ]
  },
  {
   "cell_type": "markdown",
   "id": "4232446d",
   "metadata": {},
   "source": [
    "<div id=\"7\">\n",
    "   <!-- Contenido de la celda de destino -->\n",
    "</div>"
   ]
  },
  {
   "cell_type": "markdown",
   "id": "2f430dca",
   "metadata": {},
   "source": [
    "<div style=\"text-align: left; font-family: 'PT Serif Pro Book'; color: dark; font-size:16px\">\n",
    "    Keeping intermediate revisions and date column only \n",
    "    <div/>"
   ]
  },
  {
   "cell_type": "code",
   "execution_count": 18,
   "id": "69b788ea",
   "metadata": {},
   "outputs": [],
   "source": [
    "df_rev_int = keep_revisions(df_rev_int, frequency) # this is optional in order to compress dataframe columns"
   ]
  },
  {
   "cell_type": "code",
   "execution_count": 19,
   "id": "886429ba",
   "metadata": {},
   "outputs": [
    {
     "data": {
      "text/plain": [
       "Index(['vintages_date', 'year_month', 'r_2_electricity', 'r_3_electricity',\n",
       "       'r_4_electricity', 'r_5_electricity', 'r_6_electricity',\n",
       "       'r_7_electricity', 'r_8_electricity', 'r_9_electricity',\n",
       "       ...\n",
       "       'r_11_agriculture', 'r_12_agriculture', 'r_13_agriculture',\n",
       "       'r_14_agriculture', 'r_15_agriculture', 'r_16_agriculture',\n",
       "       'r_17_agriculture', 'r_18_agriculture', 'r_19_agriculture',\n",
       "       'r_20_agriculture'],\n",
       "      dtype='object', length=165)"
      ]
     },
     "execution_count": 19,
     "metadata": {},
     "output_type": "execute_result"
    }
   ],
   "source": [
    "df_rev_int.columns"
   ]
  },
  {
   "cell_type": "markdown",
   "id": "07f5a602",
   "metadata": {},
   "source": [
    "<div style=\"text-align: left; font-family: 'PT Serif Pro Book'; color: dark; font-size:16px\">\n",
    "    To SQL\n",
    "    <div/>"
   ]
  },
  {
   "cell_type": "code",
   "execution_count": null,
   "id": "45e4aadb",
   "metadata": {},
   "outputs": [],
   "source": [
    "df_rev_int.to_sql(f'sectorial_gdp_{frequency}_int_revisions', engine, index=False, if_exists='replace')"
   ]
  },
  {
   "cell_type": "markdown",
   "id": "cc683344",
   "metadata": {},
   "source": [
    "<div style=\"text-align: left; font-family: 'PT Serif Pro Book'; color: dark; font-size:16px\">\n",
    "    To data panel\n",
    "    <div/>"
   ]
  },
  {
   "cell_type": "code",
   "execution_count": 20,
   "id": "fdafde57",
   "metadata": {},
   "outputs": [
    {
     "data": {
      "text/html": [
       "<div>\n",
       "<style scoped>\n",
       "    .dataframe tbody tr th:only-of-type {\n",
       "        vertical-align: middle;\n",
       "    }\n",
       "\n",
       "    .dataframe tbody tr th {\n",
       "        vertical-align: top;\n",
       "    }\n",
       "\n",
       "    .dataframe thead th {\n",
       "        text-align: right;\n",
       "    }\n",
       "</style>\n",
       "<table border=\"1\" class=\"dataframe\">\n",
       "  <thead>\n",
       "    <tr style=\"text-align: right;\">\n",
       "      <th></th>\n",
       "      <th>vintages_date</th>\n",
       "      <th>revision</th>\n",
       "      <th>mining</th>\n",
       "      <th>electricity</th>\n",
       "      <th>gdp</th>\n",
       "      <th>services</th>\n",
       "      <th>agriculture</th>\n",
       "      <th>commerce</th>\n",
       "      <th>construction</th>\n",
       "      <th>fishing</th>\n",
       "      <th>manufacturing</th>\n",
       "    </tr>\n",
       "  </thead>\n",
       "  <tbody>\n",
       "    <tr>\n",
       "      <th>0</th>\n",
       "      <td>1993-01-01</td>\n",
       "      <td>2</td>\n",
       "      <td>1.0</td>\n",
       "      <td>NaN</td>\n",
       "      <td>0.1</td>\n",
       "      <td>NaN</td>\n",
       "      <td>0.0</td>\n",
       "      <td>0.0</td>\n",
       "      <td>0.0</td>\n",
       "      <td>0.0</td>\n",
       "      <td>0.0</td>\n",
       "    </tr>\n",
       "    <tr>\n",
       "      <th>1</th>\n",
       "      <td>1993-02-01</td>\n",
       "      <td>2</td>\n",
       "      <td>0.6</td>\n",
       "      <td>NaN</td>\n",
       "      <td>0.1</td>\n",
       "      <td>NaN</td>\n",
       "      <td>0.0</td>\n",
       "      <td>0.1</td>\n",
       "      <td>0.0</td>\n",
       "      <td>0.0</td>\n",
       "      <td>0.0</td>\n",
       "    </tr>\n",
       "    <tr>\n",
       "      <th>2</th>\n",
       "      <td>1993-03-01</td>\n",
       "      <td>2</td>\n",
       "      <td>0.5</td>\n",
       "      <td>NaN</td>\n",
       "      <td>0.1</td>\n",
       "      <td>NaN</td>\n",
       "      <td>0.0</td>\n",
       "      <td>0.0</td>\n",
       "      <td>0.0</td>\n",
       "      <td>0.0</td>\n",
       "      <td>0.0</td>\n",
       "    </tr>\n",
       "    <tr>\n",
       "      <th>3</th>\n",
       "      <td>1993-04-01</td>\n",
       "      <td>2</td>\n",
       "      <td>0.2</td>\n",
       "      <td>NaN</td>\n",
       "      <td>0.0</td>\n",
       "      <td>NaN</td>\n",
       "      <td>0.0</td>\n",
       "      <td>-0.1</td>\n",
       "      <td>0.0</td>\n",
       "      <td>0.0</td>\n",
       "      <td>0.0</td>\n",
       "    </tr>\n",
       "    <tr>\n",
       "      <th>4</th>\n",
       "      <td>1993-05-01</td>\n",
       "      <td>2</td>\n",
       "      <td>2.0</td>\n",
       "      <td>NaN</td>\n",
       "      <td>0.3</td>\n",
       "      <td>NaN</td>\n",
       "      <td>0.0</td>\n",
       "      <td>0.1</td>\n",
       "      <td>0.0</td>\n",
       "      <td>0.0</td>\n",
       "      <td>0.0</td>\n",
       "    </tr>\n",
       "    <tr>\n",
       "      <th>...</th>\n",
       "      <td>...</td>\n",
       "      <td>...</td>\n",
       "      <td>...</td>\n",
       "      <td>...</td>\n",
       "      <td>...</td>\n",
       "      <td>...</td>\n",
       "      <td>...</td>\n",
       "      <td>...</td>\n",
       "      <td>...</td>\n",
       "      <td>...</td>\n",
       "      <td>...</td>\n",
       "    </tr>\n",
       "    <tr>\n",
       "      <th>7063</th>\n",
       "      <td>2023-08-01</td>\n",
       "      <td>20</td>\n",
       "      <td>NaN</td>\n",
       "      <td>NaN</td>\n",
       "      <td>NaN</td>\n",
       "      <td>NaN</td>\n",
       "      <td>NaN</td>\n",
       "      <td>NaN</td>\n",
       "      <td>NaN</td>\n",
       "      <td>NaN</td>\n",
       "      <td>NaN</td>\n",
       "    </tr>\n",
       "    <tr>\n",
       "      <th>7064</th>\n",
       "      <td>2023-09-01</td>\n",
       "      <td>20</td>\n",
       "      <td>NaN</td>\n",
       "      <td>NaN</td>\n",
       "      <td>NaN</td>\n",
       "      <td>NaN</td>\n",
       "      <td>NaN</td>\n",
       "      <td>NaN</td>\n",
       "      <td>NaN</td>\n",
       "      <td>NaN</td>\n",
       "      <td>NaN</td>\n",
       "    </tr>\n",
       "    <tr>\n",
       "      <th>7065</th>\n",
       "      <td>2023-10-01</td>\n",
       "      <td>20</td>\n",
       "      <td>NaN</td>\n",
       "      <td>NaN</td>\n",
       "      <td>NaN</td>\n",
       "      <td>NaN</td>\n",
       "      <td>NaN</td>\n",
       "      <td>NaN</td>\n",
       "      <td>NaN</td>\n",
       "      <td>NaN</td>\n",
       "      <td>NaN</td>\n",
       "    </tr>\n",
       "    <tr>\n",
       "      <th>7066</th>\n",
       "      <td>2023-11-01</td>\n",
       "      <td>20</td>\n",
       "      <td>NaN</td>\n",
       "      <td>NaN</td>\n",
       "      <td>NaN</td>\n",
       "      <td>NaN</td>\n",
       "      <td>NaN</td>\n",
       "      <td>NaN</td>\n",
       "      <td>NaN</td>\n",
       "      <td>NaN</td>\n",
       "      <td>NaN</td>\n",
       "    </tr>\n",
       "    <tr>\n",
       "      <th>7067</th>\n",
       "      <td>2023-12-01</td>\n",
       "      <td>20</td>\n",
       "      <td>NaN</td>\n",
       "      <td>NaN</td>\n",
       "      <td>NaN</td>\n",
       "      <td>NaN</td>\n",
       "      <td>NaN</td>\n",
       "      <td>NaN</td>\n",
       "      <td>NaN</td>\n",
       "      <td>NaN</td>\n",
       "      <td>NaN</td>\n",
       "    </tr>\n",
       "  </tbody>\n",
       "</table>\n",
       "<p>7068 rows × 11 columns</p>\n",
       "</div>"
      ],
      "text/plain": [
       "     vintages_date  revision  mining  electricity  gdp  services  agriculture  \\\n",
       "0       1993-01-01         2     1.0          NaN  0.1       NaN          0.0   \n",
       "1       1993-02-01         2     0.6          NaN  0.1       NaN          0.0   \n",
       "2       1993-03-01         2     0.5          NaN  0.1       NaN          0.0   \n",
       "3       1993-04-01         2     0.2          NaN  0.0       NaN          0.0   \n",
       "4       1993-05-01         2     2.0          NaN  0.3       NaN          0.0   \n",
       "...            ...       ...     ...          ...  ...       ...          ...   \n",
       "7063    2023-08-01        20     NaN          NaN  NaN       NaN          NaN   \n",
       "7064    2023-09-01        20     NaN          NaN  NaN       NaN          NaN   \n",
       "7065    2023-10-01        20     NaN          NaN  NaN       NaN          NaN   \n",
       "7066    2023-11-01        20     NaN          NaN  NaN       NaN          NaN   \n",
       "7067    2023-12-01        20     NaN          NaN  NaN       NaN          NaN   \n",
       "\n",
       "      commerce  construction  fishing  manufacturing  \n",
       "0          0.0           0.0      0.0            0.0  \n",
       "1          0.1           0.0      0.0            0.0  \n",
       "2          0.0           0.0      0.0            0.0  \n",
       "3         -0.1           0.0      0.0            0.0  \n",
       "4          0.1           0.0      0.0            0.0  \n",
       "...        ...           ...      ...            ...  \n",
       "7063       NaN           NaN      NaN            NaN  \n",
       "7064       NaN           NaN      NaN            NaN  \n",
       "7065       NaN           NaN      NaN            NaN  \n",
       "7066       NaN           NaN      NaN            NaN  \n",
       "7067       NaN           NaN      NaN            NaN  \n",
       "\n",
       "[7068 rows x 11 columns]"
      ]
     },
     "execution_count": 20,
     "metadata": {},
     "output_type": "execute_result"
    }
   ],
   "source": [
    "df_rev_int_panel = int_convert_to_panel(df_rev_int)\n",
    "df_rev_int_panel"
   ]
  },
  {
   "cell_type": "code",
   "execution_count": 23,
   "id": "ecadbf5b",
   "metadata": {},
   "outputs": [
    {
     "data": {
      "text/plain": [
       "dtype('<M8[ns]')"
      ]
     },
     "execution_count": 23,
     "metadata": {},
     "output_type": "execute_result"
    }
   ],
   "source": [
    "df_rev_int_panel['vintages_date'].dtype"
   ]
  },
  {
   "cell_type": "markdown",
   "id": "52905aa7",
   "metadata": {},
   "source": [
    "<div style=\"text-align: left; font-family: 'PT Serif Pro Book'; color: dark; font-size:16px\">\n",
    "    To SQL\n",
    "    <div/>"
   ]
  },
  {
   "cell_type": "code",
   "execution_count": 24,
   "id": "8a4c39df",
   "metadata": {},
   "outputs": [
    {
     "data": {
      "text/plain": [
       "68"
      ]
     },
     "execution_count": 24,
     "metadata": {},
     "output_type": "execute_result"
    }
   ],
   "source": [
    "df_rev_int_panel.to_sql(f'sectorial_gdp_{frequency}_int_revisions_panel', engine, index=False, if_exists='replace')"
   ]
  },
  {
   "cell_type": "markdown",
   "id": "56650819",
   "metadata": {},
   "source": [
    "<div style=\"font-family: PT Serif Pro Book; text-align: left; color: dark; font-size: 16px;\">\n",
    "    <span style=\"font-size: 20px; color: rgb(255, 32, 78); font-weight: bold;\">\n",
    "        <a href=\"#steps-6\" style=\"color: #006769; text-decoration: none;\">⮝</a>\n",
    "    </span> \n",
    "    <a href=\"#steps-7\" style=\"color: #006769; text-decoration: none;\">Back to steps.</a>\n",
    "</div>"
   ]
  },
  {
   "cell_type": "markdown",
   "id": "0e5561bf",
   "metadata": {},
   "source": [
    "<div id=\"step-7-6\">\n",
    "   <!-- Contenido de la celda de destino -->\n",
    "</div>"
   ]
  },
  {
   "cell_type": "markdown",
   "id": "79c9eec7",
   "metadata": {},
   "source": [
    "<div style=\"text-align: left; font-family: 'PT Serif Pro Book'; font-size:22px\">\n",
    "    <span style=\"font-size: 24px; color: rgb(0, 65, 75)\">&#10127;</span> <span>Transpose dataframe in order to have nowcast error (intermediate revisions) of fixed events as columns</span>\n",
    "  </div>"
   ]
  },
  {
   "cell_type": "code",
   "execution_count": null,
   "id": "aef604f1",
   "metadata": {},
   "outputs": [],
   "source": [
    "df_fixed_events_int = transpose_df(df_rev_int, frequency)\n",
    "df_fixed_events_int.head(5)"
   ]
  },
  {
   "cell_type": "markdown",
   "id": "e9f67604",
   "metadata": {},
   "source": [
    "<div style=\"text-align: left; font-family: 'PT Serif Pro Book'; color: dark; font-size:16px\">\n",
    "    Compute time trend column\n",
    "    <div/>"
   ]
  },
  {
   "cell_type": "code",
   "execution_count": null,
   "id": "ca6f054a",
   "metadata": {},
   "outputs": [],
   "source": [
    "# Appling above function\n",
    "df_fixed_events_int = add_time_trend(df_fixed_events_int)\n",
    "df_fixed_events_int.head(5)"
   ]
  },
  {
   "cell_type": "markdown",
   "id": "2fed35b7",
   "metadata": {},
   "source": [
    "<div style=\"text-align: left; font-family: 'PT Serif Pro Book'; color: dark; font-size:16px\">\n",
    "    Replace \"-\" by \"_\" in columns\n",
    "    <div/>"
   ]
  },
  {
   "cell_type": "code",
   "execution_count": null,
   "id": "87782490",
   "metadata": {},
   "outputs": [],
   "source": [
    "df_fixed_events_int = replace_hyphen_in_columns(df_fixed_events_int)\n",
    "df_fixed_events_int.head(10)"
   ]
  },
  {
   "cell_type": "markdown",
   "id": "e944350d",
   "metadata": {},
   "source": [
    "<div style=\"text-align: left; font-family: 'PT Serif Pro Book'; color: dark; font-size:16px\">\n",
    "    Checking columns\n",
    "    <div/>"
   ]
  },
  {
   "cell_type": "code",
   "execution_count": null,
   "id": "5274be03",
   "metadata": {
    "scrolled": false
   },
   "outputs": [],
   "source": [
    "df_fixed_events_int.columns"
   ]
  },
  {
   "cell_type": "markdown",
   "id": "ecc33a84",
   "metadata": {},
   "source": [
    "<div style=\"text-align: left; font-family: 'PT Serif Pro Book'; color: dark; font-size:16px\">\n",
    "    Remove NaN or zero columns\n",
    "    <div/>"
   ]
  },
  {
   "cell_type": "code",
   "execution_count": null,
   "id": "1152c809",
   "metadata": {},
   "outputs": [],
   "source": [
    "df_fixed_events_int_filtered = remove_nan_or_zero_float_columns(df_fixed_events_int)\n",
    "df_fixed_events_int_filtered"
   ]
  },
  {
   "cell_type": "markdown",
   "id": "fa4b29e4",
   "metadata": {},
   "source": [
    "<div style=\"text-align: left; font-family: 'PT Serif Pro Book'; color: dark; font-size:16px\">\n",
    "    To SQL\n",
    "    <div/>"
   ]
  },
  {
   "cell_type": "code",
   "execution_count": null,
   "id": "4a127b14",
   "metadata": {},
   "outputs": [],
   "source": [
    "# Verificar si la frecuencia es mensual\n",
    "if frequency == 'monthly':\n",
    "    n = 1000  # Ajustar el tamaño del chunk\n",
    "    \n",
    "    # Asegurar que 'time_trend' esté en cada chunk\n",
    "    time_trend = df_fixed_events_int_filtered[['time_trend']]  # Extraer la columna 'time_trend'\n",
    "    \n",
    "    for i, chunk in enumerate(range(0, df_fixed_events_int_filtered.shape[1], n)):\n",
    "        # Seleccionar el chunk de columnas\n",
    "        chunk_df = df_fixed_events_int_filtered.iloc[:, chunk:chunk+n]\n",
    "        \n",
    "        # Verificar si 'time_trend' ya está en el chunk, si no, agregarla\n",
    "        if 'time_trend' not in chunk_df.columns:\n",
    "            chunk_df = pd.concat([time_trend, chunk_df], axis=1)\n",
    "        \n",
    "        # Guardar en SQL\n",
    "        chunk_df.to_sql(f'int_{frequency}_fixed_event_part_{i}', engine, index=False, if_exists='replace')\n",
    "\n",
    "# Verificar si la frecuencia es anual o trimestral\n",
    "elif frequency in ['annual', 'quarterly']:\n",
    "    # Guardar el DataFrame completo en SQL\n",
    "    df_fixed_events_int_filtered.to_sql(f'int_{frequency}_fixed_event', engine, index=False, if_exists='replace')"
   ]
  },
  {
   "cell_type": "markdown",
   "id": "4e6ca104",
   "metadata": {},
   "source": [
    "<div style=\"font-family: PT Serif Pro Book; text-align: left; color: dark; font-size: 16px;\">\n",
    "    <span style=\"font-size: 20px; color: rgb(255, 32, 78); font-weight: bold;\">\n",
    "        <a href=\"#steps-6\" style=\"color: #006769; text-decoration: none;\">⮝</a>\n",
    "    </span> \n",
    "    <a href=\"#steps-7\" style=\"color: #006769; text-decoration: none;\">Back to steps.</a>\n",
    "</div>"
   ]
  },
  {
   "cell_type": "markdown",
   "id": "da00a4a6",
   "metadata": {},
   "source": [
    "<div style=\"font-family: PT Serif Pro Book; text-align: left; color: dark; font-size: 16px;\">\n",
    "    <span style=\"font-size: 30px; color: rgb(255, 32, 78); font-weight: bold;\">\n",
    "        <a href=\"#outilne\" style=\"color: rgb(0, 153, 123); text-decoration: none;\">&#11180;</a>\n",
    "    </span> \n",
    "    <a href=\"#outilne\" style=\"color: rgb(0, 153, 123); text-decoration: none;\">Back to the outline.</a>\n",
    "</div>"
   ]
  },
  {
   "cell_type": "code",
   "execution_count": null,
   "id": "e4a63654",
   "metadata": {},
   "outputs": [],
   "source": []
  },
  {
   "cell_type": "code",
   "execution_count": null,
   "id": "bb59d462",
   "metadata": {},
   "outputs": [],
   "source": []
  },
  {
   "cell_type": "code",
   "execution_count": null,
   "id": "ef9cfd4e",
   "metadata": {},
   "outputs": [],
   "source": []
  },
  {
   "cell_type": "markdown",
   "id": "735bdc37",
   "metadata": {},
   "source": [
    "# Regression"
   ]
  },
  {
   "cell_type": "code",
   "execution_count": null,
   "id": "54829908",
   "metadata": {},
   "outputs": [],
   "source": [
    "pd.DataFrame(df_fixed_events_cum.filter(like='gdp_'))"
   ]
  },
  {
   "cell_type": "code",
   "execution_count": null,
   "id": "383c00fe",
   "metadata": {},
   "outputs": [],
   "source": [
    "# Crear la variable dependiente (el cuadrado de 'services_2021')\n",
    "df_fixed_events_cum['services_2021_abs'] = df_fixed_events_cum['services_2021'].abs()\n",
    "df_fixed_events_cum"
   ]
  },
  {
   "cell_type": "code",
   "execution_count": null,
   "id": "76a02ac5",
   "metadata": {},
   "outputs": [],
   "source": [
    "import statsmodels.api as sm\n",
    "\n",
    "# Eliminar filas con NaN en las columnas necesarias para la regresión\n",
    "clean_df = fixed_events_df[['services_2021_abs', 'time_trend']].dropna()\n",
    "\n",
    "# Definir la variable independiente ('time_trend')\n",
    "X = clean_df['time_trend']\n",
    "\n",
    "# Agregar una constante para el término alpha (intercepto)\n",
    "X = sm.add_constant(X)\n",
    "\n",
    "# Definir la variable dependiente\n",
    "y = clean_df['services_2021_abs']\n",
    "\n",
    "# Ajustar el modelo de regresión\n",
    "model = sm.OLS(y, X).fit()\n",
    "\n",
    "# Imprimir los resultados del modelo\n",
    "print(model.summary())"
   ]
  },
  {
   "cell_type": "code",
   "execution_count": null,
   "id": "95e30289",
   "metadata": {},
   "outputs": [],
   "source": [
    "df_filtered = df_fixed_events_1.iloc[:20]\n",
    "df_filtered"
   ]
  },
  {
   "cell_type": "code",
   "execution_count": null,
   "id": "2b54f9a9",
   "metadata": {},
   "outputs": [],
   "source": [
    "import statsmodels.api as sm\n",
    "\n",
    "# Eliminar filas con NaN en las columnas necesarias para la regresión\n",
    "clean_df = df_filtered[['services_2021_abs', 'time_trend']].dropna()\n",
    "\n",
    "# Definir la variable independiente ('time_trend')\n",
    "X = clean_df['time_trend']\n",
    "\n",
    "# Agregar una constante para el término alpha (intercepto)\n",
    "X = sm.add_constant(X)\n",
    "\n",
    "# Definir la variable dependiente\n",
    "y = clean_df['services_2021_abs']\n",
    "\n",
    "# Ajustar el modelo de regresión\n",
    "model = sm.OLS(y, X).fit()\n",
    "\n",
    "# Imprimir los resultados del modelo\n",
    "print(model.summary())"
   ]
  },
  {
   "cell_type": "code",
   "execution_count": null,
   "id": "420de338",
   "metadata": {},
   "outputs": [],
   "source": [
    "df_removed_columns = remove_nan_or_zero_float_columns(df_filtered_1)\n",
    "df_removed_columns"
   ]
  },
  {
   "cell_type": "code",
   "execution_count": null,
   "id": "d895e0b7",
   "metadata": {},
   "outputs": [],
   "source": [
    "pd.DataFrame(df_removed_columns.filter(like='gdp_'))"
   ]
  },
  {
   "cell_type": "markdown",
   "id": "a84f6870",
   "metadata": {},
   "source": [
    "# Newey West"
   ]
  },
  {
   "cell_type": "code",
   "execution_count": null,
   "id": "64783e84",
   "metadata": {},
   "outputs": [],
   "source": [
    "# Crear la variable dependiente (el cuadrado de 'services_2021')\n",
    "df_fixed_events_cum_filtered['gdp_2002_abs'] = df_fixed_events_cum['gdp_2002'].abs()\n",
    "df_fixed_events_cum_filtered"
   ]
  },
  {
   "cell_type": "code",
   "execution_count": null,
   "id": "a6b22370",
   "metadata": {},
   "outputs": [],
   "source": [
    "import statsmodels.api as sm"
   ]
  },
  {
   "cell_type": "code",
   "execution_count": null,
   "id": "de04777a",
   "metadata": {},
   "outputs": [],
   "source": [
    "# Eliminar filas con NaN en las columnas necesarias para la regresión\n",
    "clean_df = df_fixed_events_cum_filtered[['gdp_2002_abs', 'time_trend']].dropna()\n",
    "\n",
    "# Suponiendo que clean_df es tu DataFrame ya limpio\n",
    "X = clean_df['time_trend']\n",
    "y = clean_df['gdp_2002_abs']\n",
    "\n",
    "# Agregar una constante a la variable independiente\n",
    "X = sm.add_constant(X)\n",
    "\n",
    "# Ajustar el modelo de regresión\n",
    "model = sm.OLS(y, X).fit()\n",
    "\n",
    "# Calcular errores estándar de Newey-West\n",
    "newey_west_cov = model.get_robustcov_results(cov_type='HAC', maxlags=1)\n",
    "\n",
    "# Imprimir los resultados con errores estándar de Newey-West\n",
    "print(newey_west_cov.summary())"
   ]
  },
  {
   "cell_type": "code",
   "execution_count": null,
   "id": "997776c8",
   "metadata": {},
   "outputs": [],
   "source": []
  }
 ],
 "metadata": {
  "kernelspec": {
   "display_name": "gdp_revisions",
   "language": "python",
   "name": "gdp_revisions"
  },
  "language_info": {
   "codemirror_mode": {
    "name": "ipython",
    "version": 3
   },
   "file_extension": ".py",
   "mimetype": "text/x-python",
   "name": "python",
   "nbconvert_exporter": "python",
   "pygments_lexer": "ipython3",
   "version": "3.12.1"
  }
 },
 "nbformat": 4,
 "nbformat_minor": 5
}
