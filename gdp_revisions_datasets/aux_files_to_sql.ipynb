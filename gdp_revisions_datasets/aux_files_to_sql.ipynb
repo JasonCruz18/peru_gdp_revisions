{
 "cells": [
  {
   "cell_type": "code",
   "execution_count": null,
   "id": "6b39b490",
   "metadata": {},
   "outputs": [],
   "source": []
  },
  {
   "cell_type": "markdown",
   "id": "3e7a0645",
   "metadata": {},
   "source": [
    "<div style=\"text-align: center; font-family: 'charter bt pro roman'; color: rgb(0, 65, 75);\">\n",
    "    <h1>\n",
    "    Auxiliar Files to PostgresSQL\n",
    "    </h1>\n",
    "</div>"
   ]
  },
  {
   "cell_type": "markdown",
   "id": "ce205c88",
   "metadata": {},
   "source": [
    "<div style=\"text-align: center; font-family: 'charter bt pro roman'; color: rgb(0, 65, 75);\">\n",
    "    <h3>\n",
    "        Documentation\n",
    "        <br>\n",
    "        ____________________\n",
    "            </br>\n",
    "    </h3>\n",
    "</div>"
   ]
  },
  {
   "cell_type": "markdown",
   "id": "3adf7d9d",
   "metadata": {},
   "source": [
    "<div style=\"text-align: center; font-family: 'PT Serif Pro Book'; color: rgb(0, 65, 75); font-size: 16px;\">\n",
    "    Jason Cruz\n",
    "    <br>\n",
    "    <a href=\"mailto:jj.cruza@up.edu.pe\" style=\"color: rgb(0, 153, 123); font-size: 16px;\">\n",
    "        jj.cruza@up.edu.pe\n",
    "    </a>\n",
    "</div>"
   ]
  },
  {
   "cell_type": "markdown",
   "id": "3ec9c893",
   "metadata": {},
   "source": [
    "<div style=\"font-family: Amaya; text-align: left; color: rgb(0, 65, 75); font-size:16px\">The following <b>outline is functional</b>. By utilising the provided buttons, users are able to enhance their experience by browsing this script.<div/>"
   ]
  },
  {
   "cell_type": "markdown",
   "id": "5f2fd8a6",
   "metadata": {},
   "source": [
    "<div id=\"outilne\">\n",
    "   <!-- Contenido de la celda de destino -->\n",
    "</div>"
   ]
  },
  {
   "cell_type": "markdown",
   "id": "11528b55",
   "metadata": {},
   "source": [
    "<div style=\"background-color: #292929; padding: 10px; font-family: 'PT Serif Pro Book';\">\n",
    "    <h2 style=\"text-align: left; color: #E0E0E0;\">\n",
    "        Outline\n",
    "    </h2>\n",
    "    <br>\n",
    "    <a href=\"#libraries\" style=\"color: #94FFD8; font-size: 18px;\">\n",
    "        Libraries</a>\n",
    "    <br>\n",
    "    <a href=\"#setup\" style=\"color: #94FFD8; font-size: 18px;\">\n",
    "        Initial set-up</a>\n",
    "    <br>\n",
    "    <a href=\"#1\" style=\"color: #94FFD8; font-size: 18px;\">\n",
    "        1. Loading gdp_percentage_structure</a>\n",
    "    <br>\n",
    "    <a href=\"#2\" style=\"color: #94FFD8; font-size: 18px;\">\n",
    "        2. Generate PDF input with key tables</a>\n",
    "    <br>\n",
    "    <a href=\"#3\" style=\"color: #94FFD8; font-size: 18px;\">    \n",
    "        3. Load date, year, id and base year data</a>\n",
    "    <br>\n",
    "    <a href=\"#4\" style=\"color: #94FFD8; font-size: 18px;\">    \n",
    "        4. Load dummies for raw data delivered by Central Bank</a>\n",
    "    <br>\n",
    "    <a href=\"#5\" style=\"color: #94FFD8; font-size: 18px;\">    \n",
    "        5. Concatenate old_gdp_dataset with new_gdp_dataset</a>\n",
    "    <br>\n",
    "    <a href=\"#6\" style=\"color: #94FFD8; font-size: 18px;\">    \n",
    "        6. Merge all the releases datasets</a>\n",
    "    <br>\n",
    "    <a href=\"#7\" style=\"color: #94FFD8; font-size: 18px;\">    \n",
    "        7. Create cumulative revisions</a>\n",
    "</div>\n"
   ]
  },
  {
   "cell_type": "markdown",
   "id": "1e253675",
   "metadata": {},
   "source": [
    "<div style=\"text-align: left; font-family: 'PT Serif Pro Book'; color: dark; font-size:16px\">\n",
    "    Any questions or issues regarding the coding, please <a href=\"mailto:jj.cruza@alum.up.edu.pe\" style=\"color: rgb(0, 153, 123)\">email Jason Cruz\n",
    "    </a>.\n",
    "    <div/>"
   ]
  },
  {
   "cell_type": "markdown",
   "id": "33ac4954",
   "metadata": {},
   "source": [
    "<div style=\"text-align: left; font-family: 'PT Serif Pro Book'; color: dark; font-size:16px\"\">\n",
    "    If you don't have the libraries below, please use the following code (as example) to install the required libraries.\n",
    "    <div/>"
   ]
  },
  {
   "cell_type": "code",
   "execution_count": null,
   "id": "cdd39234",
   "metadata": {},
   "outputs": [],
   "source": [
    "#!pip install os # Comment this code with \"#\" if you have already installed this library."
   ]
  },
  {
   "cell_type": "markdown",
   "id": "8605c30e",
   "metadata": {},
   "source": [
    "<div id=\"libraries\">\n",
    "   <!-- Contenido de la celda de destino -->\n",
    "</div>"
   ]
  },
  {
   "cell_type": "markdown",
   "id": "d067139c",
   "metadata": {},
   "source": [
    "<div style=\"text-align: left; font-family: 'PT Serif Pro Book'; color: dark;\">\n",
    "    <h2>\n",
    "    Libraries\n",
    "    </h2>\n",
    "    <div/>"
   ]
  },
  {
   "cell_type": "code",
   "execution_count": null,
   "id": "7be7e507",
   "metadata": {},
   "outputs": [],
   "source": [
    "import pandas as pd\n",
    "import os\n",
    "from sqlalchemy import create_engine\n",
    "import re"
   ]
  },
  {
   "cell_type": "markdown",
   "id": "84c03d93",
   "metadata": {},
   "source": [
    "<div style=\"font-family: PT Serif Pro Book; text-align: left; color: dark; font-size: 16px;\">\n",
    "    <span style=\"font-size: 30px; color: rgb(255, 32, 78); font-weight: bold;\">\n",
    "        <a href=\"#outilne\" style=\"color: rgb(0, 153, 123); text-decoration: none;\">&#11180;</a>\n",
    "    </span> \n",
    "    <a href=\"#outilne\" style=\"color: rgb(0, 153, 123); text-decoration: none;\">Back to the outline.</a>\n",
    "</div>"
   ]
  },
  {
   "cell_type": "markdown",
   "id": "ce8edb17",
   "metadata": {},
   "source": [
    "<div id=\"setup\">\n",
    "   <!-- Contenido de la celda de destino -->\n",
    "</div>"
   ]
  },
  {
   "cell_type": "markdown",
   "id": "a3667250",
   "metadata": {},
   "source": [
    "<div style=\"text-align: left; font-family: 'PT Serif Pro Book'; color: dark;\">\n",
    "    <h2>\n",
    "    Initial set-up\n",
    "    </h2>\n",
    "    <div/>"
   ]
  },
  {
   "cell_type": "markdown",
   "id": "fda38284",
   "metadata": {},
   "source": [
    "<div style=\"font-family: PT Serif Pro Book; text-align: left; color:dark; font-size:16px\"> The following code lines will create folders in your current path, call them to import and export your outputs. <div/>"
   ]
  },
  {
   "cell_type": "code",
   "execution_count": null,
   "id": "99497a7d",
   "metadata": {},
   "outputs": [],
   "source": [
    "# Folder path to save the csv file of GDP percentage structure\n",
    "\n",
    "gdp_perc_structure_folder = 'gdp_perc_structure'\n",
    "if not os.path.exists(gdp_perc_structure_folder):\n",
    "    os.makedirs(gdp_perc_structure_folder) # to create the folder (if it doesn't exist)"
   ]
  },
  {
   "cell_type": "code",
   "execution_count": null,
   "id": "20994e9e",
   "metadata": {},
   "outputs": [],
   "source": [
    "# Folder path to save the csv file of NS dates\n",
    "\n",
    "ns_dates_folder = 'ns_dates'\n",
    "if not os.path.exists(ns_dates_folder):\n",
    "    os.makedirs(ns_dates_folder) # to create the folder (if it doesn't exist)"
   ]
  },
  {
   "cell_type": "code",
   "execution_count": null,
   "id": "3058b116",
   "metadata": {},
   "outputs": [],
   "source": [
    "# Folder path to save the csv file of NS base year\n",
    "\n",
    "ns_base_year_folder = 'ns_base_year'\n",
    "if not os.path.exists(ns_base_year_folder):\n",
    "    os.makedirs(ns_base_year_folder) # to create the folder (if it doesn't exist)"
   ]
  },
  {
   "cell_type": "code",
   "execution_count": null,
   "id": "beb4987e",
   "metadata": {},
   "outputs": [],
   "source": [
    "# Folder path to save the xlsx files delivered by Central Bank\n",
    "\n",
    "data_delivered_folder = 'old_raw_data_delivered'\n",
    "if not os.path.exists(data_delivered_folder):\n",
    "    os.makedirs(data_delivered_folder) # to create the folder (if it doesn't exist)"
   ]
  },
  {
   "cell_type": "markdown",
   "id": "97f4bd9b",
   "metadata": {},
   "source": [
    "<p style=\"font-family: PT Serif Pro Book; text-align: left; color:dark; font-size:16px\"> The following function will establish a connection to the <code>gdp_revisions_datasets</code> database in <code>PostgreSQL</code>. The <b>input data</b> used in this jupyter notebook will be loaded from this <code>PostgreSQL</code> database, and similarly, all <b>output data</b> generated by this jupyter notebook will be stored in that database. Ensure that you set the necessary parameters to access the server once you have obtained the required permissions.<p/>\n",
    "    \n",
    "<p style=\"text-align: left; font-family: 'PT Serif Pro Book'; color: dark; font-size:16px\">\n",
    "To request permissions, please email Jason Cruz <a href=\"mailto:jj.cruza@alum.up.edu.pe\" style=\"color: rgb(0, 153, 123); text-decoration: none;\"> <span style=\"font-size: 24px;\">&#x2709;</span>\n",
    "    </a>.\n",
    "<p/>"
   ]
  },
  {
   "cell_type": "markdown",
   "id": "14149b86",
   "metadata": {},
   "source": [
    "<div style=\"text-align: left; font-family: 'PT Serif Pro Book'; color: dark; font-size:16px\">\n",
    "    <span style=\"font-size: 24px; color: #FFA823; font-weight: bold;\">&#9888;</span>\n",
    "    Enter your user credentials to acces to SQL.\n",
    "    <div/>"
   ]
  },
  {
   "cell_type": "code",
   "execution_count": null,
   "id": "fde300b7",
   "metadata": {},
   "outputs": [],
   "source": [
    "# Get environment variables\n",
    "user = os.environ.get('CIUP_SQL_USER')\n",
    "password = os.environ.get('CIUP_SQL_PASS')\n",
    "host = os.environ.get('CIUP_SQL_HOST')\n",
    "port = 5432\n",
    "database = 'gdp_revisions_datasets'\n",
    "\n",
    "# Check if all environment variables are defined\n",
    "if not all([host, user, password]):\n",
    "    raise ValueError(\"Some environment variables are missing (CIUP_SQL_HOST, CIUP_SQL_USER, CIUP_SQL_PASS)\")\n",
    "\n",
    "# Create connection string\n",
    "connection_string = f\"postgresql://{user}:{password}@{host}:{port}/{database}\"\n",
    "\n",
    "# Create SQLAlchemy engine\n",
    "engine = create_engine(connection_string)"
   ]
  },
  {
   "cell_type": "markdown",
   "id": "8d4d4dfb",
   "metadata": {},
   "source": [
    "<div style=\"text-align: left;\">\n",
    "    <span style=\"font-size: 24px; color: rgb(255, 32, 78); font-weight: bold;\">&#9888;</span>\n",
    "    <span style=\"font-family: PT Serif Pro Book; color: black; font-size: 16px;\">\n",
    "        Import all other functions required by this jupyter notebook.\n",
    "    </span>\n",
    "</div>"
   ]
  },
  {
   "cell_type": "markdown",
   "id": "5483f363",
   "metadata": {},
   "source": [
    "<div style=\"font-family: PT Serif Pro Book; text-align: left; color:dark; font-size:16px\"> Please, check the script <code>gdp_revisions_datasets_functions.py</code> which contains all the functions required by this jupyter notebook. The functions there are ordered according to the <a href=\"#outilne\" style=\"color: #3d30a2;\">sections</a> of this jupyter notebok.<div/>"
   ]
  },
  {
   "cell_type": "code",
   "execution_count": null,
   "id": "766a4304",
   "metadata": {},
   "outputs": [],
   "source": [
    "from gdp_revisions_datasets_functions import *"
   ]
  },
  {
   "cell_type": "markdown",
   "id": "53531869",
   "metadata": {},
   "source": [
    "<div style=\"font-family: PT Serif Pro Book; text-align: left; color: dark; font-size: 16px;\">\n",
    "    <span style=\"font-size: 30px; color: rgb(255, 32, 78); font-weight: bold;\">\n",
    "        <a href=\"#outilne\" style=\"color: rgb(0, 153, 123); text-decoration: none;\">&#11180;</a>\n",
    "    </span> \n",
    "    <a href=\"#outilne\" style=\"color: rgb(0, 153, 123); text-decoration: none;\">Back to the outline.</a>\n",
    "</div>"
   ]
  },
  {
   "cell_type": "markdown",
   "id": "e0a0baeb",
   "metadata": {},
   "source": [
    "<div id=\"1\">\n",
    "   <!-- Contenido de la celda de destino -->\n",
    "</div>"
   ]
  },
  {
   "cell_type": "markdown",
   "id": "e86b549d",
   "metadata": {},
   "source": [
    "<div style=\"background-color: #00414C; color: white; padding: 10px;\">\n",
    "<h1><span style = \"color: #15F5BA; font-family: 'PT Serif Pro Book'; color: dark;\">1.</span> <span style = \"color: dark; font-family: PT Serif Pro Book;\">Loading gdp_percentage_structure</span></h1>\n",
    "    </div>"
   ]
  },
  {
   "cell_type": "code",
   "execution_count": null,
   "id": "7e2ed8e9",
   "metadata": {},
   "outputs": [],
   "source": [
    "# Loading csv data\n",
    "gdp_percentage_structure = f'{gdp_perc_structure_folder}/gdp_percentage_structure.csv'\n",
    "\n",
    "# Reads the CSV file in a DataFrame, specifying that the delimiter is the comma\n",
    "gdp_percentage_structure = pd.read_csv(gdp_percentage_structure, delimiter=';')\n",
    "gdp_percentage_structure.head(5)"
   ]
  },
  {
   "cell_type": "markdown",
   "id": "57c5e1d9",
   "metadata": {},
   "source": [
    "<div style=\"font-family: PT Serif Pro Book; text-align: left; color:dark; font-size:16px\"> Loading to SQL.<div/>"
   ]
  },
  {
   "cell_type": "code",
   "execution_count": null,
   "id": "c8af066c",
   "metadata": {},
   "outputs": [],
   "source": [
    "gdp_percentage_structure.to_sql('gdp_percentage_structure', engine, index=False, if_exists='replace')"
   ]
  },
  {
   "cell_type": "markdown",
   "id": "97d116d0",
   "metadata": {},
   "source": [
    "<div style=\"font-family: PT Serif Pro Book; text-align: left; color: dark; font-size: 16px;\">\n",
    "    <span style=\"font-size: 30px; color: rgb(255, 32, 78); font-weight: bold;\">\n",
    "        <a href=\"#outilne\" style=\"color: rgb(0, 153, 123); text-decoration: none;\">&#11180;</a>\n",
    "    </span> \n",
    "    <a href=\"#outilne\" style=\"color: rgb(0, 153, 123); text-decoration: none;\">Back to the outline.</a>\n",
    "</div>"
   ]
  },
  {
   "cell_type": "markdown",
   "id": "fe87c79f",
   "metadata": {},
   "source": [
    "<div id=\"2\">\n",
    "   <!-- Contenido de la celda de destino -->\n",
    "</div>"
   ]
  },
  {
   "cell_type": "markdown",
   "id": "243b2dd1",
   "metadata": {},
   "source": [
    "<div style=\"background-color: #00414C; color: white; padding: 10px;\">\n",
    "<h1><span style = \"color: #15F5BA; font-family: 'PT Serif Pro Book'; color: dark;\">2.</span> <span style = \"color: dark; font-family: PT Serif Pro Book;\">Load date, year and id data</span></h1>\n",
    "    </div>"
   ]
  },
  {
   "cell_type": "code",
   "execution_count": null,
   "id": "2a571a7d",
   "metadata": {},
   "outputs": [],
   "source": [
    "# Loading csv data\n",
    "csv_file = f'{ns_dates_folder}/dates.csv'\n",
    "\n",
    "# Reads the CSV file in a DataFrame, specifying that the delimiter is the comma\n",
    "dates = pd.read_csv(csv_file, delimiter=';')\n",
    "dates.head(5)"
   ]
  },
  {
   "cell_type": "markdown",
   "id": "8e4d9201",
   "metadata": {},
   "source": [
    "<div style=\"font-family: PT Serif Pro Book; text-align: left; color:dark; font-size:16px\"> Clean-up the dataframe columns.<div/>"
   ]
  },
  {
   "cell_type": "code",
   "execution_count": null,
   "id": "279b5da7",
   "metadata": {},
   "outputs": [],
   "source": [
    "# Convert the 'date' column to datetime type without time\n",
    "dates['date'] = pd.to_datetime(dates['date'], format='%d/%m/%Y', errors='coerce')\n",
    "\n",
    "# Check the data type of the 'date' column after conversion\n",
    "print(dates['date'].dtype)\n",
    "\n",
    "# Check if there are NaT values in the 'date' column\n",
    "print(dates['date'].isnull().sum())"
   ]
  },
  {
   "cell_type": "markdown",
   "id": "f169ba2e",
   "metadata": {},
   "source": [
    "<div style=\"font-family: PT Serif Pro Book; text-align: left; color:dark; font-size:16px\"> Loading to SQL.<div/>"
   ]
  },
  {
   "cell_type": "code",
   "execution_count": null,
   "id": "1ef26297",
   "metadata": {},
   "outputs": [],
   "source": [
    "dates.to_sql('dates_growth_rates', engine, index=False, if_exists='replace')"
   ]
  },
  {
   "cell_type": "markdown",
   "id": "213f1343",
   "metadata": {},
   "source": [
    "<div style=\"font-family: PT Serif Pro Book; text-align: left; color: dark; font-size: 16px;\">\n",
    "    <span style=\"font-size: 30px; color: rgb(255, 32, 78); font-weight: bold;\">\n",
    "        <a href=\"#outilne\" style=\"color: rgb(0, 153, 123); text-decoration: none;\">&#11180;</a>\n",
    "    </span> \n",
    "    <a href=\"#outilne\" style=\"color: rgb(0, 153, 123); text-decoration: none;\">Back to the outline.</a>\n",
    "</div>"
   ]
  },
  {
   "cell_type": "markdown",
   "id": "51ef0cfa",
   "metadata": {},
   "source": [
    "<div id=\"3\">\n",
    "   <!-- Contenido de la celda de destino -->\n",
    "</div>"
   ]
  },
  {
   "cell_type": "markdown",
   "id": "1e7fda80",
   "metadata": {},
   "source": [
    "<div style=\"background-color: #00414C; color: white; padding: 10px;\">\n",
    "<h1><span style = \"color: #15F5BA; font-family: 'PT Serif Pro Book'; color: dark;\">3.</span> <span style = \"color: dark; font-family: PT Serif Pro Book;\">Load date, year, id and base year data</span></h1>\n",
    "    </div>"
   ]
  },
  {
   "cell_type": "code",
   "execution_count": null,
   "id": "0d6c828f",
   "metadata": {},
   "outputs": [],
   "source": [
    "# Loading csv data\n",
    "csv_file = f'{ns_base_year_folder}/base_year.csv'\n",
    "\n",
    "# Reads the CSV file in a DataFrame, specifying that the delimiter is the comma\n",
    "base_year = pd.read_csv(csv_file, delimiter=';')\n",
    "base_year.head(5)"
   ]
  },
  {
   "cell_type": "markdown",
   "id": "d6c58a77",
   "metadata": {},
   "source": [
    "<div style=\"font-family: PT Serif Pro Book; text-align: left; color:dark; font-size:16px\"> Clean-up the dataframe columns.<div/>"
   ]
  },
  {
   "cell_type": "code",
   "execution_count": null,
   "id": "8024e9c8",
   "metadata": {},
   "outputs": [],
   "source": [
    "# Convert the 'date' column to datetime type without time\n",
    "base_year['date'] = pd.to_datetime(base_year['date'], format='%d/%m/%Y', errors='coerce')\n",
    "\n",
    "# Check the data type of the 'date' column after conversion\n",
    "print(base_year['date'].dtype)\n",
    "\n",
    "# Check if there are NaT values in the 'date' column\n",
    "print(base_year['date'].isnull().sum())"
   ]
  },
  {
   "cell_type": "code",
   "execution_count": null,
   "id": "eb6a202d",
   "metadata": {},
   "outputs": [],
   "source": [
    "# Change to str\n",
    "base_year['year'] = base_year['year'].astype(str)\n",
    "base_year['id_ns'] = base_year['id_ns'].apply(lambda x: f'{x:02}')\n",
    "base_year['base_year'] = base_year['base_year'].astype(str)\n",
    "base_year.head(10)"
   ]
  },
  {
   "cell_type": "markdown",
   "id": "ed2998ab",
   "metadata": {},
   "source": [
    "<div style=\"font-family: PT Serif Pro Book; text-align: left; color:dark; font-size:16px\"> Loading to SQL.<div/>"
   ]
  },
  {
   "cell_type": "code",
   "execution_count": null,
   "id": "7411ec7d",
   "metadata": {},
   "outputs": [],
   "source": [
    "base_year.to_sql('ns_base_year', engine, index=False, if_exists='replace')"
   ]
  },
  {
   "cell_type": "markdown",
   "id": "b49fce8b",
   "metadata": {},
   "source": [
    "<div style=\"font-family: PT Serif Pro Book; text-align: left; color: dark; font-size: 16px;\">\n",
    "    <span style=\"font-size: 30px; color: rgb(255, 32, 78); font-weight: bold;\">\n",
    "        <a href=\"#outilne\" style=\"color: rgb(0, 153, 123); text-decoration: none;\">&#11180;</a>\n",
    "    </span> \n",
    "    <a href=\"#outilne\" style=\"color: rgb(0, 153, 123); text-decoration: none;\">Back to the outline.</a>\n",
    "</div>"
   ]
  },
  {
   "cell_type": "markdown",
   "id": "65f9b15a",
   "metadata": {},
   "source": [
    "<div id=\"4\">\n",
    "   <!-- Contenido de la celda de destino -->\n",
    "</div>"
   ]
  },
  {
   "cell_type": "markdown",
   "id": "2ddc2397",
   "metadata": {},
   "source": [
    "<div style=\"background-color: #00414C; color: white; padding: 10px;\">\n",
    "<h1><span style = \"color: #15F5BA; font-family: 'PT Serif Pro Book'; color: dark;\">4.</span> <span style = \"color: dark; font-family: PT Serif Pro Book;\">Load dummies for raw data delivered by Central Bank</span></h1>\n",
    "    </div>"
   ]
  },
  {
   "cell_type": "code",
   "execution_count": null,
   "id": "a1b7e7d7",
   "metadata": {},
   "outputs": [],
   "source": [
    "# Loading csv data\n",
    "delivered_data_dummies = f'{data_delivered_folder}/old_raw_data_delivered.csv'\n",
    "\n",
    "# Reads the CSV file in a DataFrame, specifying that the delimiter is the comma\n",
    "delivered_data_dummies = pd.read_csv(delivered_data_dummies, delimiter=';')\n",
    "delivered_data_dummies.head(5)"
   ]
  },
  {
   "cell_type": "code",
   "execution_count": null,
   "id": "2b9a42ec",
   "metadata": {},
   "outputs": [],
   "source": [
    "delivered_data_dummies.to_sql('old_raw_data_delivered', engine, index=False, if_exists='replace')"
   ]
  },
  {
   "cell_type": "markdown",
   "id": "08077029",
   "metadata": {},
   "source": [
    "<div style=\"font-family: PT Serif Pro Book; text-align: left; color: dark; font-size: 16px;\">\n",
    "    <span style=\"font-size: 30px; color: rgb(255, 32, 78); font-weight: bold;\">\n",
    "        <a href=\"#outilne\" style=\"color: rgb(0, 153, 123); text-decoration: none;\">&#11180;</a>\n",
    "    </span> \n",
    "    <a href=\"#outilne\" style=\"color: rgb(0, 153, 123); text-decoration: none;\">Back to the outline.</a>\n",
    "</div>"
   ]
  },
  {
   "cell_type": "markdown",
   "id": "c9cb2397",
   "metadata": {},
   "source": [
    "<div id=\"5\">\n",
    "   <!-- Contenido de la celda de destino -->\n",
    "</div>"
   ]
  },
  {
   "cell_type": "markdown",
   "id": "6b344b99",
   "metadata": {},
   "source": [
    "<div style=\"background-color: #00414C; color: white; padding: 10px;\">\n",
    "<h1><span style = \"color: #15F5BA; font-family: 'PT Serif Pro Book'; color: dark;\">5.</span> <span style = \"color: dark; font-family: PT Serif Pro Book;\">Concatenate old_gdp_dataset with new_gdp_dataset</span></h1>\n",
    "    </div>"
   ]
  },
  {
   "cell_type": "markdown",
   "id": "4f1eb284",
   "metadata": {},
   "source": [
    "<div id=\"steps-5\">\n",
    "   <!-- Contenido de la celda de destino -->\n",
    "</div>"
   ]
  },
  {
   "cell_type": "markdown",
   "id": "0bf6f8a2",
   "metadata": {},
   "source": [
    "<div style=\"font-family: PT Serif Pro Book; text-align: left; color: dark; font-size: 16px;\">\n",
    "    <a href=\"#step-5-1\" style=\"text-decoration: none; color: #006769\"> <span style=\"font-size: 24px; color: rgb(0, 65, 75);\">&#10122;</span> Select economic sector</a>\n",
    "    <br>\n",
    "    <a href=\"#step-5-2\" style=\"text-decoration: none; color: #006769\"><span style=\"font-size: 24px; color: rgb(0, 65, 75)\">&#10123;</span> Select frequency</a>\n",
    "    <br>\n",
    "    <a href=\"#step-5-3\" style=\"text-decoration: none; color: #006769\"><span style=\"font-size: 24px; color: rgb(0, 65, 75)\">&#10124;</span> Import dataframes from PostgresSQL</a>\n",
    "    <br>\n",
    "    <a href=\"#step-5-4\" style=\"text-decoration: none; color: #006769\"><span style=\"font-size: 24px; color: rgb(0, 65, 75)\">&#10125;</span> Concatenate dataframes</a>\n",
    "    <br>\n",
    "    <a href=\"#step-5-5\" style=\"text-decoration: none; color: #006769\"><span style=\"font-size: 24px; color: rgb(0, 65, 75)\">&#10126;</span> Load to PostgresSQL</a>\n",
    "</div>"
   ]
  },
  {
   "cell_type": "markdown",
   "id": "ece1db3d",
   "metadata": {},
   "source": [
    "<div id=\"step-5-1\">\n",
    "   <!-- Contenido de la celda de destino -->\n",
    "</div>"
   ]
  },
  {
   "cell_type": "markdown",
   "id": "aa225ba0",
   "metadata": {},
   "source": [
    "<div style=\"text-align: left; font-family: 'PT Serif Pro Book'; font-size:22px\">\n",
    "    <span style=\"font-size: 24px; color: rgb(0, 65, 75)\">&#10122;</span> <span>Select economic sector</span>\n",
    "  </div>"
   ]
  },
  {
   "cell_type": "code",
   "execution_count": null,
   "id": "0c23b820",
   "metadata": {},
   "outputs": [],
   "source": [
    "# Call the function to show the popup window\n",
    "sector = show_option_window()\n",
    "print(\"Selected economic sector:\", sector)"
   ]
  },
  {
   "cell_type": "markdown",
   "id": "6e04f284",
   "metadata": {},
   "source": [
    "<div id=\"step-5-2\">\n",
    "   <!-- Contenido de la celda de destino -->\n",
    "</div>"
   ]
  },
  {
   "cell_type": "markdown",
   "id": "01687af1",
   "metadata": {},
   "source": [
    "<div style=\"text-align: left; font-family: 'PT Serif Pro Book'; font-size:22px\">\n",
    "    <span style=\"font-size: 24px; color: rgb(0, 65, 75)\">&#10123;</span> <span>Select frequency</span>\n",
    "  </div>"
   ]
  },
  {
   "cell_type": "code",
   "execution_count": null,
   "id": "64c1a185",
   "metadata": {
    "scrolled": false
   },
   "outputs": [],
   "source": [
    "# Call the function to show the popup window\n",
    "frequency = show_frequency_window()\n",
    "print(\"Selected frequency:\", frequency)"
   ]
  },
  {
   "cell_type": "markdown",
   "id": "6c7bb3ba",
   "metadata": {},
   "source": [
    "<div style=\"font-family: PT Serif Pro Book; text-align: left; color: dark; font-size: 16px;\">\n",
    "    <span style=\"font-size: 20px; color: #2C4E80; font-weight: bold;\">\n",
    "        <a href=\"#step-5-3\" style=\"color: #2C4E80; text-decoration: none;\">⮟</a>\n",
    "    </span> \n",
    "    <a href=\"#step-5-3\" style=\"color: #2C4E80; text-decoration: none;\">Continue with Step <span style=\"font-size: 24px; color: rgb(0, 65, 75)\">&#10124;</span> in <b>Section 5</b>.</a>\n",
    "</div>"
   ]
  },
  {
   "cell_type": "markdown",
   "id": "f3f62665",
   "metadata": {},
   "source": [
    "<div style=\"font-family: PT Serif Pro Book; text-align: left; color: dark; font-size: 16px;\">\n",
    "    <span style=\"font-size: 20px; color: rgb(255, 32, 78); font-weight: bold;\">\n",
    "        <a href=\"#6\" style=\"color: #836FFF; text-decoration: none;\">⮟</a>\n",
    "    </span> \n",
    "    <a href=\"#6\" style=\"color: #836FFF; text-decoration: none;\">Go to <b>Section 6</b>.</a>\n",
    "</div>"
   ]
  },
  {
   "cell_type": "markdown",
   "id": "25a4d470",
   "metadata": {},
   "source": [
    "<div style=\"font-family: PT Serif Pro Book; text-align: left; color: dark; font-size: 16px;\">\n",
    "    <span style=\"font-size: 20px; color: rgb(255, 32, 78); font-weight: bold;\">\n",
    "        <a href=\"#7\" style=\"color: #836FFF; text-decoration: none;\">⮟</a>\n",
    "    </span> \n",
    "    <a href=\"#7\" style=\"color: #836FFF; text-decoration: none;\">Go to <b>Section 7</b>.</a>\n",
    "</div>"
   ]
  },
  {
   "cell_type": "markdown",
   "id": "7c6eb771",
   "metadata": {},
   "source": [
    "<div id=\"step-5-3\">\n",
    "   <!-- Contenido de la celda de destino -->\n",
    "</div>"
   ]
  },
  {
   "cell_type": "markdown",
   "id": "28f41c1c",
   "metadata": {},
   "source": [
    "<div style=\"text-align: left; font-family: 'PT Serif Pro Book'; font-size:22px\">\n",
    "    <span style=\"font-size: 24px; color: rgb(0, 65, 75)\">&#10124;</span> <span>Import dataframes from PostgresSQL</span>\n",
    "  </div>"
   ]
  },
  {
   "cell_type": "code",
   "execution_count": null,
   "id": "9b282d94",
   "metadata": {},
   "outputs": [],
   "source": [
    "# Crear un DataFrame de pandas desde la tabla\n",
    "query_1 = f\"SELECT * FROM old_{sector}_{frequency}_growth_rates;\"\n",
    "df_1 = pd.read_sql(query_1, engine)"
   ]
  },
  {
   "cell_type": "code",
   "execution_count": null,
   "id": "1e86376e",
   "metadata": {},
   "outputs": [],
   "source": [
    "# Crear un DataFrame de pandas desde la tabla\n",
    "query_2 = f\"SELECT * FROM new_{sector}_{frequency}_growth_rates;\"\n",
    "df_2 = pd.read_sql(query_2, engine)"
   ]
  },
  {
   "cell_type": "markdown",
   "id": "69beb186",
   "metadata": {},
   "source": [
    "<div id=\"step-5-4\">\n",
    "   <!-- Contenido de la celda de destino -->\n",
    "</div>"
   ]
  },
  {
   "cell_type": "markdown",
   "id": "85fbac5e",
   "metadata": {},
   "source": [
    "<div style=\"text-align: left; font-family: 'PT Serif Pro Book'; font-size:22px\">\n",
    "    <span style=\"font-size: 24px; color: rgb(0, 65, 75)\">&#10125;</span> <span>Concatenate dataframes</span>\n",
    "  </div>"
   ]
  },
  {
   "cell_type": "markdown",
   "id": "a3b5594b",
   "metadata": {},
   "source": [
    "<div style=\"text-align: left; font-family: 'PT Serif Pro Book'; color: dark; font-size:16px\">\n",
    "    Comment the code below if you want the default option (display rows and columns of the dataframe in a limited way)\n",
    "    <div/>"
   ]
  },
  {
   "cell_type": "code",
   "execution_count": null,
   "id": "8a99d74b",
   "metadata": {},
   "outputs": [],
   "source": [
    "#pd.set_option('display.max_rows', None)\n",
    "#pd.set_option('display.max_columns', None)"
   ]
  },
  {
   "cell_type": "markdown",
   "id": "19151202",
   "metadata": {},
   "source": [
    "<div style=\"text-align: left; font-family: 'PT Serif Pro Book'; color: dark; font-size:16px\">\n",
    "    Run the function to create concatenated dataframe\n",
    "    <div/>"
   ]
  },
  {
   "cell_type": "code",
   "execution_count": null,
   "id": "5989ee58",
   "metadata": {
    "scrolled": true
   },
   "outputs": [],
   "source": [
    "def concatenate_dataframes(df1, df2):\n",
    "    # Concatenate the dataframes\n",
    "    concatenated_df = pd.concat([df1, df2], ignore_index=True)\n",
    "    \n",
    "    return concatenated_df\n",
    "\n",
    "# Call the function\n",
    "globals()[f'{sector}_{frequency}_growth_rates'] = concatenate_dataframes(df_1, df_2)\n",
    "df = globals()[f'{sector}_{frequency}_growth_rates']\n",
    "\n",
    "# Display the resulting dataframe\n",
    "df.head(10)"
   ]
  },
  {
   "cell_type": "markdown",
   "id": "b2bc7671",
   "metadata": {},
   "source": [
    "<div id=\"step-5-5\">\n",
    "   <!-- Contenido de la celda de destino -->\n",
    "</div>"
   ]
  },
  {
   "cell_type": "markdown",
   "id": "9e2a708d",
   "metadata": {},
   "source": [
    "<div style=\"text-align: left; font-family: 'PT Serif Pro Book'; font-size:22px\">\n",
    "    <span style=\"font-size: 24px; color: rgb(0, 65, 75)\">&#10126;</span> <span>Load to PostgresSQL</span>\n",
    "  </div>"
   ]
  },
  {
   "cell_type": "code",
   "execution_count": null,
   "id": "d3bcc846",
   "metadata": {},
   "outputs": [],
   "source": [
    "df.to_sql(f'{sector}_{frequency}_growth_rates', engine, index=False, if_exists='replace')"
   ]
  },
  {
   "cell_type": "markdown",
   "id": "1f031ed6",
   "metadata": {},
   "source": [
    "<div style=\"font-family: PT Serif Pro Book; text-align: left; color: dark; font-size: 16px;\">\n",
    "    <span style=\"font-size: 20px; color: rgb(255, 32, 78); font-weight: bold;\">\n",
    "        <a href=\"#steps-5\" style=\"color: #006769; text-decoration: none;\">⮝</a>\n",
    "    </span> \n",
    "    <a href=\"#steps-5\" style=\"color: #006769; text-decoration: none;\">Back to steps.</a>\n",
    "</div>"
   ]
  },
  {
   "cell_type": "markdown",
   "id": "9b757dfc",
   "metadata": {},
   "source": [
    "<div style=\"font-family: PT Serif Pro Book; text-align: left; color: dark; font-size: 16px;\">\n",
    "    <span style=\"font-size: 20px; color: rgb(255, 32, 78); font-weight: bold;\">\n",
    "        <a href=\"#step-5-1\" style=\"color: rgb(255, 32, 78); text-decoration: none;\">⮝</a>\n",
    "    </span> \n",
    "    <a href=\"#step-5-1\" style=\"color: rgb(255, 32, 78); text-decoration: none;\">Back to <b>select economic sector</b>.</a>\n",
    "</div>"
   ]
  },
  {
   "cell_type": "code",
   "execution_count": null,
   "id": "a67cc072",
   "metadata": {},
   "outputs": [],
   "source": [
    "df.columns"
   ]
  },
  {
   "cell_type": "code",
   "execution_count": null,
   "id": "98b31d9a",
   "metadata": {},
   "outputs": [],
   "source": [
    "print(df['date'].dtype)"
   ]
  },
  {
   "cell_type": "markdown",
   "id": "03b2d4ad",
   "metadata": {},
   "source": [
    "<div style=\"font-family: PT Serif Pro Book; text-align: left; color: dark; font-size: 16px;\">\n",
    "    <span style=\"font-size: 30px; color: rgb(255, 32, 78); font-weight: bold;\">\n",
    "        <a href=\"#outilne\" style=\"color: rgb(0, 153, 123); text-decoration: none;\">&#11180;</a>\n",
    "    </span> \n",
    "    <a href=\"#outilne\" style=\"color: rgb(0, 153, 123); text-decoration: none;\">Back to the outline.</a>\n",
    "</div>"
   ]
  },
  {
   "cell_type": "markdown",
   "id": "6cf09a65",
   "metadata": {},
   "source": [
    "<div id=\"6\">\n",
    "   <!-- Contenido de la celda de destino -->\n",
    "</div>"
   ]
  },
  {
   "cell_type": "markdown",
   "id": "27f2f75d",
   "metadata": {},
   "source": [
    "<div style=\"background-color: #00414C; color: white; padding: 10px;\">\n",
    "<h1><span style = \"color: #15F5BA; font-family: 'PT Serif Pro Book'; color: dark;\">6.</span> <span style = \"color: dark; font-family: PT Serif Pro Book;\">Merge all the releases datasets</span></h1>\n",
    "    </div>"
   ]
  },
  {
   "cell_type": "markdown",
   "id": "2c403696",
   "metadata": {},
   "source": [
    "<div id=\"steps-6\">\n",
    "   <!-- Contenido de la celda de destino -->\n",
    "</div>"
   ]
  },
  {
   "cell_type": "markdown",
   "id": "ff118642",
   "metadata": {},
   "source": [
    "<div style=\"font-family: PT Serif Pro Book; text-align: left; color: dark; font-size: 16px;\">\n",
    "    <a href=\"#step-6-3\" style=\"text-decoration: none; color: #006769\"><span style=\"font-size: 24px; color: rgb(0, 65, 75)\">&#10124;</span> Import dataframes from PostgresSQL</a>\n",
    "    <br>\n",
    "    <a href=\"#step-6-4\" style=\"text-decoration: none; color: #006769\"><span style=\"font-size: 24px; color: rgb(0, 65, 75)\">&#10125;</span> Merge dataframes</a>\n",
    "    <br>\n",
    "    <a href=\"#step-6-5\" style=\"text-decoration: none; color: #006769\"><span style=\"font-size: 24px; color: rgb(0, 65, 75)\">&#10126;</span> Order by vintages_date</a>\n",
    "    <br>\n",
    "    <a href=\"#step-6-6\" style=\"text-decoration: none; color: #006769\"><span style=\"font-size: 24px; color: rgb(0, 65, 75)\">&#10127;</span> Load to PostgresSQL</a>\n",
    "</div>"
   ]
  },
  {
   "cell_type": "markdown",
   "id": "839b01ba",
   "metadata": {},
   "source": [
    "<div id=\"step-6-3\">\n",
    "   <!-- Contenido de la celda de destino -->\n",
    "</div>"
   ]
  },
  {
   "cell_type": "markdown",
   "id": "f0e96f0f",
   "metadata": {},
   "source": [
    "<div style=\"text-align: left; font-family: 'PT Serif Pro Book'; font-size:22px\">\n",
    "    <span style=\"font-size: 24px; color: rgb(0, 65, 75)\">&#10124;</span> <span>Import dataframes from PostgresSQL</span>\n",
    "  </div>"
   ]
  },
  {
   "cell_type": "markdown",
   "id": "d19cb9d0",
   "metadata": {},
   "source": [
    "<div style=\"font-family: PT Serif Pro Book; text-align: left; color: dark; font-size: 16px;\">\n",
    "    <span style=\"font-size: 20px; color: rgb(255, 32, 78); font-weight: bold;\">\n",
    "        <a href=\"#step-5-1\" style=\"color: rgb(255, 32, 78); text-decoration: none;\">⮝</a>\n",
    "    </span> \n",
    "    <a href=\"#step-5-1\" style=\"color: rgb(255, 32, 78); text-decoration: none;\">Back to <b>select economic sector</b>.</a>\n",
    "</div>"
   ]
  },
  {
   "cell_type": "code",
   "execution_count": null,
   "id": "cff714c6",
   "metadata": {},
   "outputs": [],
   "source": [
    "# Create a pandas DataFrame from the SQL table\n",
    "query_1 = f\"SELECT * FROM {sector}_{frequency}_releases;\"\n",
    "df_1 = pd.read_sql(query_1, engine)\n",
    "df_1.columns"
   ]
  },
  {
   "cell_type": "markdown",
   "id": "22dc2755",
   "metadata": {},
   "source": [
    "<div style=\"font-family: PT Serif Pro Book; text-align: left; color: dark; font-size: 16px;\">\n",
    "    <span style=\"font-size: 20px; color: rgb(255, 32, 78); font-weight: bold;\">\n",
    "        <a href=\"#step-5-1\" style=\"color: rgb(255, 32, 78); text-decoration: none;\">⮝</a>\n",
    "    </span> \n",
    "    <a href=\"#step-5-1\" style=\"color: rgb(255, 32, 78); text-decoration: none;\">Back to <b>select economic sector</b>.</a>\n",
    "</div>"
   ]
  },
  {
   "cell_type": "code",
   "execution_count": null,
   "id": "144938e2",
   "metadata": {},
   "outputs": [],
   "source": [
    "# Create a pandas DataFrame from the SQL table\n",
    "query_2 = f\"SELECT * FROM {sector}_{frequency}_releases;\"\n",
    "df_2 = pd.read_sql(query_2, engine)\n",
    "df_2.columns"
   ]
  },
  {
   "cell_type": "markdown",
   "id": "f348bd30",
   "metadata": {},
   "source": [
    "<div style=\"font-family: PT Serif Pro Book; text-align: left; color: dark; font-size: 16px;\">\n",
    "    <span style=\"font-size: 20px; color: rgb(255, 32, 78); font-weight: bold;\">\n",
    "        <a href=\"#step-5-1\" style=\"color: rgb(255, 32, 78); text-decoration: none;\">⮝</a>\n",
    "    </span> \n",
    "    <a href=\"#step-5-1\" style=\"color: rgb(255, 32, 78); text-decoration: none;\">Back to <b>select economic sector</b>.</a>\n",
    "</div>"
   ]
  },
  {
   "cell_type": "code",
   "execution_count": null,
   "id": "697e6f44",
   "metadata": {},
   "outputs": [],
   "source": [
    "# Create a pandas DataFrame from the SQL table\n",
    "query_3 = f\"SELECT * FROM {sector}_{frequency}_releases;\"\n",
    "df_3 = pd.read_sql(query_3, engine)\n",
    "df_3.columns"
   ]
  },
  {
   "cell_type": "markdown",
   "id": "a48322f2",
   "metadata": {},
   "source": [
    "<div style=\"font-family: PT Serif Pro Book; text-align: left; color: dark; font-size: 16px;\">\n",
    "    <span style=\"font-size: 20px; color: rgb(255, 32, 78); font-weight: bold;\">\n",
    "        <a href=\"#step-5-1\" style=\"color: rgb(255, 32, 78); text-decoration: none;\">⮝</a>\n",
    "    </span> \n",
    "    <a href=\"#step-5-1\" style=\"color: rgb(255, 32, 78); text-decoration: none;\">Back to <b>select economic sector</b>.</a>\n",
    "</div>"
   ]
  },
  {
   "cell_type": "code",
   "execution_count": null,
   "id": "4888feaa",
   "metadata": {},
   "outputs": [],
   "source": [
    "# Create a pandas DataFrame from the SQL table\n",
    "query_4 = f\"SELECT * FROM {sector}_{frequency}_releases;\"\n",
    "df_4 = pd.read_sql(query_4, engine)\n",
    "df_4.columns"
   ]
  },
  {
   "cell_type": "markdown",
   "id": "2b80328c",
   "metadata": {},
   "source": [
    "<div style=\"font-family: PT Serif Pro Book; text-align: left; color: dark; font-size: 16px;\">\n",
    "    <span style=\"font-size: 20px; color: rgb(255, 32, 78); font-weight: bold;\">\n",
    "        <a href=\"#step-5-1\" style=\"color: rgb(255, 32, 78); text-decoration: none;\">⮝</a>\n",
    "    </span> \n",
    "    <a href=\"#step-5-1\" style=\"color: rgb(255, 32, 78); text-decoration: none;\">Back to <b>select economic sector</b>.</a>\n",
    "</div>"
   ]
  },
  {
   "cell_type": "code",
   "execution_count": null,
   "id": "0f356b3b",
   "metadata": {},
   "outputs": [],
   "source": [
    "# Create a pandas DataFrame from the SQL table\n",
    "query_5 = f\"SELECT * FROM {sector}_{frequency}_releases;\"\n",
    "df_5 = pd.read_sql(query_5, engine)\n",
    "df_5.columns"
   ]
  },
  {
   "cell_type": "markdown",
   "id": "3d5badc7",
   "metadata": {},
   "source": [
    "<div style=\"font-family: PT Serif Pro Book; text-align: left; color: dark; font-size: 16px;\">\n",
    "    <span style=\"font-size: 20px; color: rgb(255, 32, 78); font-weight: bold;\">\n",
    "        <a href=\"#step-5-1\" style=\"color: rgb(255, 32, 78); text-decoration: none;\">⮝</a>\n",
    "    </span> \n",
    "    <a href=\"#step-5-1\" style=\"color: rgb(255, 32, 78); text-decoration: none;\">Back to <b>select economic sector</b>.</a>\n",
    "</div>"
   ]
  },
  {
   "cell_type": "code",
   "execution_count": null,
   "id": "d84c93fc",
   "metadata": {},
   "outputs": [],
   "source": [
    "# Create a pandas DataFrame from the SQL table\n",
    "query_6 = f\"SELECT * FROM {sector}_{frequency}_releases;\"\n",
    "df_6 = pd.read_sql(query_6, engine)\n",
    "df_6.columns"
   ]
  },
  {
   "cell_type": "markdown",
   "id": "14c6c467",
   "metadata": {},
   "source": [
    "<div style=\"font-family: PT Serif Pro Book; text-align: left; color: dark; font-size: 16px;\">\n",
    "    <span style=\"font-size: 20px; color: rgb(255, 32, 78); font-weight: bold;\">\n",
    "        <a href=\"#step-5-1\" style=\"color: rgb(255, 32, 78); text-decoration: none;\">⮝</a>\n",
    "    </span> \n",
    "    <a href=\"#step-5-1\" style=\"color: rgb(255, 32, 78); text-decoration: none;\">Back to <b>select economic sector</b>.</a>\n",
    "</div>"
   ]
  },
  {
   "cell_type": "code",
   "execution_count": null,
   "id": "d864823b",
   "metadata": {},
   "outputs": [],
   "source": [
    "# Create a pandas DataFrame from the SQL table\n",
    "query_7 = f\"SELECT * FROM {sector}_{frequency}_releases;\"\n",
    "df_7 = pd.read_sql(query_7, engine)\n",
    "df_7.columns"
   ]
  },
  {
   "cell_type": "markdown",
   "id": "3129d4f1",
   "metadata": {},
   "source": [
    "<div style=\"font-family: PT Serif Pro Book; text-align: left; color: dark; font-size: 16px;\">\n",
    "    <span style=\"font-size: 20px; color: rgb(255, 32, 78); font-weight: bold;\">\n",
    "        <a href=\"#step-5-1\" style=\"color: rgb(255, 32, 78); text-decoration: none;\">⮝</a>\n",
    "    </span> \n",
    "    <a href=\"#step-5-1\" style=\"color: rgb(255, 32, 78); text-decoration: none;\">Back to <b>select economic sector</b>.</a>\n",
    "</div>"
   ]
  },
  {
   "cell_type": "code",
   "execution_count": null,
   "id": "2351e752",
   "metadata": {},
   "outputs": [],
   "source": [
    "# Create a pandas DataFrame from the SQL table\n",
    "query_8 = f\"SELECT * FROM {sector}_{frequency}_releases;\"\n",
    "df_8 = pd.read_sql(query_8, engine)\n",
    "df_8.columns"
   ]
  },
  {
   "cell_type": "markdown",
   "id": "c371c09f",
   "metadata": {},
   "source": [
    "<div style=\"font-family: PT Serif Pro Book; text-align: left; color: dark; font-size: 16px;\">\n",
    "    <span style=\"font-size: 20px; color: rgb(255, 32, 78); font-weight: bold;\">\n",
    "        <a href=\"#step-5-1\" style=\"color: rgb(255, 32, 78); text-decoration: none;\">⮝</a>\n",
    "    </span> \n",
    "    <a href=\"#step-5-1\" style=\"color: rgb(255, 32, 78); text-decoration: none;\">Back to <b>select economic sector</b>.</a>\n",
    "</div>"
   ]
  },
  {
   "cell_type": "code",
   "execution_count": null,
   "id": "40800d79",
   "metadata": {},
   "outputs": [],
   "source": [
    "# Create a pandas DataFrame from the SQL table\n",
    "query_9 = f\"SELECT * FROM {sector}_{frequency}_releases;\"\n",
    "df_9 = pd.read_sql(query_9, engine)\n",
    "df_9.columns"
   ]
  },
  {
   "cell_type": "markdown",
   "id": "335d0768",
   "metadata": {},
   "source": [
    "<div style=\"text-align: left; font-family: 'PT Serif Pro Book'; color: dark; font-size:16px\">\n",
    "    Run the function to create merged dataframe for releases\n",
    "    <div/>"
   ]
  },
  {
   "cell_type": "markdown",
   "id": "ef50ffb6",
   "metadata": {},
   "source": [
    "<div id=\"step-6-4\">\n",
    "   <!-- Contenido de la celda de destino -->\n",
    "</div>"
   ]
  },
  {
   "cell_type": "markdown",
   "id": "20451a82",
   "metadata": {},
   "source": [
    "<div style=\"text-align: left; font-family: 'PT Serif Pro Book'; font-size:22px\">\n",
    "    <span style=\"font-size: 24px; color: rgb(0, 65, 75)\">&#10125;</span> <span>Merge dataframes</span>\n",
    "  </div>"
   ]
  },
  {
   "cell_type": "code",
   "execution_count": null,
   "id": "6806fd0e",
   "metadata": {},
   "outputs": [],
   "source": [
    "def merge_dataframes_by_vintage(frequency, *dataframes):\n",
    "    \"\"\"\n",
    "    Merges multiple dataframes on the 'vintages_date' column.\n",
    "\n",
    "    Parameters:\n",
    "    frequency (str): The frequency to be used in the resulting dataframe name.\n",
    "    *dataframes (pd.DataFrame): DataFrames to be merged.\n",
    "\n",
    "    Returns:\n",
    "    pd.DataFrame: The merged dataframe with the name 'sectorial_gdp_{frequency}_releases'.\n",
    "    \"\"\"\n",
    "    # Initialize the merged dataframe with the first dataframe\n",
    "    merged_df = dataframes[0]\n",
    "\n",
    "    # Merge each dataframe on 'vintages_date'\n",
    "    for df in dataframes[1:]:\n",
    "        merged_df = pd.merge(merged_df, df, on='vintages_date', how='outer')\n",
    "\n",
    "    # Define the name of the resulting dataframe\n",
    "    result_name = f'sectorial_gdp_{frequency}_releases'\n",
    "    \n",
    "    # Assign the name to the dataframe (this is for reference, actual DataFrame doesn't have a 'name' attribute)\n",
    "    merged_df.name = result_name\n",
    "\n",
    "    return merged_df"
   ]
  },
  {
   "cell_type": "code",
   "execution_count": null,
   "id": "218c042a",
   "metadata": {},
   "outputs": [],
   "source": [
    "merged_df = merge_dataframes_by_vintage('monthly', df_1, df_2, df_3, df_4, df_5, df_6, df_7, df_8, df_9)\n",
    "merged_df.head(20)"
   ]
  },
  {
   "cell_type": "code",
   "execution_count": null,
   "id": "0027e34f",
   "metadata": {
    "scrolled": true
   },
   "outputs": [],
   "source": [
    "merged_df.columns"
   ]
  },
  {
   "cell_type": "markdown",
   "id": "89b9c955",
   "metadata": {},
   "source": [
    "<div id=\"step-6-5\">\n",
    "   <!-- Contenido de la celda de destino -->\n",
    "</div>"
   ]
  },
  {
   "cell_type": "markdown",
   "id": "9dc548a1",
   "metadata": {},
   "source": [
    "<div style=\"text-align: left; font-family: 'PT Serif Pro Book'; font-size:22px\">\n",
    "    <span style=\"font-size: 24px; color: rgb(0, 65, 75)\">&#10126;</span> <span>Order by vintages_date</span>\n",
    "  </div>"
   ]
  },
  {
   "cell_type": "code",
   "execution_count": null,
   "id": "38f221da",
   "metadata": {},
   "outputs": [],
   "source": [
    "def sort_by_vintages_date(df):\n",
    "    \"\"\"\n",
    "    Sorts the DataFrame by the 'vintages_date' column in ascending order.\n",
    "\n",
    "    Parameters:\n",
    "    df (pd.DataFrame): Input DataFrame with a datetime64[ns] column named 'vintages_date'.\n",
    "\n",
    "    Returns:\n",
    "    pd.DataFrame: Sorted DataFrame.\n",
    "    \"\"\"\n",
    "    if 'vintages_date' not in df.columns:\n",
    "        raise ValueError(\"The DataFrame does not contain a 'vintages_date' column.\")\n",
    "    \n",
    "    if not pd.api.types.is_datetime64_ns_dtype(df['vintages_date']):\n",
    "        raise TypeError(\"'vintages_date' column is not of type datetime64[ns].\")\n",
    "\n",
    "    return df.sort_values(by='vintages_date').reset_index(drop=True)"
   ]
  },
  {
   "cell_type": "code",
   "execution_count": null,
   "id": "68ab3d71",
   "metadata": {},
   "outputs": [],
   "source": [
    "merged_df = sort_by_vintages_date(merged_df)\n",
    "merged_df.head(10)"
   ]
  },
  {
   "cell_type": "markdown",
   "id": "906e9cbd",
   "metadata": {},
   "source": [
    "<div id=\"step-6-6\">\n",
    "   <!-- Contenido de la celda de destino -->\n",
    "</div>"
   ]
  },
  {
   "cell_type": "markdown",
   "id": "b719eac4",
   "metadata": {},
   "source": [
    "<div style=\"text-align: left; font-family: 'PT Serif Pro Book'; font-size:22px\">\n",
    "    <span style=\"font-size: 24px; color: rgb(0, 65, 75)\">&#10127;</span> <span>Load to PostgresSQL</span>\n",
    "  </div>"
   ]
  },
  {
   "cell_type": "markdown",
   "id": "07c71bcd",
   "metadata": {},
   "source": [
    "<div style=\"font-family: PT Serif Pro Book; text-align: left; color: dark; font-size: 16px;\">\n",
    "    <span style=\"font-size: 20px; color: rgb(255, 32, 78); font-weight: bold;\">\n",
    "        <a href=\"#steps-6\" style=\"color: #006769; text-decoration: none;\">⮝</a>\n",
    "    </span> \n",
    "    <a href=\"#steps-6\" style=\"color: #006769; text-decoration: none;\">Back to steps.</a>\n",
    "</div>"
   ]
  },
  {
   "cell_type": "code",
   "execution_count": null,
   "id": "0bc064bd",
   "metadata": {},
   "outputs": [],
   "source": [
    "merged_df.to_sql(f'sectorial_gdp_{frequency}_releases', engine, index=False, if_exists='replace')"
   ]
  },
  {
   "cell_type": "markdown",
   "id": "7a27ea3c",
   "metadata": {},
   "source": [
    "<div style=\"font-family: PT Serif Pro Book; text-align: left; color: dark; font-size: 16px;\">\n",
    "    <span style=\"font-size: 20px; color: rgb(255, 32, 78); font-weight: bold;\">\n",
    "        <a href=\"#step-5-1\" style=\"color: rgb(255, 32, 78); text-decoration: none;\">⮝</a>\n",
    "    </span> \n",
    "    <a href=\"#step-5-1\" style=\"color: rgb(255, 32, 78); text-decoration: none;\">Back to <b>select economic sector</b>.</a>\n",
    "</div>"
   ]
  },
  {
   "cell_type": "markdown",
   "id": "692d9302",
   "metadata": {},
   "source": [
    "<div style=\"font-family: PT Serif Pro Book; text-align: left; color: dark; font-size: 16px;\">\n",
    "    <span style=\"font-size: 30px; color: rgb(255, 32, 78); font-weight: bold;\">\n",
    "        <a href=\"#outilne\" style=\"color: rgb(0, 153, 123); text-decoration: none;\">&#11180;</a>\n",
    "    </span> \n",
    "    <a href=\"#outilne\" style=\"color: rgb(0, 153, 123); text-decoration: none;\">Back to the outline.</a>\n",
    "</div>"
   ]
  },
  {
   "cell_type": "markdown",
   "id": "ecff202f",
   "metadata": {},
   "source": [
    "<div id=\"7\">\n",
    "   <!-- Contenido de la celda de destino -->\n",
    "</div>"
   ]
  },
  {
   "cell_type": "markdown",
   "id": "ca79e3ab",
   "metadata": {},
   "source": [
    "<div style=\"background-color: #00414C; color: white; padding: 10px;\">\n",
    "<h1><span style = \"color: #15F5BA; font-family: 'PT Serif Pro Book'; color: dark;\">7.</span> <span style = \"color: dark; font-family: PT Serif Pro Book;\">Create cumulative revisions</span></h1>\n",
    "    </div>"
   ]
  },
  {
   "cell_type": "code",
   "execution_count": null,
   "id": "b066e8f9",
   "metadata": {},
   "outputs": [],
   "source": []
  },
  {
   "cell_type": "code",
   "execution_count": null,
   "id": "1deb9a94",
   "metadata": {},
   "outputs": [],
   "source": []
  },
  {
   "cell_type": "code",
   "execution_count": null,
   "id": "5b10d44d",
   "metadata": {},
   "outputs": [],
   "source": [
    "# Create a pandas DataFrame from the SQL table\n",
    "query_releases_1 = f\"SELECT * FROM sectorial_{sector}_{frequency}_releases;\"\n",
    "df_releases_1 = pd.read_sql(query_releases_1, engine)\n",
    "df_releases_1"
   ]
  },
  {
   "cell_type": "code",
   "execution_count": null,
   "id": "9701ecd7",
   "metadata": {},
   "outputs": [],
   "source": [
    "# Filter the dataframe for the desired date range\n",
    "df_filtered_releases_1 = df_releases_1[(df_releases_1['vintages_date'] >= '1993-01-01') & (df_releases_1['vintages_date'] <= '2023-12-31')]\n",
    "\n",
    "# Order the dataframe by the column 'vintages_date'\n",
    "df_filtered_releases_1 = df_filtered_releases_1.sort_values(by='vintages_date')"
   ]
  },
  {
   "cell_type": "code",
   "execution_count": null,
   "id": "06f3d191",
   "metadata": {},
   "outputs": [],
   "source": [
    "df_filtered_releases_1.columns"
   ]
  },
  {
   "cell_type": "markdown",
   "id": "2cd99a3a",
   "metadata": {},
   "source": []
  },
  {
   "cell_type": "code",
   "execution_count": null,
   "id": "ae6b25a7",
   "metadata": {},
   "outputs": [],
   "source": [
    "def calculate_cumulative_revisions(df):\n",
    "    # Find the highest number following the pattern '_release_'\n",
    "    release_numbers = []\n",
    "    \n",
    "    for col in df.columns:\n",
    "        match = re.search(r'_release_(\\d+)', col)\n",
    "        if match:\n",
    "            release_numbers.append(int(match.group(1)))\n",
    "    \n",
    "    # Determine the maximum release number\n",
    "    max_release = max(release_numbers) if release_numbers else 0\n",
    "    \n",
    "    # Extract the names of variables with the specified suffixes\n",
    "    variable_names = [col.replace(f'_release_{i}', '').replace('_most_recent', '') \n",
    "                      for i in range(1, max_release + 1)\n",
    "                      for col in df.columns if f'_release_{i}' in col or '_most_recent' in col]\n",
    "    \n",
    "    # Remove duplicates from the variable names\n",
    "    variable_names = list(set(variable_names))\n",
    "    \n",
    "    # Create a list to hold new columns\n",
    "    new_columns = []\n",
    "    \n",
    "    # Create new revision variables for each found variable\n",
    "    for variable in variable_names:\n",
    "        for i in range(1, max_release):  # Iterate only until max_release - 1 (this avoid most_recent - (most_recent=last release)\n",
    "            release_col = f\"{variable}_release_{i}\"\n",
    "            most_recent_col = f\"{variable}_most_recent\"\n",
    "            if release_col in df.columns and most_recent_col in df.columns:\n",
    "                new_column_name = f\"r_{i}_{variable}\"\n",
    "                # Perform the subtraction\n",
    "                new_columns.append((new_column_name, df[most_recent_col] - df[release_col]))\n",
    "    \n",
    "    # Concatenate all new columns into the DataFrame at once\n",
    "    if new_columns:\n",
    "        df_new_columns = pd.DataFrame(dict(new_columns))\n",
    "        df = pd.concat([df, df_new_columns], axis=1)\n",
    "\n",
    "    # Return both the modified dataframe and the max_release value\n",
    "    return df, max_release"
   ]
  },
  {
   "cell_type": "code",
   "execution_count": null,
   "id": "55577d1a",
   "metadata": {},
   "outputs": [],
   "source": [
    "# Apply the function to your dataframe and get max_release\n",
    "df_filtered, max_release = calculate_cumulative_revisions(df_filtered_releases_1)\n",
    "\n",
    "# Output the max_release for verification\n",
    "print(f\"The maximum release number found: {max_release}\")"
   ]
  },
  {
   "cell_type": "code",
   "execution_count": null,
   "id": "d9c9b32b",
   "metadata": {},
   "outputs": [],
   "source": [
    "df_filtered[['vintages_date', 'agriculture_release_1', 'agriculture_most_recent', 'r_1_agriculture']]"
   ]
  },
  {
   "cell_type": "code",
   "execution_count": null,
   "id": "a86242ff",
   "metadata": {},
   "outputs": [],
   "source": []
  },
  {
   "cell_type": "code",
   "execution_count": null,
   "id": "c46098d0",
   "metadata": {},
   "outputs": [],
   "source": [
    "# Function to extract year or year_month based on frequency\n",
    "def add_date_column(df, frequency):\n",
    "    # Check if 'vintages_date' column exists in the dataframe\n",
    "    if 'vintages_date' not in df.columns:\n",
    "        raise KeyError(\"'vintages_date' column not found in the dataframe.\")\n",
    "    \n",
    "    # Convert the 'vintages_date' column to datetime if it's not already\n",
    "    df['vintages_date'] = pd.to_datetime(df['vintages_date'], errors='coerce')\n",
    "    \n",
    "    # Determine what column to create based on the frequency argument\n",
    "    if frequency == 'monthly' or frequency == 'quarterly':\n",
    "        # Extract the year and month for 'year_month'\n",
    "        year_month_column = pd.DataFrame({'year_month': df['vintages_date'].dt.to_period('M').astype(str)})\n",
    "        df = pd.concat([df, year_month_column], axis=1)\n",
    "    \n",
    "    elif frequency == 'annual':\n",
    "        # Extract only the year for 'year'\n",
    "        year_column = pd.DataFrame({'year': df['vintages_date'].dt.year})\n",
    "        df = pd.concat([df, year_column], axis=1)\n",
    "    \n",
    "    else:\n",
    "        raise ValueError(\"Invalid frequency. Please choose 'annual', 'quarterly', or 'monthly'.\")\n",
    "    \n",
    "    return df"
   ]
  },
  {
   "cell_type": "code",
   "execution_count": null,
   "id": "005f4f50",
   "metadata": {},
   "outputs": [],
   "source": [
    "# Applying above function\n",
    "df_filtered = add_date_column(df_filtered, frequency)  # You can change 'quarterly' to 'annual' or 'monthly'"
   ]
  },
  {
   "cell_type": "code",
   "execution_count": null,
   "id": "c0619107",
   "metadata": {},
   "outputs": [],
   "source": [
    "df_filtered.head(30)"
   ]
  },
  {
   "cell_type": "code",
   "execution_count": null,
   "id": "a5cf68eb",
   "metadata": {
    "scrolled": true
   },
   "outputs": [],
   "source": [
    "df_filtered.columns"
   ]
  },
  {
   "cell_type": "markdown",
   "id": "11a80dae",
   "metadata": {},
   "source": [
    "<div id=\"7\">\n",
    "   <!-- Contenido de la celda de destino -->\n",
    "</div>"
   ]
  },
  {
   "cell_type": "code",
   "execution_count": null,
   "id": "eb93833d",
   "metadata": {},
   "outputs": [],
   "source": [
    "# Function to keep only 'vintages_date' and variables that start with 'r_'\n",
    "def filter_revisions(df, frequency):\n",
    "    # Determine the columns to keep based on the frequency\n",
    "    if frequency in ['quarterly', 'monthly']:\n",
    "        cols_to_keep = ['year_month'] + [col for col in df.columns if col.startswith('r_')]\n",
    "    elif frequency == 'annual':\n",
    "        cols_to_keep = ['year'] + [col for col in df.columns if col.startswith('r_')]\n",
    "    else:\n",
    "        raise ValueError(\"Invalid frequency value. Please use 'quarterly', 'monthly', or 'annual'.\")\n",
    "\n",
    "    return df[cols_to_keep]"
   ]
  },
  {
   "cell_type": "code",
   "execution_count": null,
   "id": "bed6376d",
   "metadata": {},
   "outputs": [],
   "source": [
    "df_filtered = filter_revisions(df_filtered, frequency)"
   ]
  },
  {
   "cell_type": "code",
   "execution_count": null,
   "id": "0d6111ed",
   "metadata": {},
   "outputs": [],
   "source": [
    "df_filtered[['vintages_date', 'r_1_gdp', 'r_2_gdp', 'r_3_gdp', 'r_4_gdp', 'r_5_gdp', 'r_6_gdp', 'r_7_gdp', 'r_8_gdp', 'r_9_gdp',\n",
    "            'r_10_gdp', 'r_11_gdp', 'r_12_gdp', 'r_13_gdp', 'r_14_gdp', 'r_15_gdp', 'r_16_gdp', 'r_17_gdp', 'r_18_gdp']]"
   ]
  },
  {
   "cell_type": "code",
   "execution_count": null,
   "id": "53f03361",
   "metadata": {},
   "outputs": [],
   "source": [
    "def transponer_por_sector(df, frequency):\n",
    "    # Verificar si usar 'year_month' o 'year' según la frecuencia\n",
    "    if frequency in ['monthly', 'quarterly']:\n",
    "        time_col = 'year_month'\n",
    "    elif frequency == 'annual':\n",
    "        time_col = 'year'\n",
    "    else:\n",
    "        raise ValueError(\"frequency debe ser 'monthly', 'quarterly' o 'annual'\")\n",
    "    \n",
    "    # Obtener las categorías de sectores (ej. 'gdp', 'services', etc.)\n",
    "    sectores = sorted(set(col.split('_')[2] for col in df.columns if col.startswith('r_')))\n",
    "    \n",
    "    # Crear un diccionario para almacenar las listas de valores de cada nueva columna\n",
    "    data_transpuesta = {}\n",
    "    \n",
    "    # Para cada sector, agrupar todas las columnas correspondientes a ese sector\n",
    "    for sector in sectores:\n",
    "        # Filtrar las columnas correspondientes al sector actual\n",
    "        cols_sector = [col for col in df.columns if f'_{sector}' in col]\n",
    "        \n",
    "        # Transponer las filas en columnas, usando los valores de 'year_month' o 'year' para el nombre\n",
    "        for i, row in df.iterrows():\n",
    "            time_value = row[time_col]\n",
    "            \n",
    "            # Convertir el valor de 'time_value' a entero si la frecuencia es anual\n",
    "            if frequency == 'annual':\n",
    "                time_value = int(time_value)\n",
    "            \n",
    "            sector_data = row[cols_sector]\n",
    "            \n",
    "            # Crear nombres de columna dinámicos con el formato \"{sector}_{time_value}\"\n",
    "            for col, value in zip(cols_sector, sector_data):\n",
    "                new_col_name = f\"{sector}_{time_value}\"\n",
    "                \n",
    "                # Si la columna aún no existe en el diccionario, se inicializa con NaN\n",
    "                if new_col_name not in data_transpuesta:\n",
    "                    data_transpuesta[new_col_name] = [value]\n",
    "                else:\n",
    "                    data_transpuesta[new_col_name].append(value)\n",
    "    \n",
    "    # Asegurarnos de que todas las listas en el diccionario tengan la misma longitud\n",
    "    max_len = max(len(v) for v in data_transpuesta.values())\n",
    "    for key in data_transpuesta:\n",
    "        if len(data_transpuesta[key]) < max_len:\n",
    "            data_transpuesta[key] += [np.nan] * (max_len - len(data_transpuesta[key]))\n",
    "    \n",
    "    # Convertir el diccionario en un dataframe\n",
    "    df_transpuesto = pd.DataFrame(data_transpuesta)\n",
    "    \n",
    "    return df_transpuesto.reset_index(drop=True)"
   ]
  },
  {
   "cell_type": "code",
   "execution_count": null,
   "id": "363dca1c",
   "metadata": {},
   "outputs": [],
   "source": [
    "df_filtered_transposed = transponer_por_sector(df_filtered, frequency)\n",
    "df_filtered_transposed"
   ]
  },
  {
   "cell_type": "code",
   "execution_count": null,
   "id": "10a22b8a",
   "metadata": {},
   "outputs": [],
   "source": [
    "pd.DataFrame(df_filtered_transposed.filter(like='gdp_'))"
   ]
  },
  {
   "cell_type": "code",
   "execution_count": null,
   "id": "97dd7ea5",
   "metadata": {},
   "outputs": [],
   "source": []
  },
  {
   "cell_type": "code",
   "execution_count": null,
   "id": "f2a7f95b",
   "metadata": {},
   "outputs": [],
   "source": []
  },
  {
   "cell_type": "code",
   "execution_count": null,
   "id": "a99471b0",
   "metadata": {},
   "outputs": [],
   "source": []
  },
  {
   "cell_type": "code",
   "execution_count": null,
   "id": "0884357d",
   "metadata": {},
   "outputs": [],
   "source": []
  }
 ],
 "metadata": {
  "kernelspec": {
   "display_name": "gdp_revisions",
   "language": "python",
   "name": "gdp_revisions"
  },
  "language_info": {
   "codemirror_mode": {
    "name": "ipython",
    "version": 3
   },
   "file_extension": ".py",
   "mimetype": "text/x-python",
   "name": "python",
   "nbconvert_exporter": "python",
   "pygments_lexer": "ipython3",
   "version": "3.12.1"
  }
 },
 "nbformat": 4,
 "nbformat_minor": 5
}
