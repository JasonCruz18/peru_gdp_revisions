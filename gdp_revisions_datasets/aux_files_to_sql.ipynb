{
 "cells": [
  {
   "cell_type": "code",
   "execution_count": null,
   "id": "fdc79af5",
   "metadata": {},
   "outputs": [],
   "source": []
  },
  {
   "cell_type": "markdown",
   "id": "57217b73",
   "metadata": {},
   "source": [
    "<div style=\"text-align: center; font-family: 'charter bt pro roman'; color: rgb(0, 65, 75);\">\n",
    "    <h1>\n",
    "    Auxiliar Files to PostgresSQL\n",
    "    </h1>\n",
    "</div>"
   ]
  },
  {
   "cell_type": "markdown",
   "id": "fec196d5",
   "metadata": {},
   "source": [
    "<div style=\"text-align: center; font-family: 'charter bt pro roman'; color: rgb(0, 65, 75);\">\n",
    "    <h3>\n",
    "        Documentation\n",
    "        <br>\n",
    "        ____________________\n",
    "            </br>\n",
    "    </h3>\n",
    "</div>"
   ]
  },
  {
   "cell_type": "markdown",
   "id": "52787d39",
   "metadata": {},
   "source": [
    "<div style=\"text-align: center; font-family: 'PT Serif Pro Book'; color: rgb(0, 65, 75); font-size: 16px;\">\n",
    "    Jason Cruz\n",
    "    <br>\n",
    "    <a href=\"mailto:jj.cruza@up.edu.pe\" style=\"color: rgb(0, 153, 123); font-size: 16px;\">\n",
    "        jj.cruza@up.edu.pe\n",
    "    </a>\n",
    "</div>"
   ]
  },
  {
   "cell_type": "markdown",
   "id": "6477adb0",
   "metadata": {},
   "source": [
    "<div style=\"font-family: Amaya; text-align: left; color: rgb(0, 65, 75); font-size:16px\">The following <b>outline is functional</b>. By utilising the provided buttons, users are able to enhance their experience by browsing this script.<div/>"
   ]
  },
  {
   "cell_type": "markdown",
   "id": "c19e3059",
   "metadata": {},
   "source": [
    "<div id=\"outilne\">\n",
    "   <!-- Contenido de la celda de destino -->\n",
    "</div>"
   ]
  },
  {
   "cell_type": "markdown",
   "id": "782f4d2a",
   "metadata": {},
   "source": [
    "<div style=\"background-color: #292929; padding: 10px;\">\n",
    "<h2 style=\"text-align: left; font-family: 'charter'; color: #E0E0E0;\">\n",
    "    Outline\n",
    "    </h2>\n",
    "    <br>\n",
    "    <a href=\"#libraries\" style=\"color: #94FFD8; font-size: 18px;\">\n",
    "        Libraries</a>\n",
    "    <br>\n",
    "    <a href=\"#setup\" style=\"color: #94FFD8; font-size: 18px;\">\n",
    "        Initial set-up</a>\n",
    "    <br>\n",
    "    <a href=\"#1\" style=\"color: #94FFD8; font-size: 18px;\">\n",
    "        1. Loading gdp_percentage_structure</a>\n",
    "    <br>\n",
    "    <a href=\"#2\" style=\"color: #94FFD8; font-size: 18px;\">\n",
    "        2. Generate PDF input with key tables</a>\n",
    "</div>"
   ]
  },
  {
   "cell_type": "markdown",
   "id": "9b55d5dc",
   "metadata": {},
   "source": [
    "<div style=\"text-align: left; font-family: 'PT Serif Pro Book'; color: dark; font-size:16px\">\n",
    "    Any questions or issues regarding the coding, please <a href=\"mailto:jj.cruza@alum.up.edu.pe\" style=\"color: rgb(0, 153, 123)\">email Jason Cruz\n",
    "    </a>.\n",
    "    <div/>"
   ]
  },
  {
   "cell_type": "markdown",
   "id": "a6497007",
   "metadata": {},
   "source": [
    "<div style=\"text-align: left; font-family: 'PT Serif Pro Book'; color: dark; font-size:16px\"\">\n",
    "    If you don't have the libraries below, please use the following code (as example) to install the required libraries.\n",
    "    <div/>"
   ]
  },
  {
   "cell_type": "code",
   "execution_count": null,
   "id": "abd9c2e5",
   "metadata": {},
   "outputs": [],
   "source": [
    "#!pip install os # Comment this code with \"#\" if you have already installed this library."
   ]
  },
  {
   "cell_type": "markdown",
   "id": "3ad63ec0",
   "metadata": {},
   "source": [
    "<div id=\"libraries\">\n",
    "   <!-- Contenido de la celda de destino -->\n",
    "</div>"
   ]
  },
  {
   "cell_type": "markdown",
   "id": "2d7bce98",
   "metadata": {},
   "source": [
    "<div style=\"text-align: left; font-family: 'PT Serif Pro Book'; color: dark;\">\n",
    "    <h2>\n",
    "    Libraries\n",
    "    </h2>\n",
    "    <div/>"
   ]
  },
  {
   "cell_type": "code",
   "execution_count": 3,
   "id": "a740bbf3",
   "metadata": {},
   "outputs": [],
   "source": [
    "import pandas as pd\n",
    "import os\n",
    "from sqlalchemy import create_engine"
   ]
  },
  {
   "cell_type": "markdown",
   "id": "ed4cda99",
   "metadata": {},
   "source": [
    "<div style=\"font-family: PT Serif Pro Book; text-align: left; color:dark; font-size:16px\">\n",
    "    Back to the\n",
    "    <a href=\"#outilne\" style=\"color: #3d30a2;\">\n",
    "    outline.\n",
    "    </a>\n",
    "    <div/>"
   ]
  },
  {
   "cell_type": "markdown",
   "id": "9ae00297",
   "metadata": {},
   "source": [
    "<div id=\"setup\">\n",
    "   <!-- Contenido de la celda de destino -->\n",
    "</div>"
   ]
  },
  {
   "cell_type": "markdown",
   "id": "86c53ad6",
   "metadata": {},
   "source": [
    "<div style=\"text-align: left; font-family: 'PT Serif Pro Book'; color: dark;\">\n",
    "    <h2>\n",
    "    Initial set-up\n",
    "    </h2>\n",
    "    <div/>"
   ]
  },
  {
   "cell_type": "markdown",
   "id": "160954cb",
   "metadata": {},
   "source": [
    "<div style=\"font-family: PT Serif Pro Book; text-align: left; color:dark; font-size:16px\"> The following code lines will create folders in your current path, call them to import and export your outputs. <div/>"
   ]
  },
  {
   "cell_type": "code",
   "execution_count": 5,
   "id": "0e09fb4f",
   "metadata": {},
   "outputs": [],
   "source": [
    "# Folder path to save the csv file of GDP percentage structure\n",
    "\n",
    "gdp_perc_structure_folder = 'gdp_perc_structure'\n",
    "if not os.path.exists(gdp_perc_structure_folder):\n",
    "    os.makedirs(gdp_perc_structure_folder) # to create the folder (if it doesn't exist)"
   ]
  },
  {
   "cell_type": "code",
   "execution_count": 4,
   "id": "0499a431",
   "metadata": {},
   "outputs": [],
   "source": [
    "# Folder path to save the csv file of NS dates\n",
    "\n",
    "ns_dates_folder = 'ns_dates'\n",
    "if not os.path.exists(ns_dates_folder):\n",
    "    os.makedirs(ns_dates_folder) # to create the folder (if it doesn't exist)"
   ]
  },
  {
   "cell_type": "markdown",
   "id": "855a125f",
   "metadata": {},
   "source": [
    "<div style=\"font-family: PT Serif Pro Book; text-align: left; color:dark; font-size:16px\"> In the following code, set the connection to SQL with your user and password (defined as environment variables in your operating system). <div/>"
   ]
  },
  {
   "cell_type": "code",
   "execution_count": 6,
   "id": "d977fa97",
   "metadata": {},
   "outputs": [],
   "source": [
    "# Get environment variables\n",
    "user = os.environ.get('CIUP_SQL_USER')\n",
    "password = os.environ.get('CIUP_SQL_PASS')\n",
    "host = os.environ.get('CIUP_SQL_HOST')\n",
    "port = 5432\n",
    "database = 'gdp_revisions_datasets'\n",
    "\n",
    "# Check if all environment variables are defined\n",
    "if not all([host, user, password]):\n",
    "    raise ValueError(\"Some environment variables are missing (CIUP_SQL_HOST, CIUP_SQL_USER, CIUP_SQL_PASS)\")\n",
    "\n",
    "# Create connection string\n",
    "connection_string = f\"postgresql://{user}:{password}@{host}:{port}/{database}\"\n",
    "\n",
    "# Create SQLAlchemy engine\n",
    "engine = create_engine(connection_string)"
   ]
  },
  {
   "cell_type": "markdown",
   "id": "baddf530",
   "metadata": {},
   "source": [
    "<div style=\"font-family: PT Serif Pro Book; text-align: left; color:dark; font-size:16px\">\n",
    "    Back to the\n",
    "    <a href=\"#outilne\" style=\"color: #3d30a2;\">\n",
    "    outline.\n",
    "    </a>\n",
    "    <div/>"
   ]
  },
  {
   "cell_type": "markdown",
   "id": "d4f07370",
   "metadata": {},
   "source": [
    "<div id=\"1\">\n",
    "   <!-- Contenido de la celda de destino -->\n",
    "</div>"
   ]
  },
  {
   "cell_type": "markdown",
   "id": "1d00818e",
   "metadata": {},
   "source": [
    "<div style=\"background-color: #00414C; color: white; padding: 10px;\">\n",
    "<h1><span style = \"color: #15F5BA; font-family: 'PT Serif Pro Book'; color: dark;\">1.</span> <span style = \"color: dark; font-family: PT Serif Pro Book;\">Loading gdp_percentage_structure</span></h1>\n",
    "    </div>"
   ]
  },
  {
   "cell_type": "code",
   "execution_count": 8,
   "id": "7e2ed8e9",
   "metadata": {},
   "outputs": [
    {
     "data": {
      "text/html": [
       "<div>\n",
       "<style scoped>\n",
       "    .dataframe tbody tr th:only-of-type {\n",
       "        vertical-align: middle;\n",
       "    }\n",
       "\n",
       "    .dataframe tbody tr th {\n",
       "        vertical-align: top;\n",
       "    }\n",
       "\n",
       "    .dataframe thead th {\n",
       "        text-align: right;\n",
       "    }\n",
       "</style>\n",
       "<table border=\"1\" class=\"dataframe\">\n",
       "  <thead>\n",
       "    <tr style=\"text-align: right;\">\n",
       "      <th></th>\n",
       "      <th>year</th>\n",
       "      <th>gdp</th>\n",
       "      <th>agriculture</th>\n",
       "      <th>fishing</th>\n",
       "      <th>mining</th>\n",
       "      <th>manufacturing</th>\n",
       "      <th>electricity</th>\n",
       "      <th>construction</th>\n",
       "      <th>commerce</th>\n",
       "      <th>services</th>\n",
       "      <th>public_adm_defense</th>\n",
       "    </tr>\n",
       "  </thead>\n",
       "  <tbody>\n",
       "    <tr>\n",
       "      <th>0</th>\n",
       "      <td>1950</td>\n",
       "      <td>100</td>\n",
       "      <td>10.962854</td>\n",
       "      <td>0.109971</td>\n",
       "      <td>10.312805</td>\n",
       "      <td>13.758553</td>\n",
       "      <td>0.300587</td>\n",
       "      <td>3.731672</td>\n",
       "      <td>10.515640</td>\n",
       "      <td>45.667155</td>\n",
       "      <td>4.640762</td>\n",
       "    </tr>\n",
       "    <tr>\n",
       "      <th>1</th>\n",
       "      <td>1951</td>\n",
       "      <td>100</td>\n",
       "      <td>10.335264</td>\n",
       "      <td>0.105120</td>\n",
       "      <td>10.183176</td>\n",
       "      <td>13.848941</td>\n",
       "      <td>0.284046</td>\n",
       "      <td>4.012435</td>\n",
       "      <td>10.232381</td>\n",
       "      <td>46.552303</td>\n",
       "      <td>4.446333</td>\n",
       "    </tr>\n",
       "    <tr>\n",
       "      <th>2</th>\n",
       "      <td>1952</td>\n",
       "      <td>100</td>\n",
       "      <td>10.042875</td>\n",
       "      <td>0.107715</td>\n",
       "      <td>9.935160</td>\n",
       "      <td>13.781232</td>\n",
       "      <td>0.278793</td>\n",
       "      <td>4.680339</td>\n",
       "      <td>10.061884</td>\n",
       "      <td>46.718905</td>\n",
       "      <td>4.393098</td>\n",
       "    </tr>\n",
       "    <tr>\n",
       "      <th>3</th>\n",
       "      <td>1953</td>\n",
       "      <td>100</td>\n",
       "      <td>9.713487</td>\n",
       "      <td>0.087851</td>\n",
       "      <td>8.846960</td>\n",
       "      <td>14.714985</td>\n",
       "      <td>0.331437</td>\n",
       "      <td>4.664071</td>\n",
       "      <td>10.228611</td>\n",
       "      <td>47.067984</td>\n",
       "      <td>4.344614</td>\n",
       "    </tr>\n",
       "    <tr>\n",
       "      <th>4</th>\n",
       "      <td>1954</td>\n",
       "      <td>100</td>\n",
       "      <td>9.404496</td>\n",
       "      <td>0.109928</td>\n",
       "      <td>11.220196</td>\n",
       "      <td>15.289413</td>\n",
       "      <td>0.320306</td>\n",
       "      <td>4.971381</td>\n",
       "      <td>10.291498</td>\n",
       "      <td>44.080967</td>\n",
       "      <td>4.311815</td>\n",
       "    </tr>\n",
       "  </tbody>\n",
       "</table>\n",
       "</div>"
      ],
      "text/plain": [
       "   year  gdp  agriculture   fishing     mining  manufacturing  electricity  \\\n",
       "0  1950  100    10.962854  0.109971  10.312805      13.758553     0.300587   \n",
       "1  1951  100    10.335264  0.105120  10.183176      13.848941     0.284046   \n",
       "2  1952  100    10.042875  0.107715   9.935160      13.781232     0.278793   \n",
       "3  1953  100     9.713487  0.087851   8.846960      14.714985     0.331437   \n",
       "4  1954  100     9.404496  0.109928  11.220196      15.289413     0.320306   \n",
       "\n",
       "   construction   commerce   services  public_adm_defense  \n",
       "0      3.731672  10.515640  45.667155            4.640762  \n",
       "1      4.012435  10.232381  46.552303            4.446333  \n",
       "2      4.680339  10.061884  46.718905            4.393098  \n",
       "3      4.664071  10.228611  47.067984            4.344614  \n",
       "4      4.971381  10.291498  44.080967            4.311815  "
      ]
     },
     "execution_count": 8,
     "metadata": {},
     "output_type": "execute_result"
    }
   ],
   "source": [
    "# Loading csv data\n",
    "gdp_percentage_structure = f'{gdp_perc_structure_folder}/gdp_percentage_structure.csv'\n",
    "\n",
    "# Reads the CSV file in a DataFrame, specifying that the delimiter is the comma\n",
    "gdp_percentage_structure = pd.read_csv(gdp_percentage_structure, delimiter=';')\n",
    "gdp_percentage_structure.head(5)"
   ]
  },
  {
   "cell_type": "markdown",
   "id": "8646fc54",
   "metadata": {},
   "source": [
    "<div style=\"font-family: PT Serif Pro Book; text-align: left; color:dark; font-size:16px\"> Loading to SQL.<div/>"
   ]
  },
  {
   "cell_type": "code",
   "execution_count": 12,
   "id": "c8af066c",
   "metadata": {},
   "outputs": [
    {
     "data": {
      "text/plain": [
       "73"
      ]
     },
     "execution_count": 12,
     "metadata": {},
     "output_type": "execute_result"
    }
   ],
   "source": [
    "gdp_percentage_structure.to_sql('gdp_percentage_structure', engine, index=False, if_exists='replace')"
   ]
  },
  {
   "cell_type": "markdown",
   "id": "56da42f4",
   "metadata": {},
   "source": [
    "<div style=\"font-family: PT Serif Pro Book; text-align: left; color:dark; font-size:16px\">\n",
    "    Back to the\n",
    "    <a href=\"#outilne\" style=\"color: #3d30a2;\">\n",
    "    outline.\n",
    "    </a>\n",
    "    <div/>"
   ]
  },
  {
   "cell_type": "markdown",
   "id": "dc0f9884",
   "metadata": {},
   "source": [
    "<div id=\"2\">\n",
    "   <!-- Contenido de la celda de destino -->\n",
    "</div>"
   ]
  },
  {
   "cell_type": "markdown",
   "id": "b06567a6",
   "metadata": {},
   "source": [
    "<div style=\"background-color: #00414C; color: white; padding: 10px;\">\n",
    "<h1><span style = \"color: #15F5BA; font-family: 'PT Serif Pro Book'; color: dark;\">2.</span> <span style = \"color: dark; font-family: PT Serif Pro Book;\">Load date, year and id data</span></h1>\n",
    "    </div>"
   ]
  },
  {
   "cell_type": "code",
   "execution_count": 10,
   "id": "2a571a7d",
   "metadata": {},
   "outputs": [
    {
     "data": {
      "text/html": [
       "<div>\n",
       "<style scoped>\n",
       "    .dataframe tbody tr th:only-of-type {\n",
       "        vertical-align: middle;\n",
       "    }\n",
       "\n",
       "    .dataframe tbody tr th {\n",
       "        vertical-align: top;\n",
       "    }\n",
       "\n",
       "    .dataframe thead th {\n",
       "        text-align: right;\n",
       "    }\n",
       "</style>\n",
       "<table border=\"1\" class=\"dataframe\">\n",
       "  <thead>\n",
       "    <tr style=\"text-align: right;\">\n",
       "      <th></th>\n",
       "      <th>year</th>\n",
       "      <th>id_ns</th>\n",
       "      <th>date</th>\n",
       "    </tr>\n",
       "  </thead>\n",
       "  <tbody>\n",
       "    <tr>\n",
       "      <th>0</th>\n",
       "      <td>1994</td>\n",
       "      <td>1</td>\n",
       "      <td>10/01/1994</td>\n",
       "    </tr>\n",
       "    <tr>\n",
       "      <th>1</th>\n",
       "      <td>1994</td>\n",
       "      <td>2</td>\n",
       "      <td>17/01/1994</td>\n",
       "    </tr>\n",
       "    <tr>\n",
       "      <th>2</th>\n",
       "      <td>1994</td>\n",
       "      <td>3</td>\n",
       "      <td>24/01/1994</td>\n",
       "    </tr>\n",
       "    <tr>\n",
       "      <th>3</th>\n",
       "      <td>1994</td>\n",
       "      <td>4</td>\n",
       "      <td>1/02/1994</td>\n",
       "    </tr>\n",
       "    <tr>\n",
       "      <th>4</th>\n",
       "      <td>1994</td>\n",
       "      <td>5</td>\n",
       "      <td>7/02/1994</td>\n",
       "    </tr>\n",
       "  </tbody>\n",
       "</table>\n",
       "</div>"
      ],
      "text/plain": [
       "   year  id_ns        date\n",
       "0  1994      1  10/01/1994\n",
       "1  1994      2  17/01/1994\n",
       "2  1994      3  24/01/1994\n",
       "3  1994      4   1/02/1994\n",
       "4  1994      5   7/02/1994"
      ]
     },
     "execution_count": 10,
     "metadata": {},
     "output_type": "execute_result"
    }
   ],
   "source": [
    "# Loading csv data\n",
    "csv_file = f'{ns_dates_folder}/dates.csv'\n",
    "\n",
    "# Reads the CSV file in a DataFrame, specifying that the delimiter is the comma\n",
    "dates = pd.read_csv(csv_file, delimiter=';')\n",
    "dates.head(5)"
   ]
  },
  {
   "cell_type": "markdown",
   "id": "8e4d9201",
   "metadata": {},
   "source": [
    "<div style=\"font-family: PT Serif Pro Book; text-align: left; color:dark; font-size:16px\"> Clean-up the dataframe columns.<div/>"
   ]
  },
  {
   "cell_type": "code",
   "execution_count": 11,
   "id": "279b5da7",
   "metadata": {},
   "outputs": [
    {
     "name": "stdout",
     "output_type": "stream",
     "text": [
      "datetime64[ns]\n",
      "0\n"
     ]
    }
   ],
   "source": [
    "# Convert the 'date' column to datetime type without time\n",
    "dates['date'] = pd.to_datetime(dates['date'], format='%d/%m/%Y', errors='coerce')\n",
    "\n",
    "# Check the data type of the 'date' column after conversion\n",
    "print(dates['date'].dtype)\n",
    "\n",
    "# Check if there are NaT values in the 'date' column\n",
    "print(dates['date'].isnull().sum())"
   ]
  },
  {
   "cell_type": "markdown",
   "id": "f169ba2e",
   "metadata": {},
   "source": [
    "<div style=\"font-family: PT Serif Pro Book; text-align: left; color:dark; font-size:16px\"> Loading to SQL.<div/>"
   ]
  },
  {
   "cell_type": "code",
   "execution_count": 13,
   "id": "1ef26297",
   "metadata": {},
   "outputs": [
    {
     "data": {
      "text/plain": [
       "474"
      ]
     },
     "execution_count": 13,
     "metadata": {},
     "output_type": "execute_result"
    }
   ],
   "source": [
    "dates.to_sql('dates_growth_rates', engine, index=False, if_exists='replace')"
   ]
  },
  {
   "cell_type": "markdown",
   "id": "04c788c8",
   "metadata": {},
   "source": [
    "<div style=\"font-family: PT Serif Pro Book; text-align: left; color:dark; font-size:16px\">\n",
    "    Back to the\n",
    "    <a href=\"#outilne\" style=\"color: #3d30a2;\">\n",
    "    outline.\n",
    "    </a>\n",
    "    <div/>"
   ]
  },
  {
   "cell_type": "code",
   "execution_count": null,
   "id": "974399f2",
   "metadata": {},
   "outputs": [],
   "source": []
  },
  {
   "cell_type": "code",
   "execution_count": null,
   "id": "bdfc618a",
   "metadata": {},
   "outputs": [],
   "source": []
  }
 ],
 "metadata": {
  "kernelspec": {
   "display_name": "gdp_revisions",
   "language": "python",
   "name": "gdp_revisions"
  },
  "language_info": {
   "codemirror_mode": {
    "name": "ipython",
    "version": 3
   },
   "file_extension": ".py",
   "mimetype": "text/x-python",
   "name": "python",
   "nbconvert_exporter": "python",
   "pygments_lexer": "ipython3",
   "version": "3.12.1"
  }
 },
 "nbformat": 4,
 "nbformat_minor": 5
}
