{
 "cells": [
  {
   "cell_type": "markdown",
   "id": "7d574e06",
   "metadata": {},
   "source": [
    "<div style=\"text-align: center; font-family: 'charter bt pro roman'; color: rgb(0, 65, 75);\">\n",
    "    <h1>\n",
    "    GDP Intermediate Revisions and Horizon Datasets\n",
    "    </h1>\n",
    "</div>"
   ]
  },
  {
   "cell_type": "markdown",
   "id": "0187eb69",
   "metadata": {},
   "source": [
    "<div style=\"text-align: center; font-family: 'charter bt pro roman'; color: rgb(0, 65, 75);\">\n",
    "<h3>\n",
    "Documentation\n",
    "<br>\n",
    "____________________\n",
    "<br>\n",
    "</h3>\n",
    "</div>"
   ]
  },
  {
   "cell_type": "markdown",
   "id": "24821fba",
   "metadata": {},
   "source": [
    "<div style=\"font-family: PT Serif Pro Book; text-align: left; color: dark; font-size: 16px;\">\n",
    "    This \n",
    "    <span style=\"color: rgb(0, 65, 75);\">jupyter notebook</span>\n",
    "    provides a step-by-step guide to <b>data building</b> regarding the project <b>'Revisiones y sesgos en las estimaciones preliminares del PBI en el Perú'</b>. This guide covers the creation of GDP mid-term revision dataset for each sector. A key step is the construction at par of what we will call “The ‘t+h’ structure”. This dataset is similar to that of the GDP growth vintages by sector, but instead of growth rate values, it contains values of type “t+h”, where h indicates how many months have passed since the preliminary growth rate was first published; that is, this jupyter notebook also covers the creation of vintages datasets of growth rates associated with a horizon (<b>h</b>).\n",
    "</div>"
   ]
  },
  {
   "cell_type": "markdown",
   "id": "274b675d",
   "metadata": {},
   "source": [
    "<div style=\"text-align: center; font-family: 'PT Serif Pro Book'; color: rgb(0, 65, 75); font-size: 16px;\">\n",
    "    Jason Cruz\n",
    "    <br>\n",
    "    <a href=\"mailto:jj.cruza@up.edu.pe\" style=\"color: rgb(0, 153, 123); font-size: 16px;\">\n",
    "        jj.cruza@up.edu.pe\n",
    "    </a>\n",
    "</div>"
   ]
  },
  {
   "cell_type": "markdown",
   "id": "2cb050f9",
   "metadata": {},
   "source": [
    "<div style=\"font-family: PT Serif Pro Book; text-align: left; color: dark; font-size: 16px;line-height: 1.5;\">\n",
    "<span style=\"font-size: 34px;\">&#128452;</span> The 't+h' structure should be available for all sectors and frequencies.\n",
    "    <br>\n",
    "    <span style=\"font-size: 24px;\">&#8987;</span> Available since <b>1994-2024</b> (Table 1) and since <b>1997-2024</b> (Table 2). \n",
    "    <br>\n",
    "</div>"
   ]
  },
  {
   "cell_type": "markdown",
   "id": "11cf93d2",
   "metadata": {},
   "source": [
    "<div style=\"font-family: Amaya; text-align: left; color: rgb(0, 65, 75); font-size:16px\">The following <b>outline is functional</b>. By utilising the provided buttons, users are able to enhance their experience by browsing this script.<div/>"
   ]
  },
  {
   "cell_type": "markdown",
   "id": "0dbb713b",
   "metadata": {},
   "source": [
    "<div id=\"outilne\">\n",
    "   <!-- Contenido de la celda de destino -->\n",
    "</div>"
   ]
  },
  {
   "cell_type": "markdown",
   "id": "0310e424",
   "metadata": {},
   "source": [
    "<div style=\"background-color: #292929; padding: 10px; line-height: 1.5; font-family: 'PT Serif Pro Book';\">\n",
    "    <h2 style=\"text-align: left; color: #E0E0E0;\">\n",
    "        Outline\n",
    "    </h2>\n",
    "    <br>\n",
    "    <a href=\"#libraries\" style=\"color: #E0E0E0; font-size: 18px; margin-left: 0px;\">\n",
    "        Libraries</a>\n",
    "    <br>\n",
    "    <a href=\"#setup\" style=\"color: #E0E0E0; font-size: 18px; margin-left: 0px;\">\n",
    "        Initial set-up</a>\n",
    "    <br>\n",
    "    <a href=\"#1\" style=\"color: #E0E0E0; font-size: 18px; margin-left: 0px;\">\n",
    "        1. Economic sector selector</a>\n",
    "    <br>\n",
    "    <a href=\"#2\" style=\"color: #E0E0E0; font-size: 18px; margin-left: 0px;\">\n",
    "        2. Create horizon datasets</a>\n",
    "    <br>\n",
    "    <a href=\"#2.1.\" style=\"color: #94FFD8; font-size: 16px; margin-left: 20px;\">\n",
    "        2.1. Loading growth rate datasets from postgresql.</a>\n",
    "    <br>\n",
    "    <a href=\"#2.2.\" style=\"color: #94FFD8; font-size: 16px; margin-left: 20px;\">\n",
    "        2.2. Functions for creating horizon and intermediate revisions datasets.</a>\n",
    "    <br>\n",
    "    <a href=\"#2.3.\" style=\"color: #94FFD8; font-size: 16px; margin-left: 20px;\">\n",
    "        2.3. Creating horizon dataset step by step.</a> \n",
    "    <br>\n",
    "    <a href=\"#3\" style=\"color: #E0E0E0; font-size: 18px; margin-left: 0px;\">\n",
    "        3. Create intermediate revisions datasets</a>\n",
    "    <br>\n",
    "    <a href=\"#3.1.\" style=\"color: #94FFD8; font-size: 16px; margin-left: 20px;\">\n",
    "        3.1. Functions for creating intermediate revisions dataset.</a>\n",
    "    <br>\n",
    "    <a href=\"#3.2.\" style=\"color: #94FFD8; font-size: 16px; margin-left: 20px;\">\n",
    "        3.2. Creating intermediate revisions dataset step by step.</a>\n",
    "    <br>\n",
    "    <a href=\"#3.3.\" style=\"color: #94FFD8; font-size: 16px; margin-left: 20px;\">\n",
    "        3.3. Clean-up intermediate revisions dataset (last version to be loaded to SQL).</a>\n",
    "</div>"
   ]
  },
  {
   "cell_type": "markdown",
   "id": "cd9c2298",
   "metadata": {},
   "source": [
    "<div style=\"text-align: left; font-family: 'PT Serif Pro Book'; color: dark; font-size:16px\">\n",
    "    Any questions or issues regarding the coding, please email Jason Cruz <a href=\"mailto:jj.cruza@alum.up.edu.pe\" style=\"color: rgb(0, 153, 123); text-decoration: none;\"><span style=\"font-size: 24px;\">&#x2709;</span>\n",
    "    </a>.\n",
    "    <div/>"
   ]
  },
  {
   "cell_type": "markdown",
   "id": "9017e225",
   "metadata": {},
   "source": [
    "<div style=\"text-align: left; font-family: 'PT Serif Pro Book'; color: dark; font-size:16px\">\n",
    "    If you don't have the libraries below, please use the following code (as example) to install the required libraries.\n",
    "    <div/>"
   ]
  },
  {
   "cell_type": "code",
   "execution_count": null,
   "id": "a3b7db8a",
   "metadata": {},
   "outputs": [],
   "source": [
    "#!pip install os # Comment this code with \"#\" if you have already installed this library."
   ]
  },
  {
   "cell_type": "markdown",
   "id": "a66ad5a1",
   "metadata": {},
   "source": [
    "<div id=\"libraries\">\n",
    "   <!-- Contenido de la celda de destino -->\n",
    "</div>"
   ]
  },
  {
   "cell_type": "markdown",
   "id": "8a9e2734",
   "metadata": {},
   "source": [
    "<div style=\"text-align: left; font-family: 'charter'; color: dark;\">\n",
    "    <h2>\n",
    "    Libraries\n",
    "    </h2>\n",
    "    <div/>"
   ]
  },
  {
   "cell_type": "code",
   "execution_count": 1,
   "id": "0bbc53ac",
   "metadata": {},
   "outputs": [],
   "source": [
    "# POSTGRESSQL\n",
    "import os\n",
    "from sqlalchemy import create_engine\n",
    "\n",
    "# HORIZON DATASETS\n",
    "import pandas as pd\n",
    "import numpy as np\n",
    "import re\n"
   ]
  },
  {
   "cell_type": "markdown",
   "id": "7c3e0489",
   "metadata": {},
   "source": [
    "<div style=\"font-family: PT Serif Pro Book; text-align: left; color: dark; font-size: 16px;\">\n",
    "    <span style=\"font-size: 30px; color: rgb(255, 32, 78); font-weight: bold;\">\n",
    "        <a href=\"#outilne\" style=\"color: rgb(0, 153, 123); text-decoration: none;\">&#11180;</a>\n",
    "    </span> \n",
    "    <a href=\"#outilne\" style=\"color: rgb(0, 153, 123); text-decoration: none;\">Back to the outline.</a>\n",
    "</div>"
   ]
  },
  {
   "cell_type": "markdown",
   "id": "4011069b",
   "metadata": {},
   "source": [
    "<div id=\"setup\">\n",
    "   <!-- Contenido de la celda de destino -->\n",
    "</div>"
   ]
  },
  {
   "cell_type": "markdown",
   "id": "d3aba408",
   "metadata": {},
   "source": [
    "<div style=\"text-align: left; font-family: 'PT Serif Pro Book'; color: dark;\">\n",
    "    <h2>\n",
    "    Initial set-up\n",
    "    </h2>\n",
    "    <div/>"
   ]
  },
  {
   "cell_type": "markdown",
   "id": "4bf247fb",
   "metadata": {},
   "source": [
    "<p style=\"font-family: PT Serif Pro Book; text-align: left; color:dark; font-size:16px\"> The following function will establish a connection to the <code>gdp_revisions_datasets</code> database in <code>PostgreSQL</code>. The <b>input data</b> used in this jupyter notebook will be loaded from this <code>PostgreSQL</code> database, and similarly, all <b>output data</b> generated by this jupyter notebook will be stored in that database. Ensure that you set the necessary parameters to access the server once you have obtained the required permissions.<p/>\n",
    "    \n",
    "<p style=\"text-align: left; font-family: 'PT Serif Pro Book'; color: dark; font-size:16px\">\n",
    "To request permissions, please email Jason Cruz <a href=\"mailto:jj.cruza@alum.up.edu.pe\" style=\"color: rgb(0, 153, 123); text-decoration: none;\"> <span style=\"font-size: 24px;\">&#x2709;</span>\n",
    "    </a>.\n",
    "<p/>"
   ]
  },
  {
   "cell_type": "markdown",
   "id": "701f7a65",
   "metadata": {},
   "source": [
    "<div style=\"text-align: left; font-family: 'PT Serif Pro Book'; color: dark; font-size:16px\">\n",
    "    <span style=\"font-size: 24px; color: #FFA823; font-weight: bold;\">&#9888;</span>\n",
    "    Enter your user credentials to acces to SQL.\n",
    "    <div/>"
   ]
  },
  {
   "cell_type": "code",
   "execution_count": 2,
   "id": "695a5cb7",
   "metadata": {},
   "outputs": [],
   "source": [
    "def create_sqlalchemy_engine():\n",
    "    \"\"\"\n",
    "    Function to create an SQLAlchemy engine using environment variables.\n",
    "    \n",
    "    Returns:\n",
    "        engine: SQLAlchemy engine object.\n",
    "    \"\"\"\n",
    "    # Get environment variables\n",
    "    user = os.environ.get('CIUP_SQL_USER')  # Get the SQL user from environment variables\n",
    "    password = os.environ.get('CIUP_SQL_PASS')  # Get the SQL password from environment variables\n",
    "    host = os.environ.get('CIUP_SQL_HOST')  # Get the SQL host from environment variables\n",
    "    port = 5432  # Set the SQL port to 5432\n",
    "    database = 'gdp_revisions_datasets'  # Set the database name 'gdp_revisions_datasets' from SQL\n",
    "\n",
    "    # Check if all environment variables are defined\n",
    "    if not all([host, user, password]):\n",
    "        raise ValueError(\"Some environment variables are missing (CIUP_SQL_HOST, CIUP_SQL_USER, CIUP_SQL_PASS)\")\n",
    "\n",
    "    # Create connection string\n",
    "    connection_string = f\"postgresql://{user}:{password}@{host}:{port}/{database}\"\n",
    "\n",
    "    # Create SQLAlchemy engine\n",
    "    engine = create_engine(connection_string)\n",
    "    \n",
    "    return engine"
   ]
  },
  {
   "cell_type": "markdown",
   "id": "8a7d79e1",
   "metadata": {},
   "source": [
    "<div style=\"text-align: left;\">\n",
    "    <span style=\"font-size: 24px; color: rgb(255, 32, 78); font-weight: bold;\">&#9888;</span>\n",
    "    <span style=\"font-family: PT Serif Pro Book; color: black; font-size: 16px;\">\n",
    "        Import all other functions required by this jupyter notebook.\n",
    "    </span>\n",
    "</div>"
   ]
  },
  {
   "cell_type": "markdown",
   "id": "89b6656c",
   "metadata": {},
   "source": [
    "<div style=\"font-family: PT Serif Pro Book; text-align: left; color:dark; font-size:16px\"> Please, check the script <code>gdp_inter_revisions_datasets_functions.py</code> which contains all the functions required by this jupyter notebook. The functions there are ordered according to the <a href=\"#outilne\" style=\"color: #3d30a2;\">sections</a> of this jupyter notebok.<div/>"
   ]
  },
  {
   "cell_type": "code",
   "execution_count": 3,
   "id": "9f2fa7db",
   "metadata": {},
   "outputs": [],
   "source": [
    "from gdp_inter_revisions_datasets_functions import *"
   ]
  },
  {
   "cell_type": "markdown",
   "id": "4fa89353",
   "metadata": {},
   "source": [
    "<div style=\"font-family: PT Serif Pro Book; text-align: left; color: dark; font-size: 16px;\">\n",
    "    <span style=\"font-size: 30px; color: rgb(255, 32, 78); font-weight: bold;\">\n",
    "        <a href=\"#outilne\" style=\"color: rgb(0, 153, 123); text-decoration: none;\">&#11180;</a>\n",
    "    </span> \n",
    "    <a href=\"#outilne\" style=\"color: rgb(0, 153, 123); text-decoration: none;\">Back to the outline.</a>\n",
    "</div>"
   ]
  },
  {
   "cell_type": "markdown",
   "id": "5dae510f",
   "metadata": {},
   "source": [
    "<div id=\"1\">\n",
    "   <!-- Contenido de la celda de destino -->\n",
    "</div>"
   ]
  },
  {
   "cell_type": "markdown",
   "id": "cfdb0db3",
   "metadata": {},
   "source": [
    "<h1><span style = \"color: rgb(0, 65, 75); font-family: PT Serif Pro Book;; color: dark;\">1.</span> <span style = \"color: dark; font-family: PT Serif Pro Book;\">Economic sector and data frequency selector</span></h1>"
   ]
  },
  {
   "cell_type": "markdown",
   "id": "ea31bc78",
   "metadata": {},
   "source": [
    "<h2><span style = \"color: rgb(0, 65, 75); font-family: PT Serif Pro Book;; color: dark;\">1.1.</span> <span style = \"color: dark; font-family: PT Serif Pro Book;\">Economic sector</span></h2>"
   ]
  },
  {
   "cell_type": "code",
   "execution_count": 4,
   "id": "0e776b38",
   "metadata": {},
   "outputs": [
    {
     "name": "stdout",
     "output_type": "stream",
     "text": [
      "Selected economic sector: gdp\n"
     ]
    }
   ],
   "source": [
    "# Call the function to show the popup window\n",
    "selected_sector = show_option_window()\n",
    "print(\"Selected economic sector:\", selected_sector)"
   ]
  },
  {
   "cell_type": "markdown",
   "id": "dc5627cb",
   "metadata": {},
   "source": [
    "<h2><span style = \"color: rgb(0, 65, 75); font-family: charter;\">1.2. </span> <span style = \"color: dark; font-family: charter;\">Frequency</span></h2>"
   ]
  },
  {
   "cell_type": "code",
   "execution_count": 5,
   "id": "c7255c44",
   "metadata": {},
   "outputs": [
    {
     "name": "stdout",
     "output_type": "stream",
     "text": [
      "Selected frequency: monthly\n"
     ]
    }
   ],
   "source": [
    "# Call the function to show the popup window\n",
    "selected_frequency = show_frequency_window()\n",
    "print(\"Selected frequency:\", selected_frequency)"
   ]
  },
  {
   "cell_type": "markdown",
   "id": "3a177d4c",
   "metadata": {},
   "source": [
    "<div style=\"font-family: PT Serif Pro Book; text-align: left; color: dark; font-size: 16px;\">\n",
    "    <span style=\"font-size: 30px; color: rgb(255, 32, 78); font-weight: bold;\">\n",
    "        <a href=\"#outilne\" style=\"color: rgb(0, 153, 123); text-decoration: none;\">&#11180;</a>\n",
    "    </span> \n",
    "    <a href=\"#outilne\" style=\"color: rgb(0, 153, 123); text-decoration: none;\">Back to the outline.</a>\n",
    "</div>"
   ]
  },
  {
   "cell_type": "markdown",
   "id": "53c07c2f",
   "metadata": {},
   "source": [
    "<div id=\"2\">\n",
    "   <!-- Contenido de la celda de destino -->\n",
    "</div>"
   ]
  },
  {
   "cell_type": "markdown",
   "id": "42d6dc00",
   "metadata": {},
   "source": [
    "<h1><span style = \"color: rgb(0, 65, 75); font-family: PT Serif Pro Book;; color: dark;\">2.</span> <span style = \"color: dark; font-family: PT Serif Pro Book;\">Create horizon datasets</span></h1>"
   ]
  },
  {
   "cell_type": "markdown",
   "id": "ca85491d",
   "metadata": {},
   "source": [
    "<div id=\"2.1.\">\n",
    "   <!-- Contenido de la celda de destino -->\n",
    "</div>"
   ]
  },
  {
   "cell_type": "markdown",
   "id": "6c6b0832",
   "metadata": {},
   "source": [
    "<h2><span style = \"color: rgb(0, 65, 75); font-family: charter;\">2.1. </span> <span style = \"color: dark; font-family: charter;\">Loading growth rate datasets from <code>PostgresSQL</code></span></h2>"
   ]
  },
  {
   "cell_type": "markdown",
   "id": "b36816f2",
   "metadata": {},
   "source": [
    "<div style=\"text-align: left; font-family: 'PT Serif Pro Book'; color: dark; font-size:16px\">\n",
    "    Connect to SQL.\n",
    "    <div/>"
   ]
  },
  {
   "cell_type": "code",
   "execution_count": null,
   "id": "073a5f33",
   "metadata": {},
   "outputs": [],
   "source": [
    "create_sqlalchemy_engine()"
   ]
  },
  {
   "cell_type": "code",
   "execution_count": null,
   "id": "18eab33b",
   "metadata": {},
   "outputs": [],
   "source": [
    "# SQL Query\n",
    "query = f\"SELECT * FROM {sector}_{frequency}_growth_rates;\"\n",
    "\n",
    "# Load data into DataFrame\n",
    "globals()[f'{sector}_{frequency}_growth_rates'] = pd.read_sql(query, engine)"
   ]
  },
  {
   "cell_type": "code",
   "execution_count": null,
   "id": "b9e3a8db",
   "metadata": {},
   "outputs": [],
   "source": [
    "pd.set_option('display.max_columns', None)"
   ]
  },
  {
   "cell_type": "code",
   "execution_count": null,
   "id": "2ee7d5cd",
   "metadata": {},
   "outputs": [],
   "source": [
    "globals()[f'{sector}_{frequency}_growth_rates'].head(20)"
   ]
  },
  {
   "cell_type": "markdown",
   "id": "db888be4",
   "metadata": {},
   "source": [
    "<div style=\"color: rgb(61, 48, 162); font-size: 12px;\">\n",
    "    Back to the\n",
    "    <a href=\"#outilne\" style=\"color: #687EFF;\">\n",
    "    outline.\n",
    "    </a>\n",
    "    <div/>"
   ]
  },
  {
   "cell_type": "markdown",
   "id": "cf2c60c0",
   "metadata": {},
   "source": [
    "<div id=\"2.2.\">\n",
    "   <!-- Contenido de la celda de destino -->\n",
    "</div>"
   ]
  },
  {
   "cell_type": "markdown",
   "id": "9348d6aa",
   "metadata": {},
   "source": [
    "<h2><span style = \"color: rgb(0, 65, 75); font-family: charter;\">2.2.</span>\n",
    "    <span style = \"color: dark; font-family: charter;\">\n",
    "    Functions for creating horizon dataset\n",
    "    </span>\n",
    "    </h2>"
   ]
  },
  {
   "cell_type": "markdown",
   "id": "ec50337e",
   "metadata": {},
   "source": [
    "<div style=\"font-family: charter; text-align: left; color:dark\">\n",
    "    <b> Setting main horizon rows on growth rates datasets</b>\n",
    "    <div/>"
   ]
  },
  {
   "cell_type": "code",
   "execution_count": null,
   "id": "bb081b98",
   "metadata": {},
   "outputs": [],
   "source": [
    "def replace_horizon(df, start_row):\n",
    "    # Cast DataFrame to object dtype to allow storing strings\n",
    "    df = df.astype(object)\n",
    "\n",
    "    def replace_row(row, last_non_nan_indices):\n",
    "        new_row = row.copy()\n",
    "        last_non_nan_index = row.last_valid_index()\n",
    "        h = 1\n",
    "        if last_non_nan_indices:\n",
    "            if last_non_nan_indices[-1] != last_non_nan_index:\n",
    "                new_row[last_non_nan_index] = \"t+1\"\n",
    "                h = 1\n",
    "            else:\n",
    "                h += 1\n",
    "        else:\n",
    "            new_row[last_non_nan_index] = \"t+1\"\n",
    "        for i in range(len(row) - 1, -1, -1):\n",
    "            if pd.notnull(row.iloc[i]) and (not last_non_nan_indices or last_non_nan_indices[-1] != last_non_nan_index):\n",
    "                new_row.iloc[i] = f\"t+{h}\"\n",
    "                h += 1\n",
    "        last_non_nan_indices.append(last_non_nan_index)\n",
    "        return new_row\n",
    "\n",
    "    first_part = df.iloc[:start_row]\n",
    "    last_non_nan_indices = []\n",
    "    second_part = df.iloc[start_row:].apply(lambda x: replace_row(x, last_non_nan_indices), axis=1)\n",
    "    return pd.concat([first_part, second_part])"
   ]
  },
  {
   "cell_type": "markdown",
   "id": "724886b6",
   "metadata": {},
   "source": [
    "<div style=\"font-family: charter; text-align: left; color:dark\">\n",
    "    <b> Converting columns to string type</b>\n",
    "    <div/>"
   ]
  },
  {
   "cell_type": "code",
   "execution_count": null,
   "id": "1a6afa3d",
   "metadata": {},
   "outputs": [],
   "source": [
    "def columns_str(df):\n",
    "    # Aplicar la conversión a partir de la cuarta columna del dataframe\n",
    "    return df.apply(lambda x: x if x.name in df.columns[:3] else x.map(lambda y: str(y) if pd.notnull(y) else ''))"
   ]
  },
  {
   "cell_type": "markdown",
   "id": "8088cfcc",
   "metadata": {},
   "source": [
    "<div style=\"font-family: charter; text-align: left; color:dark\">\n",
    "    <b>Filling the rest of the rows with horizon t+h </b>\n",
    "    <div/>"
   ]
  },
  {
   "cell_type": "code",
   "execution_count": null,
   "id": "936f6d76",
   "metadata": {},
   "outputs": [],
   "source": [
    "def replace_horizon_1(df):\n",
    "    # Obtener el nombre de las columnas que no deben ser procesadas\n",
    "    excluded_columns = ['year', 'id_ns', 'date', 'month']\n",
    "\n",
    "    # Iterar sobre cada columna\n",
    "    for col in df.columns:\n",
    "        # Ignorar las columnas excluidas\n",
    "        if col in excluded_columns:\n",
    "            continue\n",
    "\n",
    "        # Diccionario para almacenar los valores 't+h' por cada valor de 'date' para esta columna\n",
    "        dict_columna = {}\n",
    "\n",
    "        # Iterar sobre cada fila en la columna actual\n",
    "        for i, val in enumerate(df[col]):\n",
    "            # Si el valor es de la forma 't+h', almacenar su correspondiente valor de 'date'\n",
    "            if re.match(r't\\+\\d+', str(val)):\n",
    "                date_val = df.at[i, 'date'].strftime('%Y-%m')  # Obtener el año y mes de la fecha\n",
    "                dict_columna[date_val] = val\n",
    "\n",
    "        # Iterar sobre cada fila en la columna actual para reemplazar los valores\n",
    "        for i, val in enumerate(df[col]):\n",
    "            # Si el valor no es NaN, vacío (''), o contiene la expresión 't+h', dejarlo intacto\n",
    "            if not re.match(r't\\+\\d+', str(val)) and val != '':\n",
    "                date_val = df.at[i, 'date'].strftime('%Y-%m')  # Obtener el año y mes de la fecha\n",
    "                if date_val in dict_columna:\n",
    "                    df.at[i, col] = dict_columna[date_val]\n",
    "\n",
    "    return df"
   ]
  },
  {
   "cell_type": "markdown",
   "id": "c8062241",
   "metadata": {},
   "source": [
    "<div style=\"font-family: charter; text-align: left; color:dark\">\n",
    "    <b>Filling rare values with horizon t+h </b>\n",
    "    <div/>"
   ]
  },
  {
   "cell_type": "code",
   "execution_count": null,
   "id": "36f80dc3",
   "metadata": {},
   "outputs": [],
   "source": [
    "def replace_horizon_2(df):\n",
    "    # Función para buscar el último valor 't+h' encima de una secuencia de valores '\\d+.\\d+'\n",
    "    def find_last_t_plus_h(columna, indice):\n",
    "        for i in range(indice - 1, -1, -1):\n",
    "            if re.match(r't\\+\\d+', str(df.iloc[i, columna])):\n",
    "                return df.iloc[i, columna]\n",
    "        return None\n",
    "\n",
    "    # Iterar sobre cada columna del DataFrame\n",
    "    for columna in df.columns:\n",
    "        ultimo_t_mas_h = None\n",
    "        for indice, valor in df[columna].items():  # Change iteritems() to items()\n",
    "            if re.match(r'[-+]?\\d+\\.\\d+', str(valor)):  # Modify the regex pattern to include an optional sign\n",
    "                # Buscar el último valor 't+h' encima de la secuencia de valores '\\d+.\\d+'\n",
    "                if ultimo_t_mas_h is None:\n",
    "                    ultimo_t_mas_h = find_last_t_plus_h(df.columns.get_loc(columna), indice)\n",
    "                if ultimo_t_mas_h is not None:  # Check if ultimo_t_mas_h is not None\n",
    "                    # Extraer el dígito de 't+h' y sumarle una unidad\n",
    "                    nuevo_h = int(re.search(r'\\d+', ultimo_t_mas_h).group()) + 1\n",
    "                    # Construir el nuevo valor 't+(h+1)'\n",
    "                    nuevo_valor = re.sub(r'[-+]?\\d+\\.\\d+', f't+{nuevo_h}', str(valor))\n",
    "                    # Reemplazar el valor en el DataFrame\n",
    "                    df.at[indice, columna] = nuevo_valor\n",
    "            else:\n",
    "                ultimo_t_mas_h = None\n",
    "\n",
    "    return df"
   ]
  },
  {
   "cell_type": "markdown",
   "id": "06ef713c",
   "metadata": {},
   "source": [
    "<div style=\"font-family: charter; text-align: left; color:dark\">\n",
    "    <b>Exporting to excel file </b>\n",
    "    <div/>"
   ]
  },
  {
   "cell_type": "code",
   "execution_count": null,
   "id": "b8046afa",
   "metadata": {},
   "outputs": [],
   "source": [
    "def export_to_excel(df, filename):\n",
    "    # Exportar el DataFrame como un archivo Excel\n",
    "    df.to_excel(filename, index=False)"
   ]
  },
  {
   "cell_type": "markdown",
   "id": "b3293c31",
   "metadata": {},
   "source": [
    "<div style=\"color: rgb(61, 48, 162); font-size: 12px;\">\n",
    "    Back to the\n",
    "    <a href=\"#outilne\" style=\"color: #687EFF;\">\n",
    "    outline.\n",
    "    </a>\n",
    "    <div/>"
   ]
  },
  {
   "cell_type": "markdown",
   "id": "f0a27eeb",
   "metadata": {},
   "source": [
    "<div id=\"2.3.\">\n",
    "   <!-- Contenido de la celda de destino -->\n",
    "</div>"
   ]
  },
  {
   "cell_type": "markdown",
   "id": "11dcf69e",
   "metadata": {},
   "source": [
    "<h2><span style = \"color: rgb(0, 65, 75); font-family: charter;\">2.3.</span>\n",
    "    <span style = \"color: dark; font-family: charter;\">\n",
    "    Creating horizon dataset step by step\n",
    "    </span>\n",
    "    </h2>"
   ]
  },
  {
   "cell_type": "markdown",
   "id": "f87be87e",
   "metadata": {},
   "source": [
    "<h3 style = \"color: dark; font-family: charter;\">\n",
    "    <b>0.</b> Choose the row to start replacing\n",
    "  </h3>"
   ]
  },
  {
   "cell_type": "code",
   "execution_count": null,
   "id": "10c9ccd2",
   "metadata": {},
   "outputs": [],
   "source": [
    "start_row = 0"
   ]
  },
  {
   "cell_type": "code",
   "execution_count": null,
   "id": "b565df26",
   "metadata": {},
   "outputs": [],
   "source": [
    "pd.set_option('display.max_columns', None)"
   ]
  },
  {
   "cell_type": "markdown",
   "id": "7b10ddf8",
   "metadata": {},
   "source": [
    "<h3 style = \"color: dark; font-family: charter;\">\n",
    "    <b>1.</b> Reemplazara los valores decimales por valores \"t+h\" solo en las filas que representen un nuevo escalón\n",
    "  </h3>"
   ]
  },
  {
   "cell_type": "code",
   "execution_count": null,
   "id": "037dacf8",
   "metadata": {},
   "outputs": [],
   "source": [
    "globals()[f'{sector}_{frequency}_growth_rates_horizon'] = replace_horizon(globals()[f'{sector}_{frequency}_growth_rates'].iloc[:, 3:], start_row)"
   ]
  },
  {
   "cell_type": "code",
   "execution_count": null,
   "id": "5a22f807",
   "metadata": {},
   "outputs": [],
   "source": [
    "globals()[f'{sector}_{frequency}_growth_rates_horizon'].head(30)"
   ]
  },
  {
   "cell_type": "markdown",
   "id": "655210c9",
   "metadata": {},
   "source": [
    "<h3 style = \"color: dark; font-family: charter;\">\n",
    "    <b>2. Concatenate first 3 columns: year, date, id_ns</b>\n",
    "  </h3>"
   ]
  },
  {
   "cell_type": "code",
   "execution_count": null,
   "id": "9214927f",
   "metadata": {},
   "outputs": [],
   "source": [
    "# Obtener las tres primeras columnas del DataFrame original\n",
    "first_3_columns = globals()[f'{sector}_{frequency}_growth_rates'].iloc[:, :3]\n",
    "\n",
    "# Concatenar las tres primeras columnas con h_gdp_monthly_growth_rates\n",
    "globals()[f'{sector}_{frequency}_growth_rates_horizon'] = pd.concat([first_3_columns, globals()[f'{sector}_{frequency}_growth_rates_horizon']], axis=1)"
   ]
  },
  {
   "cell_type": "code",
   "execution_count": null,
   "id": "a98b7bfa",
   "metadata": {},
   "outputs": [],
   "source": [
    "globals()[f'{sector}_{frequency}_growth_rates_horizon'].head(10)"
   ]
  },
  {
   "cell_type": "markdown",
   "id": "a2cab016",
   "metadata": {},
   "source": [
    "<h3 style = \"color: dark; font-family: charter;\">\n",
    "    <b>3. Convert columns to string type</b>\n",
    "  </h3>"
   ]
  },
  {
   "cell_type": "code",
   "execution_count": null,
   "id": "4a4538cd",
   "metadata": {},
   "outputs": [],
   "source": [
    "globals()[f'{sector}_{frequency}_growth_rates_horizon'] = columns_str(globals()[f'{sector}_{frequency}_growth_rates_horizon'])\n",
    "globals()[f'{sector}_{frequency}_growth_rates_horizon'].head(10)"
   ]
  },
  {
   "cell_type": "markdown",
   "id": "a0e64f41",
   "metadata": {},
   "source": [
    "<h3 style = \"color: dark; font-family: charter;\">\n",
    "    <b>4. Spreads the \"t+h\" values over the remaining decimal values</b>\n",
    "  </h3>"
   ]
  },
  {
   "cell_type": "code",
   "execution_count": null,
   "id": "5128157c",
   "metadata": {},
   "outputs": [],
   "source": [
    "globals()[f'{sector}_{frequency}_growth_rates_horizon'] = replace_horizon_1(globals()[f'{sector}_{frequency}_growth_rates_horizon'])"
   ]
  },
  {
   "cell_type": "code",
   "execution_count": null,
   "id": "9a67a169",
   "metadata": {},
   "outputs": [],
   "source": [
    "globals()[f'{sector}_{frequency}_growth_rates_horizon'].head(35)"
   ]
  },
  {
   "cell_type": "markdown",
   "id": "733ec808",
   "metadata": {},
   "source": [
    "<h3 style = \"color: dark; font-family: charter;\">\n",
    "    <b>5. Spreads the \"t+h\" values over the remaining rare decimal values</b>\n",
    "  </h3>"
   ]
  },
  {
   "cell_type": "code",
   "execution_count": null,
   "id": "de88a1c4",
   "metadata": {},
   "outputs": [],
   "source": [
    "globals()[f'{sector}_{frequency}_growth_rates_horizon'] = replace_horizon_2(globals()[f'{sector}_{frequency}_growth_rates_horizon'])"
   ]
  },
  {
   "cell_type": "code",
   "execution_count": null,
   "id": "9e766bf9",
   "metadata": {
    "scrolled": false
   },
   "outputs": [],
   "source": [
    "globals()[f'{sector}_{frequency}_growth_rates_horizon'].head(20)"
   ]
  },
  {
   "cell_type": "code",
   "execution_count": null,
   "id": "d419c94a",
   "metadata": {},
   "outputs": [],
   "source": []
  },
  {
   "cell_type": "markdown",
   "id": "fae600ea",
   "metadata": {},
   "source": [
    "<div style=\"color: rgb(61, 48, 162); font-size: 12px;\">\n",
    "    Back to the\n",
    "    <a href=\"#outilne\" style=\"color: #687EFF;\">\n",
    "    outline.\n",
    "    </a>\n",
    "    <div/>"
   ]
  },
  {
   "cell_type": "markdown",
   "id": "fb7e90fe",
   "metadata": {},
   "source": [
    "<div id=\"3\">\n",
    "   <!-- Contenido de la celda de destino -->\n",
    "</div>"
   ]
  },
  {
   "cell_type": "markdown",
   "id": "e2af71c6",
   "metadata": {},
   "source": [
    "<h1><span style = \"color: rgb(0, 65, 75); font-family: charter;\">3.</span> <span style = \"color: dark; font-family: charter;\">Create intermediate revisions datasets</span></h1>"
   ]
  },
  {
   "cell_type": "markdown",
   "id": "bc05634b",
   "metadata": {},
   "source": [
    "<div id=\"3.1.\">\n",
    "   <!-- Contenido de la celda de destino -->\n",
    "</div>"
   ]
  },
  {
   "cell_type": "markdown",
   "id": "34859eb5",
   "metadata": {},
   "source": [
    "<h2><span style = \"color: rgb(0, 65, 75); font-family: charter;\">3.1.</span>\n",
    "    <span style = \"color: dark; font-family: charter;\">\n",
    "    Functions for creating intermediate revisions dataset\n",
    "    </span>\n",
    "    </h2>"
   ]
  },
  {
   "cell_type": "markdown",
   "id": "6f39809b",
   "metadata": {},
   "source": [
    "<div style=\"font-family: charter; text-align: left; color:dark\">\n",
    "    <b> Getting last row index for t+h value for each column</b>\n",
    "    <div/>"
   ]
  },
  {
   "cell_type": "code",
   "execution_count": null,
   "id": "9a679c55",
   "metadata": {},
   "outputs": [],
   "source": [
    "def get_last_index_h(df):\n",
    "    # Creamos un diccionario para almacenar los registros\n",
    "    registros = {}\n",
    "\n",
    "    # Iteramos sobre cada columna en el DataFrame, excluyendo las columnas 'year', 'date' y 'id_ns'\n",
    "    for columna in df.columns.drop(['year', 'date', 'id_ns']):\n",
    "        # Creamos un diccionario para almacenar los índices de fila de cada valor 't+\\d' en la columna actual\n",
    "        registros_columna = {}\n",
    "        # Iteramos sobre cada valor único en la columna actual, excluyendo NaN\n",
    "        for valor in df[columna].dropna().unique():\n",
    "            # Usamos expresiones regulares para encontrar valores que contengan 't+\\d'\n",
    "            if re.search(r't\\+\\d', valor):\n",
    "                # Encontramos el índice de la última aparición de valor que contiene 't+\\d' en la columna\n",
    "                ultimo_indice = df[df[columna] == valor].index.max()\n",
    "                # Agregamos el valor y su índice al diccionario de registros de la columna\n",
    "                registros_columna[valor] = ultimo_indice\n",
    "        # Agregamos el diccionario de registros de la columna al diccionario principal\n",
    "        registros[columna] = registros_columna\n",
    "\n",
    "    # Devolvemos los registros\n",
    "    return registros"
   ]
  },
  {
   "cell_type": "markdown",
   "id": "77963987",
   "metadata": {},
   "source": [
    "<div style=\"font-family: charter; text-align: left; color:dark\">\n",
    "    <b> Computting intermediate revisions</b>\n",
    "    <div/>"
   ]
  },
  {
   "cell_type": "code",
   "execution_count": null,
   "id": "d6bf7c69",
   "metadata": {},
   "outputs": [],
   "source": [
    "def computing_inter_revisions(df, registros):\n",
    "    # Extraemos las columnas de df, excluyendo 'year', 'date' y 'id_ns'\n",
    "    columnas = df.columns.drop(['year', 'date', 'id_ns'])\n",
    "    \n",
    "    # Obtenemos el valor máximo de h para determinar el número de filas en el DataFrame de revisiones\n",
    "    max_h = max([int(valor.split('+')[1]) for columna in registros.values() for valor in columna.keys()])\n",
    "    num_filas = max_h - 1\n",
    "    \n",
    "    # Creamos un DataFrame vacío para almacenar las revisiones intermedias\n",
    "    revisiones_intermedias = pd.DataFrame(columns=columnas, index=range(num_filas))\n",
    "    \n",
    "    # Iteramos sobre cada valor de h\n",
    "    for h in range(2, max_h + 1):\n",
    "        # Calculamos el nombre de la columna en el nuevo DataFrame\n",
    "        columna_revision = f\"t+{h} - t+1\"\n",
    "        \n",
    "        # Iteramos sobre cada columna en df\n",
    "        for columna in columnas:\n",
    "            # Obtenemos los índices correspondientes a t+h y t+1\n",
    "            indice_h = float(registros[columna].get(f\"t+{h}\", float('nan')))\n",
    "            indice_t1 = float(registros[columna].get(f\"t+1\", float('nan')))\n",
    "\n",
    "            # Verificamos si los índices son válidos\n",
    "            if np.isnan(indice_h) or np.isnan(indice_t1):\n",
    "                # Si alguno de los índices es NaN, asignamos NaN al resultado\n",
    "                resultado = np.nan\n",
    "            else:\n",
    "                # Realizamos la resta y almacenamos el resultado en la columna correspondiente\n",
    "                resultado = df.at[int(indice_h), columna] - df.at[int(indice_t1), columna]\n",
    "                # Guardamos el resultado en la fila correspondiente de revisiones_intermedias\n",
    "                revisiones_intermedias.at[h - 2, columna] = resultado\n",
    "    \n",
    "    return revisiones_intermedias"
   ]
  },
  {
   "cell_type": "markdown",
   "id": "4c1d23c6",
   "metadata": {},
   "source": [
    "<div style=\"font-family: charter; text-align: left; color:dark\">\n",
    "    <b> Transpose intermediate revisions dataset</b>\n",
    "    <div/>"
   ]
  },
  {
   "cell_type": "code",
   "execution_count": null,
   "id": "8c6331a5",
   "metadata": {},
   "outputs": [],
   "source": [
    "def transpose_inter_revisions(revisiones_intermedias):\n",
    "    # Transponemos el DataFrame\n",
    "    revisiones_transpuestas = revisiones_intermedias.T\n",
    "    \n",
    "    # Establecemos el nombre de la primera columna como 'intermediate_revision_date'\n",
    "    revisiones_transpuestas.columns.name = 'intermediate_revision_date'\n",
    "    \n",
    "    # Renombramos las columnas\n",
    "    revisiones_transpuestas.columns = [f'{sector}_revision_{i+1}' for i in range(len(revisiones_transpuestas.columns))]\n",
    "    \n",
    "    # Reiniciamos el índice\n",
    "    revisiones_transpuestas = revisiones_transpuestas.reset_index()\n",
    "    \n",
    "    # Cambiamos el nombre de la columna del índice\n",
    "    revisiones_transpuestas = revisiones_transpuestas.rename(columns={'index': 'inter_revision_date'})\n",
    "    \n",
    "    return revisiones_transpuestas"
   ]
  },
  {
   "cell_type": "markdown",
   "id": "4d503652",
   "metadata": {},
   "source": [
    "<div id=\"3.2.\">\n",
    "   <!-- Contenido de la celda de destino -->\n",
    "</div>"
   ]
  },
  {
   "cell_type": "markdown",
   "id": "8e524191",
   "metadata": {},
   "source": [
    "<h2><span style = \"color: rgb(0, 65, 75); font-family: charter;\">3.3.</span>\n",
    "    <span style = \"color: dark; font-family: charter;\">\n",
    "    Creating intermediate revisions dataset step by step\n",
    "    </span>\n",
    "    </h2>"
   ]
  },
  {
   "cell_type": "markdown",
   "id": "71eb05a8",
   "metadata": {},
   "source": [
    "<span style = \"color: dark; font-family: charter;\">\n",
    "    <b>1. Generating a dictionary with the row indices and their t+h values</b>\n",
    "  </span>"
   ]
  },
  {
   "cell_type": "code",
   "execution_count": null,
   "id": "c1f4d8d2",
   "metadata": {},
   "outputs": [],
   "source": [
    "dictionary = get_last_index_h(globals()[f'{sector}_{frequency}_growth_rates_horizon'])"
   ]
  },
  {
   "cell_type": "markdown",
   "id": "ab929aa3",
   "metadata": {},
   "source": [
    "<span style = \"color: dark; font-family: charter;\">\n",
    "    <b>2. Computing intermediate revisions</b>\n",
    "  </span>"
   ]
  },
  {
   "cell_type": "code",
   "execution_count": null,
   "id": "1e3b2cc4",
   "metadata": {},
   "outputs": [],
   "source": [
    "# Utilizamos la función para calcular las revisiones intermedias\n",
    "globals()[f'{sector}_inter_revisions'] = computing_inter_revisions(globals()[f'{sector}_{frequency}_growth_rates'], dictionary)\n",
    "globals()[f'{sector}_inter_revisions']"
   ]
  },
  {
   "cell_type": "markdown",
   "id": "c768d22d",
   "metadata": {},
   "source": [
    "<span style = \"color: dark; font-family: charter;\">\n",
    "    <b>3. Transpose the intermediate revisions dataset</b>\n",
    "  </span>"
   ]
  },
  {
   "cell_type": "code",
   "execution_count": null,
   "id": "c808c3e6",
   "metadata": {},
   "outputs": [],
   "source": [
    "# Utilizamos la función para transponer las revisiones intermedias\n",
    "globals()[f\"{sector}_{frequency}_inter_revisions\"] = transpose_inter_revisions(globals()[f'{sector}_inter_revisions'])\n",
    "\n",
    "# Mostramos el resultado\n",
    "print(\"Revisiones Intermedias Transpuestas:\")\n",
    "globals()[f\"{sector}_{frequency}_inter_revisions\"].head(20)"
   ]
  },
  {
   "cell_type": "code",
   "execution_count": null,
   "id": "2ef349ba",
   "metadata": {},
   "outputs": [],
   "source": []
  },
  {
   "cell_type": "markdown",
   "id": "4374ae3b",
   "metadata": {},
   "source": [
    "<div style=\"color: rgb(61, 48, 162); font-size: 12px;\">\n",
    "    Back to the\n",
    "    <a href=\"#outilne\" style=\"color: #687EFF;\">\n",
    "    outline.\n",
    "    </a>\n",
    "    <div/>"
   ]
  },
  {
   "cell_type": "markdown",
   "id": "5e3192e9",
   "metadata": {},
   "source": [
    "<div id=\"3.3.\">\n",
    "   <!-- Contenido de la celda de destino -->\n",
    "</div>"
   ]
  },
  {
   "cell_type": "markdown",
   "id": "e22df151",
   "metadata": {},
   "source": [
    "<h2><span style = \"color: rgb(0, 65, 75); font-family: charter;\">3.3.</span>\n",
    "    <span style = \"color: dark; font-family: charter;\">\n",
    "    Clean-up intermediate revisions dataset (last version to be loaded to SQL)\n",
    "    </span>\n",
    "    </h2>"
   ]
  },
  {
   "cell_type": "code",
   "execution_count": null,
   "id": "60acc888",
   "metadata": {},
   "outputs": [],
   "source": [
    "import pandas as pd\n",
    "\n",
    "# Extraer el mes y el año de la columna 'revision_date'\n",
    "globals()[f\"{sector}_{frequency}_inter_revisions\"]['month'] = globals()[f\"{sector}_{frequency}_inter_revisions\"]['inter_revision_date'].str.split('_').str[0]\n",
    "globals()[f\"{sector}_{frequency}_inter_revisions\"]['year'] = globals()[f\"{sector}_{frequency}_inter_revisions\"]['inter_revision_date'].str.split('_').str[1]\n",
    "\n",
    "# Mapear los nombres de los meses a sus respectivos números\n",
    "month_mapping = {\n",
    "    'ene': '01', 'feb': '02', 'mar': '03', 'abr': '04',\n",
    "    'may': '05', 'jun': '06', 'jul': '07', 'ago': '08',\n",
    "    'sep': '09', 'oct': '10', 'nov': '11', 'dic': '12'\n",
    "}\n",
    "\n",
    "globals()[f\"{sector}_{frequency}_inter_revisions\"]['month'] = globals()[f\"{sector}_{frequency}_inter_revisions\"]['month'].map(month_mapping)\n",
    "\n",
    "# Crear una nueva columna con la fecha en formato YYYY-MM-DD\n",
    "globals()[f\"{sector}_{frequency}_inter_revisions\"]['inter_revision_date'] = globals()[f\"{sector}_{frequency}_inter_revisions\"]['year'] + '-' + globals()[f\"{sector}_{frequency}_inter_revisions\"]['month']\n",
    "\n",
    "# Convertir la columna 'revision_date' a tipo de datos de fecha\n",
    "globals()[f\"{sector}_{frequency}_inter_revisions\"]['inter_revision_date'] = pd.to_datetime(globals()[f\"{sector}_{frequency}_inter_revisions\"]['inter_revision_date'], format='%Y-%m')\n",
    "\n",
    "# Eliminar columnas temporales 'month' y 'year'\n",
    "globals()[f\"{sector}_{frequency}_inter_revisions\"].drop(['month', 'year'], axis=1, inplace=True)\n",
    "\n",
    "# Mostrar el resultado\n",
    "globals()[f\"{sector}_{frequency}_inter_revisions\"]"
   ]
  },
  {
   "cell_type": "markdown",
   "id": "8c7fac58",
   "metadata": {},
   "source": [
    "<span style = \"color: dark; font-family: charter;\">\n",
    "    <b>Change format date</b>\n",
    "  </span>"
   ]
  },
  {
   "cell_type": "code",
   "execution_count": null,
   "id": "a2cbde8c",
   "metadata": {},
   "outputs": [],
   "source": [
    "print(globals()[f\"{sector}_{frequency}_inter_revisions\"]['inter_revision_date'].dtype)"
   ]
  },
  {
   "cell_type": "code",
   "execution_count": null,
   "id": "c4ae5d17",
   "metadata": {},
   "outputs": [],
   "source": [
    "globals()[f\"{sector}_{frequency}_inter_revisions\"]['inter_revision_date'] = pd.to_datetime(globals()[f\"{sector}_{frequency}_inter_revisions\"]['inter_revision_date']).dt.date"
   ]
  },
  {
   "cell_type": "markdown",
   "id": "a3b119fd",
   "metadata": {},
   "source": [
    "<div style=\"color: rgb(61, 48, 162); font-size: 12px;\">\n",
    "    Back to the\n",
    "    <a href=\"#outilne\" style=\"color: #687EFF;\">\n",
    "    outline.\n",
    "    </a>\n",
    "    <div/>"
   ]
  },
  {
   "cell_type": "markdown",
   "id": "6740d1a9",
   "metadata": {},
   "source": [
    "<div id=\"4.\">\n",
    "   <!-- Contenido de la celda de destino -->\n",
    "</div>"
   ]
  },
  {
   "cell_type": "markdown",
   "id": "90199d87",
   "metadata": {},
   "source": [
    "<h2><span style = \"color: rgb(0, 65, 75); font-family: charter;\">4.</span>\n",
    "    <span style = \"color: dark; font-family: charter;\">\n",
    "    Loading to SQL\n",
    "    </span>\n",
    "    </h2>"
   ]
  },
  {
   "cell_type": "code",
   "execution_count": null,
   "id": "408d5fb8",
   "metadata": {},
   "outputs": [],
   "source": [
    "# Check if all environment variables are defined\n",
    "if not all([host, user, password]):\n",
    "    raise ValueError(\"Some environment variables are missing (CIUP_SQL_HOST, CIUP_SQL_USER, CIUP_SQL_PASS)\")\n",
    "\n",
    "# Create connection string\n",
    "connection_string = f\"postgresql://{user}:{password}@{host}:{port}/{database}\"\n",
    "\n",
    "# Create SQLAlchemy engine\n",
    "engine = create_engine(connection_string)\n",
    "\n",
    "# REVISIONES\n",
    "\n",
    "#globals()[f'{sector}_{frequency}_growth_rates_horizon'].to_sql(f'{sector}_{frequency}_growth_rates_horizon', engine, index=False, if_exists='replace')\n",
    "#globals()[f\"{sector}_{frequency}_inter_revisions\"].to_sql(f'{sector}_{frequency}_inter_revisions', engine, index=False, if_exists='replace')"
   ]
  },
  {
   "cell_type": "code",
   "execution_count": null,
   "id": "30d2f5f4",
   "metadata": {},
   "outputs": [],
   "source": []
  },
  {
   "cell_type": "code",
   "execution_count": null,
   "id": "c8c1645c",
   "metadata": {},
   "outputs": [],
   "source": []
  },
  {
   "cell_type": "markdown",
   "id": "5053e455",
   "metadata": {},
   "source": [
    "<div style=\"color: rgb(61, 48, 162); font-size: 12px;\">\n",
    "    Back to the\n",
    "    <a href=\"#outilne\" style=\"color: #687EFF;\">\n",
    "    outline.\n",
    "    </a>\n",
    "    <div/>"
   ]
  },
  {
   "cell_type": "code",
   "execution_count": null,
   "id": "b957529c",
   "metadata": {},
   "outputs": [],
   "source": []
  }
 ],
 "metadata": {
  "kernelspec": {
   "display_name": "gdp_revisions",
   "language": "python",
   "name": "gdp_revisions"
  },
  "language_info": {
   "codemirror_mode": {
    "name": "ipython",
    "version": 3
   },
   "file_extension": ".py",
   "mimetype": "text/x-python",
   "name": "python",
   "nbconvert_exporter": "python",
   "pygments_lexer": "ipython3",
   "version": "3.12.1"
  }
 },
 "nbformat": 4,
 "nbformat_minor": 5
}
