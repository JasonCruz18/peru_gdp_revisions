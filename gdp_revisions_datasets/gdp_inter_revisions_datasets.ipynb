{
 "cells": [
  {
   "cell_type": "markdown",
   "id": "b7da098f",
   "metadata": {},
   "source": [
    "<div style=\"text-align: center; font-family: 'charter'; color: rgb(0, 65, 75);\">\n",
    "    <h1>\n",
    "    GDP Intermediate Revisions Datasets\n",
    "    </h1>\n",
    "</div>"
   ]
  },
  {
   "cell_type": "markdown",
   "id": "70e34bbf",
   "metadata": {},
   "source": [
    "<div style=\"text-align: center; font-family: 'charter'; color: rgb(0, 65, 75);\">\n",
    "    <h4>\n",
    "        Documentation\n",
    "        <br>\n",
    "        ____________________\n",
    "            </br>\n",
    "    </h4>\n",
    "</div>"
   ]
  },
  {
   "cell_type": "markdown",
   "id": "14cba1c5",
   "metadata": {},
   "source": [
    "<div style=\"font-family: charter; text-align: left; color: dark;\">\n",
    "    This \n",
    "    <span style=\"color: rgb(61, 48, 162);\">jupyter notebook</span>\n",
    "    provides a step-by-step guide to <b>data building</b> regarding the project <b>'Revisiones y sesgos en las estimaciones preliminares del PBI en el Perú'</b>. This guide covers the creation of GDP mid-term revision datasets for each sector. A key step is the construction at par of a structure similar to that of the growth rates for each sector, but instead of growth rates, it contains \"t+h\" values where h indicates how many months have passed since the preliminary growth rate was first published; that is, this guide also covers the creation of vintages datasets of growth rates associated with a horizon (h).\n",
    "</div>"
   ]
  },
  {
   "cell_type": "markdown",
   "id": "85c96b01",
   "metadata": {},
   "source": [
    "<div style=\"text-align: center; font-family: 'charter'; color: rgb(0, 65, 75);\">\n",
    "    Jason Cruz\n",
    "    <br>\n",
    "    <a href=\"mailto:jj.cruza@up.edu.pe\" style=\"color: rgb(0, 153, 123)\">\n",
    "        jj.cruza@up.edu.pe\n",
    "    </a>\n",
    "</div>"
   ]
  },
  {
   "cell_type": "markdown",
   "id": "ae9ef7a5",
   "metadata": {},
   "source": [
    "<div style=\"font-family: Times New Roman; text-align: left; color: rgb(61, 48, 162)\">The provided outline is functional. Use the buttons to enhance the experience of this script.<div/>"
   ]
  },
  {
   "cell_type": "markdown",
   "id": "3a52dcbe",
   "metadata": {},
   "source": [
    "<div id=\"outilne\">\n",
    "   <!-- Contenido de la celda de destino -->\n",
    "</div>"
   ]
  },
  {
   "cell_type": "markdown",
   "id": "db249201",
   "metadata": {},
   "source": [
    "<div style=\"background-color: #141414; padding: 10px;\">\n",
    "<h2 style=\"text-align: left; font-family: 'charter'; color: #E0E0E0;\">\n",
    "    Outline\n",
    "    </h2>\n",
    "    <br>\n",
    "    <a href=\"#1\" style=\"color: #687EFF; font-size: 18px;\">\n",
    "        1. Economic sector selectorEconomic sector selector</a>\n",
    "    <br>\n",
    "    <a href=\"#2\" style=\"color: #687EFF; font-size: 18px;\">\n",
    "        2. Create horizon datasets</a>\n",
    "    <br>\n",
    "    <a href=\"#2.1.\" style=\"color: rgb(0, 153, 123); font-size: 12px;\">\n",
    "        2.1. Loading growth rate datasets from postgressql.</a>\n",
    "    <br>\n",
    "    <a href=\"#2.2.\" style=\"color: rgb(0, 153, 123); font-size: 12px;\">\n",
    "        2.2. Functions for creating horizon and intermediate revisions datasets.</a>\n",
    "    <br>\n",
    "    <a href=\"#3\" style=\"color: #687EFF; font-size: 18px;\">\n",
    "        3. Create intermediate revisions datasets</a>\n",
    "    <br>\n",
    "    <a href=\"#3.1.\" style=\"color: rgb(0, 153, 123); font-size: 12px;\">\n",
    "        3.1. Functions for creating intermediate revisions dataset.</a>\n",
    "    <br>\n",
    "    <a href=\"#3.2.\" style=\"color: rgb(0, 153, 123); font-size: 12px;\">\n",
    "        3.2. Clean-up intermediate revisions dataset (last version to be loaded to SQL).</a>\n",
    "    \n",
    "    \n",
    "</div>"
   ]
  },
  {
   "cell_type": "markdown",
   "id": "bad0b56c",
   "metadata": {},
   "source": [
    "<div style=\"text-align: left; font-family: 'charter'; color: dark;\">\n",
    "    Any questions or issues regarding the coding, please <a href=\"mailto:jj.cruza@alum.up.edu.pe\" style=\"color: rgb(0, 153, 123)\">email Jason Cruz\n",
    "    </a>.\n",
    "    <div/>"
   ]
  },
  {
   "cell_type": "markdown",
   "id": "0b2e5d45",
   "metadata": {},
   "source": [
    "<div style=\"text-align: left; font-family: 'charter'; color: dark;\">\n",
    "    If you don't have the libraries below, please use the following code (as example) to install the required libraries.\n",
    "    <div/>"
   ]
  },
  {
   "cell_type": "code",
   "execution_count": 1,
   "id": "99e4a111",
   "metadata": {},
   "outputs": [],
   "source": [
    "#!pip install os # Comment this code with \"#\" if you have already installed this library."
   ]
  },
  {
   "cell_type": "markdown",
   "id": "2998ed2c",
   "metadata": {},
   "source": [
    "<div style=\"text-align: left; font-family: 'charter'; color: dark;\">\n",
    "    <h2>\n",
    "    Libraries\n",
    "    </h2>\n",
    "    <div/>"
   ]
  },
  {
   "cell_type": "code",
   "execution_count": 3,
   "id": "3ba27a9b",
   "metadata": {},
   "outputs": [],
   "source": [
    "# POSTGRESSQL\n",
    "import os\n",
    "from sqlalchemy import create_engine\n",
    "\n",
    "# HORIZON DATASETS\n",
    "import pandas as pd\n",
    "import numpy as np\n",
    "import re\n"
   ]
  },
  {
   "cell_type": "code",
   "execution_count": null,
   "id": "10c8b5df",
   "metadata": {},
   "outputs": [],
   "source": []
  },
  {
   "cell_type": "markdown",
   "id": "1ad470fb",
   "metadata": {},
   "source": [
    "<div id=\"1\">\n",
    "   <!-- Contenido de la celda de destino -->\n",
    "</div>"
   ]
  },
  {
   "cell_type": "markdown",
   "id": "35d013ef",
   "metadata": {},
   "source": [
    "<h1><span style = \"color: rgb(0, 65, 75); font-family: charter;\">1.</span> <span style = \"color: dark; font-family: charter;\">Economic sector selector</span></h1>"
   ]
  },
  {
   "cell_type": "code",
   "execution_count": null,
   "id": "794c0de2",
   "metadata": {},
   "outputs": [],
   "source": [
    "import tkinter as tk\n",
    "\n",
    "# Definir la lista de opciones\n",
    "opciones = [\n",
    "    \"gdp\", \n",
    "    \"agriculture\", # agriculture and livestock\n",
    "    \"fishing\",\n",
    "    \"mining\", # mining and fuel\n",
    "    \"manufacturing\",\n",
    "    \"electricity\", # electricity and water\n",
    "    \"construction\",\n",
    "    \"commerce\",\n",
    "    \"services\" # other services\n",
    "]\n",
    "\n",
    "# Función para guardar la opción seleccionada y cerrar la ventana\n",
    "def guardar_opcion():\n",
    "    global sector\n",
    "    sector = opcion_seleccionada.get()\n",
    "    root.destroy()  # Cerrar la ventana después de seleccionar una opción\n",
    "\n",
    "# Crear la ventana emergente\n",
    "root = tk.Tk()\n",
    "root.title(\"Seleccionar opción\")\n",
    "\n",
    "# Variable para almacenar la opción seleccionada\n",
    "opcion_seleccionada = tk.StringVar(root)\n",
    "opcion_seleccionada.set(opciones[0])  # Opción predeterminada\n",
    "\n",
    "# Crear el menú de opciones\n",
    "menu = tk.OptionMenu(root, opcion_seleccionada, *opciones)\n",
    "menu.pack(pady=10)\n",
    "\n",
    "# Botón para confirmar la selección\n",
    "boton_confirmar = tk.Button(root, text=\"Confirmar\", command=guardar_opcion)\n",
    "boton_confirmar.pack()\n",
    "\n",
    "# Mostrar la ventana\n",
    "root.update_idletasks()\n",
    "root.wait_window()\n",
    "\n",
    "# Mostrar el valor seleccionado\n",
    "print(\"Sector económico seleccionado:\", opcion_seleccionada.get())"
   ]
  },
  {
   "cell_type": "markdown",
   "id": "58c3458b",
   "metadata": {},
   "source": [
    "<div style=\"color: rgb(61, 48, 162); font-size: 12px;\">\n",
    "    Back to the\n",
    "    <a href=\"#outilne\" style=\"color: #687EFF;\">\n",
    "    outline.\n",
    "    </a>\n",
    "    <div/>"
   ]
  },
  {
   "cell_type": "markdown",
   "id": "65c86aeb",
   "metadata": {},
   "source": [
    "<div id=\"2\">\n",
    "   <!-- Contenido de la celda de destino -->\n",
    "</div>"
   ]
  },
  {
   "cell_type": "markdown",
   "id": "ce1353c7",
   "metadata": {},
   "source": [
    "<h1><span style = \"color: rgb(0, 65, 75); font-family: charter;\">2.</span> <span style = \"color: dark; font-family: charter;\">Create horizon datasets</span></h1>"
   ]
  },
  {
   "cell_type": "markdown",
   "id": "5ecfc357",
   "metadata": {},
   "source": [
    "<div id=\"2.1.\">\n",
    "   <!-- Contenido de la celda de destino -->\n",
    "</div>"
   ]
  },
  {
   "cell_type": "markdown",
   "id": "1c920167",
   "metadata": {},
   "source": [
    "<h2><span style = \"color: rgb(0, 65, 75); font-family: charter;\">2.1.</span> <span style = \"color: dark; font-family: charter;\">Loading growth rate datasets from postgressql</span></h2>"
   ]
  },
  {
   "cell_type": "markdown",
   "id": "c522e60f",
   "metadata": {},
   "source": [
    "<div style=\"font-family: charter; text-align: left; color:dark\">\n",
    "    Enter your user credentials to acces to SQL\n",
    "    <div/>"
   ]
  },
  {
   "cell_type": "code",
   "execution_count": null,
   "id": "0e7849aa",
   "metadata": {},
   "outputs": [],
   "source": [
    "# Get environment variables\n",
    "user = os.environ.get('CIUP_SQL_USER')\n",
    "password = os.environ.get('CIUP_SQL_PASS')\n",
    "host = os.environ.get('CIUP_SQL_HOST')\n",
    "port = 5432\n",
    "database = 'gdp_revisions_datasets'"
   ]
  },
  {
   "cell_type": "markdown",
   "id": "f67eab46",
   "metadata": {},
   "source": [
    "<div style=\"font-family: charter; text-align: left; color:dark\">\n",
    "    Connect to SQL\n",
    "    <div/>"
   ]
  },
  {
   "cell_type": "code",
   "execution_count": null,
   "id": "480afd58",
   "metadata": {},
   "outputs": [],
   "source": [
    "# Check if all environment variables are defined\n",
    "if not all([host, user, password]):\n",
    "    raise ValueError(\"Some environment variables are missing (CIUP_SQL_HOST, CIUP_SQL_USER, CIUP_SQL_PASS)\")\n",
    "\n",
    "# Create connection string\n",
    "connection_string = f\"postgresql://{user}:{password}@{host}:{port}/{database}\"\n",
    "\n",
    "# Create SQLAlchemy engine\n",
    "engine = create_engine(connection_string)\n",
    "\n",
    "# SQL Query\n",
    "query = f\"SELECT * FROM {sector}_monthly_growth_rates;\"\n",
    "\n",
    "# Load data into DataFrame\n",
    "globals()[{sector}_monthly_growth_rates] = pd.read_sql(query, engine)"
   ]
  },
  {
   "cell_type": "code",
   "execution_count": null,
   "id": "066d4fdd",
   "metadata": {},
   "outputs": [],
   "source": [
    "globals()[{sector}_monthly_growth_rates].head(5)"
   ]
  },
  {
   "cell_type": "markdown",
   "id": "fcbfe301",
   "metadata": {},
   "source": [
    "<div style=\"color: rgb(61, 48, 162); font-size: 12px;\">\n",
    "    Back to the\n",
    "    <a href=\"#outilne\" style=\"color: #687EFF;\">\n",
    "    outline.\n",
    "    </a>\n",
    "    <div/>"
   ]
  },
  {
   "cell_type": "markdown",
   "id": "d08e9efb",
   "metadata": {},
   "source": [
    "<div id=\"2.2.\">\n",
    "   <!-- Contenido de la celda de destino -->\n",
    "</div>"
   ]
  },
  {
   "cell_type": "markdown",
   "id": "4b71b0b4",
   "metadata": {},
   "source": [
    "<h2><span style = \"color: rgb(0, 65, 75); font-family: charter;\">2.2.</span>\n",
    "    <span style = \"color: dark; font-family: charter;\">\n",
    "    Functions for creating horizon dataset\n",
    "    </span>\n",
    "    </h2>"
   ]
  },
  {
   "cell_type": "markdown",
   "id": "ab2022c6",
   "metadata": {},
   "source": [
    "<div style=\"font-family: charter; text-align: left; color:dark\">\n",
    "    <b> Setting main horizon rows on growth rates datasets</b>\n",
    "    <div/>"
   ]
  },
  {
   "cell_type": "code",
   "execution_count": null,
   "id": "409593f3",
   "metadata": {},
   "outputs": [],
   "source": [
    "def replace_horizon(df, start_row):\n",
    "    # Cast DataFrame to object dtype to allow storing strings\n",
    "    df = df.astype(object)\n",
    "\n",
    "    def replace_row(row, last_non_nan_indices):\n",
    "        new_row = row.copy()\n",
    "        last_non_nan_index = row.last_valid_index()\n",
    "        h = 1\n",
    "        if last_non_nan_indices:\n",
    "            if last_non_nan_indices[-1] != last_non_nan_index:\n",
    "                new_row[last_non_nan_index] = \"t+1\"\n",
    "                h = 1\n",
    "            else:\n",
    "                h += 1\n",
    "        else:\n",
    "            new_row[last_non_nan_index] = \"t+1\"\n",
    "        for i in range(len(row) - 1, -1, -1):\n",
    "            if pd.notnull(row.iloc[i]) and (not last_non_nan_indices or last_non_nan_indices[-1] != last_non_nan_index):\n",
    "                new_row.iloc[i] = f\"t+{h}\"\n",
    "                h += 1\n",
    "        last_non_nan_indices.append(last_non_nan_index)\n",
    "        return new_row\n",
    "\n",
    "    first_part = df.iloc[:start_row]\n",
    "    last_non_nan_indices = []\n",
    "    second_part = df.iloc[start_row:].apply(lambda x: replace_row(x, last_non_nan_indices), axis=1)\n",
    "    return pd.concat([first_part, second_part])"
   ]
  },
  {
   "cell_type": "markdown",
   "id": "5b2be449",
   "metadata": {},
   "source": [
    "<div style=\"font-family: charter; text-align: left; color:dark\">\n",
    "    <b> Converting columns to string type</b>\n",
    "    <div/>"
   ]
  },
  {
   "cell_type": "code",
   "execution_count": null,
   "id": "f0eacc25",
   "metadata": {},
   "outputs": [],
   "source": [
    "def columns_str(df):\n",
    "    # Aplicar la conversión a partir de la cuarta columna del dataframe\n",
    "    return df.apply(lambda x: x if x.name in df.columns[:3] else x.map(lambda y: str(y) if pd.notnull(y) else ''))"
   ]
  },
  {
   "cell_type": "markdown",
   "id": "c8302aa2",
   "metadata": {},
   "source": [
    "<div style=\"font-family: charter; text-align: left; color:dark\">\n",
    "    <b>Filling the rest of the rows with horizon t+h </b>\n",
    "    <div/>"
   ]
  },
  {
   "cell_type": "code",
   "execution_count": null,
   "id": "3b3f6184",
   "metadata": {},
   "outputs": [],
   "source": [
    "def replace_horizon_1(df):\n",
    "    # Obtener el nombre de las columnas que no deben ser procesadas\n",
    "    excluded_columns = ['year', 'id_ns', 'date', 'month']\n",
    "    \n",
    "    # Iterar sobre cada columna\n",
    "    for col in df.columns:\n",
    "        # Ignorar las columnas excluidas\n",
    "        if col in excluded_columns:\n",
    "            continue\n",
    "        \n",
    "        # Diccionario para almacenar los valores 't+h' por cada valor de 'date' para esta columna\n",
    "        dict_columna = {}\n",
    "        \n",
    "        # Iterar sobre cada fila en la columna actual\n",
    "        for i, val in enumerate(df[col]):\n",
    "            # Si el valor es de la forma 't+h', almacenar su correspondiente valor de 'date'\n",
    "            if re.match(r't\\+\\d+', str(val)):\n",
    "                date_val = df.at[i, 'date'].strftime('%Y-%m')  # Obtener el año y mes de la fecha\n",
    "                dict_columna[date_val] = val\n",
    "        \n",
    "        # Iterar sobre cada fila en la columna actual para reemplazar los valores\n",
    "        for i, val in enumerate(df[col]):\n",
    "            # Si el valor no es NaN, vacío (''), o contiene la expresión 't+h', dejarlo intacto\n",
    "            if not re.match(r't\\+\\d+', str(val)) and val != '':\n",
    "                date_val = df.at[i, 'date'].strftime('%Y-%m')  # Obtener el año y mes de la fecha\n",
    "                if date_val in dict_columna:\n",
    "                    df.at[i, col] = dict_columna[date_val]\n",
    "    \n",
    "    return df"
   ]
  },
  {
   "cell_type": "markdown",
   "id": "102e53c3",
   "metadata": {},
   "source": [
    "<div style=\"font-family: charter; text-align: left; color:dark\">\n",
    "    <b>Filling rare values with horizon t+h </b>\n",
    "    <div/>"
   ]
  },
  {
   "cell_type": "code",
   "execution_count": null,
   "id": "ddbb3abc",
   "metadata": {},
   "outputs": [],
   "source": [
    "def replace_horizon_2(df):\n",
    "    # Función para buscar el último valor 't+h' encima de una secuencia de valores '\\d+.\\d+'\n",
    "    def find_last_t_plus_h(columna, indice):\n",
    "        for i in range(indice - 1, -1, -1):\n",
    "            if re.match(r't\\+\\d+', str(df.iloc[i, columna])):\n",
    "                return df.iloc[i, columna]\n",
    "        return None\n",
    "\n",
    "    # Iterar sobre cada columna del DataFrame\n",
    "    for columna in df.columns:\n",
    "        ultimo_t_mas_h = None\n",
    "        for indice, valor in df[columna].items():  # Change iteritems() to items()\n",
    "            if re.match(r'[-+]?\\d+\\.\\d+', str(valor)):  # Modify the regex pattern to include an optional sign\n",
    "                # Buscar el último valor 't+h' encima de la secuencia de valores '\\d+.\\d+'\n",
    "                if ultimo_t_mas_h is None:\n",
    "                    ultimo_t_mas_h = find_last_t_plus_h(df.columns.get_loc(columna), indice)\n",
    "                if ultimo_t_mas_h is not None:  # Check if ultimo_t_mas_h is not None\n",
    "                    # Extraer el dígito de 't+h' y sumarle una unidad\n",
    "                    nuevo_h = int(re.search(r'\\d+', ultimo_t_mas_h).group()) + 1\n",
    "                    # Construir el nuevo valor 't+(h+1)'\n",
    "                    nuevo_valor = re.sub(r'[-+]?\\d+\\.\\d+', f't+{nuevo_h}', str(valor))\n",
    "                    # Reemplazar el valor en el DataFrame\n",
    "                    df.at[indice, columna] = nuevo_valor\n",
    "            else:\n",
    "                ultimo_t_mas_h = None\n",
    "\n",
    "    return df"
   ]
  },
  {
   "cell_type": "markdown",
   "id": "671d0744",
   "metadata": {},
   "source": [
    "<div style=\"font-family: charter; text-align: left; color:dark\">\n",
    "    <b>Exporting to excel file </b>\n",
    "    <div/>"
   ]
  },
  {
   "cell_type": "code",
   "execution_count": null,
   "id": "08c7e00d",
   "metadata": {},
   "outputs": [],
   "source": [
    "def export_to_excel(df, filename):\n",
    "    # Exportar el DataFrame como un archivo Excel\n",
    "    df.to_excel(filename, index=False)"
   ]
  },
  {
   "cell_type": "markdown",
   "id": "970e11c8",
   "metadata": {},
   "source": [
    "<div style=\"color: rgb(61, 48, 162); font-size: 12px;\">\n",
    "    Back to the\n",
    "    <a href=\"#outilne\" style=\"color: #687EFF;\">\n",
    "    outline.\n",
    "    </a>\n",
    "    <div/>"
   ]
  },
  {
   "cell_type": "code",
   "execution_count": null,
   "id": "a9e5271c",
   "metadata": {},
   "outputs": [],
   "source": []
  },
  {
   "cell_type": "code",
   "execution_count": null,
   "id": "668e8e94",
   "metadata": {},
   "outputs": [],
   "source": [
    "h_gdp_monthly_growth_rates = replace_horizon(gdp_monthly_growth_rates.iloc[:, 3:], 2)"
   ]
  },
  {
   "cell_type": "code",
   "execution_count": null,
   "id": "cf87f597",
   "metadata": {},
   "outputs": [],
   "source": [
    "pd.set_option('display.max_columns', None)\n",
    "h_gdp_monthly_growth_rates"
   ]
  },
  {
   "cell_type": "markdown",
   "id": "5cf35aed",
   "metadata": {},
   "source": [
    "# Concatenar con primeras 3 columnas"
   ]
  },
  {
   "cell_type": "code",
   "execution_count": null,
   "id": "d2d9d3a7",
   "metadata": {},
   "outputs": [],
   "source": [
    "# Obtener las tres primeras columnas del DataFrame original\n",
    "primeras_tres_columnas = gdp_monthly_growth_rates.iloc[:, :3]\n",
    "\n",
    "# Concatenar las tres primeras columnas con h_gdp_monthly_growth_rates\n",
    "h_gdp_monthly_growth_rates = pd.concat([primeras_tres_columnas, h_gdp_monthly_growth_rates], axis=1)"
   ]
  },
  {
   "cell_type": "code",
   "execution_count": null,
   "id": "6e42c064",
   "metadata": {},
   "outputs": [],
   "source": [
    "h_gdp_monthly_growth_rates.head(6)"
   ]
  },
  {
   "cell_type": "markdown",
   "id": "6f189794",
   "metadata": {},
   "source": [
    "### A str"
   ]
  },
  {
   "cell_type": "code",
   "execution_count": null,
   "id": "2b3dd69d",
   "metadata": {},
   "outputs": [],
   "source": [
    "h_gdp_monthly_growth_rates_1 = columns_str(df)(h_gdp_monthly_growth_rates)\n",
    "h_gdp_monthly_growth_rates_1.head(600)"
   ]
  },
  {
   "cell_type": "code",
   "execution_count": null,
   "id": "0e4a5a48",
   "metadata": {},
   "outputs": [],
   "source": []
  },
  {
   "cell_type": "code",
   "execution_count": null,
   "id": "088bef6c",
   "metadata": {},
   "outputs": [],
   "source": [
    "h_gdp_monthly_growth_rates_2 = replace_horizon_1(h_gdp_monthly_growth_rates_1)"
   ]
  },
  {
   "cell_type": "code",
   "execution_count": null,
   "id": "e54b6a7a",
   "metadata": {},
   "outputs": [],
   "source": [
    "h_gdp_monthly_growth_rates_2.head(60)"
   ]
  },
  {
   "cell_type": "code",
   "execution_count": null,
   "id": "3f8b1a3e",
   "metadata": {},
   "outputs": [],
   "source": []
  },
  {
   "cell_type": "code",
   "execution_count": null,
   "id": "8ee442d1",
   "metadata": {},
   "outputs": [],
   "source": [
    "h_gdp_monthly_growth_rates_3 = replace_horizon_2(h_gdp_monthly_growth_rates_2)"
   ]
  },
  {
   "cell_type": "code",
   "execution_count": null,
   "id": "3619cb7e",
   "metadata": {},
   "outputs": [],
   "source": [
    "h_gdp_monthly_growth_rates_3.head(30)"
   ]
  },
  {
   "cell_type": "markdown",
   "id": "e25d8b3e",
   "metadata": {},
   "source": []
  },
  {
   "cell_type": "code",
   "execution_count": null,
   "id": "dad6d051",
   "metadata": {},
   "outputs": [],
   "source": []
  },
  {
   "cell_type": "code",
   "execution_count": null,
   "id": "d28e371e",
   "metadata": {},
   "outputs": [],
   "source": []
  },
  {
   "cell_type": "code",
   "execution_count": null,
   "id": "7051c815",
   "metadata": {},
   "outputs": [],
   "source": [
    "# Ejemplo de uso\n",
    "#export_to_excel(h_gdp_monthly_growth_rates_3, \"revisions_horizon_m_3.xlsx\")"
   ]
  },
  {
   "cell_type": "code",
   "execution_count": null,
   "id": "00cb1210",
   "metadata": {},
   "outputs": [],
   "source": []
  },
  {
   "cell_type": "code",
   "execution_count": null,
   "id": "38705170",
   "metadata": {},
   "outputs": [],
   "source": []
  },
  {
   "cell_type": "code",
   "execution_count": null,
   "id": "46e74386",
   "metadata": {},
   "outputs": [],
   "source": []
  },
  {
   "cell_type": "markdown",
   "id": "fba78d33",
   "metadata": {},
   "source": [
    "<div id=\"3\">\n",
    "   <!-- Contenido de la celda de destino -->\n",
    "</div>"
   ]
  },
  {
   "cell_type": "markdown",
   "id": "1f32dab3",
   "metadata": {},
   "source": [
    "<h1><span style = \"color: rgb(0, 65, 75); font-family: charter;\">3.</span> <span style = \"color: dark; font-family: charter;\">Create intermediate revisions datasets</span></h1>"
   ]
  },
  {
   "cell_type": "markdown",
   "id": "356ff6ef",
   "metadata": {},
   "source": [
    "<div id=\"3.1.\">\n",
    "   <!-- Contenido de la celda de destino -->\n",
    "</div>"
   ]
  },
  {
   "cell_type": "markdown",
   "id": "19bdfdfb",
   "metadata": {},
   "source": [
    "<h2><span style = \"color: rgb(0, 65, 75); font-family: charter;\">3.1.</span>\n",
    "    <span style = \"color: dark; font-family: charter;\">\n",
    "    Functions for creating intermediate revisions dataset\n",
    "    </span>\n",
    "    </h2>"
   ]
  },
  {
   "cell_type": "markdown",
   "id": "c8c738bd",
   "metadata": {},
   "source": [
    "<div style=\"font-family: charter; text-align: left; color:dark\">\n",
    "    <b> Getting last row index for t+h value for each column</b>\n",
    "    <div/>"
   ]
  },
  {
   "cell_type": "code",
   "execution_count": null,
   "id": "22beb361",
   "metadata": {},
   "outputs": [],
   "source": [
    "def get_last_index_h(df):\n",
    "    # Creamos un diccionario para almacenar los registros\n",
    "    registros = {}\n",
    "\n",
    "    # Iteramos sobre cada columna en el DataFrame, excluyendo las columnas 'year', 'date' y 'id_ns'\n",
    "    for columna in df.columns.drop(['year', 'date', 'id_ns']):\n",
    "        # Creamos un diccionario para almacenar los índices de fila de cada valor 't+\\d' en la columna actual\n",
    "        registros_columna = {}\n",
    "        # Iteramos sobre cada valor único en la columna actual, excluyendo NaN\n",
    "        for valor in df[columna].dropna().unique():\n",
    "            # Usamos expresiones regulares para encontrar valores que contengan 't+\\d'\n",
    "            if re.search(r't\\+\\d', valor):\n",
    "                # Encontramos el índice de la última aparición de valor que contiene 't+\\d' en la columna\n",
    "                ultimo_indice = df[df[columna] == valor].index.max()\n",
    "                # Agregamos el valor y su índice al diccionario de registros de la columna\n",
    "                registros_columna[valor] = ultimo_indice\n",
    "        # Agregamos el diccionario de registros de la columna al diccionario principal\n",
    "        registros[columna] = registros_columna\n",
    "\n",
    "    # Devolvemos los registros\n",
    "    return registros"
   ]
  },
  {
   "cell_type": "markdown",
   "id": "d3356a15",
   "metadata": {},
   "source": [
    "<div style=\"font-family: charter; text-align: left; color:dark\">\n",
    "    <b> Computting intermediate revisions</b>\n",
    "    <div/>"
   ]
  },
  {
   "cell_type": "code",
   "execution_count": null,
   "id": "43d0b4e0",
   "metadata": {},
   "outputs": [],
   "source": [
    "def computing_inter_revisions(df, registros):\n",
    "    # Extraemos las columnas de df, excluyendo 'year', 'date' y 'id_ns'\n",
    "    columnas = df.columns.drop(['year', 'date', 'id_ns'])\n",
    "    \n",
    "    # Obtenemos el valor máximo de h para determinar el número de filas en el DataFrame de revisiones\n",
    "    max_h = max([int(valor.split('+')[1]) for columna in registros.values() for valor in columna.keys()])\n",
    "    num_filas = max_h - 1\n",
    "    \n",
    "    # Creamos un DataFrame vacío para almacenar las revisiones intermedias\n",
    "    revisiones_intermedias = pd.DataFrame(columns=columnas, index=range(num_filas))\n",
    "    \n",
    "    # Iteramos sobre cada valor de h\n",
    "    for h in range(2, max_h + 1):\n",
    "        # Calculamos el nombre de la columna en el nuevo DataFrame\n",
    "        columna_revision = f\"t+{h} - t+1\"\n",
    "        \n",
    "        # Iteramos sobre cada columna en df\n",
    "        for columna in columnas:\n",
    "            # Obtenemos los índices correspondientes a t+h y t+1\n",
    "            indice_h = float(registros[columna].get(f\"t+{h}\", float('nan')))\n",
    "            indice_t1 = float(registros[columna].get(f\"t+1\", float('nan')))\n",
    "\n",
    "            # Verificamos si los índices son válidos\n",
    "            if np.isnan(indice_h) or np.isnan(indice_t1):\n",
    "                # Si alguno de los índices es NaN, asignamos NaN al resultado\n",
    "                resultado = np.nan\n",
    "            else:\n",
    "                # Realizamos la resta y almacenamos el resultado en la columna correspondiente\n",
    "                resultado = df.at[int(indice_h), columna] - df.at[int(indice_t1), columna]\n",
    "                # Guardamos el resultado en la fila correspondiente de revisiones_intermedias\n",
    "                revisiones_intermedias.at[h - 2, columna] = resultado\n",
    "    \n",
    "    return revisiones_intermedias"
   ]
  },
  {
   "cell_type": "markdown",
   "id": "e8102be2",
   "metadata": {},
   "source": [
    "<div style=\"font-family: charter; text-align: left; color:dark\">\n",
    "    <b> Transpose intermediate revisions dataset</b>\n",
    "    <div/>"
   ]
  },
  {
   "cell_type": "code",
   "execution_count": null,
   "id": "68eb0bd9",
   "metadata": {},
   "outputs": [],
   "source": [
    "def transpose_inter_revisions(revisiones_intermedias):\n",
    "    # Transponemos el DataFrame\n",
    "    revisiones_transpuestas = revisiones_intermedias.T\n",
    "    \n",
    "    # Establecemos el nombre de la primera columna como 'intermediate_revision_date'\n",
    "    revisiones_transpuestas.columns.name = 'intermediate_revision_date'\n",
    "    \n",
    "    # Renombramos las columnas\n",
    "    revisiones_transpuestas.columns = [f'gdp_revision_{i+1}' for i in range(len(revisiones_transpuestas.columns))]\n",
    "    \n",
    "    # Reiniciamos el índice\n",
    "    revisiones_transpuestas = revisiones_transpuestas.reset_index()\n",
    "    \n",
    "    # Cambiamos el nombre de la columna del índice\n",
    "    revisiones_transpuestas = revisiones_transpuestas.rename(columns={'index': 'intermediate_revision_date'})\n",
    "    \n",
    "    return revisiones_transpuestas"
   ]
  },
  {
   "cell_type": "code",
   "execution_count": null,
   "id": "925b2607",
   "metadata": {},
   "outputs": [],
   "source": []
  },
  {
   "cell_type": "code",
   "execution_count": null,
   "id": "208f396e",
   "metadata": {},
   "outputs": [],
   "source": []
  },
  {
   "cell_type": "code",
   "execution_count": null,
   "id": "82ed54e2",
   "metadata": {},
   "outputs": [],
   "source": [
    "registros = get_last_index_h(h_gdp_monthly_growth_rates_3)"
   ]
  },
  {
   "cell_type": "code",
   "execution_count": null,
   "id": "d1693274",
   "metadata": {},
   "outputs": [],
   "source": [
    "# Utilizamos la función para calcular las revisiones intermedias\n",
    "revisiones_intermedias = computing_inter_revisions(gdp_monthly_growth_rates, registros)\n",
    "revisiones_intermedias"
   ]
  },
  {
   "cell_type": "code",
   "execution_count": null,
   "id": "5f669282",
   "metadata": {},
   "outputs": [],
   "source": [
    "gdp_monthly_growth_rates.head(20)"
   ]
  },
  {
   "cell_type": "code",
   "execution_count": null,
   "id": "6f2458c4",
   "metadata": {},
   "outputs": [],
   "source": []
  },
  {
   "cell_type": "code",
   "execution_count": null,
   "id": "1941d549",
   "metadata": {},
   "outputs": [],
   "source": [
    "# Utilizamos la función para transponer las revisiones intermedias\n",
    "globals()[f\"{sector}_monthly_intermediate_revisions\"] = transpose_inter_revisions(revisiones_intermedias)\n",
    "\n",
    "# Mostramos el resultado\n",
    "print(\"Revisiones Intermedias Transpuestas:\")\n",
    "\n",
    "pd.set_option('display.max_rows', None)\n",
    "globals()[f\"{sector}_monthly_intermediate_revisions\"].head(20)"
   ]
  },
  {
   "cell_type": "code",
   "execution_count": null,
   "id": "11c15b14",
   "metadata": {},
   "outputs": [],
   "source": []
  },
  {
   "cell_type": "markdown",
   "id": "e752b30f",
   "metadata": {},
   "source": [
    "<div style=\"color: rgb(61, 48, 162); font-size: 12px;\">\n",
    "    Back to the\n",
    "    <a href=\"#outilne\" style=\"color: #687EFF;\">\n",
    "    outline.\n",
    "    </a>\n",
    "    <div/>"
   ]
  },
  {
   "cell_type": "markdown",
   "id": "e46a6161",
   "metadata": {},
   "source": [
    "<div id=\"3.2.\">\n",
    "   <!-- Contenido de la celda de destino -->\n",
    "</div>"
   ]
  },
  {
   "cell_type": "markdown",
   "id": "b0328654",
   "metadata": {},
   "source": [
    "<h2><span style = \"color: rgb(0, 65, 75); font-family: charter;\">3.2.</span>\n",
    "    <span style = \"color: dark; font-family: charter;\">\n",
    "    Clean-up intermediate revisions dataset (last version to be loaded to SQL)\n",
    "    </span>\n",
    "    </h2>"
   ]
  },
  {
   "cell_type": "code",
   "execution_count": null,
   "id": "1af0e36c",
   "metadata": {},
   "outputs": [],
   "source": [
    "import pandas as pd\n",
    "\n",
    "# Extraer el mes y el año de la columna 'revision_date'\n",
    "globals()[f\"{sector}_monthly_intermediate_revisions\"]['month'] = globals()[f\"{sector}_monthly_intermediate_revisions\"]['intermediate_revision_date'].str.split('_').str[0]\n",
    "globals()[f\"{sector}_monthly_intermediate_revisions\"]['year'] = globals()[f\"{sector}_monthly_intermediate_revisions\"]['intermediate_revision_date'].str.split('_').str[1]\n",
    "\n",
    "# Mapear los nombres de los meses a sus respectivos números\n",
    "month_mapping = {\n",
    "    'ene': '01', 'feb': '02', 'mar': '03', 'abr': '04',\n",
    "    'may': '05', 'jun': '06', 'jul': '07', 'ago': '08',\n",
    "    'sep': '09', 'oct': '10', 'nov': '11', 'dic': '12'\n",
    "}\n",
    "\n",
    "globals()[f\"{sector}_monthly_intermediate_revisions\"]['month'] = globals()[f\"{sector}_monthly_intermediate_revisions\"]['month'].map(month_mapping)\n",
    "\n",
    "# Crear una nueva columna con la fecha en formato YYYY-MM-DD\n",
    "globals()[f\"{sector}_monthly_intermediate_revisions\"]['intermediate_revision_date'] = globals()[f\"{sector}_monthly_intermediate_revisions\"]['year'] + '-' + globals()[f\"{sector}_monthly_intermediate_revisions\"]['month']\n",
    "\n",
    "# Convertir la columna 'revision_date' a tipo de datos de fecha\n",
    "globals()[f\"{sector}_monthly_intermediate_revisions\"]['intermediate_revision_date'] = pd.to_datetime(globals()[f\"{sector}_monthly_intermediate_revisions\"]['intermediate_revision_date'], format='%Y-%m')\n",
    "\n",
    "# Eliminar columnas temporales 'month' y 'year'\n",
    "globals()[f\"{sector}_monthly_intermediate_revisions\"].drop(['month', 'year'], axis=1, inplace=True)\n",
    "\n",
    "# Mostrar el resultado\n",
    "globals()[f\"{sector}_monthly_intermediate_revisions\"]"
   ]
  },
  {
   "cell_type": "markdown",
   "id": "b6264e26",
   "metadata": {},
   "source": [
    "<div id=\"4.\">\n",
    "   <!-- Contenido de la celda de destino -->\n",
    "</div>"
   ]
  },
  {
   "cell_type": "markdown",
   "id": "78a39a49",
   "metadata": {},
   "source": [
    "<h2><span style = \"color: rgb(0, 65, 75); font-family: charter;\">4.</span>\n",
    "    <span style = \"color: dark; font-family: charter;\">\n",
    "    Loading to SQL\n",
    "    </span>\n",
    "    </h2>"
   ]
  },
  {
   "cell_type": "code",
   "execution_count": null,
   "id": "771f9e14",
   "metadata": {},
   "outputs": [],
   "source": [
    "# Check if all environment variables are defined\n",
    "if not all([host, user, password]):\n",
    "    raise ValueError(\"Some environment variables are missing (CIUP_SQL_HOST, CIUP_SQL_USER, CIUP_SQL_PASS)\")\n",
    "\n",
    "# Create connection string\n",
    "connection_string = f\"postgresql://{user}:{password}@{host}:{port}/{database}\"\n",
    "\n",
    "# Create SQLAlchemy engine\n",
    "engine = create_engine(connection_string)\n",
    "\n",
    "# REVISIONES\n",
    "\n",
    "globals()[f'{sector}_monthly_intermediate_revisions'].to_sql(f'{sector}_monthly_intermediate_revisions', engine, index=False, if_exists='replace')\n"
   ]
  },
  {
   "cell_type": "code",
   "execution_count": null,
   "id": "5a959065",
   "metadata": {},
   "outputs": [],
   "source": []
  },
  {
   "cell_type": "code",
   "execution_count": null,
   "id": "702e7345",
   "metadata": {},
   "outputs": [],
   "source": []
  },
  {
   "cell_type": "markdown",
   "id": "500770e2",
   "metadata": {},
   "source": [
    "<div style=\"color: rgb(61, 48, 162); font-size: 12px;\">\n",
    "    Back to the\n",
    "    <a href=\"#outilne\" style=\"color: #687EFF;\">\n",
    "    outline.\n",
    "    </a>\n",
    "    <div/>"
   ]
  }
 ],
 "metadata": {
  "kernelspec": {
   "display_name": "gdp_revisions",
   "language": "python",
   "name": "gdp_revisions"
  },
  "language_info": {
   "codemirror_mode": {
    "name": "ipython",
    "version": 3
   },
   "file_extension": ".py",
   "mimetype": "text/x-python",
   "name": "python",
   "nbconvert_exporter": "python",
   "pygments_lexer": "ipython3",
   "version": "3.12.1"
  }
 },
 "nbformat": 4,
 "nbformat_minor": 5
}
