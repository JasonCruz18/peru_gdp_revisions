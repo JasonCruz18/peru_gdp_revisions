{
 "cells": [
  {
   "cell_type": "markdown",
   "id": "7d574e06",
   "metadata": {},
   "source": [
    "<div style=\"text-align: center; font-family: 'charter bt pro roman'; color: rgb(0, 65, 75);\">\n",
    "    <h1>\n",
    "    GDP Intermediate Revisions and Horizon Datasets\n",
    "    </h1>\n",
    "</div>"
   ]
  },
  {
   "cell_type": "markdown",
   "id": "0187eb69",
   "metadata": {},
   "source": [
    "<div style=\"text-align: center; font-family: 'charter bt pro roman'; color: rgb(0, 65, 75);\">\n",
    "<h3>\n",
    "Documentation\n",
    "<br>\n",
    "____________________\n",
    "<br>\n",
    "</h3>\n",
    "</div>"
   ]
  },
  {
   "cell_type": "markdown",
   "id": "24821fba",
   "metadata": {},
   "source": [
    "<div style=\"font-family: PT Serif Pro Book; text-align: left; color: dark; font-size: 16px;\">\n",
    "    This \n",
    "    <span style=\"color: rgb(0, 65, 75);\">jupyter notebook</span>\n",
    "    provides a step-by-step guide to <b>data building</b> regarding the project <b>'Revisiones y sesgos en las estimaciones preliminares del PBI en el Perú'</b>. This guide covers the creation of GDP mid-term revision dataset for each sector. A key step is the construction at par of what we will call “The ‘t+h’ structure”. This dataset is similar to that of the GDP growth vintages by sector, but instead of growth rate values, it contains values of type “t+h”, where h indicates how many months have passed since the preliminary growth rate was first published; that is, this jupyter notebook also covers the creation of vintages datasets of growth rates associated with a horizon (<b>h</b>).\n",
    "</div>"
   ]
  },
  {
   "cell_type": "markdown",
   "id": "274b675d",
   "metadata": {},
   "source": [
    "<div style=\"text-align: center; font-family: 'PT Serif Pro Book'; color: rgb(0, 65, 75); font-size: 16px;\">\n",
    "    Jason Cruz\n",
    "    <br>\n",
    "    <a href=\"mailto:jj.cruza@up.edu.pe\" style=\"color: rgb(0, 153, 123); font-size: 16px;\">\n",
    "        jj.cruza@up.edu.pe\n",
    "    </a>\n",
    "</div>"
   ]
  },
  {
   "cell_type": "markdown",
   "id": "2cb050f9",
   "metadata": {},
   "source": [
    "<div style=\"font-family: PT Serif Pro Book; text-align: left; color: dark; font-size: 16px;line-height: 1.5;\">\n",
    "<span style=\"font-size: 34px;\">&#128452;</span> The 't+h' structure should be available for all sectors and frequencies.\n",
    "    <br>\n",
    "    <span style=\"font-size: 24px;\">&#8987;</span> Available since <b>1994-2024</b> (Table 1) and since <b>1997-2024</b> (Table 2). \n",
    "    <br>\n",
    "</div>"
   ]
  },
  {
   "cell_type": "markdown",
   "id": "11cf93d2",
   "metadata": {},
   "source": [
    "<div style=\"font-family: Amaya; text-align: left; color: rgb(0, 65, 75); font-size:16px\">The following <b>outline is functional</b>. By utilising the provided buttons, users are able to enhance their experience by browsing this script.<div/>"
   ]
  },
  {
   "cell_type": "markdown",
   "id": "0dbb713b",
   "metadata": {},
   "source": [
    "<div id=\"outilne\">\n",
    "   <!-- Contenido de la celda de destino -->\n",
    "</div>"
   ]
  },
  {
   "cell_type": "markdown",
   "id": "0310e424",
   "metadata": {},
   "source": [
    "<div style=\"background-color: #292929; padding: 10px; line-height: 1.5; font-family: 'PT Serif Pro Book';\">\n",
    "    <h2 style=\"text-align: left; color: #E0E0E0;\">\n",
    "        Outline\n",
    "    </h2>\n",
    "    <br>\n",
    "    <a href=\"#libraries\" style=\"color: #E0E0E0; font-size: 18px; margin-left: 0px;\">\n",
    "        Libraries</a>\n",
    "    <br>\n",
    "    <a href=\"#setup\" style=\"color: #E0E0E0; font-size: 18px; margin-left: 0px;\">\n",
    "        Initial set-up</a>\n",
    "    <br>\n",
    "    <a href=\"#1\" style=\"color: #E0E0E0; font-size: 18px; margin-left: 0px;\">\n",
    "        1. Economic sector selector</a>\n",
    "    <br>\n",
    "    <a href=\"#2\" style=\"color: #E0E0E0; font-size: 18px; margin-left: 0px;\">\n",
    "        2. Create horizon datasets</a>\n",
    "    <br>\n",
    "    <a href=\"#2.1.\" style=\"color: #94FFD8; font-size: 16px; margin-left: 20px;\">\n",
    "        2.1. Loading growth rate datasets from postgresql.</a>\n",
    "    <br>\n",
    "    <a href=\"#2.2.\" style=\"color: #94FFD8; font-size: 16px; margin-left: 20px;\">\n",
    "        2.2. Creating horizon dataset step by step.</a> \n",
    "    <br>\n",
    "    <a href=\"#3\" style=\"color: #E0E0E0; font-size: 18px; margin-left: 0px;\">\n",
    "        3. Create intermediate revisions datasets</a>\n",
    "    <br>\n",
    "    <a href=\"#3.1.\" style=\"color: #94FFD8; font-size: 16px; margin-left: 20px;\">\n",
    "        3.1. Functions for creating intermediate revisions dataset.</a>\n",
    "    <br>\n",
    "    <a href=\"#3.2.\" style=\"color: #94FFD8; font-size: 16px; margin-left: 20px;\">\n",
    "        3.2. Creating intermediate revisions dataset step by step.</a>\n",
    "    <br>\n",
    "    <a href=\"#3.3.\" style=\"color: #94FFD8; font-size: 16px; margin-left: 20px;\">\n",
    "        3.3. Clean-up intermediate revisions dataset (last version to be loaded to SQL).</a>\n",
    "</div>"
   ]
  },
  {
   "cell_type": "markdown",
   "id": "cd9c2298",
   "metadata": {},
   "source": [
    "<div style=\"text-align: left; font-family: 'PT Serif Pro Book'; color: dark; font-size:16px\">\n",
    "    Any questions or issues regarding the coding, please email Jason Cruz <a href=\"mailto:jj.cruza@alum.up.edu.pe\" style=\"color: rgb(0, 153, 123); text-decoration: none;\"><span style=\"font-size: 24px;\">&#x2709;</span>\n",
    "    </a>.\n",
    "    <div/>"
   ]
  },
  {
   "cell_type": "markdown",
   "id": "9017e225",
   "metadata": {},
   "source": [
    "<div style=\"text-align: left; font-family: 'PT Serif Pro Book'; color: dark; font-size:16px\">\n",
    "    If you don't have the libraries below, please use the following code (as example) to install the required libraries.\n",
    "    <div/>"
   ]
  },
  {
   "cell_type": "code",
   "execution_count": null,
   "id": "a3b7db8a",
   "metadata": {},
   "outputs": [],
   "source": [
    "#!pip install os # Comment this code with \"#\" if you have already installed this library."
   ]
  },
  {
   "cell_type": "markdown",
   "id": "30685778",
   "metadata": {},
   "source": [
    "<div id=\"libraries\">\n",
    "   <!-- Contenido de la celda de destino -->\n",
    "</div>"
   ]
  },
  {
   "cell_type": "markdown",
   "id": "8a9e2734",
   "metadata": {},
   "source": [
    "<div style=\"text-align: left; font-family: 'charter'; color: dark;\">\n",
    "    <h2>\n",
    "    Libraries\n",
    "    </h2>\n",
    "    <div/>"
   ]
  },
  {
   "cell_type": "code",
   "execution_count": 1,
   "id": "0bbc53ac",
   "metadata": {},
   "outputs": [],
   "source": [
    "# POSTGRESSQL\n",
    "import os\n",
    "from sqlalchemy import create_engine\n",
    "\n",
    "# HORIZON DATASETS\n",
    "import pandas as pd\n",
    "import numpy as np\n",
    "import re\n"
   ]
  },
  {
   "cell_type": "markdown",
   "id": "3ce2ac20",
   "metadata": {},
   "source": [
    "<div style=\"font-family: PT Serif Pro Book; text-align: left; color: dark; font-size: 16px;\">\n",
    "    <span style=\"font-size: 30px; color: rgb(255, 32, 78); font-weight: bold;\">\n",
    "        <a href=\"#outilne\" style=\"color: rgb(0, 153, 123); text-decoration: none;\">&#11180;</a>\n",
    "    </span> \n",
    "    <a href=\"#outilne\" style=\"color: rgb(0, 153, 123); text-decoration: none;\">Back to the outline.</a>\n",
    "</div>"
   ]
  },
  {
   "cell_type": "markdown",
   "id": "c138cb1c",
   "metadata": {},
   "source": [
    "<div id=\"setup\">\n",
    "   <!-- Contenido de la celda de destino -->\n",
    "</div>"
   ]
  },
  {
   "cell_type": "markdown",
   "id": "5ea200fd",
   "metadata": {},
   "source": [
    "<div style=\"text-align: left; font-family: 'PT Serif Pro Book'; color: dark;\">\n",
    "    <h2>\n",
    "    Initial set-up\n",
    "    </h2>\n",
    "    <div/>"
   ]
  },
  {
   "cell_type": "markdown",
   "id": "e0f9e8c1",
   "metadata": {},
   "source": [
    "<p style=\"font-family: PT Serif Pro Book; text-align: left; color:dark; font-size:16px\"> The following function will establish a connection to the <code>gdp_revisions_datasets</code> database in <code>PostgreSQL</code>. The <b>input data</b> used in this jupyter notebook will be loaded from this <code>PostgreSQL</code> database, and similarly, all <b>output data</b> generated by this jupyter notebook will be stored in that database. Ensure that you set the necessary parameters to access the server once you have obtained the required permissions.<p/>\n",
    "    \n",
    "<p style=\"text-align: left; font-family: 'PT Serif Pro Book'; color: dark; font-size:16px\">\n",
    "To request permissions, please email Jason Cruz <a href=\"mailto:jj.cruza@alum.up.edu.pe\" style=\"color: rgb(0, 153, 123); text-decoration: none;\"> <span style=\"font-size: 24px;\">&#x2709;</span>\n",
    "    </a>.\n",
    "<p/>"
   ]
  },
  {
   "cell_type": "markdown",
   "id": "cdd26ca2",
   "metadata": {},
   "source": [
    "<div style=\"text-align: left; font-family: 'PT Serif Pro Book'; color: dark; font-size:16px\">\n",
    "    <span style=\"font-size: 24px; color: #FFA823; font-weight: bold;\">&#9888;</span>\n",
    "    Enter your user credentials to acces to SQL.\n",
    "    <div/>"
   ]
  },
  {
   "cell_type": "code",
   "execution_count": 2,
   "id": "30618268",
   "metadata": {},
   "outputs": [],
   "source": [
    "def create_sqlalchemy_engine():\n",
    "    \"\"\"\n",
    "    Function to create an SQLAlchemy engine using environment variables.\n",
    "    \n",
    "    Returns:\n",
    "        engine: SQLAlchemy engine object.\n",
    "    \"\"\"\n",
    "    # Get environment variables\n",
    "    user = os.environ.get('CIUP_SQL_USER')  # Get the SQL user from environment variables\n",
    "    password = os.environ.get('CIUP_SQL_PASS')  # Get the SQL password from environment variables\n",
    "    host = os.environ.get('CIUP_SQL_HOST')  # Get the SQL host from environment variables\n",
    "    port = 5432  # Set the SQL port to 5432\n",
    "    database = 'gdp_revisions_datasets'  # Set the database name 'gdp_revisions_datasets' from SQL\n",
    "\n",
    "    # Check if all environment variables are defined\n",
    "    if not all([host, user, password]):\n",
    "        raise ValueError(\"Some environment variables are missing (CIUP_SQL_HOST, CIUP_SQL_USER, CIUP_SQL_PASS)\")\n",
    "\n",
    "    # Create connection string\n",
    "    connection_string = f\"postgresql://{user}:{password}@{host}:{port}/{database}\"\n",
    "\n",
    "    # Create SQLAlchemy engine\n",
    "    engine = create_engine(connection_string)\n",
    "    \n",
    "    return engine"
   ]
  },
  {
   "cell_type": "markdown",
   "id": "0a780e6d",
   "metadata": {},
   "source": [
    "<div style=\"text-align: left;\">\n",
    "    <span style=\"font-size: 24px; color: rgb(255, 32, 78); font-weight: bold;\">&#9888;</span>\n",
    "    <span style=\"font-family: PT Serif Pro Book; color: black; font-size: 16px;\">\n",
    "        Import all other functions required by this jupyter notebook.\n",
    "    </span>\n",
    "</div>"
   ]
  },
  {
   "cell_type": "markdown",
   "id": "e3335e56",
   "metadata": {},
   "source": [
    "<div style=\"font-family: PT Serif Pro Book; text-align: left; color:dark; font-size:16px\"> Please, check the script <code>gdp_inter_revisions_datasets_functions.py</code> which contains all the functions required by this jupyter notebook. The functions there are ordered according to the <a href=\"#outilne\" style=\"color: #3d30a2;\">sections</a> of this jupyter notebok.<div/>"
   ]
  },
  {
   "cell_type": "code",
   "execution_count": 3,
   "id": "0d4b1195",
   "metadata": {},
   "outputs": [],
   "source": [
    "from gdp_inter_revisions_datasets_functions import *"
   ]
  },
  {
   "cell_type": "markdown",
   "id": "f1bbb18b",
   "metadata": {},
   "source": [
    "<div style=\"font-family: PT Serif Pro Book; text-align: left; color: dark; font-size: 16px;\">\n",
    "    <span style=\"font-size: 30px; color: rgb(255, 32, 78); font-weight: bold;\">\n",
    "        <a href=\"#outilne\" style=\"color: rgb(0, 153, 123); text-decoration: none;\">&#11180;</a>\n",
    "    </span> \n",
    "    <a href=\"#outilne\" style=\"color: rgb(0, 153, 123); text-decoration: none;\">Back to the outline.</a>\n",
    "</div>"
   ]
  },
  {
   "cell_type": "markdown",
   "id": "5dae510f",
   "metadata": {},
   "source": [
    "<div id=\"1\">\n",
    "   <!-- Contenido de la celda de destino -->\n",
    "</div>"
   ]
  },
  {
   "cell_type": "markdown",
   "id": "cfdb0db3",
   "metadata": {},
   "source": [
    "<h1><span style = \"color: rgb(0, 65, 75); font-family: PT Serif Pro Book;; color: dark;\">1.</span> <span style = \"color: dark; font-family: PT Serif Pro Book;\">Economic sector and data frequency selector</span></h1>"
   ]
  },
  {
   "cell_type": "markdown",
   "id": "ea31bc78",
   "metadata": {},
   "source": [
    "<h2><span style = \"color: rgb(0, 65, 75); font-family: PT Serif Pro Book;; color: dark;\">1.1.</span> <span style = \"color: dark; font-family: PT Serif Pro Book;\">Economic sector</span></h2>"
   ]
  },
  {
   "cell_type": "code",
   "execution_count": 4,
   "id": "0e776b38",
   "metadata": {},
   "outputs": [
    {
     "name": "stdout",
     "output_type": "stream",
     "text": [
      "Selected economic sector: gdp\n"
     ]
    }
   ],
   "source": [
    "# Call the function to show the popup window\n",
    "sector = show_option_window()\n",
    "print(\"Selected economic sector:\", sector)"
   ]
  },
  {
   "cell_type": "markdown",
   "id": "dc5627cb",
   "metadata": {},
   "source": [
    "<h2><span style = \"color: rgb(0, 65, 75); font-family: charter;\">1.2. </span> <span style = \"color: dark; font-family: charter;\">Frequency</span></h2>"
   ]
  },
  {
   "cell_type": "code",
   "execution_count": 5,
   "id": "c7255c44",
   "metadata": {},
   "outputs": [
    {
     "name": "stdout",
     "output_type": "stream",
     "text": [
      "Selected frequency: quarterly\n"
     ]
    }
   ],
   "source": [
    "# Call the function to show the popup window\n",
    "frequency = show_frequency_window()\n",
    "print(\"Selected frequency:\", frequency)"
   ]
  },
  {
   "cell_type": "markdown",
   "id": "3a177d4c",
   "metadata": {},
   "source": [
    "<div style=\"font-family: PT Serif Pro Book; text-align: left; color: dark; font-size: 16px;\">\n",
    "    <span style=\"font-size: 30px; color: rgb(255, 32, 78); font-weight: bold;\">\n",
    "        <a href=\"#outilne\" style=\"color: rgb(0, 153, 123); text-decoration: none;\">&#11180;</a>\n",
    "    </span> \n",
    "    <a href=\"#outilne\" style=\"color: rgb(0, 153, 123); text-decoration: none;\">Back to the outline.</a>\n",
    "</div>"
   ]
  },
  {
   "cell_type": "markdown",
   "id": "53c07c2f",
   "metadata": {},
   "source": [
    "<div id=\"2\">\n",
    "   <!-- Contenido de la celda de destino -->\n",
    "</div>"
   ]
  },
  {
   "cell_type": "markdown",
   "id": "42d6dc00",
   "metadata": {},
   "source": [
    "<h1><span style = \"color: rgb(0, 65, 75); font-family: PT Serif Pro Book;; color: dark;\">2.</span> <span style = \"color: dark; font-family: PT Serif Pro Book;\">Create horizon datasets</span></h1>"
   ]
  },
  {
   "cell_type": "markdown",
   "id": "ca85491d",
   "metadata": {},
   "source": [
    "<div id=\"2.1.\">\n",
    "   <!-- Contenido de la celda de destino -->\n",
    "</div>"
   ]
  },
  {
   "cell_type": "markdown",
   "id": "6c6b0832",
   "metadata": {},
   "source": [
    "<h2><span style = \"color: rgb(0, 65, 75); font-family: charter;\">2.1. </span> <span style = \"color: dark; font-family: charter;\">Loading growth rate datasets from <code>PostgresSQL</code></span></h2>"
   ]
  },
  {
   "cell_type": "markdown",
   "id": "b36816f2",
   "metadata": {},
   "source": [
    "<div style=\"text-align: left; font-family: 'PT Serif Pro Book'; color: dark; font-size:16px\">\n",
    "    Connect to SQL.\n",
    "    <div/>"
   ]
  },
  {
   "cell_type": "code",
   "execution_count": 62,
   "id": "731c8592",
   "metadata": {},
   "outputs": [],
   "source": [
    "# Connect to SQL\n",
    "engine = create_sqlalchemy_engine()\n",
    "\n",
    "# SQL Query\n",
    "query = f\"SELECT * FROM {sector}_{frequency}_growth_rates;\" # Please change your query to PosgtresSQL as you see fit"
   ]
  },
  {
   "cell_type": "markdown",
   "id": "fd447ef9",
   "metadata": {},
   "source": [
    "<div style=\"text-align: left; font-family: 'PT Serif Pro Book'; color: dark; font-size:16px\">\n",
    "    Check the loaded datafraame.\n",
    "    <div/>"
   ]
  },
  {
   "cell_type": "code",
   "execution_count": 63,
   "id": "18eab33b",
   "metadata": {},
   "outputs": [],
   "source": [
    "# Read data as DataFrame\n",
    "globals()[f'{sector}_{frequency}_growth_rates'] = pd.read_sql(query, engine)\n",
    "globals()[f'{sector}_{frequency}_growth_rates'].head(40)"
   ]
  },
  {
   "cell_type": "markdown",
   "id": "db888be4",
   "metadata": {},
   "source": [
    "<div style=\"font-family: PT Serif Pro Book; text-align: left; color: dark; font-size: 16px;\">\n",
    "    <span style=\"font-size: 30px; color: rgb(255, 32, 78); font-weight: bold;\">\n",
    "        <a href=\"#outilne\" style=\"color: rgb(0, 153, 123); text-decoration: none;\">&#11180;</a>\n",
    "    </span> \n",
    "    <a href=\"#outilne\" style=\"color: rgb(0, 153, 123); text-decoration: none;\">Back to the outline.</a>\n",
    "</div>"
   ]
  },
  {
   "cell_type": "markdown",
   "id": "cf2c60c0",
   "metadata": {},
   "source": [
    "<div id=\"2.2.\">\n",
    "   <!-- Contenido de la celda de destino -->\n",
    "</div>"
   ]
  },
  {
   "cell_type": "markdown",
   "id": "f0a27eeb",
   "metadata": {},
   "source": [
    "<div id=\"2.3.\">\n",
    "   <!-- Contenido de la celda de destino -->\n",
    "</div>"
   ]
  },
  {
   "cell_type": "markdown",
   "id": "11dcf69e",
   "metadata": {},
   "source": [
    "<h2><span style = \"color: rgb(0, 65, 75); font-family: charter;\">2.2.</span>\n",
    "    <span style = \"color: dark; font-family: charter;\">\n",
    "    Creating horizon dataset step by step\n",
    "    </span>\n",
    "    </h2>"
   ]
  },
  {
   "cell_type": "markdown",
   "id": "38dba2b6",
   "metadata": {},
   "source": [
    "<div id=\"steps\">\n",
    "   <!-- Contenido de la celda de destino -->\n",
    "</div>"
   ]
  },
  {
   "cell_type": "markdown",
   "id": "5a6afc26",
   "metadata": {},
   "source": [
    "<div style=\"font-family: PT Serif Pro Book; text-align: left; color: dark; font-size: 16px;\">\n",
    "    <a href=\"#step-1\" style=\"text-decoration: none; color: #006769\"> <span style=\"font-size: 24px; color: rgb(0, 65, 75);\">&#10122;</span> Replace decimal values by “t+h” values only in the rows representing a new rung</a>\n",
    "    <br>\n",
    "    <a href=\"#step-2\" style=\"text-decoration: none; color: #006769\"><span style=\"font-size: 24px; color: rgb(0, 65, 75)\">&#10123;</span> Concatenate first 3 columns: year, date, id_ns </a>\n",
    "    <br>\n",
    "    <a href=\"#step-3\" style=\"text-decoration: none; color: #006769\"><span style=\"font-size: 24px; color: rgb(0, 65, 75)\">&#10124;</span> Convert columns to string type</a>\n",
    "    <br>\n",
    "    <a href=\"#step-4\" style=\"text-decoration: none; color: #006769\"><span style=\"font-size: 24px; color: rgb(0, 65, 75)\">&#10125;</span> Spreads the \"t+h\" values over the remaining decimal values </a>\n",
    "    <br>\n",
    "    <a href=\"#step-5\" style=\"text-decoration: none; color: #006769\"><span style=\"font-size: 24px; color: rgb(0, 65, 75)\">&#10126;</span> Exporting to excel file </a>\n",
    "</div>"
   ]
  },
  {
   "cell_type": "markdown",
   "id": "5861bbd4",
   "metadata": {},
   "source": [
    "<div style=\"text-align: left; font-family: 'PT Serif Pro Book'; color: dark; font-size:16px\">\n",
    "    Comment the code below if you want the default option (display rows and columns of the dataframe in a limited way)\n",
    "    <div/>"
   ]
  },
  {
   "cell_type": "code",
   "execution_count": null,
   "id": "c41359fa",
   "metadata": {},
   "outputs": [],
   "source": [
    "#pd.set_option('display.max_rows', None)\n",
    "#pd.set_option('display.max_columns', None)"
   ]
  },
  {
   "cell_type": "markdown",
   "id": "f87be87e",
   "metadata": {},
   "source": [
    "<div style=\"text-align: left; font-family: 'PT Serif Pro Book'; font-size:22px\">\n",
    "   <span>Set key variables to fill the vintages with 't+h' values</span>\n",
    "  </div>"
   ]
  },
  {
   "cell_type": "code",
   "execution_count": null,
   "id": "b60e1c1f",
   "metadata": {},
   "outputs": [],
   "source": [
    "# Call the function to show the h_initial window\n",
    "h_initial = show_h_initial_window()\n",
    "print(\"Selected h_initial:\", h_initial)"
   ]
  },
  {
   "cell_type": "code",
   "execution_count": 72,
   "id": "b565df26",
   "metadata": {},
   "outputs": [],
   "source": [
    "# Call the function to show the start_row window\n",
    "start_row = show_start_row_window()\n",
    "print(\"Selected start_row:\", start_row)"
   ]
  },
  {
   "cell_type": "code",
   "execution_count": 71,
   "id": "10c9ccd2",
   "metadata": {},
   "outputs": [],
   "source": [
    "# Define the mapping of frequencies to h_counter values\n",
    "frequency_mapping = {\n",
    "    'monthly': 1,\n",
    "    'quarterly': 3,\n",
    "    'annual': 12\n",
    "}\n",
    "\n",
    "# Get the appropriate h_counter value based on the selected frequency\n",
    "h_counter = frequency_mapping.get(frequency)"
   ]
  },
  {
   "cell_type": "markdown",
   "id": "827c1d35",
   "metadata": {},
   "source": [
    "<div id=\"step-1\">\n",
    "   <!-- Contenido de la celda de destino -->\n",
    "</div>"
   ]
  },
  {
   "cell_type": "markdown",
   "id": "7b10ddf8",
   "metadata": {},
   "source": [
    "<div style=\"text-align: left; font-family: 'PT Serif Pro Book'; font-size:22px\">\n",
    "    <span style=\"font-size: 24px; color: rgb(0, 65, 75)\">&#10122;</span> <span>Replace decimal values by “t+h” values only in the rows representing a new rung</span>\n",
    "  </div>"
   ]
  },
  {
   "cell_type": "code",
   "execution_count": 2,
   "id": "037dacf8",
   "metadata": {},
   "outputs": [
    {
     "ename": "NameError",
     "evalue": "name 'replace_horizon' is not defined",
     "output_type": "error",
     "traceback": [
      "\u001b[1;31m---------------------------------------------------------------------------\u001b[0m",
      "\u001b[1;31mNameError\u001b[0m                                 Traceback (most recent call last)",
      "Cell \u001b[1;32mIn[2], line 1\u001b[0m\n\u001b[1;32m----> 1\u001b[0m \u001b[38;5;28mglobals\u001b[39m()[\u001b[38;5;124mf\u001b[39m\u001b[38;5;124m'\u001b[39m\u001b[38;5;132;01m{\u001b[39;00msector\u001b[38;5;132;01m}\u001b[39;00m\u001b[38;5;124m_\u001b[39m\u001b[38;5;132;01m{\u001b[39;00mfrequency\u001b[38;5;132;01m}\u001b[39;00m\u001b[38;5;124m_growth_rates_horizon\u001b[39m\u001b[38;5;124m'\u001b[39m] \u001b[38;5;241m=\u001b[39m \u001b[43mreplace_horizon\u001b[49m(\u001b[38;5;28mglobals\u001b[39m()[\u001b[38;5;124mf\u001b[39m\u001b[38;5;124m'\u001b[39m\u001b[38;5;132;01m{\u001b[39;00msector\u001b[38;5;132;01m}\u001b[39;00m\u001b[38;5;124m_\u001b[39m\u001b[38;5;132;01m{\u001b[39;00mfrequency\u001b[38;5;132;01m}\u001b[39;00m\u001b[38;5;124m_growth_rates\u001b[39m\u001b[38;5;124m'\u001b[39m]\u001b[38;5;241m.\u001b[39miloc[:, \u001b[38;5;241m3\u001b[39m:], start_row)\n\u001b[0;32m      2\u001b[0m \u001b[38;5;28mglobals\u001b[39m()[\u001b[38;5;124mf\u001b[39m\u001b[38;5;124m'\u001b[39m\u001b[38;5;132;01m{\u001b[39;00msector\u001b[38;5;132;01m}\u001b[39;00m\u001b[38;5;124m_\u001b[39m\u001b[38;5;132;01m{\u001b[39;00mfrequency\u001b[38;5;132;01m}\u001b[39;00m\u001b[38;5;124m_growth_rates_horizon\u001b[39m\u001b[38;5;124m'\u001b[39m]\u001b[38;5;241m.\u001b[39mhead(\u001b[38;5;241m10\u001b[39m)\n",
      "\u001b[1;31mNameError\u001b[0m: name 'replace_horizon' is not defined"
     ]
    }
   ],
   "source": [
    "globals()[f'{sector}_{frequency}_growth_rates_horizon'] = replace_horizon(globals()[f'{sector}_{frequency}_growth_rates'].iloc[:, 3:], start_row)\n",
    "globals()[f'{sector}_{frequency}_growth_rates_horizon'].head(10)"
   ]
  },
  {
   "cell_type": "markdown",
   "id": "c170c911",
   "metadata": {},
   "source": [
    "<div id=\"step-2\">\n",
    "   <!-- Contenido de la celda de destino -->\n",
    "</div>"
   ]
  },
  {
   "cell_type": "markdown",
   "id": "655210c9",
   "metadata": {},
   "source": [
    "<div style=\"text-align: left; font-family: 'PT Serif Pro Book'; font-size:22px\">\n",
    "    <span style=\"font-size: 24px; color: rgb(0, 65, 75)\">&#10123;</span> <span>Concatenate first 3 columns: year, date, id_ns</span>\n",
    "  </div>"
   ]
  },
  {
   "cell_type": "code",
   "execution_count": 75,
   "id": "9214927f",
   "metadata": {},
   "outputs": [],
   "source": [
    "# Get the first three columns of the original DataFrame\n",
    "first_3_columns = globals()[f'{sector}_{frequency}_growth_rates'].iloc[:, :3]\n",
    "\n",
    "# Concatenate the first three columns with h_gdp_monthly_growth_rates\n",
    "globals()[f'{sector}_{frequency}_growth_rates_horizon'] = pd.concat([first_3_columns, globals()[f'{sector}_{frequency}_growth_rates_horizon']], axis=1)\n",
    "globals()[f'{sector}_{frequency}_growth_rates_horizon'].head(10)"
   ]
  },
  {
   "cell_type": "markdown",
   "id": "f1939844",
   "metadata": {},
   "source": [
    "<div id=\"step-3\">\n",
    "   <!-- Contenido de la celda de destino -->\n",
    "</div>"
   ]
  },
  {
   "cell_type": "markdown",
   "id": "a2cab016",
   "metadata": {},
   "source": [
    "<div style=\"text-align: left; font-family: 'PT Serif Pro Book'; font-size:22px\">\n",
    "    <span style=\"font-size: 24px; color: rgb(0, 65, 75)\">&#10124;</span> <span>Convert columns to string type</span>\n",
    "  </div>"
   ]
  },
  {
   "cell_type": "code",
   "execution_count": 77,
   "id": "4a4538cd",
   "metadata": {},
   "outputs": [
    {
     "data": {
      "text/html": [
       "<div>\n",
       "<style scoped>\n",
       "    .dataframe tbody tr th:only-of-type {\n",
       "        vertical-align: middle;\n",
       "    }\n",
       "\n",
       "    .dataframe tbody tr th {\n",
       "        vertical-align: top;\n",
       "    }\n",
       "\n",
       "    .dataframe thead th {\n",
       "        text-align: right;\n",
       "    }\n",
       "</style>\n",
       "<table border=\"1\" class=\"dataframe\">\n",
       "  <thead>\n",
       "    <tr style=\"text-align: right;\">\n",
       "      <th></th>\n",
       "      <th>year</th>\n",
       "      <th>id_ns</th>\n",
       "      <th>date</th>\n",
       "      <th>2010_1</th>\n",
       "      <th>2010_2</th>\n",
       "      <th>2010_3</th>\n",
       "      <th>2010_4</th>\n",
       "      <th>2011_1</th>\n",
       "      <th>2011_2</th>\n",
       "      <th>2011_3</th>\n",
       "      <th>2011_4</th>\n",
       "      <th>2012_1</th>\n",
       "      <th>2012_2</th>\n",
       "      <th>2012_3</th>\n",
       "      <th>2012_4</th>\n",
       "      <th>2013_1</th>\n",
       "      <th>2013_2</th>\n",
       "      <th>2013_3</th>\n",
       "      <th>2013_4</th>\n",
       "      <th>2014_1</th>\n",
       "      <th>2014_2</th>\n",
       "      <th>2014_3</th>\n",
       "      <th>2014_4</th>\n",
       "      <th>2015_1</th>\n",
       "      <th>2015_2</th>\n",
       "      <th>2015_3</th>\n",
       "      <th>2015_4</th>\n",
       "      <th>2016_1</th>\n",
       "      <th>2016_2</th>\n",
       "      <th>2016_3</th>\n",
       "      <th>2016_4</th>\n",
       "      <th>2017_1</th>\n",
       "      <th>2017_2</th>\n",
       "      <th>2017_3</th>\n",
       "      <th>2017_4</th>\n",
       "      <th>2018_1</th>\n",
       "      <th>2018_2</th>\n",
       "      <th>2018_3</th>\n",
       "      <th>2018_4</th>\n",
       "      <th>2019_1</th>\n",
       "      <th>2019_2</th>\n",
       "      <th>2019_3</th>\n",
       "      <th>2019_4</th>\n",
       "      <th>2020_1</th>\n",
       "      <th>2020_2</th>\n",
       "      <th>2020_3</th>\n",
       "      <th>2020_4</th>\n",
       "      <th>2021_1</th>\n",
       "      <th>2021_2</th>\n",
       "      <th>2021_3</th>\n",
       "      <th>2021_4</th>\n",
       "      <th>2022_1</th>\n",
       "      <th>2022_2</th>\n",
       "      <th>2022_3</th>\n",
       "      <th>2022_4</th>\n",
       "      <th>2023_1</th>\n",
       "      <th>2023_2</th>\n",
       "      <th>2023_3</th>\n",
       "      <th>2023_4</th>\n",
       "    </tr>\n",
       "  </thead>\n",
       "  <tbody>\n",
       "    <tr>\n",
       "      <th>0</th>\n",
       "      <td>2013</td>\n",
       "      <td>01</td>\n",
       "      <td>2013-01-04</td>\n",
       "      <td>t+33</td>\n",
       "      <td>t+30</td>\n",
       "      <td>t+27</td>\n",
       "      <td>t+24</td>\n",
       "      <td>t+21</td>\n",
       "      <td>t+18</td>\n",
       "      <td>t+15</td>\n",
       "      <td>t+12</td>\n",
       "      <td>t+9</td>\n",
       "      <td>t+6</td>\n",
       "      <td>t+3</td>\n",
       "      <td></td>\n",
       "      <td></td>\n",
       "      <td></td>\n",
       "      <td></td>\n",
       "      <td></td>\n",
       "      <td></td>\n",
       "      <td></td>\n",
       "      <td></td>\n",
       "      <td></td>\n",
       "      <td></td>\n",
       "      <td></td>\n",
       "      <td></td>\n",
       "      <td></td>\n",
       "      <td></td>\n",
       "      <td></td>\n",
       "      <td></td>\n",
       "      <td></td>\n",
       "      <td></td>\n",
       "      <td></td>\n",
       "      <td></td>\n",
       "      <td></td>\n",
       "      <td></td>\n",
       "      <td></td>\n",
       "      <td></td>\n",
       "      <td></td>\n",
       "      <td></td>\n",
       "      <td></td>\n",
       "      <td></td>\n",
       "      <td></td>\n",
       "      <td></td>\n",
       "      <td></td>\n",
       "      <td></td>\n",
       "      <td></td>\n",
       "      <td></td>\n",
       "      <td></td>\n",
       "      <td></td>\n",
       "      <td></td>\n",
       "      <td></td>\n",
       "      <td></td>\n",
       "      <td></td>\n",
       "      <td></td>\n",
       "      <td></td>\n",
       "      <td></td>\n",
       "      <td></td>\n",
       "      <td></td>\n",
       "    </tr>\n",
       "    <tr>\n",
       "      <th>1</th>\n",
       "      <td>2013</td>\n",
       "      <td>02</td>\n",
       "      <td>2013-01-11</td>\n",
       "      <td>6.2</td>\n",
       "      <td>10.0</td>\n",
       "      <td>9.6</td>\n",
       "      <td>9.2</td>\n",
       "      <td>8.8</td>\n",
       "      <td>6.9</td>\n",
       "      <td>6.7</td>\n",
       "      <td>5.5</td>\n",
       "      <td>6.0</td>\n",
       "      <td>6.3</td>\n",
       "      <td>6.5</td>\n",
       "      <td></td>\n",
       "      <td></td>\n",
       "      <td></td>\n",
       "      <td></td>\n",
       "      <td></td>\n",
       "      <td></td>\n",
       "      <td></td>\n",
       "      <td></td>\n",
       "      <td></td>\n",
       "      <td></td>\n",
       "      <td></td>\n",
       "      <td></td>\n",
       "      <td></td>\n",
       "      <td></td>\n",
       "      <td></td>\n",
       "      <td></td>\n",
       "      <td></td>\n",
       "      <td></td>\n",
       "      <td></td>\n",
       "      <td></td>\n",
       "      <td></td>\n",
       "      <td></td>\n",
       "      <td></td>\n",
       "      <td></td>\n",
       "      <td></td>\n",
       "      <td></td>\n",
       "      <td></td>\n",
       "      <td></td>\n",
       "      <td></td>\n",
       "      <td></td>\n",
       "      <td></td>\n",
       "      <td></td>\n",
       "      <td></td>\n",
       "      <td></td>\n",
       "      <td></td>\n",
       "      <td></td>\n",
       "      <td></td>\n",
       "      <td></td>\n",
       "      <td></td>\n",
       "      <td></td>\n",
       "      <td></td>\n",
       "      <td></td>\n",
       "      <td></td>\n",
       "      <td></td>\n",
       "      <td></td>\n",
       "    </tr>\n",
       "    <tr>\n",
       "      <th>2</th>\n",
       "      <td>2013</td>\n",
       "      <td>03</td>\n",
       "      <td>2013-01-18</td>\n",
       "      <td>6.2</td>\n",
       "      <td>10.0</td>\n",
       "      <td>9.6</td>\n",
       "      <td>9.2</td>\n",
       "      <td>8.8</td>\n",
       "      <td>6.9</td>\n",
       "      <td>6.7</td>\n",
       "      <td>5.5</td>\n",
       "      <td>6.0</td>\n",
       "      <td>6.3</td>\n",
       "      <td>6.5</td>\n",
       "      <td></td>\n",
       "      <td></td>\n",
       "      <td></td>\n",
       "      <td></td>\n",
       "      <td></td>\n",
       "      <td></td>\n",
       "      <td></td>\n",
       "      <td></td>\n",
       "      <td></td>\n",
       "      <td></td>\n",
       "      <td></td>\n",
       "      <td></td>\n",
       "      <td></td>\n",
       "      <td></td>\n",
       "      <td></td>\n",
       "      <td></td>\n",
       "      <td></td>\n",
       "      <td></td>\n",
       "      <td></td>\n",
       "      <td></td>\n",
       "      <td></td>\n",
       "      <td></td>\n",
       "      <td></td>\n",
       "      <td></td>\n",
       "      <td></td>\n",
       "      <td></td>\n",
       "      <td></td>\n",
       "      <td></td>\n",
       "      <td></td>\n",
       "      <td></td>\n",
       "      <td></td>\n",
       "      <td></td>\n",
       "      <td></td>\n",
       "      <td></td>\n",
       "      <td></td>\n",
       "      <td></td>\n",
       "      <td></td>\n",
       "      <td></td>\n",
       "      <td></td>\n",
       "      <td></td>\n",
       "      <td></td>\n",
       "      <td></td>\n",
       "      <td></td>\n",
       "      <td></td>\n",
       "      <td></td>\n",
       "    </tr>\n",
       "    <tr>\n",
       "      <th>3</th>\n",
       "      <td>2013</td>\n",
       "      <td>04</td>\n",
       "      <td>2013-01-25</td>\n",
       "      <td>6.2</td>\n",
       "      <td>10.0</td>\n",
       "      <td>9.6</td>\n",
       "      <td>9.2</td>\n",
       "      <td>8.8</td>\n",
       "      <td>6.9</td>\n",
       "      <td>6.7</td>\n",
       "      <td>5.5</td>\n",
       "      <td>6.0</td>\n",
       "      <td>6.3</td>\n",
       "      <td>6.5</td>\n",
       "      <td></td>\n",
       "      <td></td>\n",
       "      <td></td>\n",
       "      <td></td>\n",
       "      <td></td>\n",
       "      <td></td>\n",
       "      <td></td>\n",
       "      <td></td>\n",
       "      <td></td>\n",
       "      <td></td>\n",
       "      <td></td>\n",
       "      <td></td>\n",
       "      <td></td>\n",
       "      <td></td>\n",
       "      <td></td>\n",
       "      <td></td>\n",
       "      <td></td>\n",
       "      <td></td>\n",
       "      <td></td>\n",
       "      <td></td>\n",
       "      <td></td>\n",
       "      <td></td>\n",
       "      <td></td>\n",
       "      <td></td>\n",
       "      <td></td>\n",
       "      <td></td>\n",
       "      <td></td>\n",
       "      <td></td>\n",
       "      <td></td>\n",
       "      <td></td>\n",
       "      <td></td>\n",
       "      <td></td>\n",
       "      <td></td>\n",
       "      <td></td>\n",
       "      <td></td>\n",
       "      <td></td>\n",
       "      <td></td>\n",
       "      <td></td>\n",
       "      <td></td>\n",
       "      <td></td>\n",
       "      <td></td>\n",
       "      <td></td>\n",
       "      <td></td>\n",
       "      <td></td>\n",
       "      <td></td>\n",
       "    </tr>\n",
       "    <tr>\n",
       "      <th>4</th>\n",
       "      <td>2013</td>\n",
       "      <td>05</td>\n",
       "      <td>2013-02-01</td>\n",
       "      <td>6.2</td>\n",
       "      <td>10.0</td>\n",
       "      <td>9.6</td>\n",
       "      <td>9.2</td>\n",
       "      <td>8.8</td>\n",
       "      <td>6.9</td>\n",
       "      <td>6.7</td>\n",
       "      <td>5.5</td>\n",
       "      <td>6.0</td>\n",
       "      <td>6.3</td>\n",
       "      <td>6.5</td>\n",
       "      <td></td>\n",
       "      <td></td>\n",
       "      <td></td>\n",
       "      <td></td>\n",
       "      <td></td>\n",
       "      <td></td>\n",
       "      <td></td>\n",
       "      <td></td>\n",
       "      <td></td>\n",
       "      <td></td>\n",
       "      <td></td>\n",
       "      <td></td>\n",
       "      <td></td>\n",
       "      <td></td>\n",
       "      <td></td>\n",
       "      <td></td>\n",
       "      <td></td>\n",
       "      <td></td>\n",
       "      <td></td>\n",
       "      <td></td>\n",
       "      <td></td>\n",
       "      <td></td>\n",
       "      <td></td>\n",
       "      <td></td>\n",
       "      <td></td>\n",
       "      <td></td>\n",
       "      <td></td>\n",
       "      <td></td>\n",
       "      <td></td>\n",
       "      <td></td>\n",
       "      <td></td>\n",
       "      <td></td>\n",
       "      <td></td>\n",
       "      <td></td>\n",
       "      <td></td>\n",
       "      <td></td>\n",
       "      <td></td>\n",
       "      <td></td>\n",
       "      <td></td>\n",
       "      <td></td>\n",
       "      <td></td>\n",
       "      <td></td>\n",
       "      <td></td>\n",
       "      <td></td>\n",
       "      <td></td>\n",
       "    </tr>\n",
       "    <tr>\n",
       "      <th>5</th>\n",
       "      <td>2013</td>\n",
       "      <td>06</td>\n",
       "      <td>2013-02-08</td>\n",
       "      <td>6.2</td>\n",
       "      <td>10.0</td>\n",
       "      <td>9.6</td>\n",
       "      <td>9.2</td>\n",
       "      <td>8.8</td>\n",
       "      <td>6.9</td>\n",
       "      <td>6.7</td>\n",
       "      <td>5.5</td>\n",
       "      <td>6.0</td>\n",
       "      <td>6.3</td>\n",
       "      <td>6.5</td>\n",
       "      <td></td>\n",
       "      <td></td>\n",
       "      <td></td>\n",
       "      <td></td>\n",
       "      <td></td>\n",
       "      <td></td>\n",
       "      <td></td>\n",
       "      <td></td>\n",
       "      <td></td>\n",
       "      <td></td>\n",
       "      <td></td>\n",
       "      <td></td>\n",
       "      <td></td>\n",
       "      <td></td>\n",
       "      <td></td>\n",
       "      <td></td>\n",
       "      <td></td>\n",
       "      <td></td>\n",
       "      <td></td>\n",
       "      <td></td>\n",
       "      <td></td>\n",
       "      <td></td>\n",
       "      <td></td>\n",
       "      <td></td>\n",
       "      <td></td>\n",
       "      <td></td>\n",
       "      <td></td>\n",
       "      <td></td>\n",
       "      <td></td>\n",
       "      <td></td>\n",
       "      <td></td>\n",
       "      <td></td>\n",
       "      <td></td>\n",
       "      <td></td>\n",
       "      <td></td>\n",
       "      <td></td>\n",
       "      <td></td>\n",
       "      <td></td>\n",
       "      <td></td>\n",
       "      <td></td>\n",
       "      <td></td>\n",
       "      <td></td>\n",
       "      <td></td>\n",
       "      <td></td>\n",
       "      <td></td>\n",
       "    </tr>\n",
       "    <tr>\n",
       "      <th>6</th>\n",
       "      <td>2013</td>\n",
       "      <td>07</td>\n",
       "      <td>2013-02-15</td>\n",
       "      <td>6.2</td>\n",
       "      <td>10.0</td>\n",
       "      <td>9.6</td>\n",
       "      <td>9.2</td>\n",
       "      <td>8.8</td>\n",
       "      <td>6.9</td>\n",
       "      <td>6.7</td>\n",
       "      <td>5.5</td>\n",
       "      <td>6.0</td>\n",
       "      <td>6.3</td>\n",
       "      <td>6.5</td>\n",
       "      <td></td>\n",
       "      <td></td>\n",
       "      <td></td>\n",
       "      <td></td>\n",
       "      <td></td>\n",
       "      <td></td>\n",
       "      <td></td>\n",
       "      <td></td>\n",
       "      <td></td>\n",
       "      <td></td>\n",
       "      <td></td>\n",
       "      <td></td>\n",
       "      <td></td>\n",
       "      <td></td>\n",
       "      <td></td>\n",
       "      <td></td>\n",
       "      <td></td>\n",
       "      <td></td>\n",
       "      <td></td>\n",
       "      <td></td>\n",
       "      <td></td>\n",
       "      <td></td>\n",
       "      <td></td>\n",
       "      <td></td>\n",
       "      <td></td>\n",
       "      <td></td>\n",
       "      <td></td>\n",
       "      <td></td>\n",
       "      <td></td>\n",
       "      <td></td>\n",
       "      <td></td>\n",
       "      <td></td>\n",
       "      <td></td>\n",
       "      <td></td>\n",
       "      <td></td>\n",
       "      <td></td>\n",
       "      <td></td>\n",
       "      <td></td>\n",
       "      <td></td>\n",
       "      <td></td>\n",
       "      <td></td>\n",
       "      <td></td>\n",
       "      <td></td>\n",
       "      <td></td>\n",
       "      <td></td>\n",
       "    </tr>\n",
       "    <tr>\n",
       "      <th>7</th>\n",
       "      <td>2013</td>\n",
       "      <td>08</td>\n",
       "      <td>2013-02-22</td>\n",
       "      <td>t+34</td>\n",
       "      <td>t+31</td>\n",
       "      <td>t+28</td>\n",
       "      <td>t+25</td>\n",
       "      <td>t+22</td>\n",
       "      <td>t+19</td>\n",
       "      <td>t+16</td>\n",
       "      <td>t+13</td>\n",
       "      <td>t+10</td>\n",
       "      <td>t+7</td>\n",
       "      <td>t+4</td>\n",
       "      <td>t+1</td>\n",
       "      <td></td>\n",
       "      <td></td>\n",
       "      <td></td>\n",
       "      <td></td>\n",
       "      <td></td>\n",
       "      <td></td>\n",
       "      <td></td>\n",
       "      <td></td>\n",
       "      <td></td>\n",
       "      <td></td>\n",
       "      <td></td>\n",
       "      <td></td>\n",
       "      <td></td>\n",
       "      <td></td>\n",
       "      <td></td>\n",
       "      <td></td>\n",
       "      <td></td>\n",
       "      <td></td>\n",
       "      <td></td>\n",
       "      <td></td>\n",
       "      <td></td>\n",
       "      <td></td>\n",
       "      <td></td>\n",
       "      <td></td>\n",
       "      <td></td>\n",
       "      <td></td>\n",
       "      <td></td>\n",
       "      <td></td>\n",
       "      <td></td>\n",
       "      <td></td>\n",
       "      <td></td>\n",
       "      <td></td>\n",
       "      <td></td>\n",
       "      <td></td>\n",
       "      <td></td>\n",
       "      <td></td>\n",
       "      <td></td>\n",
       "      <td></td>\n",
       "      <td></td>\n",
       "      <td></td>\n",
       "      <td></td>\n",
       "      <td></td>\n",
       "      <td></td>\n",
       "      <td></td>\n",
       "    </tr>\n",
       "    <tr>\n",
       "      <th>8</th>\n",
       "      <td>2013</td>\n",
       "      <td>09</td>\n",
       "      <td>2013-03-01</td>\n",
       "      <td>6.2</td>\n",
       "      <td>10.0</td>\n",
       "      <td>9.6</td>\n",
       "      <td>9.2</td>\n",
       "      <td>8.8</td>\n",
       "      <td>6.9</td>\n",
       "      <td>6.7</td>\n",
       "      <td>5.5</td>\n",
       "      <td>6.0</td>\n",
       "      <td>6.4</td>\n",
       "      <td>6.8</td>\n",
       "      <td>5.9</td>\n",
       "      <td></td>\n",
       "      <td></td>\n",
       "      <td></td>\n",
       "      <td></td>\n",
       "      <td></td>\n",
       "      <td></td>\n",
       "      <td></td>\n",
       "      <td></td>\n",
       "      <td></td>\n",
       "      <td></td>\n",
       "      <td></td>\n",
       "      <td></td>\n",
       "      <td></td>\n",
       "      <td></td>\n",
       "      <td></td>\n",
       "      <td></td>\n",
       "      <td></td>\n",
       "      <td></td>\n",
       "      <td></td>\n",
       "      <td></td>\n",
       "      <td></td>\n",
       "      <td></td>\n",
       "      <td></td>\n",
       "      <td></td>\n",
       "      <td></td>\n",
       "      <td></td>\n",
       "      <td></td>\n",
       "      <td></td>\n",
       "      <td></td>\n",
       "      <td></td>\n",
       "      <td></td>\n",
       "      <td></td>\n",
       "      <td></td>\n",
       "      <td></td>\n",
       "      <td></td>\n",
       "      <td></td>\n",
       "      <td></td>\n",
       "      <td></td>\n",
       "      <td></td>\n",
       "      <td></td>\n",
       "      <td></td>\n",
       "      <td></td>\n",
       "      <td></td>\n",
       "      <td></td>\n",
       "    </tr>\n",
       "    <tr>\n",
       "      <th>9</th>\n",
       "      <td>2013</td>\n",
       "      <td>10</td>\n",
       "      <td>2013-03-08</td>\n",
       "      <td>6.2</td>\n",
       "      <td>10.0</td>\n",
       "      <td>9.6</td>\n",
       "      <td>9.2</td>\n",
       "      <td>8.8</td>\n",
       "      <td>6.9</td>\n",
       "      <td>6.7</td>\n",
       "      <td>5.5</td>\n",
       "      <td>6.0</td>\n",
       "      <td>6.4</td>\n",
       "      <td>6.8</td>\n",
       "      <td>5.9</td>\n",
       "      <td></td>\n",
       "      <td></td>\n",
       "      <td></td>\n",
       "      <td></td>\n",
       "      <td></td>\n",
       "      <td></td>\n",
       "      <td></td>\n",
       "      <td></td>\n",
       "      <td></td>\n",
       "      <td></td>\n",
       "      <td></td>\n",
       "      <td></td>\n",
       "      <td></td>\n",
       "      <td></td>\n",
       "      <td></td>\n",
       "      <td></td>\n",
       "      <td></td>\n",
       "      <td></td>\n",
       "      <td></td>\n",
       "      <td></td>\n",
       "      <td></td>\n",
       "      <td></td>\n",
       "      <td></td>\n",
       "      <td></td>\n",
       "      <td></td>\n",
       "      <td></td>\n",
       "      <td></td>\n",
       "      <td></td>\n",
       "      <td></td>\n",
       "      <td></td>\n",
       "      <td></td>\n",
       "      <td></td>\n",
       "      <td></td>\n",
       "      <td></td>\n",
       "      <td></td>\n",
       "      <td></td>\n",
       "      <td></td>\n",
       "      <td></td>\n",
       "      <td></td>\n",
       "      <td></td>\n",
       "      <td></td>\n",
       "      <td></td>\n",
       "      <td></td>\n",
       "      <td></td>\n",
       "    </tr>\n",
       "  </tbody>\n",
       "</table>\n",
       "</div>"
      ],
      "text/plain": [
       "   year id_ns       date 2010_1 2010_2 2010_3 2010_4 2011_1 2011_2 2011_3  \\\n",
       "0  2013    01 2013-01-04   t+33   t+30   t+27   t+24   t+21   t+18   t+15   \n",
       "1  2013    02 2013-01-11    6.2   10.0    9.6    9.2    8.8    6.9    6.7   \n",
       "2  2013    03 2013-01-18    6.2   10.0    9.6    9.2    8.8    6.9    6.7   \n",
       "3  2013    04 2013-01-25    6.2   10.0    9.6    9.2    8.8    6.9    6.7   \n",
       "4  2013    05 2013-02-01    6.2   10.0    9.6    9.2    8.8    6.9    6.7   \n",
       "5  2013    06 2013-02-08    6.2   10.0    9.6    9.2    8.8    6.9    6.7   \n",
       "6  2013    07 2013-02-15    6.2   10.0    9.6    9.2    8.8    6.9    6.7   \n",
       "7  2013    08 2013-02-22   t+34   t+31   t+28   t+25   t+22   t+19   t+16   \n",
       "8  2013    09 2013-03-01    6.2   10.0    9.6    9.2    8.8    6.9    6.7   \n",
       "9  2013    10 2013-03-08    6.2   10.0    9.6    9.2    8.8    6.9    6.7   \n",
       "\n",
       "  2011_4 2012_1 2012_2 2012_3 2012_4 2013_1 2013_2 2013_3 2013_4 2014_1  \\\n",
       "0   t+12    t+9    t+6    t+3                                             \n",
       "1    5.5    6.0    6.3    6.5                                             \n",
       "2    5.5    6.0    6.3    6.5                                             \n",
       "3    5.5    6.0    6.3    6.5                                             \n",
       "4    5.5    6.0    6.3    6.5                                             \n",
       "5    5.5    6.0    6.3    6.5                                             \n",
       "6    5.5    6.0    6.3    6.5                                             \n",
       "7   t+13   t+10    t+7    t+4    t+1                                      \n",
       "8    5.5    6.0    6.4    6.8    5.9                                      \n",
       "9    5.5    6.0    6.4    6.8    5.9                                      \n",
       "\n",
       "  2014_2 2014_3 2014_4 2015_1 2015_2 2015_3 2015_4 2016_1 2016_2 2016_3  \\\n",
       "0                                                                         \n",
       "1                                                                         \n",
       "2                                                                         \n",
       "3                                                                         \n",
       "4                                                                         \n",
       "5                                                                         \n",
       "6                                                                         \n",
       "7                                                                         \n",
       "8                                                                         \n",
       "9                                                                         \n",
       "\n",
       "  2016_4 2017_1 2017_2 2017_3 2017_4 2018_1 2018_2 2018_3 2018_4 2019_1  \\\n",
       "0                                                                         \n",
       "1                                                                         \n",
       "2                                                                         \n",
       "3                                                                         \n",
       "4                                                                         \n",
       "5                                                                         \n",
       "6                                                                         \n",
       "7                                                                         \n",
       "8                                                                         \n",
       "9                                                                         \n",
       "\n",
       "  2019_2 2019_3 2019_4 2020_1 2020_2 2020_3 2020_4 2021_1 2021_2 2021_3  \\\n",
       "0                                                                         \n",
       "1                                                                         \n",
       "2                                                                         \n",
       "3                                                                         \n",
       "4                                                                         \n",
       "5                                                                         \n",
       "6                                                                         \n",
       "7                                                                         \n",
       "8                                                                         \n",
       "9                                                                         \n",
       "\n",
       "  2021_4 2022_1 2022_2 2022_3 2022_4 2023_1 2023_2 2023_3 2023_4  \n",
       "0                                                                 \n",
       "1                                                                 \n",
       "2                                                                 \n",
       "3                                                                 \n",
       "4                                                                 \n",
       "5                                                                 \n",
       "6                                                                 \n",
       "7                                                                 \n",
       "8                                                                 \n",
       "9                                                                 "
      ]
     },
     "execution_count": 77,
     "metadata": {},
     "output_type": "execute_result"
    }
   ],
   "source": [
    "globals()[f'{sector}_{frequency}_growth_rates_horizon'] = columns_str(globals()[f'{sector}_{frequency}_growth_rates_horizon'])\n",
    "globals()[f'{sector}_{frequency}_growth_rates_horizon'].head(10)"
   ]
  },
  {
   "cell_type": "markdown",
   "id": "e2251efd",
   "metadata": {},
   "source": [
    "<div id=\"step-4\">\n",
    "   <!-- Contenido de la celda de destino -->\n",
    "</div>"
   ]
  },
  {
   "cell_type": "markdown",
   "id": "a0e64f41",
   "metadata": {},
   "source": [
    "<div style=\"text-align: left; font-family: 'PT Serif Pro Book'; font-size:22px\">\n",
    "    <span style=\"font-size: 24px; color: rgb(0, 65, 75)\">&#10125;</span> Spreads the \"t+h\" values over the remaining decimal values\n",
    "  </div>"
   ]
  },
  {
   "cell_type": "code",
   "execution_count": 83,
   "id": "5128157c",
   "metadata": {},
   "outputs": [],
   "source": [
    "globals()[f'{sector}_{frequency}_growth_rates_horizon'] = replace_horizon_1(globals()[f'{sector}_{frequency}_growth_rates_horizon'], start_row, h_initial, h_counter)\n",
    "globals()[f'{sector}_{frequency}_growth_rates_horizon'].head(10)"
   ]
  },
  {
   "cell_type": "markdown",
   "id": "a436e325",
   "metadata": {},
   "source": [
    "<div id=\"step-5\">\n",
    "   <!-- Contenido de la celda de destino -->\n",
    "</div>"
   ]
  },
  {
   "cell_type": "markdown",
   "id": "06ef713c",
   "metadata": {},
   "source": [
    "<div style=\"text-align: left; font-family: 'PT Serif Pro Book'; font-size:22px\">\n",
    "    <span style=\"font-size: 24px; color: rgb(0, 65, 75)\">&#10126;</span> Exporting to excel file\n",
    "  </div>"
   ]
  },
  {
   "cell_type": "code",
   "execution_count": 70,
   "id": "b8046afa",
   "metadata": {},
   "outputs": [],
   "source": [
    "#def export_to_excel(df, filename):\n",
    "#    # Exportar el DataFrame como un archivo Excel\n",
    "#    df.to_excel(filename, index=False)"
   ]
  },
  {
   "cell_type": "markdown",
   "id": "17a440ca",
   "metadata": {},
   "source": [
    "<div style=\"font-family: PT Serif Pro Book; text-align: left; color: dark; font-size: 16px;\">\n",
    "    <span style=\"font-size: 20px; color: rgb(255, 32, 78); font-weight: bold;\">\n",
    "        <a href=\"#steps\" style=\"color: #006769; text-decoration: none;\">⮝</a>\n",
    "    </span> \n",
    "    <a href=\"#steps\" style=\"color: #006769; text-decoration: none;\">Back to steps.</a>\n",
    "</div>"
   ]
  },
  {
   "cell_type": "markdown",
   "id": "fae600ea",
   "metadata": {},
   "source": [
    "<div style=\"font-family: PT Serif Pro Book; text-align: left; color: dark; font-size: 16px;\">\n",
    "    <span style=\"font-size: 30px; color: rgb(255, 32, 78); font-weight: bold;\">\n",
    "        <a href=\"#outilne\" style=\"color: rgb(0, 153, 123); text-decoration: none;\">&#11180;</a>\n",
    "    </span> \n",
    "    <a href=\"#outilne\" style=\"color: rgb(0, 153, 123); text-decoration: none;\">Back to the outline.</a>\n",
    "</div>"
   ]
  },
  {
   "cell_type": "markdown",
   "id": "fb7e90fe",
   "metadata": {},
   "source": [
    "<div id=\"3\">\n",
    "   <!-- Contenido de la celda de destino -->\n",
    "</div>"
   ]
  },
  {
   "cell_type": "markdown",
   "id": "e2af71c6",
   "metadata": {},
   "source": [
    "<h1><span style = \"color: rgb(0, 65, 75); font-family: charter;\">3.</span> <span style = \"color: dark; font-family: charter;\">Create intermediate revisions datasets</span></h1>"
   ]
  },
  {
   "cell_type": "markdown",
   "id": "bc05634b",
   "metadata": {},
   "source": [
    "<div id=\"3.1.\">\n",
    "   <!-- Contenido de la celda de destino -->\n",
    "</div>"
   ]
  },
  {
   "cell_type": "markdown",
   "id": "34859eb5",
   "metadata": {},
   "source": [
    "<h2><span style = \"color: rgb(0, 65, 75); font-family: charter;\">3.1.</span>\n",
    "    <span style = \"color: dark; font-family: charter;\">\n",
    "    Functions for creating intermediate revisions dataset\n",
    "    </span>\n",
    "    </h2>"
   ]
  },
  {
   "cell_type": "markdown",
   "id": "6f39809b",
   "metadata": {},
   "source": [
    "<div style=\"font-family: charter; text-align: left; color:dark\">\n",
    "    <b> Getting last row index for t+h value for each column</b>\n",
    "    <div/>"
   ]
  },
  {
   "cell_type": "code",
   "execution_count": null,
   "id": "9a679c55",
   "metadata": {},
   "outputs": [],
   "source": [
    "def get_last_index_h(df):\n",
    "    # Creamos un diccionario para almacenar los registros\n",
    "    registros = {}\n",
    "\n",
    "    # Iteramos sobre cada columna en el DataFrame, excluyendo las columnas 'year', 'date' y 'id_ns'\n",
    "    for columna in df.columns.drop(['year', 'date', 'id_ns']):\n",
    "        # Creamos un diccionario para almacenar los índices de fila de cada valor 't+\\d' en la columna actual\n",
    "        registros_columna = {}\n",
    "        # Iteramos sobre cada valor único en la columna actual, excluyendo NaN\n",
    "        for valor in df[columna].dropna().unique():\n",
    "            # Usamos expresiones regulares para encontrar valores que contengan 't+\\d'\n",
    "            if re.search(r't\\+\\d', valor):\n",
    "                # Encontramos el índice de la última aparición de valor que contiene 't+\\d' en la columna\n",
    "                ultimo_indice = df[df[columna] == valor].index.max()\n",
    "                # Agregamos el valor y su índice al diccionario de registros de la columna\n",
    "                registros_columna[valor] = ultimo_indice\n",
    "        # Agregamos el diccionario de registros de la columna al diccionario principal\n",
    "        registros[columna] = registros_columna\n",
    "\n",
    "    # Devolvemos los registros\n",
    "    return registros"
   ]
  },
  {
   "cell_type": "markdown",
   "id": "77963987",
   "metadata": {},
   "source": [
    "<div style=\"font-family: charter; text-align: left; color:dark\">\n",
    "    <b> Computting intermediate revisions</b>\n",
    "    <div/>"
   ]
  },
  {
   "cell_type": "code",
   "execution_count": null,
   "id": "d6bf7c69",
   "metadata": {},
   "outputs": [],
   "source": [
    "def computing_inter_revisions(df, registros):\n",
    "    # Extraemos las columnas de df, excluyendo 'year', 'date' y 'id_ns'\n",
    "    columnas = df.columns.drop(['year', 'date', 'id_ns'])\n",
    "    \n",
    "    # Obtenemos el valor máximo de h para determinar el número de filas en el DataFrame de revisiones\n",
    "    max_h = max([int(valor.split('+')[1]) for columna in registros.values() for valor in columna.keys()])\n",
    "    num_filas = max_h - 1\n",
    "    \n",
    "    # Creamos un DataFrame vacío para almacenar las revisiones intermedias\n",
    "    revisiones_intermedias = pd.DataFrame(columns=columnas, index=range(num_filas))\n",
    "    \n",
    "    # Iteramos sobre cada valor de h\n",
    "    for h in range(2, max_h + 1):\n",
    "        # Calculamos el nombre de la columna en el nuevo DataFrame\n",
    "        columna_revision = f\"t+{h} - t+1\"\n",
    "        \n",
    "        # Iteramos sobre cada columna en df\n",
    "        for columna in columnas:\n",
    "            # Obtenemos los índices correspondientes a t+h y t+1\n",
    "            indice_h = float(registros[columna].get(f\"t+{h}\", float('nan')))\n",
    "            indice_t1 = float(registros[columna].get(f\"t+1\", float('nan')))\n",
    "\n",
    "            # Verificamos si los índices son válidos\n",
    "            if np.isnan(indice_h) or np.isnan(indice_t1):\n",
    "                # Si alguno de los índices es NaN, asignamos NaN al resultado\n",
    "                resultado = np.nan\n",
    "            else:\n",
    "                # Realizamos la resta y almacenamos el resultado en la columna correspondiente\n",
    "                resultado = df.at[int(indice_h), columna] - df.at[int(indice_t1), columna]\n",
    "                # Guardamos el resultado en la fila correspondiente de revisiones_intermedias\n",
    "                revisiones_intermedias.at[h - 2, columna] = resultado\n",
    "    \n",
    "    return revisiones_intermedias"
   ]
  },
  {
   "cell_type": "markdown",
   "id": "4c1d23c6",
   "metadata": {},
   "source": [
    "<div style=\"font-family: charter; text-align: left; color:dark\">\n",
    "    <b> Transpose intermediate revisions dataset</b>\n",
    "    <div/>"
   ]
  },
  {
   "cell_type": "code",
   "execution_count": null,
   "id": "8c6331a5",
   "metadata": {},
   "outputs": [],
   "source": [
    "def transpose_inter_revisions(revisiones_intermedias):\n",
    "    # Transponemos el DataFrame\n",
    "    revisiones_transpuestas = revisiones_intermedias.T\n",
    "    \n",
    "    # Establecemos el nombre de la primera columna como 'intermediate_revision_date'\n",
    "    revisiones_transpuestas.columns.name = 'intermediate_revision_date'\n",
    "    \n",
    "    # Renombramos las columnas\n",
    "    revisiones_transpuestas.columns = [f'{sector}_revision_{i+1}' for i in range(len(revisiones_transpuestas.columns))]\n",
    "    \n",
    "    # Reiniciamos el índice\n",
    "    revisiones_transpuestas = revisiones_transpuestas.reset_index()\n",
    "    \n",
    "    # Cambiamos el nombre de la columna del índice\n",
    "    revisiones_transpuestas = revisiones_transpuestas.rename(columns={'index': 'inter_revision_date'})\n",
    "    \n",
    "    return revisiones_transpuestas"
   ]
  },
  {
   "cell_type": "markdown",
   "id": "4d503652",
   "metadata": {},
   "source": [
    "<div id=\"3.2.\">\n",
    "   <!-- Contenido de la celda de destino -->\n",
    "</div>"
   ]
  },
  {
   "cell_type": "markdown",
   "id": "8e524191",
   "metadata": {},
   "source": [
    "<h2><span style = \"color: rgb(0, 65, 75); font-family: charter;\">3.3.</span>\n",
    "    <span style = \"color: dark; font-family: charter;\">\n",
    "    Creating intermediate revisions dataset step by step\n",
    "    </span>\n",
    "    </h2>"
   ]
  },
  {
   "cell_type": "markdown",
   "id": "71eb05a8",
   "metadata": {},
   "source": [
    "<span style = \"color: dark; font-family: charter;\">\n",
    "    <b>1. Generating a dictionary with the row indices and their t+h values</b>\n",
    "  </span>"
   ]
  },
  {
   "cell_type": "code",
   "execution_count": null,
   "id": "c1f4d8d2",
   "metadata": {},
   "outputs": [],
   "source": [
    "dictionary = get_last_index_h(globals()[f'{sector}_{frequency}_growth_rates_horizon'])"
   ]
  },
  {
   "cell_type": "markdown",
   "id": "ab929aa3",
   "metadata": {},
   "source": [
    "<span style = \"color: dark; font-family: charter;\">\n",
    "    <b>2. Computing intermediate revisions</b>\n",
    "  </span>"
   ]
  },
  {
   "cell_type": "code",
   "execution_count": null,
   "id": "1e3b2cc4",
   "metadata": {},
   "outputs": [],
   "source": [
    "# Utilizamos la función para calcular las revisiones intermedias\n",
    "globals()[f'{sector}_inter_revisions'] = computing_inter_revisions(globals()[f'{sector}_{frequency}_growth_rates'], dictionary)\n",
    "globals()[f'{sector}_inter_revisions']"
   ]
  },
  {
   "cell_type": "markdown",
   "id": "c768d22d",
   "metadata": {},
   "source": [
    "<span style = \"color: dark; font-family: charter;\">\n",
    "    <b>3. Transpose the intermediate revisions dataset</b>\n",
    "  </span>"
   ]
  },
  {
   "cell_type": "code",
   "execution_count": null,
   "id": "c808c3e6",
   "metadata": {},
   "outputs": [],
   "source": [
    "# Utilizamos la función para transponer las revisiones intermedias\n",
    "globals()[f\"{sector}_{frequency}_inter_revisions\"] = transpose_inter_revisions(globals()[f'{sector}_inter_revisions'])\n",
    "\n",
    "# Mostramos el resultado\n",
    "print(\"Revisiones Intermedias Transpuestas:\")\n",
    "globals()[f\"{sector}_{frequency}_inter_revisions\"].head(20)"
   ]
  },
  {
   "cell_type": "markdown",
   "id": "4374ae3b",
   "metadata": {},
   "source": [
    "<div style=\"font-family: PT Serif Pro Book; text-align: left; color: dark; font-size: 16px;\">\n",
    "    <span style=\"font-size: 30px; color: rgb(255, 32, 78); font-weight: bold;\">\n",
    "        <a href=\"#outilne\" style=\"color: rgb(0, 153, 123); text-decoration: none;\">&#11180;</a>\n",
    "    </span> \n",
    "    <a href=\"#outilne\" style=\"color: rgb(0, 153, 123); text-decoration: none;\">Back to the outline.</a>\n",
    "</div>"
   ]
  },
  {
   "cell_type": "markdown",
   "id": "5e3192e9",
   "metadata": {},
   "source": [
    "<div id=\"3.3.\">\n",
    "   <!-- Contenido de la celda de destino -->\n",
    "</div>"
   ]
  },
  {
   "cell_type": "markdown",
   "id": "e22df151",
   "metadata": {},
   "source": [
    "<h2><span style = \"color: rgb(0, 65, 75); font-family: charter;\">3.3.</span>\n",
    "    <span style = \"color: dark; font-family: charter;\">\n",
    "    Clean-up intermediate revisions dataset (last version to be loaded to SQL)\n",
    "    </span>\n",
    "    </h2>"
   ]
  },
  {
   "cell_type": "code",
   "execution_count": null,
   "id": "60acc888",
   "metadata": {},
   "outputs": [],
   "source": [
    "import pandas as pd\n",
    "\n",
    "# Extraer el mes y el año de la columna 'revision_date'\n",
    "globals()[f\"{sector}_{frequency}_inter_revisions\"]['month'] = globals()[f\"{sector}_{frequency}_inter_revisions\"]['inter_revision_date'].str.split('_').str[0]\n",
    "globals()[f\"{sector}_{frequency}_inter_revisions\"]['year'] = globals()[f\"{sector}_{frequency}_inter_revisions\"]['inter_revision_date'].str.split('_').str[1]\n",
    "\n",
    "# Mapear los nombres de los meses a sus respectivos números\n",
    "month_mapping = {\n",
    "    'ene': '01', 'feb': '02', 'mar': '03', 'abr': '04',\n",
    "    'may': '05', 'jun': '06', 'jul': '07', 'ago': '08',\n",
    "    'sep': '09', 'oct': '10', 'nov': '11', 'dic': '12'\n",
    "}\n",
    "\n",
    "globals()[f\"{sector}_{frequency}_inter_revisions\"]['month'] = globals()[f\"{sector}_{frequency}_inter_revisions\"]['month'].map(month_mapping)\n",
    "\n",
    "# Crear una nueva columna con la fecha en formato YYYY-MM-DD\n",
    "globals()[f\"{sector}_{frequency}_inter_revisions\"]['inter_revision_date'] = globals()[f\"{sector}_{frequency}_inter_revisions\"]['year'] + '-' + globals()[f\"{sector}_{frequency}_inter_revisions\"]['month']\n",
    "\n",
    "# Convertir la columna 'revision_date' a tipo de datos de fecha\n",
    "globals()[f\"{sector}_{frequency}_inter_revisions\"]['inter_revision_date'] = pd.to_datetime(globals()[f\"{sector}_{frequency}_inter_revisions\"]['inter_revision_date'], format='%Y-%m')\n",
    "\n",
    "# Eliminar columnas temporales 'month' y 'year'\n",
    "globals()[f\"{sector}_{frequency}_inter_revisions\"].drop(['month', 'year'], axis=1, inplace=True)\n",
    "\n",
    "# Mostrar el resultado\n",
    "globals()[f\"{sector}_{frequency}_inter_revisions\"]"
   ]
  },
  {
   "cell_type": "markdown",
   "id": "8c7fac58",
   "metadata": {},
   "source": [
    "<span style = \"color: dark; font-family: charter;\">\n",
    "    <b>Change format date</b>\n",
    "  </span>"
   ]
  },
  {
   "cell_type": "code",
   "execution_count": null,
   "id": "a2cbde8c",
   "metadata": {},
   "outputs": [],
   "source": [
    "print(globals()[f\"{sector}_{frequency}_inter_revisions\"]['inter_revision_date'].dtype)"
   ]
  },
  {
   "cell_type": "code",
   "execution_count": null,
   "id": "c4ae5d17",
   "metadata": {},
   "outputs": [],
   "source": [
    "globals()[f\"{sector}_{frequency}_inter_revisions\"]['inter_revision_date'] = pd.to_datetime(globals()[f\"{sector}_{frequency}_inter_revisions\"]['inter_revision_date']).dt.date"
   ]
  },
  {
   "cell_type": "markdown",
   "id": "a3b119fd",
   "metadata": {},
   "source": [
    "<div style=\"color: rgb(61, 48, 162); font-size: 12px;\">\n",
    "    Back to the\n",
    "    <a href=\"#outilne\" style=\"color: #687EFF;\">\n",
    "    outline.\n",
    "    </a>\n",
    "    <div/>"
   ]
  },
  {
   "cell_type": "markdown",
   "id": "6740d1a9",
   "metadata": {},
   "source": [
    "<div id=\"4.\">\n",
    "   <!-- Contenido de la celda de destino -->\n",
    "</div>"
   ]
  },
  {
   "cell_type": "markdown",
   "id": "90199d87",
   "metadata": {},
   "source": [
    "<h2><span style = \"color: rgb(0, 65, 75); font-family: charter;\">4.</span>\n",
    "    <span style = \"color: dark; font-family: charter;\">\n",
    "    Loading to SQL\n",
    "    </span>\n",
    "    </h2>"
   ]
  },
  {
   "cell_type": "code",
   "execution_count": null,
   "id": "408d5fb8",
   "metadata": {},
   "outputs": [],
   "source": [
    "# Check if all environment variables are defined\n",
    "if not all([host, user, password]):\n",
    "    raise ValueError(\"Some environment variables are missing (CIUP_SQL_HOST, CIUP_SQL_USER, CIUP_SQL_PASS)\")\n",
    "\n",
    "# Create connection string\n",
    "connection_string = f\"postgresql://{user}:{password}@{host}:{port}/{database}\"\n",
    "\n",
    "# Create SQLAlchemy engine\n",
    "engine = create_engine(connection_string)\n",
    "\n",
    "# REVISIONES\n",
    "\n",
    "#globals()[f'{sector}_{frequency}_growth_rates_horizon'].to_sql(f'{sector}_{frequency}_growth_rates_horizon', engine, index=False, if_exists='replace')\n",
    "#globals()[f\"{sector}_{frequency}_inter_revisions\"].to_sql(f'{sector}_{frequency}_inter_revisions', engine, index=False, if_exists='replace')"
   ]
  },
  {
   "cell_type": "code",
   "execution_count": null,
   "id": "30d2f5f4",
   "metadata": {},
   "outputs": [],
   "source": []
  },
  {
   "cell_type": "code",
   "execution_count": null,
   "id": "c8c1645c",
   "metadata": {},
   "outputs": [],
   "source": []
  },
  {
   "cell_type": "markdown",
   "id": "5053e455",
   "metadata": {},
   "source": [
    "<div style=\"font-family: PT Serif Pro Book; text-align: left; color: dark; font-size: 16px;\">\n",
    "    <span style=\"font-size: 30px; color: rgb(255, 32, 78); font-weight: bold;\">\n",
    "        <a href=\"#outilne\" style=\"color: rgb(0, 153, 123); text-decoration: none;\">&#11180;</a>\n",
    "    </span> \n",
    "    <a href=\"#outilne\" style=\"color: rgb(0, 153, 123); text-decoration: none;\">Back to the outline.</a>\n",
    "</div>"
   ]
  },
  {
   "cell_type": "code",
   "execution_count": null,
   "id": "8f40d359",
   "metadata": {},
   "outputs": [],
   "source": []
  },
  {
   "cell_type": "code",
   "execution_count": null,
   "id": "f1b83c53",
   "metadata": {},
   "outputs": [],
   "source": []
  },
  {
   "cell_type": "code",
   "execution_count": null,
   "id": "f81165ef",
   "metadata": {},
   "outputs": [],
   "source": []
  }
 ],
 "metadata": {
  "kernelspec": {
   "display_name": "gdp_revisions",
   "language": "python",
   "name": "gdp_revisions"
  },
  "language_info": {
   "codemirror_mode": {
    "name": "ipython",
    "version": 3
   },
   "file_extension": ".py",
   "mimetype": "text/x-python",
   "name": "python",
   "nbconvert_exporter": "python",
   "pygments_lexer": "ipython3",
   "version": "3.12.1"
  }
 },
 "nbformat": 4,
 "nbformat_minor": 5
}
