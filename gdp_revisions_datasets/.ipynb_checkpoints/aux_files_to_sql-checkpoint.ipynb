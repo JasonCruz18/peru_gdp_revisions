{
 "cells": [
  {
   "cell_type": "code",
   "execution_count": null,
   "id": "6b39b490",
   "metadata": {},
   "outputs": [],
   "source": []
  },
  {
   "cell_type": "markdown",
   "id": "3e7a0645",
   "metadata": {},
   "source": [
    "<div style=\"text-align: center; font-family: 'charter bt pro roman'; color: rgb(0, 65, 75);\">\n",
    "    <h1>\n",
    "    Auxiliar Files to PostgresSQL\n",
    "    </h1>\n",
    "</div>"
   ]
  },
  {
   "cell_type": "markdown",
   "id": "ce205c88",
   "metadata": {},
   "source": [
    "<div style=\"text-align: center; font-family: 'charter bt pro roman'; color: rgb(0, 65, 75);\">\n",
    "    <h3>\n",
    "        Documentation\n",
    "        <br>\n",
    "        ____________________\n",
    "            </br>\n",
    "    </h3>\n",
    "</div>"
   ]
  },
  {
   "cell_type": "markdown",
   "id": "3adf7d9d",
   "metadata": {},
   "source": [
    "<div style=\"text-align: center; font-family: 'PT Serif Pro Book'; color: rgb(0, 65, 75); font-size: 16px;\">\n",
    "    Jason Cruz\n",
    "    <br>\n",
    "    <a href=\"mailto:jj.cruza@up.edu.pe\" style=\"color: rgb(0, 153, 123); font-size: 16px;\">\n",
    "        jj.cruza@up.edu.pe\n",
    "    </a>\n",
    "</div>"
   ]
  },
  {
   "cell_type": "markdown",
   "id": "3ec9c893",
   "metadata": {},
   "source": [
    "<div style=\"font-family: Amaya; text-align: left; color: rgb(0, 65, 75); font-size:16px\">The following <b>outline is functional</b>. By utilising the provided buttons, users are able to enhance their experience by browsing this script.<div/>"
   ]
  },
  {
   "cell_type": "markdown",
   "id": "5f2fd8a6",
   "metadata": {},
   "source": [
    "<div id=\"outilne\">\n",
    "   <!-- Contenido de la celda de destino -->\n",
    "</div>"
   ]
  },
  {
   "cell_type": "markdown",
   "id": "11528b55",
   "metadata": {},
   "source": [
    "<div style=\"background-color: #292929; padding: 10px; font-family: 'PT Serif Pro Book';\">\n",
    "    <h2 style=\"text-align: left; color: #E0E0E0;\">\n",
    "        Outline\n",
    "    </h2>\n",
    "    <br>\n",
    "    <a href=\"#libraries\" style=\"color: #94FFD8; font-size: 18px;\">\n",
    "        Libraries</a>\n",
    "    <br>\n",
    "    <a href=\"#setup\" style=\"color: #94FFD8; font-size: 18px;\">\n",
    "        Initial set-up</a>\n",
    "    <br>\n",
    "    <a href=\"#1\" style=\"color: #94FFD8; font-size: 18px;\">\n",
    "        1. Loading gdp_percentage_structure</a>\n",
    "    <br>\n",
    "    <a href=\"#2\" style=\"color: #94FFD8; font-size: 18px;\">\n",
    "        2. Generate PDF input with key tables</a>\n",
    "    <br>\n",
    "    <a href=\"#3\" style=\"color: #94FFD8; font-size: 18px;\">    \n",
    "        3. Load date, year, id and base year data</a>\n",
    "    <br>\n",
    "    <a href=\"#4\" style=\"color: #94FFD8; font-size: 18px;\">    \n",
    "        4. Load dummies for raw data delivered by Central Bank</a>\n",
    "    <br>\n",
    "    <a href=\"#5\" style=\"color: #94FFD8; font-size: 18px;\">    \n",
    "        5. Concatenate old_gdp_dataset with new_gdp_dataset</a>\n",
    "</div>\n"
   ]
  },
  {
   "cell_type": "markdown",
   "id": "1e253675",
   "metadata": {},
   "source": [
    "<div style=\"text-align: left; font-family: 'PT Serif Pro Book'; color: dark; font-size:16px\">\n",
    "    Any questions or issues regarding the coding, please <a href=\"mailto:jj.cruza@alum.up.edu.pe\" style=\"color: rgb(0, 153, 123)\">email Jason Cruz\n",
    "    </a>.\n",
    "    <div/>"
   ]
  },
  {
   "cell_type": "markdown",
   "id": "33ac4954",
   "metadata": {},
   "source": [
    "<div style=\"text-align: left; font-family: 'PT Serif Pro Book'; color: dark; font-size:16px\"\">\n",
    "    If you don't have the libraries below, please use the following code (as example) to install the required libraries.\n",
    "    <div/>"
   ]
  },
  {
   "cell_type": "code",
   "execution_count": null,
   "id": "cdd39234",
   "metadata": {},
   "outputs": [],
   "source": [
    "#!pip install os # Comment this code with \"#\" if you have already installed this library."
   ]
  },
  {
   "cell_type": "markdown",
   "id": "8605c30e",
   "metadata": {},
   "source": [
    "<div id=\"libraries\">\n",
    "   <!-- Contenido de la celda de destino -->\n",
    "</div>"
   ]
  },
  {
   "cell_type": "markdown",
   "id": "d067139c",
   "metadata": {},
   "source": [
    "<div style=\"text-align: left; font-family: 'PT Serif Pro Book'; color: dark;\">\n",
    "    <h2>\n",
    "    Libraries\n",
    "    </h2>\n",
    "    <div/>"
   ]
  },
  {
   "cell_type": "code",
   "execution_count": 1,
   "id": "7be7e507",
   "metadata": {},
   "outputs": [],
   "source": [
    "import pandas as pd\n",
    "import os\n",
    "from sqlalchemy import create_engine"
   ]
  },
  {
   "cell_type": "markdown",
   "id": "84c03d93",
   "metadata": {},
   "source": [
    "<div style=\"font-family: PT Serif Pro Book; text-align: left; color: dark; font-size: 16px;\">\n",
    "    <span style=\"font-size: 30px; color: rgb(255, 32, 78); font-weight: bold;\">\n",
    "        <a href=\"#outilne\" style=\"color: rgb(0, 153, 123); text-decoration: none;\">&#11180;</a>\n",
    "    </span> \n",
    "    <a href=\"#outilne\" style=\"color: rgb(0, 153, 123); text-decoration: none;\">Back to the outline.</a>\n",
    "</div>"
   ]
  },
  {
   "cell_type": "markdown",
   "id": "ce8edb17",
   "metadata": {},
   "source": [
    "<div id=\"setup\">\n",
    "   <!-- Contenido de la celda de destino -->\n",
    "</div>"
   ]
  },
  {
   "cell_type": "markdown",
   "id": "a3667250",
   "metadata": {},
   "source": [
    "<div style=\"text-align: left; font-family: 'PT Serif Pro Book'; color: dark;\">\n",
    "    <h2>\n",
    "    Initial set-up\n",
    "    </h2>\n",
    "    <div/>"
   ]
  },
  {
   "cell_type": "markdown",
   "id": "fda38284",
   "metadata": {},
   "source": [
    "<div style=\"font-family: PT Serif Pro Book; text-align: left; color:dark; font-size:16px\"> The following code lines will create folders in your current path, call them to import and export your outputs. <div/>"
   ]
  },
  {
   "cell_type": "code",
   "execution_count": 2,
   "id": "99497a7d",
   "metadata": {},
   "outputs": [],
   "source": [
    "# Folder path to save the csv file of GDP percentage structure\n",
    "\n",
    "gdp_perc_structure_folder = 'gdp_perc_structure'\n",
    "if not os.path.exists(gdp_perc_structure_folder):\n",
    "    os.makedirs(gdp_perc_structure_folder) # to create the folder (if it doesn't exist)"
   ]
  },
  {
   "cell_type": "code",
   "execution_count": 3,
   "id": "20994e9e",
   "metadata": {},
   "outputs": [],
   "source": [
    "# Folder path to save the csv file of NS dates\n",
    "\n",
    "ns_dates_folder = 'ns_dates'\n",
    "if not os.path.exists(ns_dates_folder):\n",
    "    os.makedirs(ns_dates_folder) # to create the folder (if it doesn't exist)"
   ]
  },
  {
   "cell_type": "code",
   "execution_count": 4,
   "id": "3058b116",
   "metadata": {},
   "outputs": [],
   "source": [
    "# Folder path to save the csv file of NS base year\n",
    "\n",
    "ns_base_year_folder = 'ns_base_year'\n",
    "if not os.path.exists(ns_base_year_folder):\n",
    "    os.makedirs(ns_base_year_folder) # to create the folder (if it doesn't exist)"
   ]
  },
  {
   "cell_type": "code",
   "execution_count": 5,
   "id": "beb4987e",
   "metadata": {},
   "outputs": [],
   "source": [
    "# Folder path to save the xlsx files delivered by Central Bank\n",
    "\n",
    "data_delivered_folder = 'old_raw_data_delivered'\n",
    "if not os.path.exists(data_delivered_folder):\n",
    "    os.makedirs(data_delivered_folder) # to create the folder (if it doesn't exist)"
   ]
  },
  {
   "cell_type": "markdown",
   "id": "97f4bd9b",
   "metadata": {},
   "source": [
    "<p style=\"font-family: PT Serif Pro Book; text-align: left; color:dark; font-size:16px\"> The following function will establish a connection to the <code>gdp_revisions_datasets</code> database in <code>PostgreSQL</code>. The <b>input data</b> used in this jupyter notebook will be loaded from this <code>PostgreSQL</code> database, and similarly, all <b>output data</b> generated by this jupyter notebook will be stored in that database. Ensure that you set the necessary parameters to access the server once you have obtained the required permissions.<p/>\n",
    "    \n",
    "<p style=\"text-align: left; font-family: 'PT Serif Pro Book'; color: dark; font-size:16px\">\n",
    "To request permissions, please email Jason Cruz <a href=\"mailto:jj.cruza@alum.up.edu.pe\" style=\"color: rgb(0, 153, 123); text-decoration: none;\"> <span style=\"font-size: 24px;\">&#x2709;</span>\n",
    "    </a>.\n",
    "<p/>"
   ]
  },
  {
   "cell_type": "markdown",
   "id": "14149b86",
   "metadata": {},
   "source": [
    "<div style=\"text-align: left; font-family: 'PT Serif Pro Book'; color: dark; font-size:16px\">\n",
    "    <span style=\"font-size: 24px; color: #FFA823; font-weight: bold;\">&#9888;</span>\n",
    "    Enter your user credentials to acces to SQL.\n",
    "    <div/>"
   ]
  },
  {
   "cell_type": "code",
   "execution_count": 6,
   "id": "fde300b7",
   "metadata": {},
   "outputs": [],
   "source": [
    "# Get environment variables\n",
    "user = os.environ.get('CIUP_SQL_USER')\n",
    "password = os.environ.get('CIUP_SQL_PASS')\n",
    "host = os.environ.get('CIUP_SQL_HOST')\n",
    "port = 5432\n",
    "database = 'gdp_revisions_datasets'\n",
    "\n",
    "# Check if all environment variables are defined\n",
    "if not all([host, user, password]):\n",
    "    raise ValueError(\"Some environment variables are missing (CIUP_SQL_HOST, CIUP_SQL_USER, CIUP_SQL_PASS)\")\n",
    "\n",
    "# Create connection string\n",
    "connection_string = f\"postgresql://{user}:{password}@{host}:{port}/{database}\"\n",
    "\n",
    "# Create SQLAlchemy engine\n",
    "engine = create_engine(connection_string)"
   ]
  },
  {
   "cell_type": "markdown",
   "id": "8d4d4dfb",
   "metadata": {},
   "source": [
    "<div style=\"text-align: left;\">\n",
    "    <span style=\"font-size: 24px; color: rgb(255, 32, 78); font-weight: bold;\">&#9888;</span>\n",
    "    <span style=\"font-family: PT Serif Pro Book; color: black; font-size: 16px;\">\n",
    "        Import all other functions required by this jupyter notebook.\n",
    "    </span>\n",
    "</div>"
   ]
  },
  {
   "cell_type": "markdown",
   "id": "5483f363",
   "metadata": {},
   "source": [
    "<div style=\"font-family: PT Serif Pro Book; text-align: left; color:dark; font-size:16px\"> Please, check the script <code>gdp_revisions_datasets_functions.py</code> which contains all the functions required by this jupyter notebook. The functions there are ordered according to the <a href=\"#outilne\" style=\"color: #3d30a2;\">sections</a> of this jupyter notebok.<div/>"
   ]
  },
  {
   "cell_type": "code",
   "execution_count": 7,
   "id": "766a4304",
   "metadata": {},
   "outputs": [],
   "source": [
    "from gdp_revisions_datasets_functions import *"
   ]
  },
  {
   "cell_type": "markdown",
   "id": "53531869",
   "metadata": {},
   "source": [
    "<div style=\"font-family: PT Serif Pro Book; text-align: left; color: dark; font-size: 16px;\">\n",
    "    <span style=\"font-size: 30px; color: rgb(255, 32, 78); font-weight: bold;\">\n",
    "        <a href=\"#outilne\" style=\"color: rgb(0, 153, 123); text-decoration: none;\">&#11180;</a>\n",
    "    </span> \n",
    "    <a href=\"#outilne\" style=\"color: rgb(0, 153, 123); text-decoration: none;\">Back to the outline.</a>\n",
    "</div>"
   ]
  },
  {
   "cell_type": "markdown",
   "id": "e0a0baeb",
   "metadata": {},
   "source": [
    "<div id=\"1\">\n",
    "   <!-- Contenido de la celda de destino -->\n",
    "</div>"
   ]
  },
  {
   "cell_type": "markdown",
   "id": "e86b549d",
   "metadata": {},
   "source": [
    "<div style=\"background-color: #00414C; color: white; padding: 10px;\">\n",
    "<h1><span style = \"color: #15F5BA; font-family: 'PT Serif Pro Book'; color: dark;\">1.</span> <span style = \"color: dark; font-family: PT Serif Pro Book;\">Loading gdp_percentage_structure</span></h1>\n",
    "    </div>"
   ]
  },
  {
   "cell_type": "code",
   "execution_count": null,
   "id": "7e2ed8e9",
   "metadata": {},
   "outputs": [],
   "source": [
    "# Loading csv data\n",
    "gdp_percentage_structure = f'{gdp_perc_structure_folder}/gdp_percentage_structure.csv'\n",
    "\n",
    "# Reads the CSV file in a DataFrame, specifying that the delimiter is the comma\n",
    "gdp_percentage_structure = pd.read_csv(gdp_percentage_structure, delimiter=';')\n",
    "gdp_percentage_structure.head(5)"
   ]
  },
  {
   "cell_type": "markdown",
   "id": "57c5e1d9",
   "metadata": {},
   "source": [
    "<div style=\"font-family: PT Serif Pro Book; text-align: left; color:dark; font-size:16px\"> Loading to SQL.<div/>"
   ]
  },
  {
   "cell_type": "code",
   "execution_count": null,
   "id": "c8af066c",
   "metadata": {},
   "outputs": [],
   "source": [
    "gdp_percentage_structure.to_sql('gdp_percentage_structure', engine, index=False, if_exists='replace')"
   ]
  },
  {
   "cell_type": "markdown",
   "id": "97d116d0",
   "metadata": {},
   "source": [
    "<div style=\"font-family: PT Serif Pro Book; text-align: left; color: dark; font-size: 16px;\">\n",
    "    <span style=\"font-size: 30px; color: rgb(255, 32, 78); font-weight: bold;\">\n",
    "        <a href=\"#outilne\" style=\"color: rgb(0, 153, 123); text-decoration: none;\">&#11180;</a>\n",
    "    </span> \n",
    "    <a href=\"#outilne\" style=\"color: rgb(0, 153, 123); text-decoration: none;\">Back to the outline.</a>\n",
    "</div>"
   ]
  },
  {
   "cell_type": "markdown",
   "id": "fe87c79f",
   "metadata": {},
   "source": [
    "<div id=\"2\">\n",
    "   <!-- Contenido de la celda de destino -->\n",
    "</div>"
   ]
  },
  {
   "cell_type": "markdown",
   "id": "243b2dd1",
   "metadata": {},
   "source": [
    "<div style=\"background-color: #00414C; color: white; padding: 10px;\">\n",
    "<h1><span style = \"color: #15F5BA; font-family: 'PT Serif Pro Book'; color: dark;\">2.</span> <span style = \"color: dark; font-family: PT Serif Pro Book;\">Load date, year and id data</span></h1>\n",
    "    </div>"
   ]
  },
  {
   "cell_type": "code",
   "execution_count": null,
   "id": "2a571a7d",
   "metadata": {},
   "outputs": [],
   "source": [
    "# Loading csv data\n",
    "csv_file = f'{ns_dates_folder}/dates.csv'\n",
    "\n",
    "# Reads the CSV file in a DataFrame, specifying that the delimiter is the comma\n",
    "dates = pd.read_csv(csv_file, delimiter=';')\n",
    "dates.head(5)"
   ]
  },
  {
   "cell_type": "markdown",
   "id": "8e4d9201",
   "metadata": {},
   "source": [
    "<div style=\"font-family: PT Serif Pro Book; text-align: left; color:dark; font-size:16px\"> Clean-up the dataframe columns.<div/>"
   ]
  },
  {
   "cell_type": "code",
   "execution_count": null,
   "id": "279b5da7",
   "metadata": {},
   "outputs": [],
   "source": [
    "# Convert the 'date' column to datetime type without time\n",
    "dates['date'] = pd.to_datetime(dates['date'], format='%d/%m/%Y', errors='coerce')\n",
    "\n",
    "# Check the data type of the 'date' column after conversion\n",
    "print(dates['date'].dtype)\n",
    "\n",
    "# Check if there are NaT values in the 'date' column\n",
    "print(dates['date'].isnull().sum())"
   ]
  },
  {
   "cell_type": "markdown",
   "id": "f169ba2e",
   "metadata": {},
   "source": [
    "<div style=\"font-family: PT Serif Pro Book; text-align: left; color:dark; font-size:16px\"> Loading to SQL.<div/>"
   ]
  },
  {
   "cell_type": "code",
   "execution_count": null,
   "id": "1ef26297",
   "metadata": {},
   "outputs": [],
   "source": [
    "dates.to_sql('dates_growth_rates', engine, index=False, if_exists='replace')"
   ]
  },
  {
   "cell_type": "markdown",
   "id": "213f1343",
   "metadata": {},
   "source": [
    "<div style=\"font-family: PT Serif Pro Book; text-align: left; color: dark; font-size: 16px;\">\n",
    "    <span style=\"font-size: 30px; color: rgb(255, 32, 78); font-weight: bold;\">\n",
    "        <a href=\"#outilne\" style=\"color: rgb(0, 153, 123); text-decoration: none;\">&#11180;</a>\n",
    "    </span> \n",
    "    <a href=\"#outilne\" style=\"color: rgb(0, 153, 123); text-decoration: none;\">Back to the outline.</a>\n",
    "</div>"
   ]
  },
  {
   "cell_type": "markdown",
   "id": "51ef0cfa",
   "metadata": {},
   "source": [
    "<div id=\"3\">\n",
    "   <!-- Contenido de la celda de destino -->\n",
    "</div>"
   ]
  },
  {
   "cell_type": "markdown",
   "id": "1e7fda80",
   "metadata": {},
   "source": [
    "<div style=\"background-color: #00414C; color: white; padding: 10px;\">\n",
    "<h1><span style = \"color: #15F5BA; font-family: 'PT Serif Pro Book'; color: dark;\">3.</span> <span style = \"color: dark; font-family: PT Serif Pro Book;\">Load date, year, id and base year data</span></h1>\n",
    "    </div>"
   ]
  },
  {
   "cell_type": "code",
   "execution_count": null,
   "id": "0d6c828f",
   "metadata": {},
   "outputs": [],
   "source": [
    "# Loading csv data\n",
    "csv_file = f'{ns_base_year_folder}/base_year.csv'\n",
    "\n",
    "# Reads the CSV file in a DataFrame, specifying that the delimiter is the comma\n",
    "base_year = pd.read_csv(csv_file, delimiter=';')\n",
    "base_year.head(5)"
   ]
  },
  {
   "cell_type": "markdown",
   "id": "d6c58a77",
   "metadata": {},
   "source": [
    "<div style=\"font-family: PT Serif Pro Book; text-align: left; color:dark; font-size:16px\"> Clean-up the dataframe columns.<div/>"
   ]
  },
  {
   "cell_type": "code",
   "execution_count": null,
   "id": "8024e9c8",
   "metadata": {},
   "outputs": [],
   "source": [
    "# Convert the 'date' column to datetime type without time\n",
    "base_year['date'] = pd.to_datetime(base_year['date'], format='%d/%m/%Y', errors='coerce')\n",
    "\n",
    "# Check the data type of the 'date' column after conversion\n",
    "print(base_year['date'].dtype)\n",
    "\n",
    "# Check if there are NaT values in the 'date' column\n",
    "print(base_year['date'].isnull().sum())"
   ]
  },
  {
   "cell_type": "code",
   "execution_count": null,
   "id": "eb6a202d",
   "metadata": {},
   "outputs": [],
   "source": [
    "# Change to str\n",
    "base_year['year'] = base_year['year'].astype(str)\n",
    "base_year['id_ns'] = base_year['id_ns'].apply(lambda x: f'{x:02}')\n",
    "base_year['base_year'] = base_year['base_year'].astype(str)\n",
    "base_year.head(10)"
   ]
  },
  {
   "cell_type": "markdown",
   "id": "ed2998ab",
   "metadata": {},
   "source": [
    "<div style=\"font-family: PT Serif Pro Book; text-align: left; color:dark; font-size:16px\"> Loading to SQL.<div/>"
   ]
  },
  {
   "cell_type": "code",
   "execution_count": null,
   "id": "7411ec7d",
   "metadata": {},
   "outputs": [],
   "source": [
    "base_year.to_sql('ns_base_year', engine, index=False, if_exists='replace')"
   ]
  },
  {
   "cell_type": "markdown",
   "id": "b49fce8b",
   "metadata": {},
   "source": [
    "<div style=\"font-family: PT Serif Pro Book; text-align: left; color: dark; font-size: 16px;\">\n",
    "    <span style=\"font-size: 30px; color: rgb(255, 32, 78); font-weight: bold;\">\n",
    "        <a href=\"#outilne\" style=\"color: rgb(0, 153, 123); text-decoration: none;\">&#11180;</a>\n",
    "    </span> \n",
    "    <a href=\"#outilne\" style=\"color: rgb(0, 153, 123); text-decoration: none;\">Back to the outline.</a>\n",
    "</div>"
   ]
  },
  {
   "cell_type": "markdown",
   "id": "65f9b15a",
   "metadata": {},
   "source": [
    "<div id=\"4\">\n",
    "   <!-- Contenido de la celda de destino -->\n",
    "</div>"
   ]
  },
  {
   "cell_type": "markdown",
   "id": "2ddc2397",
   "metadata": {},
   "source": [
    "<div style=\"background-color: #00414C; color: white; padding: 10px;\">\n",
    "<h1><span style = \"color: #15F5BA; font-family: 'PT Serif Pro Book'; color: dark;\">4.</span> <span style = \"color: dark; font-family: PT Serif Pro Book;\">Load dummies for raw data delivered by Central Bank</span></h1>\n",
    "    </div>"
   ]
  },
  {
   "cell_type": "code",
   "execution_count": null,
   "id": "a1b7e7d7",
   "metadata": {},
   "outputs": [],
   "source": [
    "# Loading csv data\n",
    "delivered_data_dummies = f'{data_delivered_folder}/old_raw_data_delivered.csv'\n",
    "\n",
    "# Reads the CSV file in a DataFrame, specifying that the delimiter is the comma\n",
    "delivered_data_dummies = pd.read_csv(delivered_data_dummies, delimiter=';')\n",
    "delivered_data_dummies.head(5)"
   ]
  },
  {
   "cell_type": "code",
   "execution_count": null,
   "id": "2b9a42ec",
   "metadata": {},
   "outputs": [],
   "source": [
    "delivered_data_dummies.to_sql('old_raw_data_delivered', engine, index=False, if_exists='replace')"
   ]
  },
  {
   "cell_type": "markdown",
   "id": "08077029",
   "metadata": {},
   "source": [
    "<div style=\"font-family: PT Serif Pro Book; text-align: left; color: dark; font-size: 16px;\">\n",
    "    <span style=\"font-size: 30px; color: rgb(255, 32, 78); font-weight: bold;\">\n",
    "        <a href=\"#outilne\" style=\"color: rgb(0, 153, 123); text-decoration: none;\">&#11180;</a>\n",
    "    </span> \n",
    "    <a href=\"#outilne\" style=\"color: rgb(0, 153, 123); text-decoration: none;\">Back to the outline.</a>\n",
    "</div>"
   ]
  },
  {
   "cell_type": "markdown",
   "id": "c9cb2397",
   "metadata": {},
   "source": [
    "<div id=\"5\">\n",
    "   <!-- Contenido de la celda de destino -->\n",
    "</div>"
   ]
  },
  {
   "cell_type": "markdown",
   "id": "6b344b99",
   "metadata": {},
   "source": [
    "<div style=\"background-color: #00414C; color: white; padding: 10px;\">\n",
    "<h1><span style = \"color: #15F5BA; font-family: 'PT Serif Pro Book'; color: dark;\">5.</span> <span style = \"color: dark; font-family: PT Serif Pro Book;\">Concatenate old_gdp_dataset with new_gdp_dataset</span></h1>\n",
    "    </div>"
   ]
  },
  {
   "cell_type": "markdown",
   "id": "4f1eb284",
   "metadata": {},
   "source": [
    "<div id=\"steps-5\">\n",
    "   <!-- Contenido de la celda de destino -->\n",
    "</div>"
   ]
  },
  {
   "cell_type": "markdown",
   "id": "0bf6f8a2",
   "metadata": {},
   "source": [
    "<div style=\"font-family: PT Serif Pro Book; text-align: left; color: dark; font-size: 16px;\">\n",
    "    <a href=\"#step-5-1\" style=\"text-decoration: none; color: #006769\"> <span style=\"font-size: 24px; color: rgb(0, 65, 75);\">&#10122;</span> Select economic sector</a>\n",
    "    <br>\n",
    "    <a href=\"#step-5-2\" style=\"text-decoration: none; color: #006769\"><span style=\"font-size: 24px; color: rgb(0, 65, 75)\">&#10123;</span> Select frequency</a>\n",
    "    <br>\n",
    "    <a href=\"#step-5-3\" style=\"text-decoration: none; color: #006769\"><span style=\"font-size: 24px; color: rgb(0, 65, 75)\">&#10124;</span> Import dataframes from PostgresSQL</a>\n",
    "    <br>\n",
    "    <a href=\"#step-5-4\" style=\"text-decoration: none; color: #006769\"><span style=\"font-size: 24px; color: rgb(0, 65, 75)\">&#10125;</span> Concatenate dataframes</a>\n",
    "    <br>\n",
    "    <a href=\"#step-5-5\" style=\"text-decoration: none; color: #006769\"><span style=\"font-size: 24px; color: rgb(0, 65, 75)\">&#10126;</span> Load to PostgresSQL</a>\n",
    "</div>"
   ]
  },
  {
   "cell_type": "markdown",
   "id": "ece1db3d",
   "metadata": {},
   "source": [
    "<div id=\"step-5-1\">\n",
    "   <!-- Contenido de la celda de destino -->\n",
    "</div>"
   ]
  },
  {
   "cell_type": "markdown",
   "id": "aa225ba0",
   "metadata": {},
   "source": [
    "<div style=\"text-align: left; font-family: 'PT Serif Pro Book'; font-size:22px\">\n",
    "    <span style=\"font-size: 24px; color: rgb(0, 65, 75)\">&#10122;</span> <span>Select economic sector</span>\n",
    "  </div>"
   ]
  },
  {
   "cell_type": "code",
   "execution_count": 80,
   "id": "0c23b820",
   "metadata": {},
   "outputs": [
    {
     "name": "stdout",
     "output_type": "stream",
     "text": [
      "Selected economic sector: services\n"
     ]
    }
   ],
   "source": [
    "# Call the function to show the popup window\n",
    "sector = show_option_window()\n",
    "print(\"Selected economic sector:\", sector)"
   ]
  },
  {
   "cell_type": "markdown",
   "id": "6e04f284",
   "metadata": {},
   "source": [
    "<div id=\"step-5-2\">\n",
    "   <!-- Contenido de la celda de destino -->\n",
    "</div>"
   ]
  },
  {
   "cell_type": "markdown",
   "id": "01687af1",
   "metadata": {},
   "source": [
    "<div style=\"text-align: left; font-family: 'PT Serif Pro Book'; font-size:22px\">\n",
    "    <span style=\"font-size: 24px; color: rgb(0, 65, 75)\">&#10123;</span> <span>Select frequency</span>\n",
    "  </div>"
   ]
  },
  {
   "cell_type": "code",
   "execution_count": 64,
   "id": "64c1a185",
   "metadata": {
    "scrolled": false
   },
   "outputs": [
    {
     "name": "stdout",
     "output_type": "stream",
     "text": [
      "Selected frequency: annual\n"
     ]
    }
   ],
   "source": [
    "# Call the function to show the popup window\n",
    "frequency = show_frequency_window()\n",
    "print(\"Selected frequency:\", frequency)"
   ]
  },
  {
   "cell_type": "markdown",
   "id": "6c7bb3ba",
   "metadata": {},
   "source": [
    "<div style=\"font-family: PT Serif Pro Book; text-align: left; color: dark; font-size: 16px;\">\n",
    "    <span style=\"font-size: 20px; color: #2C4E80; font-weight: bold;\">\n",
    "        <a href=\"#step-5-3\" style=\"color: #2C4E80; text-decoration: none;\">⮟</a>\n",
    "    </span> \n",
    "    <a href=\"#step-5-3\" style=\"color: #2C4E80; text-decoration: none;\">Continue with Step <span style=\"font-size: 24px; color: rgb(0, 65, 75)\">&#10124;</span> in <b>Section 5</b>.</a>\n",
    "</div>"
   ]
  },
  {
   "cell_type": "markdown",
   "id": "f3f62665",
   "metadata": {},
   "source": [
    "<div style=\"font-family: PT Serif Pro Book; text-align: left; color: dark; font-size: 16px;\">\n",
    "    <span style=\"font-size: 20px; color: rgb(255, 32, 78); font-weight: bold;\">\n",
    "        <a href=\"#6\" style=\"color: #836FFF; text-decoration: none;\">⮟</a>\n",
    "    </span> \n",
    "    <a href=\"#6\" style=\"color: #836FFF; text-decoration: none;\">Go to <b>Section 6</b>.</a>\n",
    "</div>"
   ]
  },
  {
   "cell_type": "markdown",
   "id": "7c6eb771",
   "metadata": {},
   "source": [
    "<div id=\"step-5-3\">\n",
    "   <!-- Contenido de la celda de destino -->\n",
    "</div>"
   ]
  },
  {
   "cell_type": "markdown",
   "id": "28f41c1c",
   "metadata": {},
   "source": [
    "<div style=\"text-align: left; font-family: 'PT Serif Pro Book'; font-size:22px\">\n",
    "    <span style=\"font-size: 24px; color: rgb(0, 65, 75)\">&#10124;</span> <span>Import dataframes from PostgresSQL</span>\n",
    "  </div>"
   ]
  },
  {
   "cell_type": "code",
   "execution_count": null,
   "id": "9b282d94",
   "metadata": {},
   "outputs": [],
   "source": [
    "# Crear un DataFrame de pandas desde la tabla\n",
    "query_1 = f\"SELECT * FROM old_{sector}_{frequency}_growth_rates;\"\n",
    "df_1 = pd.read_sql(query_1, engine)"
   ]
  },
  {
   "cell_type": "code",
   "execution_count": null,
   "id": "1e86376e",
   "metadata": {},
   "outputs": [],
   "source": [
    "# Crear un DataFrame de pandas desde la tabla\n",
    "query_2 = f\"SELECT * FROM new_{sector}_{frequency}_growth_rates;\"\n",
    "df_2 = pd.read_sql(query_2, engine)"
   ]
  },
  {
   "cell_type": "markdown",
   "id": "69beb186",
   "metadata": {},
   "source": [
    "<div id=\"step-5-4\">\n",
    "   <!-- Contenido de la celda de destino -->\n",
    "</div>"
   ]
  },
  {
   "cell_type": "markdown",
   "id": "85fbac5e",
   "metadata": {},
   "source": [
    "<div style=\"text-align: left; font-family: 'PT Serif Pro Book'; font-size:22px\">\n",
    "    <span style=\"font-size: 24px; color: rgb(0, 65, 75)\">&#10125;</span> <span>Concatenate dataframes</span>\n",
    "  </div>"
   ]
  },
  {
   "cell_type": "markdown",
   "id": "a3b5594b",
   "metadata": {},
   "source": [
    "<div style=\"text-align: left; font-family: 'PT Serif Pro Book'; color: dark; font-size:16px\">\n",
    "    Comment the code below if you want the default option (display rows and columns of the dataframe in a limited way)\n",
    "    <div/>"
   ]
  },
  {
   "cell_type": "code",
   "execution_count": null,
   "id": "8a99d74b",
   "metadata": {},
   "outputs": [],
   "source": [
    "#pd.set_option('display.max_rows', None)\n",
    "#pd.set_option('display.max_columns', None)"
   ]
  },
  {
   "cell_type": "markdown",
   "id": "19151202",
   "metadata": {},
   "source": [
    "<div style=\"text-align: left; font-family: 'PT Serif Pro Book'; color: dark; font-size:16px\">\n",
    "    Run the function to create concatenated dataframe\n",
    "    <div/>"
   ]
  },
  {
   "cell_type": "code",
   "execution_count": null,
   "id": "5989ee58",
   "metadata": {
    "scrolled": true
   },
   "outputs": [],
   "source": [
    "def concatenate_dataframes(df1, df2):\n",
    "    # Concatenate the dataframes\n",
    "    concatenated_df = pd.concat([df1, df2], ignore_index=True)\n",
    "    \n",
    "    return concatenated_df\n",
    "\n",
    "# Call the function\n",
    "globals()[f'{sector}_{frequency}_growth_rates'] = concatenate_dataframes(df_1, df_2)\n",
    "df = globals()[f'{sector}_{frequency}_growth_rates']\n",
    "\n",
    "# Display the resulting dataframe\n",
    "df.head(10)"
   ]
  },
  {
   "cell_type": "markdown",
   "id": "b2bc7671",
   "metadata": {},
   "source": [
    "<div id=\"step-5-5\">\n",
    "   <!-- Contenido de la celda de destino -->\n",
    "</div>"
   ]
  },
  {
   "cell_type": "markdown",
   "id": "9e2a708d",
   "metadata": {},
   "source": [
    "<div style=\"text-align: left; font-family: 'PT Serif Pro Book'; font-size:22px\">\n",
    "    <span style=\"font-size: 24px; color: rgb(0, 65, 75)\">&#10126;</span> <span>Load to PostgresSQL</span>\n",
    "  </div>"
   ]
  },
  {
   "cell_type": "code",
   "execution_count": null,
   "id": "d3bcc846",
   "metadata": {},
   "outputs": [],
   "source": [
    "df.to_sql(f'{sector}_{frequency}_growth_rates', engine, index=False, if_exists='replace')"
   ]
  },
  {
   "cell_type": "markdown",
   "id": "1f031ed6",
   "metadata": {},
   "source": [
    "<div style=\"font-family: PT Serif Pro Book; text-align: left; color: dark; font-size: 16px;\">\n",
    "    <span style=\"font-size: 20px; color: rgb(255, 32, 78); font-weight: bold;\">\n",
    "        <a href=\"#steps-5\" style=\"color: #006769; text-decoration: none;\">⮝</a>\n",
    "    </span> \n",
    "    <a href=\"#steps-5\" style=\"color: #006769; text-decoration: none;\">Back to steps.</a>\n",
    "</div>"
   ]
  },
  {
   "cell_type": "markdown",
   "id": "9b757dfc",
   "metadata": {},
   "source": [
    "<div style=\"font-family: PT Serif Pro Book; text-align: left; color: dark; font-size: 16px;\">\n",
    "    <span style=\"font-size: 20px; color: rgb(255, 32, 78); font-weight: bold;\">\n",
    "        <a href=\"#step-5-1\" style=\"color: rgb(255, 32, 78); text-decoration: none;\">⮝</a>\n",
    "    </span> \n",
    "    <a href=\"#step-5-1\" style=\"color: rgb(255, 32, 78); text-decoration: none;\">Back to <b>select economic sector</b>.</a>\n",
    "</div>"
   ]
  },
  {
   "cell_type": "code",
   "execution_count": null,
   "id": "a67cc072",
   "metadata": {},
   "outputs": [],
   "source": [
    "df.columns"
   ]
  },
  {
   "cell_type": "code",
   "execution_count": null,
   "id": "98b31d9a",
   "metadata": {},
   "outputs": [],
   "source": [
    "print(df['date'].dtype)"
   ]
  },
  {
   "cell_type": "markdown",
   "id": "6cf09a65",
   "metadata": {},
   "source": [
    "<div id=\"6\">\n",
    "   <!-- Contenido de la celda de destino -->\n",
    "</div>"
   ]
  },
  {
   "cell_type": "markdown",
   "id": "03b2d4ad",
   "metadata": {},
   "source": [
    "<div style=\"font-family: PT Serif Pro Book; text-align: left; color: dark; font-size: 16px;\">\n",
    "    <span style=\"font-size: 30px; color: rgb(255, 32, 78); font-weight: bold;\">\n",
    "        <a href=\"#outilne\" style=\"color: rgb(0, 153, 123); text-decoration: none;\">&#11180;</a>\n",
    "    </span> \n",
    "    <a href=\"#outilne\" style=\"color: rgb(0, 153, 123); text-decoration: none;\">Back to the outline.</a>\n",
    "</div>"
   ]
  },
  {
   "cell_type": "markdown",
   "id": "27f2f75d",
   "metadata": {},
   "source": [
    "<div style=\"background-color: #00414C; color: white; padding: 10px;\">\n",
    "<h1><span style = \"color: #15F5BA; font-family: 'PT Serif Pro Book'; color: dark;\">6.</span> <span style = \"color: dark; font-family: PT Serif Pro Book;\">Merge all the releases datasets</span></h1>\n",
    "    </div>"
   ]
  },
  {
   "cell_type": "markdown",
   "id": "2c403696",
   "metadata": {},
   "source": [
    "<div id=\"steps-6\">\n",
    "   <!-- Contenido de la celda de destino -->\n",
    "</div>"
   ]
  },
  {
   "cell_type": "markdown",
   "id": "ff118642",
   "metadata": {},
   "source": [
    "<div style=\"font-family: PT Serif Pro Book; text-align: left; color: dark; font-size: 16px;\">\n",
    "    <a href=\"#step-6-3\" style=\"text-decoration: none; color: #006769\"><span style=\"font-size: 24px; color: rgb(0, 65, 75)\">&#10124;</span> Import dataframes from PostgresSQL</a>\n",
    "    <br>\n",
    "    <a href=\"#step-6-4\" style=\"text-decoration: none; color: #006769\"><span style=\"font-size: 24px; color: rgb(0, 65, 75)\">&#10125;</span> Merge dataframes</a>\n",
    "    <br>\n",
    "    <a href=\"#step-6-5\" style=\"text-decoration: none; color: #006769\"><span style=\"font-size: 24px; color: rgb(0, 65, 75)\">&#10126;</span> Load to PostgresSQL</a>\n",
    "</div>"
   ]
  },
  {
   "cell_type": "markdown",
   "id": "839b01ba",
   "metadata": {},
   "source": [
    "<div id=\"step-6-3\">\n",
    "   <!-- Contenido de la celda de destino -->\n",
    "</div>"
   ]
  },
  {
   "cell_type": "markdown",
   "id": "f0e96f0f",
   "metadata": {},
   "source": [
    "<div style=\"text-align: left; font-family: 'PT Serif Pro Book'; font-size:22px\">\n",
    "    <span style=\"font-size: 24px; color: rgb(0, 65, 75)\">&#10124;</span> <span>Import dataframes from PostgresSQL</span>\n",
    "  </div>"
   ]
  },
  {
   "cell_type": "markdown",
   "id": "d19cb9d0",
   "metadata": {},
   "source": [
    "<div style=\"font-family: PT Serif Pro Book; text-align: left; color: dark; font-size: 16px;\">\n",
    "    <span style=\"font-size: 20px; color: rgb(255, 32, 78); font-weight: bold;\">\n",
    "        <a href=\"#step-5-1\" style=\"color: rgb(255, 32, 78); text-decoration: none;\">⮝</a>\n",
    "    </span> \n",
    "    <a href=\"#step-5-1\" style=\"color: rgb(255, 32, 78); text-decoration: none;\">Back to <b>select economic sector</b>.</a>\n",
    "</div>"
   ]
  },
  {
   "cell_type": "code",
   "execution_count": 65,
   "id": "cff714c6",
   "metadata": {},
   "outputs": [
    {
     "data": {
      "text/plain": [
       "Index(['vintages_date', 'gdp_release_1', 'gdp_release_2', 'gdp_release_3',\n",
       "       'gdp_release_4', 'gdp_release_5', 'gdp_release_6', 'gdp_release_7',\n",
       "       'gdp_release_8', 'gdp_release_9', 'gdp_release_10', 'gdp_release_11',\n",
       "       'gdp_release_12', 'gdp_release_13', 'gdp_release_14', 'gdp_release_15',\n",
       "       'gdp_release_16', 'gdp_release_17', 'gdp_release_18', 'gdp_release_19',\n",
       "       'gdp_release_20', 'gdp_release_21', 'gdp_release_22', 'gdp_release_23',\n",
       "       'gdp_release_24', 'gdp_release_25', 'gdp_release_26', 'gdp_release_27',\n",
       "       'gdp_release_28', 'gdp_release_29', 'gdp_release_30', 'gdp_release_31',\n",
       "       'gdp_release_32', 'gdp_release_33', 'gdp_release_34', 'gdp_release_35',\n",
       "       'gdp_release_36', 'gdp_release_37', 'gdp_release_38', 'gdp_release_39',\n",
       "       'gdp_most_recent'],\n",
       "      dtype='object')"
      ]
     },
     "execution_count": 65,
     "metadata": {},
     "output_type": "execute_result"
    }
   ],
   "source": [
    "# Create a pandas DataFrame from the SQL table\n",
    "query_1 = f\"SELECT * FROM {sector}_{frequency}_releases;\"\n",
    "df_1 = pd.read_sql(query_1, engine)\n",
    "df_1.columns"
   ]
  },
  {
   "cell_type": "markdown",
   "id": "22dc2755",
   "metadata": {},
   "source": [
    "<div style=\"font-family: PT Serif Pro Book; text-align: left; color: dark; font-size: 16px;\">\n",
    "    <span style=\"font-size: 20px; color: rgb(255, 32, 78); font-weight: bold;\">\n",
    "        <a href=\"#step-5-1\" style=\"color: rgb(255, 32, 78); text-decoration: none;\">⮝</a>\n",
    "    </span> \n",
    "    <a href=\"#step-5-1\" style=\"color: rgb(255, 32, 78); text-decoration: none;\">Back to <b>select economic sector</b>.</a>\n",
    "</div>"
   ]
  },
  {
   "cell_type": "code",
   "execution_count": 67,
   "id": "144938e2",
   "metadata": {},
   "outputs": [
    {
     "data": {
      "text/plain": [
       "Index(['vintages_date', 'agriculture_release_1', 'agriculture_release_2',\n",
       "       'agriculture_release_3', 'agriculture_release_4',\n",
       "       'agriculture_release_5', 'agriculture_release_6',\n",
       "       'agriculture_release_7', 'agriculture_release_8',\n",
       "       'agriculture_release_9', 'agriculture_release_10',\n",
       "       'agriculture_release_11', 'agriculture_release_12',\n",
       "       'agriculture_release_13', 'agriculture_release_14',\n",
       "       'agriculture_release_15', 'agriculture_release_16',\n",
       "       'agriculture_release_17', 'agriculture_release_18',\n",
       "       'agriculture_release_19', 'agriculture_release_20',\n",
       "       'agriculture_release_21', 'agriculture_release_22',\n",
       "       'agriculture_release_23', 'agriculture_release_24',\n",
       "       'agriculture_release_25', 'agriculture_release_26',\n",
       "       'agriculture_release_27', 'agriculture_release_28',\n",
       "       'agriculture_release_29', 'agriculture_release_30',\n",
       "       'agriculture_release_31', 'agriculture_release_32',\n",
       "       'agriculture_release_33', 'agriculture_release_34',\n",
       "       'agriculture_release_35', 'agriculture_release_36',\n",
       "       'agriculture_release_37', 'agriculture_release_38',\n",
       "       'agriculture_release_39', 'agriculture_most_recent'],\n",
       "      dtype='object')"
      ]
     },
     "execution_count": 67,
     "metadata": {},
     "output_type": "execute_result"
    }
   ],
   "source": [
    "# Create a pandas DataFrame from the SQL table\n",
    "query_2 = f\"SELECT * FROM {sector}_{frequency}_releases;\"\n",
    "df_2 = pd.read_sql(query_2, engine)\n",
    "df_2.columns"
   ]
  },
  {
   "cell_type": "markdown",
   "id": "f348bd30",
   "metadata": {},
   "source": [
    "<div style=\"font-family: PT Serif Pro Book; text-align: left; color: dark; font-size: 16px;\">\n",
    "    <span style=\"font-size: 20px; color: rgb(255, 32, 78); font-weight: bold;\">\n",
    "        <a href=\"#step-5-1\" style=\"color: rgb(255, 32, 78); text-decoration: none;\">⮝</a>\n",
    "    </span> \n",
    "    <a href=\"#step-5-1\" style=\"color: rgb(255, 32, 78); text-decoration: none;\">Back to <b>select economic sector</b>.</a>\n",
    "</div>"
   ]
  },
  {
   "cell_type": "code",
   "execution_count": 69,
   "id": "697e6f44",
   "metadata": {},
   "outputs": [
    {
     "data": {
      "text/plain": [
       "Index(['vintages_date', 'fishing_release_1', 'fishing_release_2',\n",
       "       'fishing_release_3', 'fishing_release_4', 'fishing_release_5',\n",
       "       'fishing_release_6', 'fishing_release_7', 'fishing_release_8',\n",
       "       'fishing_release_9', 'fishing_release_10', 'fishing_release_11',\n",
       "       'fishing_release_12', 'fishing_release_13', 'fishing_release_14',\n",
       "       'fishing_release_15', 'fishing_release_16', 'fishing_release_17',\n",
       "       'fishing_release_18', 'fishing_release_19', 'fishing_release_20',\n",
       "       'fishing_release_21', 'fishing_release_22', 'fishing_release_23',\n",
       "       'fishing_release_24', 'fishing_release_25', 'fishing_release_26',\n",
       "       'fishing_release_27', 'fishing_release_28', 'fishing_release_29',\n",
       "       'fishing_release_30', 'fishing_release_31', 'fishing_release_32',\n",
       "       'fishing_release_33', 'fishing_release_34', 'fishing_release_35',\n",
       "       'fishing_release_36', 'fishing_release_37', 'fishing_release_38',\n",
       "       'fishing_release_39', 'fishing_most_recent'],\n",
       "      dtype='object')"
      ]
     },
     "execution_count": 69,
     "metadata": {},
     "output_type": "execute_result"
    }
   ],
   "source": [
    "# Create a pandas DataFrame from the SQL table\n",
    "query_3 = f\"SELECT * FROM {sector}_{frequency}_releases;\"\n",
    "df_3 = pd.read_sql(query_3, engine)\n",
    "df_3.columns"
   ]
  },
  {
   "cell_type": "markdown",
   "id": "a48322f2",
   "metadata": {},
   "source": [
    "<div style=\"font-family: PT Serif Pro Book; text-align: left; color: dark; font-size: 16px;\">\n",
    "    <span style=\"font-size: 20px; color: rgb(255, 32, 78); font-weight: bold;\">\n",
    "        <a href=\"#step-5-1\" style=\"color: rgb(255, 32, 78); text-decoration: none;\">⮝</a>\n",
    "    </span> \n",
    "    <a href=\"#step-5-1\" style=\"color: rgb(255, 32, 78); text-decoration: none;\">Back to <b>select economic sector</b>.</a>\n",
    "</div>"
   ]
  },
  {
   "cell_type": "code",
   "execution_count": 71,
   "id": "4888feaa",
   "metadata": {},
   "outputs": [
    {
     "data": {
      "text/plain": [
       "Index(['vintages_date', 'mining_release_1', 'mining_release_2',\n",
       "       'mining_release_3', 'mining_release_4', 'mining_release_5',\n",
       "       'mining_release_6', 'mining_release_7', 'mining_release_8',\n",
       "       'mining_release_9', 'mining_release_10', 'mining_release_11',\n",
       "       'mining_release_12', 'mining_release_13', 'mining_release_14',\n",
       "       'mining_release_15', 'mining_release_16', 'mining_release_17',\n",
       "       'mining_release_18', 'mining_release_19', 'mining_release_20',\n",
       "       'mining_release_21', 'mining_release_22', 'mining_release_23',\n",
       "       'mining_release_24', 'mining_release_25', 'mining_release_26',\n",
       "       'mining_release_27', 'mining_release_28', 'mining_release_29',\n",
       "       'mining_release_30', 'mining_release_31', 'mining_release_32',\n",
       "       'mining_release_33', 'mining_release_34', 'mining_release_35',\n",
       "       'mining_release_36', 'mining_release_37', 'mining_release_38',\n",
       "       'mining_release_39', 'mining_most_recent'],\n",
       "      dtype='object')"
      ]
     },
     "execution_count": 71,
     "metadata": {},
     "output_type": "execute_result"
    }
   ],
   "source": [
    "# Create a pandas DataFrame from the SQL table\n",
    "query_4 = f\"SELECT * FROM {sector}_{frequency}_releases;\"\n",
    "df_4 = pd.read_sql(query_4, engine)\n",
    "df_4.columns"
   ]
  },
  {
   "cell_type": "markdown",
   "id": "2b80328c",
   "metadata": {},
   "source": [
    "<div style=\"font-family: PT Serif Pro Book; text-align: left; color: dark; font-size: 16px;\">\n",
    "    <span style=\"font-size: 20px; color: rgb(255, 32, 78); font-weight: bold;\">\n",
    "        <a href=\"#step-5-1\" style=\"color: rgb(255, 32, 78); text-decoration: none;\">⮝</a>\n",
    "    </span> \n",
    "    <a href=\"#step-5-1\" style=\"color: rgb(255, 32, 78); text-decoration: none;\">Back to <b>select economic sector</b>.</a>\n",
    "</div>"
   ]
  },
  {
   "cell_type": "code",
   "execution_count": 73,
   "id": "0f356b3b",
   "metadata": {},
   "outputs": [
    {
     "data": {
      "text/plain": [
       "Index(['vintages_date', 'manufacturing_release_1', 'manufacturing_release_2',\n",
       "       'manufacturing_release_3', 'manufacturing_release_4',\n",
       "       'manufacturing_release_5', 'manufacturing_release_6',\n",
       "       'manufacturing_release_7', 'manufacturing_release_8',\n",
       "       'manufacturing_release_9', 'manufacturing_release_10',\n",
       "       'manufacturing_release_11', 'manufacturing_release_12',\n",
       "       'manufacturing_release_13', 'manufacturing_release_14',\n",
       "       'manufacturing_release_15', 'manufacturing_release_16',\n",
       "       'manufacturing_release_17', 'manufacturing_release_18',\n",
       "       'manufacturing_release_19', 'manufacturing_release_20',\n",
       "       'manufacturing_release_21', 'manufacturing_release_22',\n",
       "       'manufacturing_release_23', 'manufacturing_release_24',\n",
       "       'manufacturing_release_25', 'manufacturing_release_26',\n",
       "       'manufacturing_release_27', 'manufacturing_release_28',\n",
       "       'manufacturing_release_29', 'manufacturing_release_30',\n",
       "       'manufacturing_release_31', 'manufacturing_release_32',\n",
       "       'manufacturing_release_33', 'manufacturing_release_34',\n",
       "       'manufacturing_release_35', 'manufacturing_release_36',\n",
       "       'manufacturing_release_37', 'manufacturing_release_38',\n",
       "       'manufacturing_release_39', 'manufacturing_most_recent'],\n",
       "      dtype='object')"
      ]
     },
     "execution_count": 73,
     "metadata": {},
     "output_type": "execute_result"
    }
   ],
   "source": [
    "# Create a pandas DataFrame from the SQL table\n",
    "query_5 = f\"SELECT * FROM {sector}_{frequency}_releases;\"\n",
    "df_5 = pd.read_sql(query_5, engine)\n",
    "df_5.columns"
   ]
  },
  {
   "cell_type": "markdown",
   "id": "3d5badc7",
   "metadata": {},
   "source": [
    "<div style=\"font-family: PT Serif Pro Book; text-align: left; color: dark; font-size: 16px;\">\n",
    "    <span style=\"font-size: 20px; color: rgb(255, 32, 78); font-weight: bold;\">\n",
    "        <a href=\"#step-5-1\" style=\"color: rgb(255, 32, 78); text-decoration: none;\">⮝</a>\n",
    "    </span> \n",
    "    <a href=\"#step-5-1\" style=\"color: rgb(255, 32, 78); text-decoration: none;\">Back to <b>select economic sector</b>.</a>\n",
    "</div>"
   ]
  },
  {
   "cell_type": "code",
   "execution_count": 75,
   "id": "d84c93fc",
   "metadata": {},
   "outputs": [
    {
     "data": {
      "text/plain": [
       "Index(['vintages_date', 'electricity_release_1', 'electricity_release_2',\n",
       "       'electricity_release_3', 'electricity_release_4',\n",
       "       'electricity_release_5', 'electricity_release_6',\n",
       "       'electricity_release_7', 'electricity_release_8',\n",
       "       'electricity_release_9', 'electricity_release_10',\n",
       "       'electricity_release_11', 'electricity_release_12',\n",
       "       'electricity_release_13', 'electricity_release_14',\n",
       "       'electricity_release_15', 'electricity_release_16',\n",
       "       'electricity_release_17', 'electricity_release_18',\n",
       "       'electricity_release_19', 'electricity_release_20',\n",
       "       'electricity_release_21', 'electricity_release_22',\n",
       "       'electricity_release_23', 'electricity_release_24',\n",
       "       'electricity_release_25', 'electricity_release_26',\n",
       "       'electricity_release_27', 'electricity_release_28',\n",
       "       'electricity_release_29', 'electricity_release_30',\n",
       "       'electricity_release_31', 'electricity_release_32',\n",
       "       'electricity_release_33', 'electricity_release_34',\n",
       "       'electricity_release_35', 'electricity_release_36',\n",
       "       'electricity_release_37', 'electricity_release_38',\n",
       "       'electricity_release_39', 'electricity_most_recent'],\n",
       "      dtype='object')"
      ]
     },
     "execution_count": 75,
     "metadata": {},
     "output_type": "execute_result"
    }
   ],
   "source": [
    "# Create a pandas DataFrame from the SQL table\n",
    "query_6 = f\"SELECT * FROM {sector}_{frequency}_releases;\"\n",
    "df_6 = pd.read_sql(query_6, engine)\n",
    "df_6.columns"
   ]
  },
  {
   "cell_type": "markdown",
   "id": "14c6c467",
   "metadata": {},
   "source": [
    "<div style=\"font-family: PT Serif Pro Book; text-align: left; color: dark; font-size: 16px;\">\n",
    "    <span style=\"font-size: 20px; color: rgb(255, 32, 78); font-weight: bold;\">\n",
    "        <a href=\"#step-5-1\" style=\"color: rgb(255, 32, 78); text-decoration: none;\">⮝</a>\n",
    "    </span> \n",
    "    <a href=\"#step-5-1\" style=\"color: rgb(255, 32, 78); text-decoration: none;\">Back to <b>select economic sector</b>.</a>\n",
    "</div>"
   ]
  },
  {
   "cell_type": "code",
   "execution_count": 77,
   "id": "d864823b",
   "metadata": {},
   "outputs": [
    {
     "data": {
      "text/plain": [
       "Index(['vintages_date', 'construction_release_1', 'construction_release_2',\n",
       "       'construction_release_3', 'construction_release_4',\n",
       "       'construction_release_5', 'construction_release_6',\n",
       "       'construction_release_7', 'construction_release_8',\n",
       "       'construction_release_9', 'construction_release_10',\n",
       "       'construction_release_11', 'construction_release_12',\n",
       "       'construction_release_13', 'construction_release_14',\n",
       "       'construction_release_15', 'construction_release_16',\n",
       "       'construction_release_17', 'construction_release_18',\n",
       "       'construction_release_19', 'construction_release_20',\n",
       "       'construction_release_21', 'construction_release_22',\n",
       "       'construction_release_23', 'construction_release_24',\n",
       "       'construction_release_25', 'construction_release_26',\n",
       "       'construction_release_27', 'construction_release_28',\n",
       "       'construction_release_29', 'construction_release_30',\n",
       "       'construction_release_31', 'construction_release_32',\n",
       "       'construction_release_33', 'construction_release_34',\n",
       "       'construction_release_35', 'construction_release_36',\n",
       "       'construction_release_37', 'construction_release_38',\n",
       "       'construction_release_39', 'construction_most_recent'],\n",
       "      dtype='object')"
      ]
     },
     "execution_count": 77,
     "metadata": {},
     "output_type": "execute_result"
    }
   ],
   "source": [
    "# Create a pandas DataFrame from the SQL table\n",
    "query_7 = f\"SELECT * FROM {sector}_{frequency}_releases;\"\n",
    "df_7 = pd.read_sql(query_7, engine)\n",
    "df_7.columns"
   ]
  },
  {
   "cell_type": "markdown",
   "id": "3129d4f1",
   "metadata": {},
   "source": [
    "<div style=\"font-family: PT Serif Pro Book; text-align: left; color: dark; font-size: 16px;\">\n",
    "    <span style=\"font-size: 20px; color: rgb(255, 32, 78); font-weight: bold;\">\n",
    "        <a href=\"#step-5-1\" style=\"color: rgb(255, 32, 78); text-decoration: none;\">⮝</a>\n",
    "    </span> \n",
    "    <a href=\"#step-5-1\" style=\"color: rgb(255, 32, 78); text-decoration: none;\">Back to <b>select economic sector</b>.</a>\n",
    "</div>"
   ]
  },
  {
   "cell_type": "code",
   "execution_count": 79,
   "id": "2351e752",
   "metadata": {},
   "outputs": [
    {
     "data": {
      "text/plain": [
       "Index(['vintages_date', 'commerce_release_1', 'commerce_release_2',\n",
       "       'commerce_release_3', 'commerce_release_4', 'commerce_release_5',\n",
       "       'commerce_release_6', 'commerce_release_7', 'commerce_release_8',\n",
       "       'commerce_release_9', 'commerce_release_10', 'commerce_release_11',\n",
       "       'commerce_release_12', 'commerce_release_13', 'commerce_release_14',\n",
       "       'commerce_release_15', 'commerce_release_16', 'commerce_release_17',\n",
       "       'commerce_release_18', 'commerce_release_19', 'commerce_release_20',\n",
       "       'commerce_release_21', 'commerce_release_22', 'commerce_release_23',\n",
       "       'commerce_release_24', 'commerce_release_25', 'commerce_release_26',\n",
       "       'commerce_release_27', 'commerce_release_28', 'commerce_release_29',\n",
       "       'commerce_release_30', 'commerce_release_31', 'commerce_release_32',\n",
       "       'commerce_release_33', 'commerce_release_34', 'commerce_release_35',\n",
       "       'commerce_release_36', 'commerce_release_37', 'commerce_release_38',\n",
       "       'commerce_release_39', 'commerce_most_recent'],\n",
       "      dtype='object')"
      ]
     },
     "execution_count": 79,
     "metadata": {},
     "output_type": "execute_result"
    }
   ],
   "source": [
    "# Create a pandas DataFrame from the SQL table\n",
    "query_8 = f\"SELECT * FROM {sector}_{frequency}_releases;\"\n",
    "df_8 = pd.read_sql(query_8, engine)\n",
    "df_8.columns"
   ]
  },
  {
   "cell_type": "markdown",
   "id": "c371c09f",
   "metadata": {},
   "source": [
    "<div style=\"font-family: PT Serif Pro Book; text-align: left; color: dark; font-size: 16px;\">\n",
    "    <span style=\"font-size: 20px; color: rgb(255, 32, 78); font-weight: bold;\">\n",
    "        <a href=\"#step-5-1\" style=\"color: rgb(255, 32, 78); text-decoration: none;\">⮝</a>\n",
    "    </span> \n",
    "    <a href=\"#step-5-1\" style=\"color: rgb(255, 32, 78); text-decoration: none;\">Back to <b>select economic sector</b>.</a>\n",
    "</div>"
   ]
  },
  {
   "cell_type": "code",
   "execution_count": 81,
   "id": "40800d79",
   "metadata": {},
   "outputs": [
    {
     "data": {
      "text/plain": [
       "Index(['vintages_date', 'services_release_1', 'services_release_2',\n",
       "       'services_release_3', 'services_release_4', 'services_release_5',\n",
       "       'services_release_6', 'services_release_7', 'services_release_8',\n",
       "       'services_release_9', 'services_release_10', 'services_release_11',\n",
       "       'services_release_12', 'services_release_13', 'services_release_14',\n",
       "       'services_release_15', 'services_release_16', 'services_release_17',\n",
       "       'services_release_18', 'services_release_19', 'services_release_20',\n",
       "       'services_release_21', 'services_release_22', 'services_release_23',\n",
       "       'services_release_24', 'services_release_25', 'services_release_26',\n",
       "       'services_release_27', 'services_release_28', 'services_release_29',\n",
       "       'services_release_30', 'services_release_31', 'services_release_32',\n",
       "       'services_release_33', 'services_release_34', 'services_release_35',\n",
       "       'services_release_36', 'services_release_37', 'services_release_38',\n",
       "       'services_release_39', 'services_most_recent'],\n",
       "      dtype='object')"
      ]
     },
     "execution_count": 81,
     "metadata": {},
     "output_type": "execute_result"
    }
   ],
   "source": [
    "# Create a pandas DataFrame from the SQL table\n",
    "query_9 = f\"SELECT * FROM {sector}_{frequency}_releases;\"\n",
    "df_9 = pd.read_sql(query_9, engine)\n",
    "df_9.columns"
   ]
  },
  {
   "cell_type": "markdown",
   "id": "335d0768",
   "metadata": {},
   "source": [
    "<div style=\"text-align: left; font-family: 'PT Serif Pro Book'; color: dark; font-size:16px\">\n",
    "    Run the function to create merged dataframe for releases\n",
    "    <div/>"
   ]
  },
  {
   "cell_type": "markdown",
   "id": "ef50ffb6",
   "metadata": {},
   "source": [
    "<div id=\"step-6-4\">\n",
    "   <!-- Contenido de la celda de destino -->\n",
    "</div>"
   ]
  },
  {
   "cell_type": "markdown",
   "id": "20451a82",
   "metadata": {},
   "source": [
    "<div style=\"text-align: left; font-family: 'PT Serif Pro Book'; font-size:22px\">\n",
    "    <span style=\"font-size: 24px; color: rgb(0, 65, 75)\">&#10125;</span> <span>Merge dataframes</span>\n",
    "  </div>"
   ]
  },
  {
   "cell_type": "code",
   "execution_count": 82,
   "id": "6806fd0e",
   "metadata": {},
   "outputs": [],
   "source": [
    "def merge_dataframes_by_vintage(frequency, *dataframes):\n",
    "    \"\"\"\n",
    "    Merges multiple dataframes on the 'vintages_date' column.\n",
    "\n",
    "    Parameters:\n",
    "    frequency (str): The frequency to be used in the resulting dataframe name.\n",
    "    *dataframes (pd.DataFrame): DataFrames to be merged.\n",
    "\n",
    "    Returns:\n",
    "    pd.DataFrame: The merged dataframe with the name 'sectorial_gdp_{frequency}_releases'.\n",
    "    \"\"\"\n",
    "    # Initialize the merged dataframe with the first dataframe\n",
    "    merged_df = dataframes[0]\n",
    "\n",
    "    # Merge each dataframe on 'vintages_date'\n",
    "    for df in dataframes[1:]:\n",
    "        merged_df = pd.merge(merged_df, df, on='vintages_date', how='outer')\n",
    "\n",
    "    # Define the name of the resulting dataframe\n",
    "    result_name = f'sectorial_gdp_{frequency}_releases'\n",
    "    \n",
    "    # Assign the name to the dataframe (this is for reference, actual DataFrame doesn't have a 'name' attribute)\n",
    "    merged_df.name = result_name\n",
    "\n",
    "    return merged_df"
   ]
  },
  {
   "cell_type": "code",
   "execution_count": 83,
   "id": "218c042a",
   "metadata": {},
   "outputs": [
    {
     "data": {
      "text/html": [
       "<div>\n",
       "<style scoped>\n",
       "    .dataframe tbody tr th:only-of-type {\n",
       "        vertical-align: middle;\n",
       "    }\n",
       "\n",
       "    .dataframe tbody tr th {\n",
       "        vertical-align: top;\n",
       "    }\n",
       "\n",
       "    .dataframe thead th {\n",
       "        text-align: right;\n",
       "    }\n",
       "</style>\n",
       "<table border=\"1\" class=\"dataframe\">\n",
       "  <thead>\n",
       "    <tr style=\"text-align: right;\">\n",
       "      <th></th>\n",
       "      <th>vintages_date</th>\n",
       "      <th>gdp_release_1</th>\n",
       "      <th>gdp_release_2</th>\n",
       "      <th>gdp_release_3</th>\n",
       "      <th>gdp_release_4</th>\n",
       "      <th>gdp_release_5</th>\n",
       "      <th>gdp_release_6</th>\n",
       "      <th>gdp_release_7</th>\n",
       "      <th>gdp_release_8</th>\n",
       "      <th>gdp_release_9</th>\n",
       "      <th>...</th>\n",
       "      <th>services_release_31</th>\n",
       "      <th>services_release_32</th>\n",
       "      <th>services_release_33</th>\n",
       "      <th>services_release_34</th>\n",
       "      <th>services_release_35</th>\n",
       "      <th>services_release_36</th>\n",
       "      <th>services_release_37</th>\n",
       "      <th>services_release_38</th>\n",
       "      <th>services_release_39</th>\n",
       "      <th>services_most_recent</th>\n",
       "    </tr>\n",
       "  </thead>\n",
       "  <tbody>\n",
       "    <tr>\n",
       "      <th>0</th>\n",
       "      <td>1993-01-01</td>\n",
       "      <td>6.4</td>\n",
       "      <td>6.4</td>\n",
       "      <td>6.4</td>\n",
       "      <td>NaN</td>\n",
       "      <td>NaN</td>\n",
       "      <td>NaN</td>\n",
       "      <td>NaN</td>\n",
       "      <td>NaN</td>\n",
       "      <td>NaN</td>\n",
       "      <td>...</td>\n",
       "      <td>NaN</td>\n",
       "      <td>NaN</td>\n",
       "      <td>NaN</td>\n",
       "      <td>NaN</td>\n",
       "      <td>NaN</td>\n",
       "      <td>NaN</td>\n",
       "      <td>NaN</td>\n",
       "      <td>NaN</td>\n",
       "      <td>NaN</td>\n",
       "      <td>NaN</td>\n",
       "    </tr>\n",
       "    <tr>\n",
       "      <th>1</th>\n",
       "      <td>1994-01-01</td>\n",
       "      <td>13.1</td>\n",
       "      <td>13.1</td>\n",
       "      <td>13.1</td>\n",
       "      <td>13.1</td>\n",
       "      <td>13.1</td>\n",
       "      <td>NaN</td>\n",
       "      <td>NaN</td>\n",
       "      <td>NaN</td>\n",
       "      <td>NaN</td>\n",
       "      <td>...</td>\n",
       "      <td>NaN</td>\n",
       "      <td>NaN</td>\n",
       "      <td>NaN</td>\n",
       "      <td>NaN</td>\n",
       "      <td>NaN</td>\n",
       "      <td>NaN</td>\n",
       "      <td>NaN</td>\n",
       "      <td>NaN</td>\n",
       "      <td>NaN</td>\n",
       "      <td>NaN</td>\n",
       "    </tr>\n",
       "    <tr>\n",
       "      <th>2</th>\n",
       "      <td>1995-01-01</td>\n",
       "      <td>7.0</td>\n",
       "      <td>7.0</td>\n",
       "      <td>7.0</td>\n",
       "      <td>7.0</td>\n",
       "      <td>7.0</td>\n",
       "      <td>7.2</td>\n",
       "      <td>7.2</td>\n",
       "      <td>7.2</td>\n",
       "      <td>7.2</td>\n",
       "      <td>...</td>\n",
       "      <td>NaN</td>\n",
       "      <td>NaN</td>\n",
       "      <td>NaN</td>\n",
       "      <td>NaN</td>\n",
       "      <td>NaN</td>\n",
       "      <td>NaN</td>\n",
       "      <td>NaN</td>\n",
       "      <td>NaN</td>\n",
       "      <td>NaN</td>\n",
       "      <td>7.0</td>\n",
       "    </tr>\n",
       "    <tr>\n",
       "      <th>3</th>\n",
       "      <td>1996-01-01</td>\n",
       "      <td>2.8</td>\n",
       "      <td>2.8</td>\n",
       "      <td>2.8</td>\n",
       "      <td>2.8</td>\n",
       "      <td>2.6</td>\n",
       "      <td>2.6</td>\n",
       "      <td>2.6</td>\n",
       "      <td>2.6</td>\n",
       "      <td>2.6</td>\n",
       "      <td>...</td>\n",
       "      <td>NaN</td>\n",
       "      <td>NaN</td>\n",
       "      <td>NaN</td>\n",
       "      <td>NaN</td>\n",
       "      <td>NaN</td>\n",
       "      <td>NaN</td>\n",
       "      <td>NaN</td>\n",
       "      <td>NaN</td>\n",
       "      <td>NaN</td>\n",
       "      <td>3.2</td>\n",
       "    </tr>\n",
       "    <tr>\n",
       "      <th>4</th>\n",
       "      <td>1997-01-01</td>\n",
       "      <td>7.4</td>\n",
       "      <td>7.4</td>\n",
       "      <td>7.4</td>\n",
       "      <td>7.2</td>\n",
       "      <td>7.2</td>\n",
       "      <td>7.2</td>\n",
       "      <td>7.2</td>\n",
       "      <td>7.2</td>\n",
       "      <td>7.2</td>\n",
       "      <td>...</td>\n",
       "      <td>NaN</td>\n",
       "      <td>NaN</td>\n",
       "      <td>NaN</td>\n",
       "      <td>NaN</td>\n",
       "      <td>NaN</td>\n",
       "      <td>NaN</td>\n",
       "      <td>NaN</td>\n",
       "      <td>NaN</td>\n",
       "      <td>NaN</td>\n",
       "      <td>5.3</td>\n",
       "    </tr>\n",
       "    <tr>\n",
       "      <th>5</th>\n",
       "      <td>1998-01-01</td>\n",
       "      <td>0.7</td>\n",
       "      <td>0.7</td>\n",
       "      <td>0.7</td>\n",
       "      <td>0.7</td>\n",
       "      <td>0.7</td>\n",
       "      <td>0.3</td>\n",
       "      <td>0.3</td>\n",
       "      <td>0.3</td>\n",
       "      <td>0.3</td>\n",
       "      <td>...</td>\n",
       "      <td>NaN</td>\n",
       "      <td>NaN</td>\n",
       "      <td>NaN</td>\n",
       "      <td>NaN</td>\n",
       "      <td>NaN</td>\n",
       "      <td>NaN</td>\n",
       "      <td>NaN</td>\n",
       "      <td>NaN</td>\n",
       "      <td>NaN</td>\n",
       "      <td>1.5</td>\n",
       "    </tr>\n",
       "    <tr>\n",
       "      <th>6</th>\n",
       "      <td>1999-01-01</td>\n",
       "      <td>3.8</td>\n",
       "      <td>3.8</td>\n",
       "      <td>3.8</td>\n",
       "      <td>3.8</td>\n",
       "      <td>3.8</td>\n",
       "      <td>NaN</td>\n",
       "      <td>NaN</td>\n",
       "      <td>NaN</td>\n",
       "      <td>NaN</td>\n",
       "      <td>...</td>\n",
       "      <td>NaN</td>\n",
       "      <td>NaN</td>\n",
       "      <td>NaN</td>\n",
       "      <td>NaN</td>\n",
       "      <td>NaN</td>\n",
       "      <td>NaN</td>\n",
       "      <td>NaN</td>\n",
       "      <td>NaN</td>\n",
       "      <td>NaN</td>\n",
       "      <td>1.5</td>\n",
       "    </tr>\n",
       "    <tr>\n",
       "      <th>7</th>\n",
       "      <td>2000-01-01</td>\n",
       "      <td>3.6</td>\n",
       "      <td>3.6</td>\n",
       "      <td>3.6</td>\n",
       "      <td>3.6</td>\n",
       "      <td>3.6</td>\n",
       "      <td>3.1</td>\n",
       "      <td>3.1</td>\n",
       "      <td>3.1</td>\n",
       "      <td>3.1</td>\n",
       "      <td>...</td>\n",
       "      <td>NaN</td>\n",
       "      <td>NaN</td>\n",
       "      <td>NaN</td>\n",
       "      <td>NaN</td>\n",
       "      <td>NaN</td>\n",
       "      <td>NaN</td>\n",
       "      <td>NaN</td>\n",
       "      <td>NaN</td>\n",
       "      <td>NaN</td>\n",
       "      <td>1.8</td>\n",
       "    </tr>\n",
       "    <tr>\n",
       "      <th>8</th>\n",
       "      <td>2001-01-01</td>\n",
       "      <td>0.2</td>\n",
       "      <td>0.2</td>\n",
       "      <td>0.2</td>\n",
       "      <td>0.2</td>\n",
       "      <td>0.2</td>\n",
       "      <td>0.2</td>\n",
       "      <td>0.2</td>\n",
       "      <td>0.2</td>\n",
       "      <td>0.2</td>\n",
       "      <td>...</td>\n",
       "      <td>NaN</td>\n",
       "      <td>NaN</td>\n",
       "      <td>NaN</td>\n",
       "      <td>NaN</td>\n",
       "      <td>NaN</td>\n",
       "      <td>NaN</td>\n",
       "      <td>NaN</td>\n",
       "      <td>NaN</td>\n",
       "      <td>NaN</td>\n",
       "      <td>-0.3</td>\n",
       "    </tr>\n",
       "    <tr>\n",
       "      <th>9</th>\n",
       "      <td>2002-01-01</td>\n",
       "      <td>5.2</td>\n",
       "      <td>5.2</td>\n",
       "      <td>5.2</td>\n",
       "      <td>5.3</td>\n",
       "      <td>5.3</td>\n",
       "      <td>5.3</td>\n",
       "      <td>5.3</td>\n",
       "      <td>5.3</td>\n",
       "      <td>5.3</td>\n",
       "      <td>...</td>\n",
       "      <td>NaN</td>\n",
       "      <td>NaN</td>\n",
       "      <td>NaN</td>\n",
       "      <td>NaN</td>\n",
       "      <td>NaN</td>\n",
       "      <td>NaN</td>\n",
       "      <td>NaN</td>\n",
       "      <td>NaN</td>\n",
       "      <td>NaN</td>\n",
       "      <td>3.8</td>\n",
       "    </tr>\n",
       "    <tr>\n",
       "      <th>10</th>\n",
       "      <td>2003-01-01</td>\n",
       "      <td>4.0</td>\n",
       "      <td>4.0</td>\n",
       "      <td>4.0</td>\n",
       "      <td>4.1</td>\n",
       "      <td>4.1</td>\n",
       "      <td>4.1</td>\n",
       "      <td>3.8</td>\n",
       "      <td>3.8</td>\n",
       "      <td>3.8</td>\n",
       "      <td>...</td>\n",
       "      <td>NaN</td>\n",
       "      <td>NaN</td>\n",
       "      <td>NaN</td>\n",
       "      <td>NaN</td>\n",
       "      <td>NaN</td>\n",
       "      <td>NaN</td>\n",
       "      <td>NaN</td>\n",
       "      <td>NaN</td>\n",
       "      <td>NaN</td>\n",
       "      <td>4.6</td>\n",
       "    </tr>\n",
       "    <tr>\n",
       "      <th>11</th>\n",
       "      <td>2004-01-01</td>\n",
       "      <td>5.1</td>\n",
       "      <td>5.1</td>\n",
       "      <td>5.1</td>\n",
       "      <td>4.8</td>\n",
       "      <td>4.8</td>\n",
       "      <td>4.8</td>\n",
       "      <td>4.8</td>\n",
       "      <td>4.8</td>\n",
       "      <td>4.8</td>\n",
       "      <td>...</td>\n",
       "      <td>NaN</td>\n",
       "      <td>NaN</td>\n",
       "      <td>NaN</td>\n",
       "      <td>NaN</td>\n",
       "      <td>NaN</td>\n",
       "      <td>NaN</td>\n",
       "      <td>NaN</td>\n",
       "      <td>NaN</td>\n",
       "      <td>NaN</td>\n",
       "      <td>4.4</td>\n",
       "    </tr>\n",
       "    <tr>\n",
       "      <th>12</th>\n",
       "      <td>2005-01-01</td>\n",
       "      <td>6.7</td>\n",
       "      <td>6.7</td>\n",
       "      <td>6.7</td>\n",
       "      <td>6.6</td>\n",
       "      <td>6.4</td>\n",
       "      <td>6.4</td>\n",
       "      <td>6.4</td>\n",
       "      <td>6.4</td>\n",
       "      <td>6.4</td>\n",
       "      <td>...</td>\n",
       "      <td>NaN</td>\n",
       "      <td>NaN</td>\n",
       "      <td>NaN</td>\n",
       "      <td>NaN</td>\n",
       "      <td>NaN</td>\n",
       "      <td>NaN</td>\n",
       "      <td>NaN</td>\n",
       "      <td>NaN</td>\n",
       "      <td>NaN</td>\n",
       "      <td>6.8</td>\n",
       "    </tr>\n",
       "    <tr>\n",
       "      <th>13</th>\n",
       "      <td>2006-01-01</td>\n",
       "      <td>8.0</td>\n",
       "      <td>8.0</td>\n",
       "      <td>8.0</td>\n",
       "      <td>8.0</td>\n",
       "      <td>8.0</td>\n",
       "      <td>8.0</td>\n",
       "      <td>7.6</td>\n",
       "      <td>7.6</td>\n",
       "      <td>7.6</td>\n",
       "      <td>...</td>\n",
       "      <td>NaN</td>\n",
       "      <td>NaN</td>\n",
       "      <td>NaN</td>\n",
       "      <td>NaN</td>\n",
       "      <td>NaN</td>\n",
       "      <td>NaN</td>\n",
       "      <td>NaN</td>\n",
       "      <td>NaN</td>\n",
       "      <td>NaN</td>\n",
       "      <td>6.8</td>\n",
       "    </tr>\n",
       "    <tr>\n",
       "      <th>14</th>\n",
       "      <td>2007-01-01</td>\n",
       "      <td>9.0</td>\n",
       "      <td>9.0</td>\n",
       "      <td>9.0</td>\n",
       "      <td>9.0</td>\n",
       "      <td>8.9</td>\n",
       "      <td>8.9</td>\n",
       "      <td>8.9</td>\n",
       "      <td>8.9</td>\n",
       "      <td>8.9</td>\n",
       "      <td>...</td>\n",
       "      <td>NaN</td>\n",
       "      <td>NaN</td>\n",
       "      <td>NaN</td>\n",
       "      <td>NaN</td>\n",
       "      <td>NaN</td>\n",
       "      <td>NaN</td>\n",
       "      <td>NaN</td>\n",
       "      <td>NaN</td>\n",
       "      <td>NaN</td>\n",
       "      <td>9.0</td>\n",
       "    </tr>\n",
       "    <tr>\n",
       "      <th>15</th>\n",
       "      <td>2008-01-01</td>\n",
       "      <td>9.8</td>\n",
       "      <td>9.8</td>\n",
       "      <td>9.8</td>\n",
       "      <td>9.8</td>\n",
       "      <td>9.8</td>\n",
       "      <td>9.8</td>\n",
       "      <td>9.8</td>\n",
       "      <td>9.8</td>\n",
       "      <td>9.8</td>\n",
       "      <td>...</td>\n",
       "      <td>NaN</td>\n",
       "      <td>NaN</td>\n",
       "      <td>NaN</td>\n",
       "      <td>NaN</td>\n",
       "      <td>NaN</td>\n",
       "      <td>NaN</td>\n",
       "      <td>NaN</td>\n",
       "      <td>NaN</td>\n",
       "      <td>NaN</td>\n",
       "      <td>9.1</td>\n",
       "    </tr>\n",
       "    <tr>\n",
       "      <th>16</th>\n",
       "      <td>2009-01-01</td>\n",
       "      <td>0.9</td>\n",
       "      <td>0.9</td>\n",
       "      <td>0.9</td>\n",
       "      <td>0.9</td>\n",
       "      <td>0.9</td>\n",
       "      <td>0.9</td>\n",
       "      <td>0.9</td>\n",
       "      <td>0.9</td>\n",
       "      <td>0.9</td>\n",
       "      <td>...</td>\n",
       "      <td>NaN</td>\n",
       "      <td>NaN</td>\n",
       "      <td>NaN</td>\n",
       "      <td>NaN</td>\n",
       "      <td>NaN</td>\n",
       "      <td>NaN</td>\n",
       "      <td>NaN</td>\n",
       "      <td>NaN</td>\n",
       "      <td>NaN</td>\n",
       "      <td>3.1</td>\n",
       "    </tr>\n",
       "    <tr>\n",
       "      <th>17</th>\n",
       "      <td>2010-01-01</td>\n",
       "      <td>8.8</td>\n",
       "      <td>8.8</td>\n",
       "      <td>8.8</td>\n",
       "      <td>8.8</td>\n",
       "      <td>8.8</td>\n",
       "      <td>8.8</td>\n",
       "      <td>8.8</td>\n",
       "      <td>8.8</td>\n",
       "      <td>8.8</td>\n",
       "      <td>...</td>\n",
       "      <td>7.7</td>\n",
       "      <td>NaN</td>\n",
       "      <td>NaN</td>\n",
       "      <td>NaN</td>\n",
       "      <td>NaN</td>\n",
       "      <td>NaN</td>\n",
       "      <td>NaN</td>\n",
       "      <td>NaN</td>\n",
       "      <td>NaN</td>\n",
       "      <td>7.7</td>\n",
       "    </tr>\n",
       "    <tr>\n",
       "      <th>18</th>\n",
       "      <td>2011-01-01</td>\n",
       "      <td>6.9</td>\n",
       "      <td>6.9</td>\n",
       "      <td>6.9</td>\n",
       "      <td>6.9</td>\n",
       "      <td>6.9</td>\n",
       "      <td>6.9</td>\n",
       "      <td>6.9</td>\n",
       "      <td>6.9</td>\n",
       "      <td>6.9</td>\n",
       "      <td>...</td>\n",
       "      <td>NaN</td>\n",
       "      <td>NaN</td>\n",
       "      <td>NaN</td>\n",
       "      <td>NaN</td>\n",
       "      <td>NaN</td>\n",
       "      <td>NaN</td>\n",
       "      <td>NaN</td>\n",
       "      <td>NaN</td>\n",
       "      <td>NaN</td>\n",
       "      <td>8.1</td>\n",
       "    </tr>\n",
       "    <tr>\n",
       "      <th>19</th>\n",
       "      <td>2012-01-01</td>\n",
       "      <td>6.3</td>\n",
       "      <td>6.3</td>\n",
       "      <td>6.3</td>\n",
       "      <td>6.3</td>\n",
       "      <td>6.3</td>\n",
       "      <td>6.3</td>\n",
       "      <td>6.3</td>\n",
       "      <td>6.3</td>\n",
       "      <td>6.3</td>\n",
       "      <td>...</td>\n",
       "      <td>NaN</td>\n",
       "      <td>NaN</td>\n",
       "      <td>NaN</td>\n",
       "      <td>NaN</td>\n",
       "      <td>NaN</td>\n",
       "      <td>NaN</td>\n",
       "      <td>NaN</td>\n",
       "      <td>NaN</td>\n",
       "      <td>NaN</td>\n",
       "      <td>7.1</td>\n",
       "    </tr>\n",
       "    <tr>\n",
       "      <th>20</th>\n",
       "      <td>2013-01-01</td>\n",
       "      <td>5.0</td>\n",
       "      <td>NaN</td>\n",
       "      <td>NaN</td>\n",
       "      <td>NaN</td>\n",
       "      <td>NaN</td>\n",
       "      <td>NaN</td>\n",
       "      <td>NaN</td>\n",
       "      <td>NaN</td>\n",
       "      <td>NaN</td>\n",
       "      <td>...</td>\n",
       "      <td>NaN</td>\n",
       "      <td>NaN</td>\n",
       "      <td>NaN</td>\n",
       "      <td>NaN</td>\n",
       "      <td>NaN</td>\n",
       "      <td>NaN</td>\n",
       "      <td>NaN</td>\n",
       "      <td>NaN</td>\n",
       "      <td>NaN</td>\n",
       "      <td>5.8</td>\n",
       "    </tr>\n",
       "    <tr>\n",
       "      <th>21</th>\n",
       "      <td>2014-01-01</td>\n",
       "      <td>2.4</td>\n",
       "      <td>2.4</td>\n",
       "      <td>2.4</td>\n",
       "      <td>2.4</td>\n",
       "      <td>2.4</td>\n",
       "      <td>2.4</td>\n",
       "      <td>2.4</td>\n",
       "      <td>2.4</td>\n",
       "      <td>2.4</td>\n",
       "      <td>...</td>\n",
       "      <td>NaN</td>\n",
       "      <td>NaN</td>\n",
       "      <td>NaN</td>\n",
       "      <td>NaN</td>\n",
       "      <td>NaN</td>\n",
       "      <td>NaN</td>\n",
       "      <td>NaN</td>\n",
       "      <td>NaN</td>\n",
       "      <td>NaN</td>\n",
       "      <td>5.0</td>\n",
       "    </tr>\n",
       "    <tr>\n",
       "      <th>22</th>\n",
       "      <td>2015-01-01</td>\n",
       "      <td>3.3</td>\n",
       "      <td>3.3</td>\n",
       "      <td>3.3</td>\n",
       "      <td>3.3</td>\n",
       "      <td>3.3</td>\n",
       "      <td>3.3</td>\n",
       "      <td>3.3</td>\n",
       "      <td>3.3</td>\n",
       "      <td>3.3</td>\n",
       "      <td>...</td>\n",
       "      <td>NaN</td>\n",
       "      <td>NaN</td>\n",
       "      <td>NaN</td>\n",
       "      <td>NaN</td>\n",
       "      <td>NaN</td>\n",
       "      <td>NaN</td>\n",
       "      <td>NaN</td>\n",
       "      <td>NaN</td>\n",
       "      <td>NaN</td>\n",
       "      <td>4.1</td>\n",
       "    </tr>\n",
       "    <tr>\n",
       "      <th>23</th>\n",
       "      <td>2016-01-01</td>\n",
       "      <td>3.9</td>\n",
       "      <td>3.9</td>\n",
       "      <td>3.9</td>\n",
       "      <td>3.9</td>\n",
       "      <td>3.9</td>\n",
       "      <td>3.9</td>\n",
       "      <td>4.0</td>\n",
       "      <td>4.0</td>\n",
       "      <td>4.0</td>\n",
       "      <td>...</td>\n",
       "      <td>NaN</td>\n",
       "      <td>NaN</td>\n",
       "      <td>NaN</td>\n",
       "      <td>NaN</td>\n",
       "      <td>NaN</td>\n",
       "      <td>NaN</td>\n",
       "      <td>NaN</td>\n",
       "      <td>NaN</td>\n",
       "      <td>NaN</td>\n",
       "      <td>4.1</td>\n",
       "    </tr>\n",
       "    <tr>\n",
       "      <th>24</th>\n",
       "      <td>2017-01-01</td>\n",
       "      <td>2.5</td>\n",
       "      <td>2.5</td>\n",
       "      <td>2.5</td>\n",
       "      <td>2.5</td>\n",
       "      <td>2.5</td>\n",
       "      <td>2.5</td>\n",
       "      <td>2.5</td>\n",
       "      <td>2.5</td>\n",
       "      <td>2.5</td>\n",
       "      <td>...</td>\n",
       "      <td>3.3</td>\n",
       "      <td>3.3</td>\n",
       "      <td>2.6</td>\n",
       "      <td>2.6</td>\n",
       "      <td>3.4</td>\n",
       "      <td>NaN</td>\n",
       "      <td>NaN</td>\n",
       "      <td>NaN</td>\n",
       "      <td>NaN</td>\n",
       "      <td>3.4</td>\n",
       "    </tr>\n",
       "    <tr>\n",
       "      <th>25</th>\n",
       "      <td>2018-01-01</td>\n",
       "      <td>4.0</td>\n",
       "      <td>4.0</td>\n",
       "      <td>4.0</td>\n",
       "      <td>4.0</td>\n",
       "      <td>4.0</td>\n",
       "      <td>4.0</td>\n",
       "      <td>4.0</td>\n",
       "      <td>4.0</td>\n",
       "      <td>4.0</td>\n",
       "      <td>...</td>\n",
       "      <td>4.4</td>\n",
       "      <td>4.4</td>\n",
       "      <td>4.3</td>\n",
       "      <td>NaN</td>\n",
       "      <td>NaN</td>\n",
       "      <td>NaN</td>\n",
       "      <td>NaN</td>\n",
       "      <td>NaN</td>\n",
       "      <td>NaN</td>\n",
       "      <td>4.3</td>\n",
       "    </tr>\n",
       "    <tr>\n",
       "      <th>26</th>\n",
       "      <td>2019-01-01</td>\n",
       "      <td>2.2</td>\n",
       "      <td>2.2</td>\n",
       "      <td>2.2</td>\n",
       "      <td>2.2</td>\n",
       "      <td>2.2</td>\n",
       "      <td>2.2</td>\n",
       "      <td>2.2</td>\n",
       "      <td>2.2</td>\n",
       "      <td>2.2</td>\n",
       "      <td>...</td>\n",
       "      <td>3.8</td>\n",
       "      <td>3.8</td>\n",
       "      <td>3.8</td>\n",
       "      <td>3.8</td>\n",
       "      <td>3.8</td>\n",
       "      <td>3.8</td>\n",
       "      <td>NaN</td>\n",
       "      <td>NaN</td>\n",
       "      <td>NaN</td>\n",
       "      <td>3.8</td>\n",
       "    </tr>\n",
       "    <tr>\n",
       "      <th>27</th>\n",
       "      <td>2020-01-01</td>\n",
       "      <td>-11.1</td>\n",
       "      <td>-11.1</td>\n",
       "      <td>-11.1</td>\n",
       "      <td>-11.1</td>\n",
       "      <td>-11.1</td>\n",
       "      <td>-11.1</td>\n",
       "      <td>-11.0</td>\n",
       "      <td>-11.0</td>\n",
       "      <td>-11.0</td>\n",
       "      <td>...</td>\n",
       "      <td>-10.3</td>\n",
       "      <td>-10.3</td>\n",
       "      <td>-10.3</td>\n",
       "      <td>-10.1</td>\n",
       "      <td>-10.1</td>\n",
       "      <td>-10.1</td>\n",
       "      <td>-10.1</td>\n",
       "      <td>-10.1</td>\n",
       "      <td>-10.1</td>\n",
       "      <td>-10.1</td>\n",
       "    </tr>\n",
       "    <tr>\n",
       "      <th>28</th>\n",
       "      <td>2021-01-01</td>\n",
       "      <td>13.3</td>\n",
       "      <td>13.3</td>\n",
       "      <td>13.3</td>\n",
       "      <td>13.5</td>\n",
       "      <td>13.5</td>\n",
       "      <td>13.5</td>\n",
       "      <td>13.6</td>\n",
       "      <td>13.6</td>\n",
       "      <td>13.6</td>\n",
       "      <td>...</td>\n",
       "      <td>NaN</td>\n",
       "      <td>NaN</td>\n",
       "      <td>NaN</td>\n",
       "      <td>NaN</td>\n",
       "      <td>NaN</td>\n",
       "      <td>NaN</td>\n",
       "      <td>NaN</td>\n",
       "      <td>NaN</td>\n",
       "      <td>NaN</td>\n",
       "      <td>11.5</td>\n",
       "    </tr>\n",
       "    <tr>\n",
       "      <th>29</th>\n",
       "      <td>2022-01-01</td>\n",
       "      <td>2.7</td>\n",
       "      <td>2.7</td>\n",
       "      <td>2.7</td>\n",
       "      <td>2.7</td>\n",
       "      <td>2.7</td>\n",
       "      <td>2.7</td>\n",
       "      <td>2.7</td>\n",
       "      <td>2.7</td>\n",
       "      <td>2.7</td>\n",
       "      <td>...</td>\n",
       "      <td>NaN</td>\n",
       "      <td>NaN</td>\n",
       "      <td>NaN</td>\n",
       "      <td>NaN</td>\n",
       "      <td>NaN</td>\n",
       "      <td>NaN</td>\n",
       "      <td>NaN</td>\n",
       "      <td>NaN</td>\n",
       "      <td>NaN</td>\n",
       "      <td>3.3</td>\n",
       "    </tr>\n",
       "    <tr>\n",
       "      <th>30</th>\n",
       "      <td>2023-01-01</td>\n",
       "      <td>-0.6</td>\n",
       "      <td>-0.6</td>\n",
       "      <td>-0.6</td>\n",
       "      <td>-0.6</td>\n",
       "      <td>-0.6</td>\n",
       "      <td>NaN</td>\n",
       "      <td>NaN</td>\n",
       "      <td>NaN</td>\n",
       "      <td>NaN</td>\n",
       "      <td>...</td>\n",
       "      <td>NaN</td>\n",
       "      <td>NaN</td>\n",
       "      <td>NaN</td>\n",
       "      <td>NaN</td>\n",
       "      <td>NaN</td>\n",
       "      <td>NaN</td>\n",
       "      <td>NaN</td>\n",
       "      <td>NaN</td>\n",
       "      <td>NaN</td>\n",
       "      <td>-0.4</td>\n",
       "    </tr>\n",
       "  </tbody>\n",
       "</table>\n",
       "<p>31 rows × 361 columns</p>\n",
       "</div>"
      ],
      "text/plain": [
       "   vintages_date  gdp_release_1  gdp_release_2  gdp_release_3  gdp_release_4  \\\n",
       "0     1993-01-01            6.4            6.4            6.4            NaN   \n",
       "1     1994-01-01           13.1           13.1           13.1           13.1   \n",
       "2     1995-01-01            7.0            7.0            7.0            7.0   \n",
       "3     1996-01-01            2.8            2.8            2.8            2.8   \n",
       "4     1997-01-01            7.4            7.4            7.4            7.2   \n",
       "5     1998-01-01            0.7            0.7            0.7            0.7   \n",
       "6     1999-01-01            3.8            3.8            3.8            3.8   \n",
       "7     2000-01-01            3.6            3.6            3.6            3.6   \n",
       "8     2001-01-01            0.2            0.2            0.2            0.2   \n",
       "9     2002-01-01            5.2            5.2            5.2            5.3   \n",
       "10    2003-01-01            4.0            4.0            4.0            4.1   \n",
       "11    2004-01-01            5.1            5.1            5.1            4.8   \n",
       "12    2005-01-01            6.7            6.7            6.7            6.6   \n",
       "13    2006-01-01            8.0            8.0            8.0            8.0   \n",
       "14    2007-01-01            9.0            9.0            9.0            9.0   \n",
       "15    2008-01-01            9.8            9.8            9.8            9.8   \n",
       "16    2009-01-01            0.9            0.9            0.9            0.9   \n",
       "17    2010-01-01            8.8            8.8            8.8            8.8   \n",
       "18    2011-01-01            6.9            6.9            6.9            6.9   \n",
       "19    2012-01-01            6.3            6.3            6.3            6.3   \n",
       "20    2013-01-01            5.0            NaN            NaN            NaN   \n",
       "21    2014-01-01            2.4            2.4            2.4            2.4   \n",
       "22    2015-01-01            3.3            3.3            3.3            3.3   \n",
       "23    2016-01-01            3.9            3.9            3.9            3.9   \n",
       "24    2017-01-01            2.5            2.5            2.5            2.5   \n",
       "25    2018-01-01            4.0            4.0            4.0            4.0   \n",
       "26    2019-01-01            2.2            2.2            2.2            2.2   \n",
       "27    2020-01-01          -11.1          -11.1          -11.1          -11.1   \n",
       "28    2021-01-01           13.3           13.3           13.3           13.5   \n",
       "29    2022-01-01            2.7            2.7            2.7            2.7   \n",
       "30    2023-01-01           -0.6           -0.6           -0.6           -0.6   \n",
       "\n",
       "    gdp_release_5  gdp_release_6  gdp_release_7  gdp_release_8  gdp_release_9  \\\n",
       "0             NaN            NaN            NaN            NaN            NaN   \n",
       "1            13.1            NaN            NaN            NaN            NaN   \n",
       "2             7.0            7.2            7.2            7.2            7.2   \n",
       "3             2.6            2.6            2.6            2.6            2.6   \n",
       "4             7.2            7.2            7.2            7.2            7.2   \n",
       "5             0.7            0.3            0.3            0.3            0.3   \n",
       "6             3.8            NaN            NaN            NaN            NaN   \n",
       "7             3.6            3.1            3.1            3.1            3.1   \n",
       "8             0.2            0.2            0.2            0.2            0.2   \n",
       "9             5.3            5.3            5.3            5.3            5.3   \n",
       "10            4.1            4.1            3.8            3.8            3.8   \n",
       "11            4.8            4.8            4.8            4.8            4.8   \n",
       "12            6.4            6.4            6.4            6.4            6.4   \n",
       "13            8.0            8.0            7.6            7.6            7.6   \n",
       "14            8.9            8.9            8.9            8.9            8.9   \n",
       "15            9.8            9.8            9.8            9.8            9.8   \n",
       "16            0.9            0.9            0.9            0.9            0.9   \n",
       "17            8.8            8.8            8.8            8.8            8.8   \n",
       "18            6.9            6.9            6.9            6.9            6.9   \n",
       "19            6.3            6.3            6.3            6.3            6.3   \n",
       "20            NaN            NaN            NaN            NaN            NaN   \n",
       "21            2.4            2.4            2.4            2.4            2.4   \n",
       "22            3.3            3.3            3.3            3.3            3.3   \n",
       "23            3.9            3.9            4.0            4.0            4.0   \n",
       "24            2.5            2.5            2.5            2.5            2.5   \n",
       "25            4.0            4.0            4.0            4.0            4.0   \n",
       "26            2.2            2.2            2.2            2.2            2.2   \n",
       "27          -11.1          -11.1          -11.0          -11.0          -11.0   \n",
       "28           13.5           13.5           13.6           13.6           13.6   \n",
       "29            2.7            2.7            2.7            2.7            2.7   \n",
       "30           -0.6            NaN            NaN            NaN            NaN   \n",
       "\n",
       "    ...  services_release_31  services_release_32  services_release_33  \\\n",
       "0   ...                  NaN                  NaN                  NaN   \n",
       "1   ...                  NaN                  NaN                  NaN   \n",
       "2   ...                  NaN                  NaN                  NaN   \n",
       "3   ...                  NaN                  NaN                  NaN   \n",
       "4   ...                  NaN                  NaN                  NaN   \n",
       "5   ...                  NaN                  NaN                  NaN   \n",
       "6   ...                  NaN                  NaN                  NaN   \n",
       "7   ...                  NaN                  NaN                  NaN   \n",
       "8   ...                  NaN                  NaN                  NaN   \n",
       "9   ...                  NaN                  NaN                  NaN   \n",
       "10  ...                  NaN                  NaN                  NaN   \n",
       "11  ...                  NaN                  NaN                  NaN   \n",
       "12  ...                  NaN                  NaN                  NaN   \n",
       "13  ...                  NaN                  NaN                  NaN   \n",
       "14  ...                  NaN                  NaN                  NaN   \n",
       "15  ...                  NaN                  NaN                  NaN   \n",
       "16  ...                  NaN                  NaN                  NaN   \n",
       "17  ...                  7.7                  NaN                  NaN   \n",
       "18  ...                  NaN                  NaN                  NaN   \n",
       "19  ...                  NaN                  NaN                  NaN   \n",
       "20  ...                  NaN                  NaN                  NaN   \n",
       "21  ...                  NaN                  NaN                  NaN   \n",
       "22  ...                  NaN                  NaN                  NaN   \n",
       "23  ...                  NaN                  NaN                  NaN   \n",
       "24  ...                  3.3                  3.3                  2.6   \n",
       "25  ...                  4.4                  4.4                  4.3   \n",
       "26  ...                  3.8                  3.8                  3.8   \n",
       "27  ...                -10.3                -10.3                -10.3   \n",
       "28  ...                  NaN                  NaN                  NaN   \n",
       "29  ...                  NaN                  NaN                  NaN   \n",
       "30  ...                  NaN                  NaN                  NaN   \n",
       "\n",
       "    services_release_34  services_release_35  services_release_36  \\\n",
       "0                   NaN                  NaN                  NaN   \n",
       "1                   NaN                  NaN                  NaN   \n",
       "2                   NaN                  NaN                  NaN   \n",
       "3                   NaN                  NaN                  NaN   \n",
       "4                   NaN                  NaN                  NaN   \n",
       "5                   NaN                  NaN                  NaN   \n",
       "6                   NaN                  NaN                  NaN   \n",
       "7                   NaN                  NaN                  NaN   \n",
       "8                   NaN                  NaN                  NaN   \n",
       "9                   NaN                  NaN                  NaN   \n",
       "10                  NaN                  NaN                  NaN   \n",
       "11                  NaN                  NaN                  NaN   \n",
       "12                  NaN                  NaN                  NaN   \n",
       "13                  NaN                  NaN                  NaN   \n",
       "14                  NaN                  NaN                  NaN   \n",
       "15                  NaN                  NaN                  NaN   \n",
       "16                  NaN                  NaN                  NaN   \n",
       "17                  NaN                  NaN                  NaN   \n",
       "18                  NaN                  NaN                  NaN   \n",
       "19                  NaN                  NaN                  NaN   \n",
       "20                  NaN                  NaN                  NaN   \n",
       "21                  NaN                  NaN                  NaN   \n",
       "22                  NaN                  NaN                  NaN   \n",
       "23                  NaN                  NaN                  NaN   \n",
       "24                  2.6                  3.4                  NaN   \n",
       "25                  NaN                  NaN                  NaN   \n",
       "26                  3.8                  3.8                  3.8   \n",
       "27                -10.1                -10.1                -10.1   \n",
       "28                  NaN                  NaN                  NaN   \n",
       "29                  NaN                  NaN                  NaN   \n",
       "30                  NaN                  NaN                  NaN   \n",
       "\n",
       "    services_release_37  services_release_38  services_release_39  \\\n",
       "0                   NaN                  NaN                  NaN   \n",
       "1                   NaN                  NaN                  NaN   \n",
       "2                   NaN                  NaN                  NaN   \n",
       "3                   NaN                  NaN                  NaN   \n",
       "4                   NaN                  NaN                  NaN   \n",
       "5                   NaN                  NaN                  NaN   \n",
       "6                   NaN                  NaN                  NaN   \n",
       "7                   NaN                  NaN                  NaN   \n",
       "8                   NaN                  NaN                  NaN   \n",
       "9                   NaN                  NaN                  NaN   \n",
       "10                  NaN                  NaN                  NaN   \n",
       "11                  NaN                  NaN                  NaN   \n",
       "12                  NaN                  NaN                  NaN   \n",
       "13                  NaN                  NaN                  NaN   \n",
       "14                  NaN                  NaN                  NaN   \n",
       "15                  NaN                  NaN                  NaN   \n",
       "16                  NaN                  NaN                  NaN   \n",
       "17                  NaN                  NaN                  NaN   \n",
       "18                  NaN                  NaN                  NaN   \n",
       "19                  NaN                  NaN                  NaN   \n",
       "20                  NaN                  NaN                  NaN   \n",
       "21                  NaN                  NaN                  NaN   \n",
       "22                  NaN                  NaN                  NaN   \n",
       "23                  NaN                  NaN                  NaN   \n",
       "24                  NaN                  NaN                  NaN   \n",
       "25                  NaN                  NaN                  NaN   \n",
       "26                  NaN                  NaN                  NaN   \n",
       "27                -10.1                -10.1                -10.1   \n",
       "28                  NaN                  NaN                  NaN   \n",
       "29                  NaN                  NaN                  NaN   \n",
       "30                  NaN                  NaN                  NaN   \n",
       "\n",
       "    services_most_recent  \n",
       "0                    NaN  \n",
       "1                    NaN  \n",
       "2                    7.0  \n",
       "3                    3.2  \n",
       "4                    5.3  \n",
       "5                    1.5  \n",
       "6                    1.5  \n",
       "7                    1.8  \n",
       "8                   -0.3  \n",
       "9                    3.8  \n",
       "10                   4.6  \n",
       "11                   4.4  \n",
       "12                   6.8  \n",
       "13                   6.8  \n",
       "14                   9.0  \n",
       "15                   9.1  \n",
       "16                   3.1  \n",
       "17                   7.7  \n",
       "18                   8.1  \n",
       "19                   7.1  \n",
       "20                   5.8  \n",
       "21                   5.0  \n",
       "22                   4.1  \n",
       "23                   4.1  \n",
       "24                   3.4  \n",
       "25                   4.3  \n",
       "26                   3.8  \n",
       "27                 -10.1  \n",
       "28                  11.5  \n",
       "29                   3.3  \n",
       "30                  -0.4  \n",
       "\n",
       "[31 rows x 361 columns]"
      ]
     },
     "execution_count": 83,
     "metadata": {},
     "output_type": "execute_result"
    }
   ],
   "source": [
    "merged_df = merge_dataframes_by_vintage('monthly', df_1, df_2, df_3, df_4, df_5, df_6, df_7, df_8, df_9)\n",
    "merged_df"
   ]
  },
  {
   "cell_type": "code",
   "execution_count": 84,
   "id": "0027e34f",
   "metadata": {},
   "outputs": [
    {
     "data": {
      "text/plain": [
       "Index(['vintages_date', 'gdp_release_1', 'gdp_release_2', 'gdp_release_3',\n",
       "       'gdp_release_4', 'gdp_release_5', 'gdp_release_6', 'gdp_release_7',\n",
       "       'gdp_release_8', 'gdp_release_9',\n",
       "       ...\n",
       "       'services_release_31', 'services_release_32', 'services_release_33',\n",
       "       'services_release_34', 'services_release_35', 'services_release_36',\n",
       "       'services_release_37', 'services_release_38', 'services_release_39',\n",
       "       'services_most_recent'],\n",
       "      dtype='object', length=361)"
      ]
     },
     "execution_count": 84,
     "metadata": {},
     "output_type": "execute_result"
    }
   ],
   "source": [
    "merged_df.columns"
   ]
  },
  {
   "cell_type": "markdown",
   "id": "906e9cbd",
   "metadata": {},
   "source": [
    "<div id=\"step-6-5\">\n",
    "   <!-- Contenido de la celda de destino -->\n",
    "</div>"
   ]
  },
  {
   "cell_type": "markdown",
   "id": "b719eac4",
   "metadata": {},
   "source": [
    "<div style=\"text-align: left; font-family: 'PT Serif Pro Book'; font-size:22px\">\n",
    "    <span style=\"font-size: 24px; color: rgb(0, 65, 75)\">&#10126;</span> <span>Load to PostgresSQL</span>\n",
    "  </div>"
   ]
  },
  {
   "cell_type": "markdown",
   "id": "07c71bcd",
   "metadata": {},
   "source": [
    "<div style=\"font-family: PT Serif Pro Book; text-align: left; color: dark; font-size: 16px;\">\n",
    "    <span style=\"font-size: 20px; color: rgb(255, 32, 78); font-weight: bold;\">\n",
    "        <a href=\"#steps-6\" style=\"color: #006769; text-decoration: none;\">⮝</a>\n",
    "    </span> \n",
    "    <a href=\"#steps-6\" style=\"color: #006769; text-decoration: none;\">Back to steps.</a>\n",
    "</div>"
   ]
  },
  {
   "cell_type": "code",
   "execution_count": 85,
   "id": "0bc064bd",
   "metadata": {},
   "outputs": [
    {
     "data": {
      "text/plain": [
       "31"
      ]
     },
     "execution_count": 85,
     "metadata": {},
     "output_type": "execute_result"
    }
   ],
   "source": [
    "merged_df.to_sql(f'sectorial_gdp_{frequency}_releases', engine, index=False, if_exists='replace')"
   ]
  },
  {
   "cell_type": "markdown",
   "id": "60300fdd",
   "metadata": {},
   "source": [
    "<div style=\"font-family: PT Serif Pro Book; text-align: left; color: dark; font-size: 16px;\">\n",
    "    <span style=\"font-size: 20px; color: rgb(255, 32, 78); font-weight: bold;\">\n",
    "        <a href=\"#step-5-1\" style=\"color: rgb(255, 32, 78); text-decoration: none;\">⮝</a>\n",
    "    </span> \n",
    "    <a href=\"#step-5-1\" style=\"color: rgb(255, 32, 78); text-decoration: none;\">Back to <b>select economic sector</b>.</a>\n",
    "</div>"
   ]
  },
  {
   "cell_type": "markdown",
   "id": "692d9302",
   "metadata": {},
   "source": [
    "<div style=\"font-family: PT Serif Pro Book; text-align: left; color: dark; font-size: 16px;\">\n",
    "    <span style=\"font-size: 30px; color: rgb(255, 32, 78); font-weight: bold;\">\n",
    "        <a href=\"#outilne\" style=\"color: rgb(0, 153, 123); text-decoration: none;\">&#11180;</a>\n",
    "    </span> \n",
    "    <a href=\"#outilne\" style=\"color: rgb(0, 153, 123); text-decoration: none;\">Back to the outline.</a>\n",
    "</div>"
   ]
  },
  {
   "cell_type": "code",
   "execution_count": null,
   "id": "59f0c91a",
   "metadata": {},
   "outputs": [],
   "source": []
  },
  {
   "cell_type": "code",
   "execution_count": null,
   "id": "d32d8c34",
   "metadata": {},
   "outputs": [],
   "source": []
  }
 ],
 "metadata": {
  "kernelspec": {
   "display_name": "gdp_revisions",
   "language": "python",
   "name": "gdp_revisions"
  },
  "language_info": {
   "codemirror_mode": {
    "name": "ipython",
    "version": 3
   },
   "file_extension": ".py",
   "mimetype": "text/x-python",
   "name": "python",
   "nbconvert_exporter": "python",
   "pygments_lexer": "ipython3",
   "version": "3.12.1"
  }
 },
 "nbformat": 4,
 "nbformat_minor": 5
}
