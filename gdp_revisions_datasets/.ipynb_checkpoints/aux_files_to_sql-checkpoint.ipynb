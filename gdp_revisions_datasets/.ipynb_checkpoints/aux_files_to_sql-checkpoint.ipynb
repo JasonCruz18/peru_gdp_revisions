{
 "cells": [
  {
   "cell_type": "code",
   "execution_count": null,
   "id": "6b39b490",
   "metadata": {},
   "outputs": [],
   "source": []
  },
  {
   "cell_type": "markdown",
   "id": "3e7a0645",
   "metadata": {},
   "source": [
    "<div style=\"text-align: center; font-family: 'charter bt pro roman'; color: rgb(0, 65, 75);\">\n",
    "    <h1>\n",
    "    Auxiliar Files to PostgresSQL\n",
    "    </h1>\n",
    "</div>"
   ]
  },
  {
   "cell_type": "markdown",
   "id": "ce205c88",
   "metadata": {},
   "source": [
    "<div style=\"text-align: center; font-family: 'charter bt pro roman'; color: rgb(0, 65, 75);\">\n",
    "    <h3>\n",
    "        Documentation\n",
    "        <br>\n",
    "        ____________________\n",
    "            </br>\n",
    "    </h3>\n",
    "</div>"
   ]
  },
  {
   "cell_type": "markdown",
   "id": "3adf7d9d",
   "metadata": {},
   "source": [
    "<div style=\"text-align: center; font-family: 'PT Serif Pro Book'; color: rgb(0, 65, 75); font-size: 16px;\">\n",
    "    Jason Cruz\n",
    "    <br>\n",
    "    <a href=\"mailto:jj.cruza@up.edu.pe\" style=\"color: rgb(0, 153, 123); font-size: 16px;\">\n",
    "        jj.cruza@up.edu.pe\n",
    "    </a>\n",
    "</div>"
   ]
  },
  {
   "cell_type": "markdown",
   "id": "3ec9c893",
   "metadata": {},
   "source": [
    "<div style=\"font-family: Amaya; text-align: left; color: rgb(0, 65, 75); font-size:16px\">The following <b>outline is functional</b>. By utilising the provided buttons, users are able to enhance their experience by browsing this script.<div/>"
   ]
  },
  {
   "cell_type": "markdown",
   "id": "5f2fd8a6",
   "metadata": {},
   "source": [
    "<div id=\"outilne\">\n",
    "   <!-- Contenido de la celda de destino -->\n",
    "</div>"
   ]
  },
  {
   "cell_type": "markdown",
   "id": "11528b55",
   "metadata": {},
   "source": [
    "<div style=\"background-color: #292929; padding: 10px; font-family: 'PT Serif Pro Book';\">\n",
    "    <h2 style=\"text-align: left; color: #E0E0E0;\">\n",
    "        Outline\n",
    "    </h2>\n",
    "    <br>\n",
    "    <a href=\"#libraries\" style=\"color: #94FFD8; font-size: 18px;\">\n",
    "        Libraries</a>\n",
    "    <br>\n",
    "    <a href=\"#setup\" style=\"color: #94FFD8; font-size: 18px;\">\n",
    "        Initial set-up</a>\n",
    "    <br>\n",
    "    <a href=\"#1\" style=\"color: #94FFD8; font-size: 18px;\">\n",
    "        1. Loading gdp_percentage_structure</a>\n",
    "    <br>\n",
    "    <a href=\"#2\" style=\"color: #94FFD8; font-size: 18px;\">\n",
    "        2. Generate PDF input with key tables</a>\n",
    "    <br>\n",
    "    <a href=\"#3\" style=\"color: #94FFD8; font-size: 18px;\">    \n",
    "        3. Load date, year, id and base year data</a>\n",
    "    <br>\n",
    "    <a href=\"#4\" style=\"color: #94FFD8; font-size: 18px;\">    \n",
    "        4. Load dummies for raw data delivered by Central Bank</a>\n",
    "    <br>\n",
    "    <a href=\"#5\" style=\"color: #94FFD8; font-size: 18px;\">    \n",
    "        5. Concatenate old_gdp_dataset with new_gdp_dataset</a>\n",
    "</div>\n"
   ]
  },
  {
   "cell_type": "markdown",
   "id": "1e253675",
   "metadata": {},
   "source": [
    "<div style=\"text-align: left; font-family: 'PT Serif Pro Book'; color: dark; font-size:16px\">\n",
    "    Any questions or issues regarding the coding, please <a href=\"mailto:jj.cruza@alum.up.edu.pe\" style=\"color: rgb(0, 153, 123)\">email Jason Cruz\n",
    "    </a>.\n",
    "    <div/>"
   ]
  },
  {
   "cell_type": "markdown",
   "id": "33ac4954",
   "metadata": {},
   "source": [
    "<div style=\"text-align: left; font-family: 'PT Serif Pro Book'; color: dark; font-size:16px\"\">\n",
    "    If you don't have the libraries below, please use the following code (as example) to install the required libraries.\n",
    "    <div/>"
   ]
  },
  {
   "cell_type": "code",
   "execution_count": null,
   "id": "cdd39234",
   "metadata": {},
   "outputs": [],
   "source": [
    "#!pip install os # Comment this code with \"#\" if you have already installed this library."
   ]
  },
  {
   "cell_type": "markdown",
   "id": "8605c30e",
   "metadata": {},
   "source": [
    "<div id=\"libraries\">\n",
    "   <!-- Contenido de la celda de destino -->\n",
    "</div>"
   ]
  },
  {
   "cell_type": "markdown",
   "id": "d067139c",
   "metadata": {},
   "source": [
    "<div style=\"text-align: left; font-family: 'PT Serif Pro Book'; color: dark;\">\n",
    "    <h2>\n",
    "    Libraries\n",
    "    </h2>\n",
    "    <div/>"
   ]
  },
  {
   "cell_type": "code",
   "execution_count": 1,
   "id": "7be7e507",
   "metadata": {},
   "outputs": [],
   "source": [
    "import pandas as pd\n",
    "import os\n",
    "from sqlalchemy import create_engine"
   ]
  },
  {
   "cell_type": "markdown",
   "id": "84c03d93",
   "metadata": {},
   "source": [
    "<div style=\"font-family: PT Serif Pro Book; text-align: left; color: dark; font-size: 16px;\">\n",
    "    <span style=\"font-size: 30px; color: rgb(255, 32, 78); font-weight: bold;\">\n",
    "        <a href=\"#outilne\" style=\"color: rgb(0, 153, 123); text-decoration: none;\">&#11180;</a>\n",
    "    </span> \n",
    "    <a href=\"#outilne\" style=\"color: rgb(0, 153, 123); text-decoration: none;\">Back to the outline.</a>\n",
    "</div>"
   ]
  },
  {
   "cell_type": "markdown",
   "id": "ce8edb17",
   "metadata": {},
   "source": [
    "<div id=\"setup\">\n",
    "   <!-- Contenido de la celda de destino -->\n",
    "</div>"
   ]
  },
  {
   "cell_type": "markdown",
   "id": "a3667250",
   "metadata": {},
   "source": [
    "<div style=\"text-align: left; font-family: 'PT Serif Pro Book'; color: dark;\">\n",
    "    <h2>\n",
    "    Initial set-up\n",
    "    </h2>\n",
    "    <div/>"
   ]
  },
  {
   "cell_type": "markdown",
   "id": "fda38284",
   "metadata": {},
   "source": [
    "<div style=\"font-family: PT Serif Pro Book; text-align: left; color:dark; font-size:16px\"> The following code lines will create folders in your current path, call them to import and export your outputs. <div/>"
   ]
  },
  {
   "cell_type": "code",
   "execution_count": 2,
   "id": "99497a7d",
   "metadata": {},
   "outputs": [],
   "source": [
    "# Folder path to save the csv file of GDP percentage structure\n",
    "\n",
    "gdp_perc_structure_folder = 'gdp_perc_structure'\n",
    "if not os.path.exists(gdp_perc_structure_folder):\n",
    "    os.makedirs(gdp_perc_structure_folder) # to create the folder (if it doesn't exist)"
   ]
  },
  {
   "cell_type": "code",
   "execution_count": 3,
   "id": "20994e9e",
   "metadata": {},
   "outputs": [],
   "source": [
    "# Folder path to save the csv file of NS dates\n",
    "\n",
    "ns_dates_folder = 'ns_dates'\n",
    "if not os.path.exists(ns_dates_folder):\n",
    "    os.makedirs(ns_dates_folder) # to create the folder (if it doesn't exist)"
   ]
  },
  {
   "cell_type": "code",
   "execution_count": 4,
   "id": "3058b116",
   "metadata": {},
   "outputs": [],
   "source": [
    "# Folder path to save the csv file of NS base year\n",
    "\n",
    "ns_base_year_folder = 'ns_base_year'\n",
    "if not os.path.exists(ns_base_year_folder):\n",
    "    os.makedirs(ns_base_year_folder) # to create the folder (if it doesn't exist)"
   ]
  },
  {
   "cell_type": "code",
   "execution_count": 5,
   "id": "beb4987e",
   "metadata": {},
   "outputs": [],
   "source": [
    "# Folder path to save the xlsx files delivered by Central Bank\n",
    "\n",
    "data_delivered_folder = 'old_raw_data_delivered'\n",
    "if not os.path.exists(data_delivered_folder):\n",
    "    os.makedirs(data_delivered_folder) # to create the folder (if it doesn't exist)"
   ]
  },
  {
   "cell_type": "markdown",
   "id": "97f4bd9b",
   "metadata": {},
   "source": [
    "<p style=\"font-family: PT Serif Pro Book; text-align: left; color:dark; font-size:16px\"> The following function will establish a connection to the <code>gdp_revisions_datasets</code> database in <code>PostgreSQL</code>. The <b>input data</b> used in this jupyter notebook will be loaded from this <code>PostgreSQL</code> database, and similarly, all <b>output data</b> generated by this jupyter notebook will be stored in that database. Ensure that you set the necessary parameters to access the server once you have obtained the required permissions.<p/>\n",
    "    \n",
    "<p style=\"text-align: left; font-family: 'PT Serif Pro Book'; color: dark; font-size:16px\">\n",
    "To request permissions, please email Jason Cruz <a href=\"mailto:jj.cruza@alum.up.edu.pe\" style=\"color: rgb(0, 153, 123); text-decoration: none;\"> <span style=\"font-size: 24px;\">&#x2709;</span>\n",
    "    </a>.\n",
    "<p/>"
   ]
  },
  {
   "cell_type": "markdown",
   "id": "14149b86",
   "metadata": {},
   "source": [
    "<div style=\"text-align: left; font-family: 'PT Serif Pro Book'; color: dark; font-size:16px\">\n",
    "    <span style=\"font-size: 24px; color: #FFA823; font-weight: bold;\">&#9888;</span>\n",
    "    Enter your user credentials to acces to SQL.\n",
    "    <div/>"
   ]
  },
  {
   "cell_type": "code",
   "execution_count": 6,
   "id": "fde300b7",
   "metadata": {},
   "outputs": [],
   "source": [
    "# Get environment variables\n",
    "user = os.environ.get('CIUP_SQL_USER')\n",
    "password = os.environ.get('CIUP_SQL_PASS')\n",
    "host = os.environ.get('CIUP_SQL_HOST')\n",
    "port = 5432\n",
    "database = 'gdp_revisions_datasets'\n",
    "\n",
    "# Check if all environment variables are defined\n",
    "if not all([host, user, password]):\n",
    "    raise ValueError(\"Some environment variables are missing (CIUP_SQL_HOST, CIUP_SQL_USER, CIUP_SQL_PASS)\")\n",
    "\n",
    "# Create connection string\n",
    "connection_string = f\"postgresql://{user}:{password}@{host}:{port}/{database}\"\n",
    "\n",
    "# Create SQLAlchemy engine\n",
    "engine = create_engine(connection_string)"
   ]
  },
  {
   "cell_type": "markdown",
   "id": "8d4d4dfb",
   "metadata": {},
   "source": [
    "<div style=\"text-align: left;\">\n",
    "    <span style=\"font-size: 24px; color: rgb(255, 32, 78); font-weight: bold;\">&#9888;</span>\n",
    "    <span style=\"font-family: PT Serif Pro Book; color: black; font-size: 16px;\">\n",
    "        Import all other functions required by this jupyter notebook.\n",
    "    </span>\n",
    "</div>"
   ]
  },
  {
   "cell_type": "markdown",
   "id": "5483f363",
   "metadata": {},
   "source": [
    "<div style=\"font-family: PT Serif Pro Book; text-align: left; color:dark; font-size:16px\"> Please, check the script <code>gdp_revisions_datasets_functions.py</code> which contains all the functions required by this jupyter notebook. The functions there are ordered according to the <a href=\"#outilne\" style=\"color: #3d30a2;\">sections</a> of this jupyter notebok.<div/>"
   ]
  },
  {
   "cell_type": "code",
   "execution_count": 7,
   "id": "766a4304",
   "metadata": {},
   "outputs": [],
   "source": [
    "from gdp_revisions_datasets_functions import *"
   ]
  },
  {
   "cell_type": "markdown",
   "id": "53531869",
   "metadata": {},
   "source": [
    "<div style=\"font-family: PT Serif Pro Book; text-align: left; color: dark; font-size: 16px;\">\n",
    "    <span style=\"font-size: 30px; color: rgb(255, 32, 78); font-weight: bold;\">\n",
    "        <a href=\"#outilne\" style=\"color: rgb(0, 153, 123); text-decoration: none;\">&#11180;</a>\n",
    "    </span> \n",
    "    <a href=\"#outilne\" style=\"color: rgb(0, 153, 123); text-decoration: none;\">Back to the outline.</a>\n",
    "</div>"
   ]
  },
  {
   "cell_type": "markdown",
   "id": "e0a0baeb",
   "metadata": {},
   "source": [
    "<div id=\"1\">\n",
    "   <!-- Contenido de la celda de destino -->\n",
    "</div>"
   ]
  },
  {
   "cell_type": "markdown",
   "id": "e86b549d",
   "metadata": {},
   "source": [
    "<div style=\"background-color: #00414C; color: white; padding: 10px;\">\n",
    "<h1><span style = \"color: #15F5BA; font-family: 'PT Serif Pro Book'; color: dark;\">1.</span> <span style = \"color: dark; font-family: PT Serif Pro Book;\">Loading gdp_percentage_structure</span></h1>\n",
    "    </div>"
   ]
  },
  {
   "cell_type": "code",
   "execution_count": null,
   "id": "7e2ed8e9",
   "metadata": {},
   "outputs": [],
   "source": [
    "# Loading csv data\n",
    "gdp_percentage_structure = f'{gdp_perc_structure_folder}/gdp_percentage_structure.csv'\n",
    "\n",
    "# Reads the CSV file in a DataFrame, specifying that the delimiter is the comma\n",
    "gdp_percentage_structure = pd.read_csv(gdp_percentage_structure, delimiter=';')\n",
    "gdp_percentage_structure.head(5)"
   ]
  },
  {
   "cell_type": "markdown",
   "id": "57c5e1d9",
   "metadata": {},
   "source": [
    "<div style=\"font-family: PT Serif Pro Book; text-align: left; color:dark; font-size:16px\"> Loading to SQL.<div/>"
   ]
  },
  {
   "cell_type": "code",
   "execution_count": null,
   "id": "c8af066c",
   "metadata": {},
   "outputs": [],
   "source": [
    "gdp_percentage_structure.to_sql('gdp_percentage_structure', engine, index=False, if_exists='replace')"
   ]
  },
  {
   "cell_type": "markdown",
   "id": "97d116d0",
   "metadata": {},
   "source": [
    "<div style=\"font-family: PT Serif Pro Book; text-align: left; color: dark; font-size: 16px;\">\n",
    "    <span style=\"font-size: 30px; color: rgb(255, 32, 78); font-weight: bold;\">\n",
    "        <a href=\"#outilne\" style=\"color: rgb(0, 153, 123); text-decoration: none;\">&#11180;</a>\n",
    "    </span> \n",
    "    <a href=\"#outilne\" style=\"color: rgb(0, 153, 123); text-decoration: none;\">Back to the outline.</a>\n",
    "</div>"
   ]
  },
  {
   "cell_type": "markdown",
   "id": "fe87c79f",
   "metadata": {},
   "source": [
    "<div id=\"2\">\n",
    "   <!-- Contenido de la celda de destino -->\n",
    "</div>"
   ]
  },
  {
   "cell_type": "markdown",
   "id": "243b2dd1",
   "metadata": {},
   "source": [
    "<div style=\"background-color: #00414C; color: white; padding: 10px;\">\n",
    "<h1><span style = \"color: #15F5BA; font-family: 'PT Serif Pro Book'; color: dark;\">2.</span> <span style = \"color: dark; font-family: PT Serif Pro Book;\">Load date, year and id data</span></h1>\n",
    "    </div>"
   ]
  },
  {
   "cell_type": "code",
   "execution_count": 8,
   "id": "2a571a7d",
   "metadata": {},
   "outputs": [
    {
     "data": {
      "text/html": [
       "<div>\n",
       "<style scoped>\n",
       "    .dataframe tbody tr th:only-of-type {\n",
       "        vertical-align: middle;\n",
       "    }\n",
       "\n",
       "    .dataframe tbody tr th {\n",
       "        vertical-align: top;\n",
       "    }\n",
       "\n",
       "    .dataframe thead th {\n",
       "        text-align: right;\n",
       "    }\n",
       "</style>\n",
       "<table border=\"1\" class=\"dataframe\">\n",
       "  <thead>\n",
       "    <tr style=\"text-align: right;\">\n",
       "      <th></th>\n",
       "      <th>year</th>\n",
       "      <th>id_ns</th>\n",
       "      <th>date</th>\n",
       "    </tr>\n",
       "  </thead>\n",
       "  <tbody>\n",
       "    <tr>\n",
       "      <th>0</th>\n",
       "      <td>1994</td>\n",
       "      <td>1</td>\n",
       "      <td>10/01/1994</td>\n",
       "    </tr>\n",
       "    <tr>\n",
       "      <th>1</th>\n",
       "      <td>1994</td>\n",
       "      <td>2</td>\n",
       "      <td>17/01/1994</td>\n",
       "    </tr>\n",
       "    <tr>\n",
       "      <th>2</th>\n",
       "      <td>1994</td>\n",
       "      <td>3</td>\n",
       "      <td>24/01/1994</td>\n",
       "    </tr>\n",
       "    <tr>\n",
       "      <th>3</th>\n",
       "      <td>1994</td>\n",
       "      <td>4</td>\n",
       "      <td>1/02/1994</td>\n",
       "    </tr>\n",
       "    <tr>\n",
       "      <th>4</th>\n",
       "      <td>1994</td>\n",
       "      <td>5</td>\n",
       "      <td>7/02/1994</td>\n",
       "    </tr>\n",
       "  </tbody>\n",
       "</table>\n",
       "</div>"
      ],
      "text/plain": [
       "   year  id_ns        date\n",
       "0  1994      1  10/01/1994\n",
       "1  1994      2  17/01/1994\n",
       "2  1994      3  24/01/1994\n",
       "3  1994      4   1/02/1994\n",
       "4  1994      5   7/02/1994"
      ]
     },
     "execution_count": 8,
     "metadata": {},
     "output_type": "execute_result"
    }
   ],
   "source": [
    "# Loading csv data\n",
    "csv_file = f'{ns_dates_folder}/dates.csv'\n",
    "\n",
    "# Reads the CSV file in a DataFrame, specifying that the delimiter is the comma\n",
    "dates = pd.read_csv(csv_file, delimiter=';')\n",
    "dates.head(5)"
   ]
  },
  {
   "cell_type": "markdown",
   "id": "8e4d9201",
   "metadata": {},
   "source": [
    "<div style=\"font-family: PT Serif Pro Book; text-align: left; color:dark; font-size:16px\"> Clean-up the dataframe columns.<div/>"
   ]
  },
  {
   "cell_type": "code",
   "execution_count": 9,
   "id": "279b5da7",
   "metadata": {},
   "outputs": [
    {
     "name": "stdout",
     "output_type": "stream",
     "text": [
      "datetime64[ns]\n",
      "0\n"
     ]
    }
   ],
   "source": [
    "# Convert the 'date' column to datetime type without time\n",
    "dates['date'] = pd.to_datetime(dates['date'], format='%d/%m/%Y', errors='coerce')\n",
    "\n",
    "# Check the data type of the 'date' column after conversion\n",
    "print(dates['date'].dtype)\n",
    "\n",
    "# Check if there are NaT values in the 'date' column\n",
    "print(dates['date'].isnull().sum())"
   ]
  },
  {
   "cell_type": "markdown",
   "id": "f169ba2e",
   "metadata": {},
   "source": [
    "<div style=\"font-family: PT Serif Pro Book; text-align: left; color:dark; font-size:16px\"> Loading to SQL.<div/>"
   ]
  },
  {
   "cell_type": "code",
   "execution_count": 12,
   "id": "1ef26297",
   "metadata": {},
   "outputs": [
    {
     "data": {
      "text/plain": [
       "474"
      ]
     },
     "execution_count": 12,
     "metadata": {},
     "output_type": "execute_result"
    }
   ],
   "source": [
    "dates.to_sql('dates_growth_rates', engine, index=False, if_exists='replace')"
   ]
  },
  {
   "cell_type": "markdown",
   "id": "213f1343",
   "metadata": {},
   "source": [
    "<div style=\"font-family: PT Serif Pro Book; text-align: left; color: dark; font-size: 16px;\">\n",
    "    <span style=\"font-size: 30px; color: rgb(255, 32, 78); font-weight: bold;\">\n",
    "        <a href=\"#outilne\" style=\"color: rgb(0, 153, 123); text-decoration: none;\">&#11180;</a>\n",
    "    </span> \n",
    "    <a href=\"#outilne\" style=\"color: rgb(0, 153, 123); text-decoration: none;\">Back to the outline.</a>\n",
    "</div>"
   ]
  },
  {
   "cell_type": "markdown",
   "id": "51ef0cfa",
   "metadata": {},
   "source": [
    "<div id=\"3\">\n",
    "   <!-- Contenido de la celda de destino -->\n",
    "</div>"
   ]
  },
  {
   "cell_type": "markdown",
   "id": "1e7fda80",
   "metadata": {},
   "source": [
    "<div style=\"background-color: #00414C; color: white; padding: 10px;\">\n",
    "<h1><span style = \"color: #15F5BA; font-family: 'PT Serif Pro Book'; color: dark;\">3.</span> <span style = \"color: dark; font-family: PT Serif Pro Book;\">Load date, year, id and base year data</span></h1>\n",
    "    </div>"
   ]
  },
  {
   "cell_type": "code",
   "execution_count": 56,
   "id": "0d6c828f",
   "metadata": {},
   "outputs": [
    {
     "data": {
      "text/html": [
       "<div>\n",
       "<style scoped>\n",
       "    .dataframe tbody tr th:only-of-type {\n",
       "        vertical-align: middle;\n",
       "    }\n",
       "\n",
       "    .dataframe tbody tr th {\n",
       "        vertical-align: top;\n",
       "    }\n",
       "\n",
       "    .dataframe thead th {\n",
       "        text-align: right;\n",
       "    }\n",
       "</style>\n",
       "<table border=\"1\" class=\"dataframe\">\n",
       "  <thead>\n",
       "    <tr style=\"text-align: right;\">\n",
       "      <th></th>\n",
       "      <th>year</th>\n",
       "      <th>id_ns</th>\n",
       "      <th>date</th>\n",
       "      <th>base_year</th>\n",
       "    </tr>\n",
       "  </thead>\n",
       "  <tbody>\n",
       "    <tr>\n",
       "      <th>0</th>\n",
       "      <td>1994</td>\n",
       "      <td>1</td>\n",
       "      <td>10/01/1994</td>\n",
       "      <td>1990</td>\n",
       "    </tr>\n",
       "    <tr>\n",
       "      <th>1</th>\n",
       "      <td>1994</td>\n",
       "      <td>2</td>\n",
       "      <td>17/01/1994</td>\n",
       "      <td>1990</td>\n",
       "    </tr>\n",
       "    <tr>\n",
       "      <th>2</th>\n",
       "      <td>1994</td>\n",
       "      <td>3</td>\n",
       "      <td>24/01/1994</td>\n",
       "      <td>1990</td>\n",
       "    </tr>\n",
       "    <tr>\n",
       "      <th>3</th>\n",
       "      <td>1994</td>\n",
       "      <td>4</td>\n",
       "      <td>1/02/1994</td>\n",
       "      <td>1990</td>\n",
       "    </tr>\n",
       "    <tr>\n",
       "      <th>4</th>\n",
       "      <td>1994</td>\n",
       "      <td>5</td>\n",
       "      <td>7/02/1994</td>\n",
       "      <td>1990</td>\n",
       "    </tr>\n",
       "  </tbody>\n",
       "</table>\n",
       "</div>"
      ],
      "text/plain": [
       "   year  id_ns        date  base_year\n",
       "0  1994      1  10/01/1994       1990\n",
       "1  1994      2  17/01/1994       1990\n",
       "2  1994      3  24/01/1994       1990\n",
       "3  1994      4   1/02/1994       1990\n",
       "4  1994      5   7/02/1994       1990"
      ]
     },
     "execution_count": 56,
     "metadata": {},
     "output_type": "execute_result"
    }
   ],
   "source": [
    "# Loading csv data\n",
    "csv_file = f'{ns_base_year_folder}/base_year.csv'\n",
    "\n",
    "# Reads the CSV file in a DataFrame, specifying that the delimiter is the comma\n",
    "base_year = pd.read_csv(csv_file, delimiter=';')\n",
    "base_year.head(5)"
   ]
  },
  {
   "cell_type": "markdown",
   "id": "d6c58a77",
   "metadata": {},
   "source": [
    "<div style=\"font-family: PT Serif Pro Book; text-align: left; color:dark; font-size:16px\"> Clean-up the dataframe columns.<div/>"
   ]
  },
  {
   "cell_type": "code",
   "execution_count": 57,
   "id": "8024e9c8",
   "metadata": {},
   "outputs": [
    {
     "name": "stdout",
     "output_type": "stream",
     "text": [
      "datetime64[ns]\n",
      "0\n"
     ]
    }
   ],
   "source": [
    "# Convert the 'date' column to datetime type without time\n",
    "base_year['date'] = pd.to_datetime(base_year['date'], format='%d/%m/%Y', errors='coerce')\n",
    "\n",
    "# Check the data type of the 'date' column after conversion\n",
    "print(base_year['date'].dtype)\n",
    "\n",
    "# Check if there are NaT values in the 'date' column\n",
    "print(base_year['date'].isnull().sum())"
   ]
  },
  {
   "cell_type": "code",
   "execution_count": 62,
   "id": "eb6a202d",
   "metadata": {},
   "outputs": [
    {
     "data": {
      "text/html": [
       "<div>\n",
       "<style scoped>\n",
       "    .dataframe tbody tr th:only-of-type {\n",
       "        vertical-align: middle;\n",
       "    }\n",
       "\n",
       "    .dataframe tbody tr th {\n",
       "        vertical-align: top;\n",
       "    }\n",
       "\n",
       "    .dataframe thead th {\n",
       "        text-align: right;\n",
       "    }\n",
       "</style>\n",
       "<table border=\"1\" class=\"dataframe\">\n",
       "  <thead>\n",
       "    <tr style=\"text-align: right;\">\n",
       "      <th></th>\n",
       "      <th>year</th>\n",
       "      <th>id_ns</th>\n",
       "      <th>date</th>\n",
       "      <th>base_year</th>\n",
       "    </tr>\n",
       "  </thead>\n",
       "  <tbody>\n",
       "    <tr>\n",
       "      <th>0</th>\n",
       "      <td>1994</td>\n",
       "      <td>01</td>\n",
       "      <td>1994-01-10</td>\n",
       "      <td>1990</td>\n",
       "    </tr>\n",
       "    <tr>\n",
       "      <th>1</th>\n",
       "      <td>1994</td>\n",
       "      <td>02</td>\n",
       "      <td>1994-01-17</td>\n",
       "      <td>1990</td>\n",
       "    </tr>\n",
       "    <tr>\n",
       "      <th>2</th>\n",
       "      <td>1994</td>\n",
       "      <td>03</td>\n",
       "      <td>1994-01-24</td>\n",
       "      <td>1990</td>\n",
       "    </tr>\n",
       "    <tr>\n",
       "      <th>3</th>\n",
       "      <td>1994</td>\n",
       "      <td>04</td>\n",
       "      <td>1994-02-01</td>\n",
       "      <td>1990</td>\n",
       "    </tr>\n",
       "    <tr>\n",
       "      <th>4</th>\n",
       "      <td>1994</td>\n",
       "      <td>05</td>\n",
       "      <td>1994-02-07</td>\n",
       "      <td>1990</td>\n",
       "    </tr>\n",
       "    <tr>\n",
       "      <th>5</th>\n",
       "      <td>1994</td>\n",
       "      <td>06</td>\n",
       "      <td>1994-02-14</td>\n",
       "      <td>1990</td>\n",
       "    </tr>\n",
       "    <tr>\n",
       "      <th>6</th>\n",
       "      <td>1994</td>\n",
       "      <td>07</td>\n",
       "      <td>1994-02-21</td>\n",
       "      <td>1990</td>\n",
       "    </tr>\n",
       "    <tr>\n",
       "      <th>7</th>\n",
       "      <td>1994</td>\n",
       "      <td>08</td>\n",
       "      <td>1994-02-28</td>\n",
       "      <td>1990</td>\n",
       "    </tr>\n",
       "    <tr>\n",
       "      <th>8</th>\n",
       "      <td>1994</td>\n",
       "      <td>09</td>\n",
       "      <td>1994-03-04</td>\n",
       "      <td>1990</td>\n",
       "    </tr>\n",
       "    <tr>\n",
       "      <th>9</th>\n",
       "      <td>1994</td>\n",
       "      <td>10</td>\n",
       "      <td>1994-03-14</td>\n",
       "      <td>1990</td>\n",
       "    </tr>\n",
       "  </tbody>\n",
       "</table>\n",
       "</div>"
      ],
      "text/plain": [
       "   year id_ns       date base_year\n",
       "0  1994    01 1994-01-10      1990\n",
       "1  1994    02 1994-01-17      1990\n",
       "2  1994    03 1994-01-24      1990\n",
       "3  1994    04 1994-02-01      1990\n",
       "4  1994    05 1994-02-07      1990\n",
       "5  1994    06 1994-02-14      1990\n",
       "6  1994    07 1994-02-21      1990\n",
       "7  1994    08 1994-02-28      1990\n",
       "8  1994    09 1994-03-04      1990\n",
       "9  1994    10 1994-03-14      1990"
      ]
     },
     "execution_count": 62,
     "metadata": {},
     "output_type": "execute_result"
    }
   ],
   "source": [
    "# Change to str\n",
    "base_year['year'] = base_year['year'].astype(str)\n",
    "base_year['id_ns'] = base_year['id_ns'].apply(lambda x: f'{x:02}')\n",
    "base_year['base_year'] = base_year['base_year'].astype(str)\n",
    "base_year.head(10)"
   ]
  },
  {
   "cell_type": "markdown",
   "id": "ed2998ab",
   "metadata": {},
   "source": [
    "<div style=\"font-family: PT Serif Pro Book; text-align: left; color:dark; font-size:16px\"> Loading to SQL.<div/>"
   ]
  },
  {
   "cell_type": "code",
   "execution_count": 63,
   "id": "7411ec7d",
   "metadata": {},
   "outputs": [
    {
     "data": {
      "text/plain": [
       "474"
      ]
     },
     "execution_count": 63,
     "metadata": {},
     "output_type": "execute_result"
    }
   ],
   "source": [
    "base_year.to_sql('ns_base_year', engine, index=False, if_exists='replace')"
   ]
  },
  {
   "cell_type": "markdown",
   "id": "b49fce8b",
   "metadata": {},
   "source": [
    "<div style=\"font-family: PT Serif Pro Book; text-align: left; color: dark; font-size: 16px;\">\n",
    "    <span style=\"font-size: 30px; color: rgb(255, 32, 78); font-weight: bold;\">\n",
    "        <a href=\"#outilne\" style=\"color: rgb(0, 153, 123); text-decoration: none;\">&#11180;</a>\n",
    "    </span> \n",
    "    <a href=\"#outilne\" style=\"color: rgb(0, 153, 123); text-decoration: none;\">Back to the outline.</a>\n",
    "</div>"
   ]
  },
  {
   "cell_type": "markdown",
   "id": "65f9b15a",
   "metadata": {},
   "source": [
    "<div id=\"4\">\n",
    "   <!-- Contenido de la celda de destino -->\n",
    "</div>"
   ]
  },
  {
   "cell_type": "markdown",
   "id": "2ddc2397",
   "metadata": {},
   "source": [
    "<div style=\"background-color: #00414C; color: white; padding: 10px;\">\n",
    "<h1><span style = \"color: #15F5BA; font-family: 'PT Serif Pro Book'; color: dark;\">4.</span> <span style = \"color: dark; font-family: PT Serif Pro Book;\">Load dummies for raw data delivered by Central Bank</span></h1>\n",
    "    </div>"
   ]
  },
  {
   "cell_type": "code",
   "execution_count": 8,
   "id": "a1b7e7d7",
   "metadata": {},
   "outputs": [
    {
     "data": {
      "text/html": [
       "<div>\n",
       "<style scoped>\n",
       "    .dataframe tbody tr th:only-of-type {\n",
       "        vertical-align: middle;\n",
       "    }\n",
       "\n",
       "    .dataframe tbody tr th {\n",
       "        vertical-align: top;\n",
       "    }\n",
       "\n",
       "    .dataframe thead th {\n",
       "        text-align: right;\n",
       "    }\n",
       "</style>\n",
       "<table border=\"1\" class=\"dataframe\">\n",
       "  <thead>\n",
       "    <tr style=\"text-align: right;\">\n",
       "      <th></th>\n",
       "      <th>year</th>\n",
       "      <th>id_ns</th>\n",
       "      <th>delivered_1</th>\n",
       "      <th>delivered_2</th>\n",
       "    </tr>\n",
       "  </thead>\n",
       "  <tbody>\n",
       "    <tr>\n",
       "      <th>0</th>\n",
       "      <td>1994</td>\n",
       "      <td>1</td>\n",
       "      <td>1</td>\n",
       "      <td>0</td>\n",
       "    </tr>\n",
       "    <tr>\n",
       "      <th>1</th>\n",
       "      <td>1994</td>\n",
       "      <td>2</td>\n",
       "      <td>0</td>\n",
       "      <td>0</td>\n",
       "    </tr>\n",
       "    <tr>\n",
       "      <th>2</th>\n",
       "      <td>1994</td>\n",
       "      <td>3</td>\n",
       "      <td>0</td>\n",
       "      <td>0</td>\n",
       "    </tr>\n",
       "    <tr>\n",
       "      <th>3</th>\n",
       "      <td>1994</td>\n",
       "      <td>4</td>\n",
       "      <td>1</td>\n",
       "      <td>0</td>\n",
       "    </tr>\n",
       "    <tr>\n",
       "      <th>4</th>\n",
       "      <td>1994</td>\n",
       "      <td>5</td>\n",
       "      <td>0</td>\n",
       "      <td>0</td>\n",
       "    </tr>\n",
       "  </tbody>\n",
       "</table>\n",
       "</div>"
      ],
      "text/plain": [
       "   year  id_ns  delivered_1  delivered_2\n",
       "0  1994      1            1            0\n",
       "1  1994      2            0            0\n",
       "2  1994      3            0            0\n",
       "3  1994      4            1            0\n",
       "4  1994      5            0            0"
      ]
     },
     "execution_count": 8,
     "metadata": {},
     "output_type": "execute_result"
    }
   ],
   "source": [
    "# Loading csv data\n",
    "delivered_data_dummies = f'{data_delivered_folder}/old_raw_data_delivered.csv'\n",
    "\n",
    "# Reads the CSV file in a DataFrame, specifying that the delimiter is the comma\n",
    "delivered_data_dummies = pd.read_csv(delivered_data_dummies, delimiter=';')\n",
    "delivered_data_dummies.head(5)"
   ]
  },
  {
   "cell_type": "code",
   "execution_count": 9,
   "id": "2b9a42ec",
   "metadata": {},
   "outputs": [
    {
     "data": {
      "text/plain": [
       "939"
      ]
     },
     "execution_count": 9,
     "metadata": {},
     "output_type": "execute_result"
    }
   ],
   "source": [
    "delivered_data_dummies.to_sql('old_raw_data_delivered', engine, index=False, if_exists='replace')"
   ]
  },
  {
   "cell_type": "markdown",
   "id": "08077029",
   "metadata": {},
   "source": [
    "<div style=\"font-family: PT Serif Pro Book; text-align: left; color: dark; font-size: 16px;\">\n",
    "    <span style=\"font-size: 30px; color: rgb(255, 32, 78); font-weight: bold;\">\n",
    "        <a href=\"#outilne\" style=\"color: rgb(0, 153, 123); text-decoration: none;\">&#11180;</a>\n",
    "    </span> \n",
    "    <a href=\"#outilne\" style=\"color: rgb(0, 153, 123); text-decoration: none;\">Back to the outline.</a>\n",
    "</div>"
   ]
  },
  {
   "cell_type": "markdown",
   "id": "c9cb2397",
   "metadata": {},
   "source": [
    "<div id=\"5\">\n",
    "   <!-- Contenido de la celda de destino -->\n",
    "</div>"
   ]
  },
  {
   "cell_type": "markdown",
   "id": "6b344b99",
   "metadata": {},
   "source": [
    "<div style=\"background-color: #00414C; color: white; padding: 10px;\">\n",
    "<h1><span style = \"color: #15F5BA; font-family: 'PT Serif Pro Book'; color: dark;\">5.</span> <span style = \"color: dark; font-family: PT Serif Pro Book;\">Concatenate old_gdp_dataset with new_gdp_dataset</span></h1>\n",
    "    </div>"
   ]
  },
  {
   "cell_type": "markdown",
   "id": "4f1eb284",
   "metadata": {},
   "source": [
    "<div id=\"steps-5\">\n",
    "   <!-- Contenido de la celda de destino -->\n",
    "</div>"
   ]
  },
  {
   "cell_type": "markdown",
   "id": "0bf6f8a2",
   "metadata": {},
   "source": [
    "<div style=\"font-family: PT Serif Pro Book; text-align: left; color: dark; font-size: 16px;\">\n",
    "    <a href=\"#step-5-1\" style=\"text-decoration: none; color: #006769\"> <span style=\"font-size: 24px; color: rgb(0, 65, 75);\">&#10122;</span> Select economic sector</a>\n",
    "    <br>\n",
    "    <a href=\"#step-5-2\" style=\"text-decoration: none; color: #006769\"><span style=\"font-size: 24px; color: rgb(0, 65, 75)\">&#10123;</span> Select frequency</a>\n",
    "    <br>\n",
    "    <a href=\"#step-5-3\" style=\"text-decoration: none; color: #006769\"><span style=\"font-size: 24px; color: rgb(0, 65, 75)\">&#10124;</span> Import dataframes from PostgresSQL</a>\n",
    "    <br>\n",
    "    <a href=\"#step-5-4\" style=\"text-decoration: none; color: #006769\"><span style=\"font-size: 24px; color: rgb(0, 65, 75)\">&#10125;</span> Concatenate dataframes</a>\n",
    "    <br>\n",
    "    <a href=\"#step-5-5\" style=\"text-decoration: none; color: #006769\"><span style=\"font-size: 24px; color: rgb(0, 65, 75)\">&#10126;</span> Load to PostgresSQL</a>\n",
    "</div>"
   ]
  },
  {
   "cell_type": "markdown",
   "id": "ece1db3d",
   "metadata": {},
   "source": [
    "<div id=\"step-5-1\">\n",
    "   <!-- Contenido de la celda de destino -->\n",
    "</div>"
   ]
  },
  {
   "cell_type": "markdown",
   "id": "aa225ba0",
   "metadata": {},
   "source": [
    "<div style=\"text-align: left; font-family: 'PT Serif Pro Book'; font-size:22px\">\n",
    "    <span style=\"font-size: 24px; color: rgb(0, 65, 75)\">&#10122;</span> <span>Select economic sector</span>\n",
    "  </div>"
   ]
  },
  {
   "cell_type": "code",
   "execution_count": 408,
   "id": "0c23b820",
   "metadata": {},
   "outputs": [
    {
     "name": "stdout",
     "output_type": "stream",
     "text": [
      "Selected economic sector: services\n"
     ]
    }
   ],
   "source": [
    "# Call the function to show the popup window\n",
    "sector = show_option_window()\n",
    "print(\"Selected economic sector:\", sector)"
   ]
  },
  {
   "cell_type": "markdown",
   "id": "6e04f284",
   "metadata": {},
   "source": [
    "<div id=\"step-5-2\">\n",
    "   <!-- Contenido de la celda de destino -->\n",
    "</div>"
   ]
  },
  {
   "cell_type": "markdown",
   "id": "01687af1",
   "metadata": {},
   "source": [
    "<div style=\"text-align: left; font-family: 'PT Serif Pro Book'; font-size:22px\">\n",
    "    <span style=\"font-size: 24px; color: rgb(0, 65, 75)\">&#10123;</span> <span>Select frequency</span>\n",
    "  </div>"
   ]
  },
  {
   "cell_type": "code",
   "execution_count": 409,
   "id": "64c1a185",
   "metadata": {
    "scrolled": true
   },
   "outputs": [
    {
     "name": "stdout",
     "output_type": "stream",
     "text": [
      "Selected frequency: annual\n"
     ]
    }
   ],
   "source": [
    "# Call the function to show the popup window\n",
    "frequency = show_frequency_window()\n",
    "print(\"Selected frequency:\", frequency)"
   ]
  },
  {
   "cell_type": "markdown",
   "id": "6c7bb3ba",
   "metadata": {},
   "source": [
    "<div style=\"font-family: PT Serif Pro Book; text-align: left; color: dark; font-size: 16px;\">\n",
    "    <span style=\"font-size: 20px; color: #2C4E80; font-weight: bold;\">\n",
    "        <a href=\"#step-4-3\" style=\"color: #2C4E80; text-decoration: none;\">⮟</a>\n",
    "    </span> \n",
    "    <a href=\"#step-4-3\" style=\"color: #2C4E80; text-decoration: none;\">Continue with Step <span style=\"font-size: 24px; color: rgb(0, 65, 75)\">&#10124;</span> in <b>Section 4</b>.</a>\n",
    "</div>"
   ]
  },
  {
   "cell_type": "markdown",
   "id": "f3f62665",
   "metadata": {},
   "source": [
    "<div style=\"font-family: PT Serif Pro Book; text-align: left; color: dark; font-size: 16px;\">\n",
    "    <span style=\"font-size: 20px; color: rgb(255, 32, 78); font-weight: bold;\">\n",
    "        <a href=\"#5\" style=\"color: #836FFF; text-decoration: none;\">⮟</a>\n",
    "    </span> \n",
    "    <a href=\"#5\" style=\"color: #836FFF; text-decoration: none;\">Go to <b>Section 5</b>.</a>\n",
    "</div>"
   ]
  },
  {
   "cell_type": "markdown",
   "id": "7c6eb771",
   "metadata": {},
   "source": [
    "<div id=\"step-5-3\">\n",
    "   <!-- Contenido de la celda de destino -->\n",
    "</div>"
   ]
  },
  {
   "cell_type": "markdown",
   "id": "28f41c1c",
   "metadata": {},
   "source": [
    "<div style=\"text-align: left; font-family: 'PT Serif Pro Book'; font-size:22px\">\n",
    "    <span style=\"font-size: 24px; color: rgb(0, 65, 75)\">&#10124;</span> <span>Import dataframes from PostgresSQL</span>\n",
    "  </div>"
   ]
  },
  {
   "cell_type": "code",
   "execution_count": 410,
   "id": "9b282d94",
   "metadata": {},
   "outputs": [],
   "source": [
    "# Crear un DataFrame de pandas desde la tabla\n",
    "query_1 = f\"SELECT * FROM old_{sector}_{frequency}_growth_rates;\"\n",
    "df_1 = pd.read_sql(query_1, engine)"
   ]
  },
  {
   "cell_type": "code",
   "execution_count": 411,
   "id": "1e86376e",
   "metadata": {},
   "outputs": [],
   "source": [
    "# Crear un DataFrame de pandas desde la tabla\n",
    "query_2 = f\"SELECT * FROM new_{sector}_{frequency}_growth_rates;\"\n",
    "df_2 = pd.read_sql(query_2, engine)"
   ]
  },
  {
   "cell_type": "markdown",
   "id": "69beb186",
   "metadata": {},
   "source": [
    "<div id=\"step-5-4\">\n",
    "   <!-- Contenido de la celda de destino -->\n",
    "</div>"
   ]
  },
  {
   "cell_type": "markdown",
   "id": "85fbac5e",
   "metadata": {},
   "source": [
    "<div style=\"text-align: left; font-family: 'PT Serif Pro Book'; font-size:22px\">\n",
    "    <span style=\"font-size: 24px; color: rgb(0, 65, 75)\">&#10125;</span> <span>Concatenate dataframes</span>\n",
    "  </div>"
   ]
  },
  {
   "cell_type": "markdown",
   "id": "a3b5594b",
   "metadata": {},
   "source": [
    "<div style=\"text-align: left; font-family: 'PT Serif Pro Book'; color: dark; font-size:16px\">\n",
    "    Comment the code below if you want the default option (display rows and columns of the dataframe in a limited way)\n",
    "    <div/>"
   ]
  },
  {
   "cell_type": "code",
   "execution_count": 412,
   "id": "8a99d74b",
   "metadata": {},
   "outputs": [],
   "source": [
    "#pd.set_option('display.max_rows', None)\n",
    "#pd.set_option('display.max_columns', None)"
   ]
  },
  {
   "cell_type": "markdown",
   "id": "19151202",
   "metadata": {},
   "source": [
    "<div style=\"text-align: left; font-family: 'PT Serif Pro Book'; color: dark; font-size:16px\">\n",
    "    Run the function to create concatenated dataframe\n",
    "    <div/>"
   ]
  },
  {
   "cell_type": "code",
   "execution_count": 413,
   "id": "5989ee58",
   "metadata": {
    "scrolled": true
   },
   "outputs": [
    {
     "data": {
      "text/html": [
       "<div>\n",
       "<style scoped>\n",
       "    .dataframe tbody tr th:only-of-type {\n",
       "        vertical-align: middle;\n",
       "    }\n",
       "\n",
       "    .dataframe tbody tr th {\n",
       "        vertical-align: top;\n",
       "    }\n",
       "\n",
       "    .dataframe thead th {\n",
       "        text-align: right;\n",
       "    }\n",
       "</style>\n",
       "<table border=\"1\" class=\"dataframe\">\n",
       "  <thead>\n",
       "    <tr style=\"text-align: right;\">\n",
       "      <th></th>\n",
       "      <th>year</th>\n",
       "      <th>id_ns</th>\n",
       "      <th>date</th>\n",
       "      <th>year_1993</th>\n",
       "      <th>year_1994</th>\n",
       "      <th>year_1995</th>\n",
       "      <th>year_1996</th>\n",
       "      <th>year_1997</th>\n",
       "      <th>year_1998</th>\n",
       "      <th>year_1999</th>\n",
       "      <th>...</th>\n",
       "      <th>year_2014</th>\n",
       "      <th>year_2015</th>\n",
       "      <th>year_2016</th>\n",
       "      <th>year_2017</th>\n",
       "      <th>year_2018</th>\n",
       "      <th>year_2019</th>\n",
       "      <th>year_2020</th>\n",
       "      <th>year_2021</th>\n",
       "      <th>year_2022</th>\n",
       "      <th>year_2023</th>\n",
       "    </tr>\n",
       "  </thead>\n",
       "  <tbody>\n",
       "    <tr>\n",
       "      <th>0</th>\n",
       "      <td>1997</td>\n",
       "      <td>24</td>\n",
       "      <td>1997-06-27</td>\n",
       "      <td>None</td>\n",
       "      <td>None</td>\n",
       "      <td>7.0</td>\n",
       "      <td>2.9</td>\n",
       "      <td>NaN</td>\n",
       "      <td>NaN</td>\n",
       "      <td>NaN</td>\n",
       "      <td>...</td>\n",
       "      <td>NaN</td>\n",
       "      <td>NaN</td>\n",
       "      <td>NaN</td>\n",
       "      <td>NaN</td>\n",
       "      <td>NaN</td>\n",
       "      <td>NaN</td>\n",
       "      <td>NaN</td>\n",
       "      <td>NaN</td>\n",
       "      <td>NaN</td>\n",
       "      <td>NaN</td>\n",
       "    </tr>\n",
       "    <tr>\n",
       "      <th>1</th>\n",
       "      <td>1997</td>\n",
       "      <td>25</td>\n",
       "      <td>1997-07-04</td>\n",
       "      <td>None</td>\n",
       "      <td>None</td>\n",
       "      <td>7.0</td>\n",
       "      <td>2.9</td>\n",
       "      <td>NaN</td>\n",
       "      <td>NaN</td>\n",
       "      <td>NaN</td>\n",
       "      <td>...</td>\n",
       "      <td>NaN</td>\n",
       "      <td>NaN</td>\n",
       "      <td>NaN</td>\n",
       "      <td>NaN</td>\n",
       "      <td>NaN</td>\n",
       "      <td>NaN</td>\n",
       "      <td>NaN</td>\n",
       "      <td>NaN</td>\n",
       "      <td>NaN</td>\n",
       "      <td>NaN</td>\n",
       "    </tr>\n",
       "    <tr>\n",
       "      <th>2</th>\n",
       "      <td>1997</td>\n",
       "      <td>26</td>\n",
       "      <td>1997-07-11</td>\n",
       "      <td>None</td>\n",
       "      <td>None</td>\n",
       "      <td>7.0</td>\n",
       "      <td>2.9</td>\n",
       "      <td>NaN</td>\n",
       "      <td>NaN</td>\n",
       "      <td>NaN</td>\n",
       "      <td>...</td>\n",
       "      <td>NaN</td>\n",
       "      <td>NaN</td>\n",
       "      <td>NaN</td>\n",
       "      <td>NaN</td>\n",
       "      <td>NaN</td>\n",
       "      <td>NaN</td>\n",
       "      <td>NaN</td>\n",
       "      <td>NaN</td>\n",
       "      <td>NaN</td>\n",
       "      <td>NaN</td>\n",
       "    </tr>\n",
       "    <tr>\n",
       "      <th>3</th>\n",
       "      <td>1997</td>\n",
       "      <td>27</td>\n",
       "      <td>1997-07-18</td>\n",
       "      <td>None</td>\n",
       "      <td>None</td>\n",
       "      <td>7.0</td>\n",
       "      <td>2.9</td>\n",
       "      <td>NaN</td>\n",
       "      <td>NaN</td>\n",
       "      <td>NaN</td>\n",
       "      <td>...</td>\n",
       "      <td>NaN</td>\n",
       "      <td>NaN</td>\n",
       "      <td>NaN</td>\n",
       "      <td>NaN</td>\n",
       "      <td>NaN</td>\n",
       "      <td>NaN</td>\n",
       "      <td>NaN</td>\n",
       "      <td>NaN</td>\n",
       "      <td>NaN</td>\n",
       "      <td>NaN</td>\n",
       "    </tr>\n",
       "    <tr>\n",
       "      <th>4</th>\n",
       "      <td>1997</td>\n",
       "      <td>28</td>\n",
       "      <td>1997-07-25</td>\n",
       "      <td>None</td>\n",
       "      <td>None</td>\n",
       "      <td>7.0</td>\n",
       "      <td>2.9</td>\n",
       "      <td>NaN</td>\n",
       "      <td>NaN</td>\n",
       "      <td>NaN</td>\n",
       "      <td>...</td>\n",
       "      <td>NaN</td>\n",
       "      <td>NaN</td>\n",
       "      <td>NaN</td>\n",
       "      <td>NaN</td>\n",
       "      <td>NaN</td>\n",
       "      <td>NaN</td>\n",
       "      <td>NaN</td>\n",
       "      <td>NaN</td>\n",
       "      <td>NaN</td>\n",
       "      <td>NaN</td>\n",
       "    </tr>\n",
       "    <tr>\n",
       "      <th>5</th>\n",
       "      <td>1997</td>\n",
       "      <td>29</td>\n",
       "      <td>1997-08-08</td>\n",
       "      <td>None</td>\n",
       "      <td>None</td>\n",
       "      <td>7.0</td>\n",
       "      <td>2.9</td>\n",
       "      <td>NaN</td>\n",
       "      <td>NaN</td>\n",
       "      <td>NaN</td>\n",
       "      <td>...</td>\n",
       "      <td>NaN</td>\n",
       "      <td>NaN</td>\n",
       "      <td>NaN</td>\n",
       "      <td>NaN</td>\n",
       "      <td>NaN</td>\n",
       "      <td>NaN</td>\n",
       "      <td>NaN</td>\n",
       "      <td>NaN</td>\n",
       "      <td>NaN</td>\n",
       "      <td>NaN</td>\n",
       "    </tr>\n",
       "    <tr>\n",
       "      <th>6</th>\n",
       "      <td>1997</td>\n",
       "      <td>30</td>\n",
       "      <td>1997-08-15</td>\n",
       "      <td>None</td>\n",
       "      <td>None</td>\n",
       "      <td>7.0</td>\n",
       "      <td>2.9</td>\n",
       "      <td>NaN</td>\n",
       "      <td>NaN</td>\n",
       "      <td>NaN</td>\n",
       "      <td>...</td>\n",
       "      <td>NaN</td>\n",
       "      <td>NaN</td>\n",
       "      <td>NaN</td>\n",
       "      <td>NaN</td>\n",
       "      <td>NaN</td>\n",
       "      <td>NaN</td>\n",
       "      <td>NaN</td>\n",
       "      <td>NaN</td>\n",
       "      <td>NaN</td>\n",
       "      <td>NaN</td>\n",
       "    </tr>\n",
       "    <tr>\n",
       "      <th>7</th>\n",
       "      <td>1997</td>\n",
       "      <td>31</td>\n",
       "      <td>1997-08-22</td>\n",
       "      <td>None</td>\n",
       "      <td>None</td>\n",
       "      <td>7.0</td>\n",
       "      <td>2.9</td>\n",
       "      <td>NaN</td>\n",
       "      <td>NaN</td>\n",
       "      <td>NaN</td>\n",
       "      <td>...</td>\n",
       "      <td>NaN</td>\n",
       "      <td>NaN</td>\n",
       "      <td>NaN</td>\n",
       "      <td>NaN</td>\n",
       "      <td>NaN</td>\n",
       "      <td>NaN</td>\n",
       "      <td>NaN</td>\n",
       "      <td>NaN</td>\n",
       "      <td>NaN</td>\n",
       "      <td>NaN</td>\n",
       "    </tr>\n",
       "    <tr>\n",
       "      <th>8</th>\n",
       "      <td>1997</td>\n",
       "      <td>32</td>\n",
       "      <td>1997-08-29</td>\n",
       "      <td>None</td>\n",
       "      <td>None</td>\n",
       "      <td>7.0</td>\n",
       "      <td>2.9</td>\n",
       "      <td>NaN</td>\n",
       "      <td>NaN</td>\n",
       "      <td>NaN</td>\n",
       "      <td>...</td>\n",
       "      <td>NaN</td>\n",
       "      <td>NaN</td>\n",
       "      <td>NaN</td>\n",
       "      <td>NaN</td>\n",
       "      <td>NaN</td>\n",
       "      <td>NaN</td>\n",
       "      <td>NaN</td>\n",
       "      <td>NaN</td>\n",
       "      <td>NaN</td>\n",
       "      <td>NaN</td>\n",
       "    </tr>\n",
       "    <tr>\n",
       "      <th>9</th>\n",
       "      <td>1997</td>\n",
       "      <td>33</td>\n",
       "      <td>1997-09-05</td>\n",
       "      <td>None</td>\n",
       "      <td>None</td>\n",
       "      <td>7.0</td>\n",
       "      <td>2.9</td>\n",
       "      <td>NaN</td>\n",
       "      <td>NaN</td>\n",
       "      <td>NaN</td>\n",
       "      <td>...</td>\n",
       "      <td>NaN</td>\n",
       "      <td>NaN</td>\n",
       "      <td>NaN</td>\n",
       "      <td>NaN</td>\n",
       "      <td>NaN</td>\n",
       "      <td>NaN</td>\n",
       "      <td>NaN</td>\n",
       "      <td>NaN</td>\n",
       "      <td>NaN</td>\n",
       "      <td>NaN</td>\n",
       "    </tr>\n",
       "  </tbody>\n",
       "</table>\n",
       "<p>10 rows × 34 columns</p>\n",
       "</div>"
      ],
      "text/plain": [
       "   year id_ns       date year_1993 year_1994  year_1995  year_1996  year_1997  \\\n",
       "0  1997    24 1997-06-27      None      None        7.0        2.9        NaN   \n",
       "1  1997    25 1997-07-04      None      None        7.0        2.9        NaN   \n",
       "2  1997    26 1997-07-11      None      None        7.0        2.9        NaN   \n",
       "3  1997    27 1997-07-18      None      None        7.0        2.9        NaN   \n",
       "4  1997    28 1997-07-25      None      None        7.0        2.9        NaN   \n",
       "5  1997    29 1997-08-08      None      None        7.0        2.9        NaN   \n",
       "6  1997    30 1997-08-15      None      None        7.0        2.9        NaN   \n",
       "7  1997    31 1997-08-22      None      None        7.0        2.9        NaN   \n",
       "8  1997    32 1997-08-29      None      None        7.0        2.9        NaN   \n",
       "9  1997    33 1997-09-05      None      None        7.0        2.9        NaN   \n",
       "\n",
       "   year_1998  year_1999  ...  year_2014  year_2015  year_2016  year_2017  \\\n",
       "0        NaN        NaN  ...        NaN        NaN        NaN        NaN   \n",
       "1        NaN        NaN  ...        NaN        NaN        NaN        NaN   \n",
       "2        NaN        NaN  ...        NaN        NaN        NaN        NaN   \n",
       "3        NaN        NaN  ...        NaN        NaN        NaN        NaN   \n",
       "4        NaN        NaN  ...        NaN        NaN        NaN        NaN   \n",
       "5        NaN        NaN  ...        NaN        NaN        NaN        NaN   \n",
       "6        NaN        NaN  ...        NaN        NaN        NaN        NaN   \n",
       "7        NaN        NaN  ...        NaN        NaN        NaN        NaN   \n",
       "8        NaN        NaN  ...        NaN        NaN        NaN        NaN   \n",
       "9        NaN        NaN  ...        NaN        NaN        NaN        NaN   \n",
       "\n",
       "   year_2018  year_2019  year_2020  year_2021  year_2022  year_2023  \n",
       "0        NaN        NaN        NaN        NaN        NaN        NaN  \n",
       "1        NaN        NaN        NaN        NaN        NaN        NaN  \n",
       "2        NaN        NaN        NaN        NaN        NaN        NaN  \n",
       "3        NaN        NaN        NaN        NaN        NaN        NaN  \n",
       "4        NaN        NaN        NaN        NaN        NaN        NaN  \n",
       "5        NaN        NaN        NaN        NaN        NaN        NaN  \n",
       "6        NaN        NaN        NaN        NaN        NaN        NaN  \n",
       "7        NaN        NaN        NaN        NaN        NaN        NaN  \n",
       "8        NaN        NaN        NaN        NaN        NaN        NaN  \n",
       "9        NaN        NaN        NaN        NaN        NaN        NaN  \n",
       "\n",
       "[10 rows x 34 columns]"
      ]
     },
     "execution_count": 413,
     "metadata": {},
     "output_type": "execute_result"
    }
   ],
   "source": [
    "def concatenate_dataframes(df1, df2):\n",
    "    # Concatenate the dataframes\n",
    "    concatenated_df = pd.concat([df1, df2], ignore_index=True)\n",
    "    \n",
    "    return concatenated_df\n",
    "\n",
    "# Call the function\n",
    "globals()[f'{sector}_{frequency}_growth_rates'] = concatenate_dataframes(df_1, df_2)\n",
    "df = globals()[f'{sector}_{frequency}_growth_rates']\n",
    "\n",
    "# Display the resulting dataframe\n",
    "df.head(10)"
   ]
  },
  {
   "cell_type": "markdown",
   "id": "b2bc7671",
   "metadata": {},
   "source": [
    "<div id=\"step-5-5\">\n",
    "   <!-- Contenido de la celda de destino -->\n",
    "</div>"
   ]
  },
  {
   "cell_type": "markdown",
   "id": "9e2a708d",
   "metadata": {},
   "source": [
    "<div style=\"text-align: left; font-family: 'PT Serif Pro Book'; font-size:22px\">\n",
    "    <span style=\"font-size: 24px; color: rgb(0, 65, 75)\">&#10126;</span> <span>Load to PostgresSQL</span>\n",
    "  </div>"
   ]
  },
  {
   "cell_type": "code",
   "execution_count": 414,
   "id": "d3bcc846",
   "metadata": {},
   "outputs": [
    {
     "data": {
      "text/plain": [
       "349"
      ]
     },
     "execution_count": 414,
     "metadata": {},
     "output_type": "execute_result"
    }
   ],
   "source": [
    "df.to_sql(f'{sector}_{frequency}_growth_rates', engine, index=False, if_exists='replace')"
   ]
  },
  {
   "cell_type": "markdown",
   "id": "1f031ed6",
   "metadata": {},
   "source": [
    "<div style=\"font-family: PT Serif Pro Book; text-align: left; color: dark; font-size: 16px;\">\n",
    "    <span style=\"font-size: 20px; color: rgb(255, 32, 78); font-weight: bold;\">\n",
    "        <a href=\"#steps-5\" style=\"color: #006769; text-decoration: none;\">⮝</a>\n",
    "    </span> \n",
    "    <a href=\"#steps-5\" style=\"color: #006769; text-decoration: none;\">Back to steps.</a>\n",
    "</div>"
   ]
  },
  {
   "cell_type": "markdown",
   "id": "9b757dfc",
   "metadata": {},
   "source": [
    "<div style=\"font-family: PT Serif Pro Book; text-align: left; color: dark; font-size: 16px;\">\n",
    "    <span style=\"font-size: 20px; color: rgb(255, 32, 78); font-weight: bold;\">\n",
    "        <a href=\"#step-5-1\" style=\"color: rgb(255, 32, 78); text-decoration: none;\">⮝</a>\n",
    "    </span> \n",
    "    <a href=\"#step-5-1\" style=\"color: rgb(255, 32, 78); text-decoration: none;\">Back to <b>select economic sector</b>.</a>\n",
    "</div>"
   ]
  },
  {
   "cell_type": "code",
   "execution_count": 415,
   "id": "a67cc072",
   "metadata": {},
   "outputs": [
    {
     "data": {
      "text/plain": [
       "Index(['year', 'id_ns', 'date', 'year_1993', 'year_1994', 'year_1995',\n",
       "       'year_1996', 'year_1997', 'year_1998', 'year_1999', 'year_2000',\n",
       "       'year_2001', 'year_2002', 'year_2003', 'year_2004', 'year_2005',\n",
       "       'year_2006', 'year_2007', 'year_2008', 'year_2009', 'year_2010',\n",
       "       'year_2011', 'year_2012', 'year_2013', 'year_2014', 'year_2015',\n",
       "       'year_2016', 'year_2017', 'year_2018', 'year_2019', 'year_2020',\n",
       "       'year_2021', 'year_2022', 'year_2023'],\n",
       "      dtype='object')"
      ]
     },
     "execution_count": 415,
     "metadata": {},
     "output_type": "execute_result"
    }
   ],
   "source": [
    "df.columns"
   ]
  },
  {
   "cell_type": "code",
   "execution_count": 416,
   "id": "98b31d9a",
   "metadata": {},
   "outputs": [
    {
     "name": "stdout",
     "output_type": "stream",
     "text": [
      "datetime64[ns]\n"
     ]
    }
   ],
   "source": [
    "print(df['date'].dtype)"
   ]
  },
  {
   "cell_type": "markdown",
   "id": "6cf09a65",
   "metadata": {},
   "source": [
    "<div id=\"6\">\n",
    "   <!-- Contenido de la celda de destino -->\n",
    "</div>"
   ]
  },
  {
   "cell_type": "markdown",
   "id": "03b2d4ad",
   "metadata": {},
   "source": [
    "<div style=\"font-family: PT Serif Pro Book; text-align: left; color: dark; font-size: 16px;\">\n",
    "    <span style=\"font-size: 30px; color: rgb(255, 32, 78); font-weight: bold;\">\n",
    "        <a href=\"#outilne\" style=\"color: rgb(0, 153, 123); text-decoration: none;\">&#11180;</a>\n",
    "    </span> \n",
    "    <a href=\"#outilne\" style=\"color: rgb(0, 153, 123); text-decoration: none;\">Back to the outline.</a>\n",
    "</div>"
   ]
  },
  {
   "cell_type": "markdown",
   "id": "27f2f75d",
   "metadata": {},
   "source": [
    "<div style=\"background-color: #00414C; color: white; padding: 10px;\">\n",
    "<h1><span style = \"color: #15F5BA; font-family: 'PT Serif Pro Book'; color: dark;\">6.</span> <span style = \"color: dark; font-family: PT Serif Pro Book;\">Merge all the releases datasets</span></h1>\n",
    "    </div>"
   ]
  },
  {
   "cell_type": "markdown",
   "id": "2c403696",
   "metadata": {},
   "source": [
    "<div id=\"steps-6\">\n",
    "   <!-- Contenido de la celda de destino -->\n",
    "</div>"
   ]
  },
  {
   "cell_type": "markdown",
   "id": "ff118642",
   "metadata": {},
   "source": [
    "<div style=\"font-family: PT Serif Pro Book; text-align: left; color: dark; font-size: 16px;\">\n",
    "    <a href=\"#step-6-3\" style=\"text-decoration: none; color: #006769\"><span style=\"font-size: 24px; color: rgb(0, 65, 75)\">&#10124;</span> Import dataframes from PostgresSQL</a>\n",
    "    <br>\n",
    "    <a href=\"#step-6-4\" style=\"text-decoration: none; color: #006769\"><span style=\"font-size: 24px; color: rgb(0, 65, 75)\">&#10125;</span> Merge dataframes</a>\n",
    "    <br>\n",
    "    <a href=\"#step-6-5\" style=\"text-decoration: none; color: #006769\"><span style=\"font-size: 24px; color: rgb(0, 65, 75)\">&#10126;</span> Load to PostgresSQL</a>\n",
    "</div>"
   ]
  },
  {
   "cell_type": "markdown",
   "id": "839b01ba",
   "metadata": {},
   "source": [
    "<div id=\"step-6-3\">\n",
    "   <!-- Contenido de la celda de destino -->\n",
    "</div>"
   ]
  },
  {
   "cell_type": "markdown",
   "id": "f0e96f0f",
   "metadata": {},
   "source": [
    "<div style=\"text-align: left; font-family: 'PT Serif Pro Book'; font-size:22px\">\n",
    "    <span style=\"font-size: 24px; color: rgb(0, 65, 75)\">&#10124;</span> <span>Import dataframes from PostgresSQL</span>\n",
    "  </div>"
   ]
  },
  {
   "cell_type": "markdown",
   "id": "d19cb9d0",
   "metadata": {},
   "source": [
    "<div style=\"font-family: PT Serif Pro Book; text-align: left; color: dark; font-size: 16px;\">\n",
    "    <span style=\"font-size: 20px; color: rgb(255, 32, 78); font-weight: bold;\">\n",
    "        <a href=\"#step-4-1\" style=\"color: rgb(255, 32, 78); text-decoration: none;\">⮝</a>\n",
    "    </span> \n",
    "    <a href=\"#step-4-1\" style=\"color: rgb(255, 32, 78); text-decoration: none;\">Back to <b>select economic sector</b>.</a>\n",
    "</div>"
   ]
  },
  {
   "cell_type": "code",
   "execution_count": null,
   "id": "cff714c6",
   "metadata": {},
   "outputs": [],
   "source": [
    "# Create a pandas DataFrame from the SQL table\n",
    "query_1 = f\"SELECT * FROM {sector}_{frequency}_releases;\"\n",
    "df_1 = pd.read_sql(query_1, engine)\n",
    "df_1.columns"
   ]
  },
  {
   "cell_type": "markdown",
   "id": "22dc2755",
   "metadata": {},
   "source": [
    "<div style=\"font-family: PT Serif Pro Book; text-align: left; color: dark; font-size: 16px;\">\n",
    "    <span style=\"font-size: 20px; color: rgb(255, 32, 78); font-weight: bold;\">\n",
    "        <a href=\"#step-4-1\" style=\"color: rgb(255, 32, 78); text-decoration: none;\">⮝</a>\n",
    "    </span> \n",
    "    <a href=\"#step-4-1\" style=\"color: rgb(255, 32, 78); text-decoration: none;\">Back to <b>select economic sector</b>.</a>\n",
    "</div>"
   ]
  },
  {
   "cell_type": "code",
   "execution_count": null,
   "id": "144938e2",
   "metadata": {},
   "outputs": [],
   "source": [
    "# Create a pandas DataFrame from the SQL table\n",
    "query_2 = f\"SELECT * FROM {sector}_{frequency}_releases;\"\n",
    "df_2 = pd.read_sql(query_2, engine)\n",
    "df_2.columns"
   ]
  },
  {
   "cell_type": "markdown",
   "id": "f348bd30",
   "metadata": {},
   "source": [
    "<div style=\"font-family: PT Serif Pro Book; text-align: left; color: dark; font-size: 16px;\">\n",
    "    <span style=\"font-size: 20px; color: rgb(255, 32, 78); font-weight: bold;\">\n",
    "        <a href=\"#step-4-1\" style=\"color: rgb(255, 32, 78); text-decoration: none;\">⮝</a>\n",
    "    </span> \n",
    "    <a href=\"#step-4-1\" style=\"color: rgb(255, 32, 78); text-decoration: none;\">Back to <b>select economic sector</b>.</a>\n",
    "</div>"
   ]
  },
  {
   "cell_type": "code",
   "execution_count": null,
   "id": "697e6f44",
   "metadata": {},
   "outputs": [],
   "source": [
    "# Create a pandas DataFrame from the SQL table\n",
    "query_3 = f\"SELECT * FROM {sector}_{frequency}_releases;\"\n",
    "df_3 = pd.read_sql(query_3, engine)\n",
    "df_3.columns"
   ]
  },
  {
   "cell_type": "markdown",
   "id": "a48322f2",
   "metadata": {},
   "source": [
    "<div style=\"font-family: PT Serif Pro Book; text-align: left; color: dark; font-size: 16px;\">\n",
    "    <span style=\"font-size: 20px; color: rgb(255, 32, 78); font-weight: bold;\">\n",
    "        <a href=\"#step-4-1\" style=\"color: rgb(255, 32, 78); text-decoration: none;\">⮝</a>\n",
    "    </span> \n",
    "    <a href=\"#step-4-1\" style=\"color: rgb(255, 32, 78); text-decoration: none;\">Back to <b>select economic sector</b>.</a>\n",
    "</div>"
   ]
  },
  {
   "cell_type": "code",
   "execution_count": null,
   "id": "4888feaa",
   "metadata": {},
   "outputs": [],
   "source": [
    "# Create a pandas DataFrame from the SQL table\n",
    "query_4 = f\"SELECT * FROM {sector}_{frequency}_releases;\"\n",
    "df_4 = pd.read_sql(query_4, engine)\n",
    "df_4.columns"
   ]
  },
  {
   "cell_type": "markdown",
   "id": "2b80328c",
   "metadata": {},
   "source": [
    "<div style=\"font-family: PT Serif Pro Book; text-align: left; color: dark; font-size: 16px;\">\n",
    "    <span style=\"font-size: 20px; color: rgb(255, 32, 78); font-weight: bold;\">\n",
    "        <a href=\"#step-4-1\" style=\"color: rgb(255, 32, 78); text-decoration: none;\">⮝</a>\n",
    "    </span> \n",
    "    <a href=\"#step-4-1\" style=\"color: rgb(255, 32, 78); text-decoration: none;\">Back to <b>select economic sector</b>.</a>\n",
    "</div>"
   ]
  },
  {
   "cell_type": "code",
   "execution_count": null,
   "id": "0f356b3b",
   "metadata": {},
   "outputs": [],
   "source": [
    "# Create a pandas DataFrame from the SQL table\n",
    "query_5 = f\"SELECT * FROM {sector}_{frequency}_releases;\"\n",
    "df_5 = pd.read_sql(query_5, engine)\n",
    "df_5.columns"
   ]
  },
  {
   "cell_type": "markdown",
   "id": "3d5badc7",
   "metadata": {},
   "source": [
    "<div style=\"font-family: PT Serif Pro Book; text-align: left; color: dark; font-size: 16px;\">\n",
    "    <span style=\"font-size: 20px; color: rgb(255, 32, 78); font-weight: bold;\">\n",
    "        <a href=\"#step-4-1\" style=\"color: rgb(255, 32, 78); text-decoration: none;\">⮝</a>\n",
    "    </span> \n",
    "    <a href=\"#step-4-1\" style=\"color: rgb(255, 32, 78); text-decoration: none;\">Back to <b>select economic sector</b>.</a>\n",
    "</div>"
   ]
  },
  {
   "cell_type": "code",
   "execution_count": null,
   "id": "d84c93fc",
   "metadata": {},
   "outputs": [],
   "source": [
    "# Create a pandas DataFrame from the SQL table\n",
    "query_6 = f\"SELECT * FROM {sector}_{frequency}_releases;\"\n",
    "df_6 = pd.read_sql(query_6, engine)\n",
    "df_6.columns"
   ]
  },
  {
   "cell_type": "markdown",
   "id": "14c6c467",
   "metadata": {},
   "source": [
    "<div style=\"font-family: PT Serif Pro Book; text-align: left; color: dark; font-size: 16px;\">\n",
    "    <span style=\"font-size: 20px; color: rgb(255, 32, 78); font-weight: bold;\">\n",
    "        <a href=\"#step-4-1\" style=\"color: rgb(255, 32, 78); text-decoration: none;\">⮝</a>\n",
    "    </span> \n",
    "    <a href=\"#step-4-1\" style=\"color: rgb(255, 32, 78); text-decoration: none;\">Back to <b>select economic sector</b>.</a>\n",
    "</div>"
   ]
  },
  {
   "cell_type": "code",
   "execution_count": null,
   "id": "d864823b",
   "metadata": {},
   "outputs": [],
   "source": [
    "# Create a pandas DataFrame from the SQL table\n",
    "query_7 = f\"SELECT * FROM {sector}_{frequency}_releases;\"\n",
    "df_7 = pd.read_sql(query_7, engine)\n",
    "df_7.columns"
   ]
  },
  {
   "cell_type": "markdown",
   "id": "3129d4f1",
   "metadata": {},
   "source": [
    "<div style=\"font-family: PT Serif Pro Book; text-align: left; color: dark; font-size: 16px;\">\n",
    "    <span style=\"font-size: 20px; color: rgb(255, 32, 78); font-weight: bold;\">\n",
    "        <a href=\"#step-4-1\" style=\"color: rgb(255, 32, 78); text-decoration: none;\">⮝</a>\n",
    "    </span> \n",
    "    <a href=\"#step-4-1\" style=\"color: rgb(255, 32, 78); text-decoration: none;\">Back to <b>select economic sector</b>.</a>\n",
    "</div>"
   ]
  },
  {
   "cell_type": "code",
   "execution_count": null,
   "id": "2351e752",
   "metadata": {},
   "outputs": [],
   "source": [
    "# Create a pandas DataFrame from the SQL table\n",
    "query_8 = f\"SELECT * FROM {sector}_{frequency}_releases;\"\n",
    "df_8 = pd.read_sql(query_8, engine)\n",
    "df_8.columns"
   ]
  },
  {
   "cell_type": "markdown",
   "id": "c371c09f",
   "metadata": {},
   "source": [
    "<div style=\"font-family: PT Serif Pro Book; text-align: left; color: dark; font-size: 16px;\">\n",
    "    <span style=\"font-size: 20px; color: rgb(255, 32, 78); font-weight: bold;\">\n",
    "        <a href=\"#step-4-1\" style=\"color: rgb(255, 32, 78); text-decoration: none;\">⮝</a>\n",
    "    </span> \n",
    "    <a href=\"#step-4-1\" style=\"color: rgb(255, 32, 78); text-decoration: none;\">Back to <b>select economic sector</b>.</a>\n",
    "</div>"
   ]
  },
  {
   "cell_type": "code",
   "execution_count": null,
   "id": "40800d79",
   "metadata": {},
   "outputs": [],
   "source": [
    "# Create a pandas DataFrame from the SQL table\n",
    "query_9 = f\"SELECT * FROM {sector}_{frequency}_releases;\"\n",
    "df_9 = pd.read_sql(query_9, engine)\n",
    "df_9.columns"
   ]
  },
  {
   "cell_type": "markdown",
   "id": "335d0768",
   "metadata": {},
   "source": [
    "<div style=\"text-align: left; font-family: 'PT Serif Pro Book'; color: dark; font-size:16px\">\n",
    "    Run the function to create merged dataframe for releases\n",
    "    <div/>"
   ]
  },
  {
   "cell_type": "markdown",
   "id": "ef50ffb6",
   "metadata": {},
   "source": [
    "<div id=\"step-6-4\">\n",
    "   <!-- Contenido de la celda de destino -->\n",
    "</div>"
   ]
  },
  {
   "cell_type": "markdown",
   "id": "20451a82",
   "metadata": {},
   "source": [
    "<div style=\"text-align: left; font-family: 'PT Serif Pro Book'; font-size:22px\">\n",
    "    <span style=\"font-size: 24px; color: rgb(0, 65, 75)\">&#10125;</span> <span>Merge dataframes</span>\n",
    "  </div>"
   ]
  },
  {
   "cell_type": "code",
   "execution_count": null,
   "id": "6806fd0e",
   "metadata": {},
   "outputs": [],
   "source": [
    "def merge_dataframes_by_vintage(frequency, *dataframes):\n",
    "    \"\"\"\n",
    "    Merges multiple dataframes on the 'vintages_date' column.\n",
    "\n",
    "    Parameters:\n",
    "    frequency (str): The frequency to be used in the resulting dataframe name.\n",
    "    *dataframes (pd.DataFrame): DataFrames to be merged.\n",
    "\n",
    "    Returns:\n",
    "    pd.DataFrame: The merged dataframe with the name 'sectorial_gdp_{frequency}_releases'.\n",
    "    \"\"\"\n",
    "    # Initialize the merged dataframe with the first dataframe\n",
    "    merged_df = dataframes[0]\n",
    "\n",
    "    # Merge each dataframe on 'vintages_date'\n",
    "    for df in dataframes[1:]:\n",
    "        merged_df = pd.merge(merged_df, df, on='vintages_date', how='outer')\n",
    "\n",
    "    # Define the name of the resulting dataframe\n",
    "    result_name = f'sectorial_gdp_{frequency}_releases'\n",
    "    \n",
    "    # Assign the name to the dataframe (this is for reference, actual DataFrame doesn't have a 'name' attribute)\n",
    "    merged_df.name = result_name\n",
    "\n",
    "    return merged_df"
   ]
  },
  {
   "cell_type": "code",
   "execution_count": null,
   "id": "218c042a",
   "metadata": {},
   "outputs": [],
   "source": [
    "merged_df = merge_dataframes_by_vintage('monthly', df_1, df_2, df_3, df_4, df_5, df_6, df_7, df_8, df_9)\n",
    "merged_df"
   ]
  },
  {
   "cell_type": "code",
   "execution_count": null,
   "id": "0027e34f",
   "metadata": {},
   "outputs": [],
   "source": [
    "merged_df.columns"
   ]
  },
  {
   "cell_type": "markdown",
   "id": "906e9cbd",
   "metadata": {},
   "source": [
    "<div id=\"step-6-5\">\n",
    "   <!-- Contenido de la celda de destino -->\n",
    "</div>"
   ]
  },
  {
   "cell_type": "markdown",
   "id": "b719eac4",
   "metadata": {},
   "source": [
    "<div style=\"text-align: left; font-family: 'PT Serif Pro Book'; font-size:22px\">\n",
    "    <span style=\"font-size: 24px; color: rgb(0, 65, 75)\">&#10126;</span> <span>Load to PostgresSQL</span>\n",
    "  </div>"
   ]
  },
  {
   "cell_type": "markdown",
   "id": "07c71bcd",
   "metadata": {},
   "source": [
    "<div style=\"font-family: PT Serif Pro Book; text-align: left; color: dark; font-size: 16px;\">\n",
    "    <span style=\"font-size: 20px; color: rgb(255, 32, 78); font-weight: bold;\">\n",
    "        <a href=\"#steps-6\" style=\"color: #006769; text-decoration: none;\">⮝</a>\n",
    "    </span> \n",
    "    <a href=\"#steps-6\" style=\"color: #006769; text-decoration: none;\">Back to steps.</a>\n",
    "</div>"
   ]
  },
  {
   "cell_type": "code",
   "execution_count": null,
   "id": "0bc064bd",
   "metadata": {},
   "outputs": [],
   "source": [
    "merged_df.to_sql(f'sectorial_gdp_{frequency}_releases', engine, index=False, if_exists='replace')"
   ]
  },
  {
   "cell_type": "markdown",
   "id": "692d9302",
   "metadata": {},
   "source": [
    "<div style=\"font-family: PT Serif Pro Book; text-align: left; color: dark; font-size: 16px;\">\n",
    "    <span style=\"font-size: 30px; color: rgb(255, 32, 78); font-weight: bold;\">\n",
    "        <a href=\"#outilne\" style=\"color: rgb(0, 153, 123); text-decoration: none;\">&#11180;</a>\n",
    "    </span> \n",
    "    <a href=\"#outilne\" style=\"color: rgb(0, 153, 123); text-decoration: none;\">Back to the outline.</a>\n",
    "</div>"
   ]
  },
  {
   "cell_type": "code",
   "execution_count": null,
   "id": "59f0c91a",
   "metadata": {},
   "outputs": [],
   "source": []
  },
  {
   "cell_type": "code",
   "execution_count": null,
   "id": "d32d8c34",
   "metadata": {},
   "outputs": [],
   "source": []
  }
 ],
 "metadata": {
  "kernelspec": {
   "display_name": "gdp_revisions",
   "language": "python",
   "name": "gdp_revisions"
  },
  "language_info": {
   "codemirror_mode": {
    "name": "ipython",
    "version": 3
   },
   "file_extension": ".py",
   "mimetype": "text/x-python",
   "name": "python",
   "nbconvert_exporter": "python",
   "pygments_lexer": "ipython3",
   "version": "3.12.1"
  }
 },
 "nbformat": 4,
 "nbformat_minor": 5
}
