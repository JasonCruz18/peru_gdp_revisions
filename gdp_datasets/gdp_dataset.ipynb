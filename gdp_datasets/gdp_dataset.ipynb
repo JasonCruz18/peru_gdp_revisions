{
 "cells": [
  {
   "cell_type": "markdown",
   "id": "a075de1d",
   "metadata": {},
   "source": [
    "<h2>$\\color{black}{\\text{Libraries}}$</h2>"
   ]
  },
  {
   "cell_type": "markdown",
   "id": "a992fdff",
   "metadata": {},
   "source": [
    "Use the following code (as an example) to install the necessary libraries."
   ]
  },
  {
   "cell_type": "code",
   "execution_count": null,
   "id": "e9546f37",
   "metadata": {},
   "outputs": [],
   "source": [
    "#!pip install bs4 # Comment this code with \"#\" if you already have the library installed."
   ]
  },
  {
   "cell_type": "markdown",
   "id": "4b7a6570",
   "metadata": {},
   "source": [
    "PDF Download"
   ]
  },
  {
   "cell_type": "code",
   "execution_count": 1,
   "id": "df03f0fc",
   "metadata": {},
   "outputs": [],
   "source": [
    "import requests\n",
    "import bs4\n",
    "from bs4 import BeautifulSoup\n",
    "from urllib.parse import urljoin"
   ]
  },
  {
   "cell_type": "code",
   "execution_count": null,
   "id": "f0e3cc1e",
   "metadata": {},
   "outputs": [],
   "source": []
  },
  {
   "cell_type": "code",
   "execution_count": null,
   "id": "eab43e98",
   "metadata": {},
   "outputs": [],
   "source": []
  },
  {
   "cell_type": "code",
   "execution_count": null,
   "id": "1fb395c8",
   "metadata": {},
   "outputs": [],
   "source": []
  },
  {
   "cell_type": "code",
   "execution_count": null,
   "id": "33693209",
   "metadata": {},
   "outputs": [],
   "source": []
  }
 ],
 "metadata": {
  "kernelspec": {
   "display_name": "gdp_revisions",
   "language": "python",
   "name": "gdp_revisions"
  },
  "language_info": {
   "codemirror_mode": {
    "name": "ipython",
    "version": 3
   },
   "file_extension": ".py",
   "mimetype": "text/x-python",
   "name": "python",
   "nbconvert_exporter": "python",
   "pygments_lexer": "ipython3",
   "version": "3.12.0"
  }
 },
 "nbformat": 4,
 "nbformat_minor": 5
}
