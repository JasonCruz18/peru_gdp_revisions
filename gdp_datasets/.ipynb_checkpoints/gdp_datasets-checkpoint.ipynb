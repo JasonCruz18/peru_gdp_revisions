{
 "cells": [
  {
   "cell_type": "code",
   "execution_count": null,
   "id": "bfa29c1f",
   "metadata": {},
   "outputs": [],
   "source": []
  },
  {
   "cell_type": "markdown",
   "id": "df125013",
   "metadata": {},
   "source": [
    "<div style=\"text-align: center; font-family: 'charter'; color: rgb(0, 65, 75);\">\n",
    "    <h1>\n",
    "    GDP Revisions Datasets\n",
    "    </h1>\n",
    "</div>"
   ]
  },
  {
   "cell_type": "markdown",
   "id": "6eb793ab",
   "metadata": {},
   "source": [
    "<div style=\"text-align: center; font-family: 'charter'; color: rgb(0, 65, 75);\">\n",
    "    <h4>\n",
    "        Documentation\n",
    "        <br>\n",
    "        ____________________\n",
    "            </br>\n",
    "    </h4>\n",
    "</div>"
   ]
  },
  {
   "cell_type": "markdown",
   "id": "bf7ed2a1",
   "metadata": {},
   "source": [
    "<div style=\"font-family: charter; text-align: left; color: dark;\">\n",
    "    This \n",
    "    <span style=\"color: rgb(61, 48, 162);\">jupyter notebook</span>\n",
    "    provides a step-by-step guide to <b>data building</b> regarding the project <b>'Revisiones y sesgos en las estimaciones preliminares del PBI en el Perú'</b>. The guide covers downloading PDF files containing tables with information on annual, quarterly, and monthly Peru's GDP growth rates (including sectoral GDP) and extracting this information into SQL tables. These data sets will be used for data analysis.\n",
    "</div>\n"
   ]
  },
  {
   "cell_type": "markdown",
   "id": "41d22837",
   "metadata": {},
   "source": [
    "<div style=\"text-align: center; font-family: 'charter'; color: rgb(0, 65, 75);\">\n",
    "    Jason Cruz\n",
    "    <br>\n",
    "    <a href=\"mailto:jj.cruza@up.edu.pe\" style=\"color: rgb(0, 153, 123)\">\n",
    "        jj.cruza@up.edu.pe\n",
    "    </a>\n",
    "</div>"
   ]
  },
  {
   "cell_type": "markdown",
   "id": "ca55e232",
   "metadata": {},
   "source": [
    "<div style=\"font-family: Times New Roman; text-align: left; color: rgb(61, 48, 162)\">The provided outline is functional. Use the buttons to enhance the experience of this script.<div/>"
   ]
  },
  {
   "cell_type": "markdown",
   "id": "b1968ce7",
   "metadata": {},
   "source": [
    "<div id=\"outilne\">\n",
    "   <!-- Contenido de la celda de destino -->\n",
    "</div>"
   ]
  },
  {
   "cell_type": "markdown",
   "id": "190d9243",
   "metadata": {},
   "source": [
    "<div style=\"background-color: #141414; padding: 10px;\">\n",
    "<h2 style=\"text-align: left; font-family: 'charter'; color: #E0E0E0;\">\n",
    "    Outline\n",
    "    </h2>\n",
    "    <br>\n",
    "    <a href=\"#1\" style=\"color: #687EFF; font-size: 18px;\">\n",
    "        1. PDF Downloader</a>\n",
    "    <br>\n",
    "    <a href=\"#1-a\" style=\"color: #E0E0E0; font-size: 12px;\">\n",
    "        (a) Download the returns for the “Portfolios Formed by Size”.</a>\n",
    "    <br>\n",
    "    <a href=\"#1-b-1\" style=\"color: rgb(0, 153, 123); font-size: 12px;\"><i>\n",
    "        Figure: Returns of Portfolios Formed by Size over Time (High)<i/></a>\n",
    "        <br>\n",
    "    <a href=\"#2\" style=\"color: #687EFF; font-size: 18px;\">\n",
    "        2. Extracting Tables</a>\n",
    "        <br>\n",
    "    <a href=\"#3\" style=\"color: #687EFF; font-size: 18px;\">3. SQL Tables</a>\n",
    "</div>"
   ]
  },
  {
   "cell_type": "markdown",
   "id": "4497a63e",
   "metadata": {},
   "source": [
    "<div style=\"text-align: left; font-family: 'charter'; color: dark;\">\n",
    "    Any questions or issues regarding the coding, please <a href=\"mailto:jj.cruza@alum.up.edu.pe\" style=\"color: rgb(0, 153, 123)\">email Jason Cruz\n",
    "    </a>.\n",
    "    <div/>"
   ]
  },
  {
   "cell_type": "markdown",
   "id": "1dfe24e4",
   "metadata": {},
   "source": [
    "<div style=\"text-align: left; font-family: 'charter'; color: dark;\">\n",
    "    If you don't have the libraries below, please use the following code (as example) to install the required libraries.\n",
    "    <div/>"
   ]
  },
  {
   "cell_type": "code",
   "execution_count": null,
   "id": "aaf18acc",
   "metadata": {},
   "outputs": [],
   "source": [
    "#!pip install os # Comment this code with \"#\" if you have already installed this library."
   ]
  },
  {
   "cell_type": "markdown",
   "id": "d4cb048a",
   "metadata": {},
   "source": [
    "<div style=\"text-align: left; font-family: 'charter'; color: dark;\">\n",
    "    <h2>\n",
    "    Libraries\n",
    "    </h2>\n",
    "    <div/>"
   ]
  },
  {
   "cell_type": "code",
   "execution_count": null,
   "id": "cc5ff1a6",
   "metadata": {},
   "outputs": [],
   "source": [
    "# PDF Downloader\n",
    "\n",
    "import os  # for file and directory manipulation\n",
    "import random  # to generate random numbers\n",
    "import time  # to manage time and take breaks in the script\n",
    "import requests  # to make HTTP requests to web servers\n",
    "from selenium import webdriver  # for automating web browsers\n",
    "from selenium.webdriver.common.by import By  # to locate elements on a webpage\n",
    "from selenium.webdriver.support.ui import WebDriverWait  # to wait until certain conditions are met on a webpage.\n",
    "from selenium.webdriver.support import expected_conditions as EC  # to define expected conditions\n",
    "from selenium.common.exceptions import StaleElementReferenceException  # To handle exceptions related to elements on the webpage that are no longer available.\n",
    "\n",
    "\n",
    "# Extracting Tables\n",
    "\n",
    "# Dataframes and \n",
    "\n",
    "# SQL tables\n"
   ]
  },
  {
   "cell_type": "markdown",
   "id": "7e3216ad",
   "metadata": {},
   "source": [
    "<div style=\"text-align: left; font-family: 'charter'; color: dark;\">\n",
    "    <h2>\n",
    "    Initial set-up\n",
    "    </h2>\n",
    "    <div/>"
   ]
  },
  {
   "cell_type": "markdown",
   "id": "6ec67e55",
   "metadata": {},
   "source": [
    "<div style=\"font-family: charter; text-align: left; color:dark\"> The next 3 code lines will create folders in your current path, call them to import and export your outputs. <div/>"
   ]
  },
  {
   "cell_type": "code",
   "execution_count": null,
   "id": "8899a6b4",
   "metadata": {},
   "outputs": [],
   "source": [
    "# Folder path to download PDF files\n",
    "\n",
    "raw_pdf = 'raw_pdf' # to save raw data (.pdf).\n",
    "if not os.path.exists(raw_pdf):\n",
    "    os.mkdir(raw_pdf) # to create the folder (if it doesn't exist)"
   ]
  },
  {
   "cell_type": "code",
   "execution_count": null,
   "id": "8f473597",
   "metadata": {},
   "outputs": [],
   "source": [
    "# Folder path to save text file with the names of already downloaded files\n",
    "\n",
    "download_record = 'download_record'\n",
    "if not os.path.exists(download_record):\n",
    "    os.mkdir(download_record) # to create the folder (if it doesn't exist)"
   ]
  },
  {
   "cell_type": "code",
   "execution_count": null,
   "id": "ce7b2bf1",
   "metadata": {},
   "outputs": [],
   "source": []
  },
  {
   "cell_type": "markdown",
   "id": "5155a90b",
   "metadata": {},
   "source": [
    "<div id=\"1\">\n",
    "   <!-- Contenido de la celda de destino -->\n",
    "</div>"
   ]
  },
  {
   "cell_type": "markdown",
   "id": "2a840bd7",
   "metadata": {},
   "source": [
    "<h1><span style = \"color: rgb(0, 65, 75); font-family: charter;\">1.</span> <span style = \"color: dark; font-family: charter;\">PDF Downloader</span></h1>"
   ]
  },
  {
   "cell_type": "markdown",
   "id": "00e0f0fe",
   "metadata": {},
   "source": [
    "<div style=\"font-family: charter; text-align: left; color:dark\">\n",
    "    Our main source for data collection is the <a href=\"https://www.bcrp.gob.pe/\" style=\"color: rgb(0, 153, 123)\">BCRP's web page</a> (.../publicaciones/nota-semanal). The BCRP publishes \"Notas Semanales\", documents that contain, among other information, tables of GDP and sectoral GDP growth rate values for annual, quarterly and monthly frequencies.\n",
    "    <div/>"
   ]
  },
  {
   "cell_type": "markdown",
   "id": "d6c25789",
   "metadata": {},
   "source": []
  },
  {
   "cell_type": "markdown",
   "id": "f5e91b86",
   "metadata": {},
   "source": [
    "<div style=\"font-family: charter; text-align: left; color:dark\">\n",
    "    The provided code will download all the 'Notas Semanales' files in PDF format from this web page.\n",
    "    <div/>"
   ]
  },
  {
   "cell_type": "code",
   "execution_count": null,
   "id": "79c8d9cc",
   "metadata": {},
   "outputs": [],
   "source": [
    "# Setting the BCRP URL\n",
    "bcrp_url = \"https://www.bcrp.gob.pe/publicaciones/nota-semanal.html\"  # Never replace this URL"
   ]
  },
  {
   "cell_type": "code",
   "execution_count": null,
   "id": "996d1c7a",
   "metadata": {},
   "outputs": [],
   "source": [
    "# Getting the driver path\n",
    "driver_path = os.environ.get('driver_path')"
   ]
  },
  {
   "cell_type": "code",
   "execution_count": null,
   "id": "97ae244f",
   "metadata": {},
   "outputs": [],
   "source": [
    "# List for keeping track of successfully downloaded files\n",
    "downloaded_files = []\n",
    "\n",
    "# Load list of previously downloaded files if available\n",
    "if os.path.exists(os.path.join(download_record, \"downloaded_files.txt\")):\n",
    "    with open(os.path.join(download_record, \"downloaded_files.txt\"), \"r\") as f:\n",
    "        downloaded_files = f.read().splitlines()\n",
    "\n",
    "# Browser driver configuration\n",
    "driver = webdriver.Chrome(executable_path=driver_path)\n",
    "\n",
    "def esperar_aleatorio(min_tiempo, max_tiempo):\n",
    "    tiempo_espera = random.uniform(min_tiempo, max_tiempo)\n",
    "    print(f\"Esperando aleatoriamente durante {tiempo_espera:.2f} segundos\")\n",
    "    time.sleep(tiempo_espera)\n",
    "\n",
    "def descargar_pdf(enlace_pdf):\n",
    "    # Hacer clic en el enlace usando JavaScript\n",
    "    driver.execute_script(\"arguments[0].click();\", enlace_pdf)\n",
    "\n",
    "    # Esperar a que la nueva página se abra completamente (ajusta el tiempo según sea necesario)\n",
    "    wait.until(EC.number_of_windows_to_be(2))\n",
    "\n",
    "    # Cambiar a la nueva ventana o pestaña\n",
    "    windows = driver.window_handles\n",
    "    driver.switch_to.window(windows[1])\n",
    "\n",
    "    # Obtener la URL actual (puede variar según la lógica específica del sitio)\n",
    "    nueva_url = driver.current_url\n",
    "    print(f\"{contador_descarga}. Nueva URL: {nueva_url}\")\n",
    "\n",
    "    # Obtener el nombre del archivo de la URL\n",
    "    nombre_archivo = nueva_url.split(\"/\")[-1]\n",
    "\n",
    "    # Formar la ruta de destino completa\n",
    "    ruta_destino = os.path.join(raw_pdf, nombre_archivo)\n",
    "\n",
    "    # Descargar el PDF\n",
    "    response = requests.get(nueva_url, stream=True)\n",
    "\n",
    "    # Verificar si la solicitud fue exitosa (código 200)\n",
    "    if response.status_code == 200:\n",
    "        # Guardar el contenido del PDF en el archivo local\n",
    "        with open(ruta_destino, 'wb') as archivo_pdf:\n",
    "            for chunk in response.iter_content(chunk_size=128):\n",
    "                archivo_pdf.write(chunk)\n",
    "\n",
    "        print(f\"PDF descargado exitosamente en: {ruta_destino}\")\n",
    "\n",
    "    else:\n",
    "        print(f\"Error al descargar el PDF. Código de respuesta: {response.status_code}\")\n",
    "\n",
    "    # Cerrar la nueva ventana o pestaña\n",
    "    driver.close()\n",
    "\n",
    "    # Cambiar de nuevo a la ventana principal\n",
    "    driver.switch_to.window(windows[0])\n",
    "\n",
    "# Cantidad de descargas por lote\n",
    "descargas_por_lote = 5\n",
    "# Cantidad total de descargas\n",
    "cantidad_total_descargas = 25\n",
    "\n",
    "try:\n",
    "    # Abrir la página de publicaiones de NS del BCRP\n",
    "    driver.get(bcrp_url)\n",
    "    print(\"Sitio abierto exitosamente\")\n",
    "\n",
    "    # Esperar a que el área contenedora esté presente\n",
    "    wait = WebDriverWait(driver, 60)\n",
    "    area_contenedora = wait.until(EC.presence_of_element_located((By.XPATH, '//*[@id=\"rightside\"]')))\n",
    "\n",
    "    # Obtener todos los enlaces dentro de la área contenedora\n",
    "    enlaces_pdf = area_contenedora.find_elements(By.XPATH, './/a')\n",
    "\n",
    "    # Invertir el orden de los enlaces\n",
    "    enlaces_pdf = list(reversed(enlaces_pdf))\n",
    "\n",
    "    # Inicializar contador de descarga\n",
    "    contador_descarga = 0\n",
    "\n",
    "    # Iterar sobre los enlaces invertidos y descargar los PDF en lotes\n",
    "    for enlace_pdf in enlaces_pdf:\n",
    "        contador_descarga += 1\n",
    "\n",
    "        # Obtener el nombre del archivo de la URL\n",
    "        nueva_url = enlace_pdf.get_attribute(\"href\")\n",
    "        nombre_archivo = nueva_url.split(\"/\")[-1]\n",
    "\n",
    "        # Verificar si el archivo ya fue descargado\n",
    "        if nombre_archivo in downloaded_files:\n",
    "            print(f\"{contador_descarga}. El archivo {nombre_archivo} ya ha sido descargado previamente. Saltando...\")\n",
    "            continue\n",
    "\n",
    "        # Intentar descargar el archivo\n",
    "        try:\n",
    "            descargar_pdf(enlace_pdf)\n",
    "\n",
    "            # Actualizar la lista de archivos descargados\n",
    "            downloaded_files.append(nombre_archivo)\n",
    "\n",
    "            # Guardar el nombre del archivo en el registro\n",
    "            with open(os.path.join(download_record, \"downloaded_files.txt\"), \"a\") as f:\n",
    "                f.write(nombre_archivo + \"\\n\")\n",
    "\n",
    "        except Exception as e:\n",
    "            print(f\"Error al descargar el archivo {nombre_archivo}: {str(e)}\")\n",
    "\n",
    "        # Si la cantidad de descargas alcanza un múltiplo del tamaño del lote, notificar\n",
    "        if contador_descarga % descargas_por_lote == 0:\n",
    "            print(f\"Se ha completado el lote {contador_descarga // descargas_por_lote} de {descargas_por_lote}\")\n",
    "\n",
    "        # Esperar aleatoriamente antes de realizar la siguiente iteración\n",
    "        esperar_aleatorio(5, 10)\n",
    "\n",
    "        # Si se alcanza la cantidad total de descargas, salir del bucle\n",
    "        if contador_descarga == cantidad_total_descargas:\n",
    "            print(f\"Se han completado todas las descargas ({cantidad_total_descargas} en total)\")\n",
    "            break\n",
    "\n",
    "except StaleElementReferenceException:\n",
    "    print(\"Se produjo una excepción StaleElementReferenceException. Reintentando...\")\n",
    "\n",
    "finally:\n",
    "    # Cerrar el navegador al finalizar\n",
    "    driver.quit()\n"
   ]
  },
  {
   "cell_type": "code",
   "execution_count": null,
   "id": "4999e468",
   "metadata": {},
   "outputs": [],
   "source": []
  },
  {
   "cell_type": "code",
   "execution_count": null,
   "id": "3df06f5f",
   "metadata": {},
   "outputs": [],
   "source": []
  },
  {
   "cell_type": "code",
   "execution_count": null,
   "id": "a185ceb6",
   "metadata": {},
   "outputs": [],
   "source": []
  },
  {
   "cell_type": "code",
   "execution_count": null,
   "id": "c1315e80",
   "metadata": {},
   "outputs": [],
   "source": []
  },
  {
   "cell_type": "code",
   "execution_count": null,
   "id": "1cc2f234",
   "metadata": {},
   "outputs": [],
   "source": []
  },
  {
   "cell_type": "code",
   "execution_count": null,
   "id": "fcd9eb89",
   "metadata": {},
   "outputs": [],
   "source": []
  },
  {
   "cell_type": "code",
   "execution_count": null,
   "id": "fa7dc30d",
   "metadata": {},
   "outputs": [],
   "source": []
  },
  {
   "cell_type": "markdown",
   "id": "13c1e5c7",
   "metadata": {},
   "source": [
    "<div style=\"color: rgb(61, 48, 162); font-size: 12px;\">\n",
    "    Back to the\n",
    "    <a href=\"#outilne\" style=\"color: #687EFF;\">\n",
    "    outline.\n",
    "    </a>\n",
    "    <div/>"
   ]
  },
  {
   "cell_type": "code",
   "execution_count": null,
   "id": "4ae86a19",
   "metadata": {},
   "outputs": [],
   "source": []
  },
  {
   "cell_type": "code",
   "execution_count": null,
   "id": "4f59a716",
   "metadata": {},
   "outputs": [],
   "source": []
  },
  {
   "cell_type": "code",
   "execution_count": null,
   "id": "2f88aacc",
   "metadata": {},
   "outputs": [],
   "source": []
  },
  {
   "cell_type": "code",
   "execution_count": null,
   "id": "e9853c77",
   "metadata": {},
   "outputs": [],
   "source": []
  }
 ],
 "metadata": {
  "kernelspec": {
   "display_name": "gdp_revisions",
   "language": "python",
   "name": "gdp_revisions"
  },
  "language_info": {
   "codemirror_mode": {
    "name": "ipython",
    "version": 3
   },
   "file_extension": ".py",
   "mimetype": "text/x-python",
   "name": "python",
   "nbconvert_exporter": "python",
   "pygments_lexer": "ipython3",
   "version": "3.12.1"
  }
 },
 "nbformat": 4,
 "nbformat_minor": 5
}
