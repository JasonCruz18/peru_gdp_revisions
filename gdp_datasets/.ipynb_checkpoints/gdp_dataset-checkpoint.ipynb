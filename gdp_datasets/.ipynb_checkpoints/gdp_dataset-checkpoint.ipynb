{
 "cells": [
  {
   "cell_type": "markdown",
   "id": "14614aa5",
   "metadata": {},
   "source": [
    "<div style=\"font-family: 'charter'; text-align: left; color: dark;\">\n",
    "    <h2>Libraries</h2>\n",
    "    <p> Use the following code (as an example) to install the necessary libraries.\n",
    "    </p>\n",
    "    </div>"
   ]
  },
  {
   "cell_type": "code",
   "execution_count": null,
   "id": "8a7d1bf3",
   "metadata": {},
   "outputs": [],
   "source": [
    "#!pip install bs4 # Comment this code with \"#\" if you already have the library installed."
   ]
  },
  {
   "cell_type": "markdown",
   "id": "368d5fb1",
   "metadata": {},
   "source": [
    "<div style=\"font-family: 'charter'; text-align: left; color: dark;\">\n",
    "    <h4>PDF Download</h4>\n",
    "    </div>"
   ]
  },
  {
   "cell_type": "code",
   "execution_count": 1,
   "id": "e4127ff5",
   "metadata": {},
   "outputs": [],
   "source": [
    "import requests\n",
    "import bs4\n",
    "from bs4 import BeautifulSoup\n",
    "from urllib.parse import urljoin"
   ]
  },
  {
   "cell_type": "code",
   "execution_count": null,
   "id": "df876fb0",
   "metadata": {},
   "outputs": [],
   "source": []
  },
  {
   "cell_type": "code",
   "execution_count": 32,
   "id": "1e737057",
   "metadata": {},
   "outputs": [],
   "source": [
    "url_bcrp = 'https://www.bcrp.gob.pe/publicaciones/nota-semanal'"
   ]
  },
  {
   "cell_type": "code",
   "execution_count": null,
   "id": "2d38ee27",
   "metadata": {},
   "outputs": [],
   "source": []
  },
  {
   "cell_type": "code",
   "execution_count": 43,
   "id": "3d5324c4",
   "metadata": {
    "scrolled": false
   },
   "outputs": [
    {
     "name": "stdout",
     "output_type": "stream",
     "text": [
      "The status code is 200. \n",
      "Nice! The request was successful.\n"
     ]
    }
   ],
   "source": [
    "def url_status_code(url):\n",
    "    r = requests.get(url)\n",
    "    if r.status_code == 200:\n",
    "        print(f'The status code is {r.status_code}. \\nNice! The request was successful.')\n",
    "    else:\n",
    "        print(f'The status code is {r.status_code}. \\nWarning: the request was unsuccessful.')\n",
    "if __name__ == '__main__':\n",
    "   url_status_code(url_bcrp) "
   ]
  },
  {
   "cell_type": "markdown",
   "id": "cbd733b3",
   "metadata": {},
   "source": [
    "<div style=\"font-family: 'charter'; text-align: left; color: dark;\">\n",
    "    <p> See <a href=\"https://developer.mozilla.org/en-US/docs/Web/HTTP/Status\" style=\"color: blue\">this link</a> for more details about URL status codes.</p>\n",
    "    </div>"
   ]
  },
  {
   "cell_type": "code",
   "execution_count": null,
   "id": "4f4fa6e9",
   "metadata": {},
   "outputs": [],
   "source": []
  },
  {
   "cell_type": "code",
   "execution_count": null,
   "id": "613ad412",
   "metadata": {},
   "outputs": [],
   "source": []
  },
  {
   "cell_type": "code",
   "execution_count": null,
   "id": "525c56d3",
   "metadata": {},
   "outputs": [],
   "source": []
  },
  {
   "cell_type": "code",
   "execution_count": null,
   "id": "494ed5cd",
   "metadata": {},
   "outputs": [],
   "source": []
  }
 ],
 "metadata": {
  "kernelspec": {
   "display_name": "gdp_revisions",
   "language": "python",
   "name": "gdp_revisions"
  },
  "language_info": {
   "codemirror_mode": {
    "name": "ipython",
    "version": 3
   },
   "file_extension": ".py",
   "mimetype": "text/x-python",
   "name": "python",
   "nbconvert_exporter": "python",
   "pygments_lexer": "ipython3",
   "version": "3.12.0"
  }
 },
 "nbformat": 4,
 "nbformat_minor": 5
}
